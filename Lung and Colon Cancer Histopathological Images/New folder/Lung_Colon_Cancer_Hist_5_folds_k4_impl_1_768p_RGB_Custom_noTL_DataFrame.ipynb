{
  "nbformat": 4,
  "nbformat_minor": 0,
  "metadata": {
    "colab": {
      "name": "Lung_Colon_Cancer_Hist_5_folds_k4_impl_1_768p_RGB_Custom_noTL_DataFrame.ipynb",
      "provenance": [],
      "collapsed_sections": []
    },
    "kernelspec": {
      "display_name": "Python 3",
      "name": "python3"
    },
    "accelerator": "GPU"
  },
  "cells": [
    {
      "cell_type": "code",
      "metadata": {
        "colab": {
          "base_uri": "https://localhost:8080/"
        },
        "id": "w35zPOcMyNwJ",
        "outputId": "88a0e168-7351-4bd0-a4c5-7cf3d058e533"
      },
      "source": [
        "from google.colab import drive \n",
        "drive.mount('/content/drive', force_remount=True)"
      ],
      "execution_count": null,
      "outputs": [
        {
          "output_type": "stream",
          "text": [
            "Mounted at /content/drive\n"
          ],
          "name": "stdout"
        }
      ]
    },
    {
      "cell_type": "code",
      "metadata": {
        "id": "ph-qNIaajXGT",
        "colab": {
          "base_uri": "https://localhost:8080/"
        },
        "outputId": "7d6c93c0-ce42-442e-9786-fec6ea35ff99"
      },
      "source": [
        "num_folds = 5\n",
        "k = 4\n",
        "color_type = 'rgb' # rgb, grayscale\n",
        "BATCH_SIZE = 16\n",
        "\n",
        "Dataset_Name = f\"Lung.Colon.Cancer.Hist.{num_folds}k{str(k)}\"\n",
        "work_dir = \"drive/My Drive/Cancer/Lung and Colon Cancer Histopathological Images/Records/\"\n",
        "base_dir = \"drive/My Drive/Cancer/Lung and Colon Cancer Histopathological Images/lung_colon_image_set_all/\"\n",
        "\n",
        "print(f\"Dataset_Name = {Dataset_Name}\")"
      ],
      "execution_count": null,
      "outputs": [
        {
          "output_type": "stream",
          "text": [
            "Dataset_Name = Lung.Colon.Cancer.Hist.5k4\n"
          ],
          "name": "stdout"
        }
      ]
    },
    {
      "cell_type": "code",
      "metadata": {
        "id": "9xc7MvTxyQd7"
      },
      "source": [
        "\n",
        "import numpy as np\n",
        "import pandas as pd\n",
        "import pickle\n",
        "import numpy as np\n",
        "import random\n",
        "import time\n",
        "import os\n",
        "#os.environ[\"OPENCV_IO_MAX_IMAGE_PIXELS\"] = pow(2,40).__str__()\n",
        "import cv2\n",
        "from tqdm import tqdm\n",
        "\n",
        "import tensorflow as tf\n",
        "from tensorflow.python.keras import Sequential\n",
        "from tensorflow.keras import layers, optimizers\n",
        "from tensorflow.keras.applications import DenseNet121\n",
        "from tensorflow.keras.applications.resnet50 import ResNet50\n",
        "from tensorflow.keras.layers import *\n",
        "from tensorflow.keras.models import Model, load_model\n",
        "from tensorflow.keras.initializers import glorot_uniform\n",
        "from tensorflow.keras.utils import plot_model\n",
        "from tensorflow.keras.callbacks import ReduceLROnPlateau, EarlyStopping, ModelCheckpoint, LearningRateScheduler\n",
        "from IPython.display import display\n",
        "from tensorflow.keras import backend as K\n",
        "import matplotlib.pyplot as plt\n",
        "import matplotlib.image as mpimg\n",
        "from sklearn.model_selection import train_test_split\n",
        "from keras import optimizers\n",
        "#from sklearn.metrics import classification_report, confusion_matrix\n",
        "import sklearn\n",
        "import seaborn as sn\n",
        "from keras.callbacks import CSVLogger, LambdaCallback\n",
        "from tensorflow.keras.preprocessing.image import ImageDataGenerator\n",
        "\n",
        "import math"
      ],
      "execution_count": null,
      "outputs": []
    },
    {
      "cell_type": "code",
      "metadata": {
        "id": "0Bpa74kr60p9"
      },
      "source": [
        ""
      ],
      "execution_count": null,
      "outputs": []
    },
    {
      "cell_type": "code",
      "metadata": {
        "colab": {
          "base_uri": "https://localhost:8080/",
          "height": 206
        },
        "id": "rQbFaGlX60ym",
        "outputId": "579c08a3-0ce6-4112-8042-107a5c10b7d6"
      },
      "source": [
        "csv_file = \"drive/My Drive/Cancer/Lung and Colon Cancer Histopathological Images/lung_colon_image_set_all.csv\"\n",
        "df_original = pd.read_csv(csv_file) # , delimiter = \" \", header=None\n",
        "#train_df_original.columns = ['Column_1', 'filename', 'label', 'Column_2']\n",
        "df_original.head()"
      ],
      "execution_count": null,
      "outputs": [
        {
          "output_type": "execute_result",
          "data": {
            "text/html": [
              "<div>\n",
              "<style scoped>\n",
              "    .dataframe tbody tr th:only-of-type {\n",
              "        vertical-align: middle;\n",
              "    }\n",
              "\n",
              "    .dataframe tbody tr th {\n",
              "        vertical-align: top;\n",
              "    }\n",
              "\n",
              "    .dataframe thead th {\n",
              "        text-align: right;\n",
              "    }\n",
              "</style>\n",
              "<table border=\"1\" class=\"dataframe\">\n",
              "  <thead>\n",
              "    <tr style=\"text-align: right;\">\n",
              "      <th></th>\n",
              "      <th>Unnamed: 0</th>\n",
              "      <th>path</th>\n",
              "      <th>label</th>\n",
              "    </tr>\n",
              "  </thead>\n",
              "  <tbody>\n",
              "    <tr>\n",
              "      <th>0</th>\n",
              "      <td>0</td>\n",
              "      <td>colon_n/colonn4479.jpeg</td>\n",
              "      <td>colon_n</td>\n",
              "    </tr>\n",
              "    <tr>\n",
              "      <th>1</th>\n",
              "      <td>1</td>\n",
              "      <td>colon_n/colonn4571.jpeg</td>\n",
              "      <td>colon_n</td>\n",
              "    </tr>\n",
              "    <tr>\n",
              "      <th>2</th>\n",
              "      <td>2</td>\n",
              "      <td>colon_n/colonn4546.jpeg</td>\n",
              "      <td>colon_n</td>\n",
              "    </tr>\n",
              "    <tr>\n",
              "      <th>3</th>\n",
              "      <td>3</td>\n",
              "      <td>colon_n/colonn4467.jpeg</td>\n",
              "      <td>colon_n</td>\n",
              "    </tr>\n",
              "    <tr>\n",
              "      <th>4</th>\n",
              "      <td>4</td>\n",
              "      <td>colon_n/colonn4634.jpeg</td>\n",
              "      <td>colon_n</td>\n",
              "    </tr>\n",
              "  </tbody>\n",
              "</table>\n",
              "</div>"
            ],
            "text/plain": [
              "   Unnamed: 0                     path    label\n",
              "0           0  colon_n/colonn4479.jpeg  colon_n\n",
              "1           1  colon_n/colonn4571.jpeg  colon_n\n",
              "2           2  colon_n/colonn4546.jpeg  colon_n\n",
              "3           3  colon_n/colonn4467.jpeg  colon_n\n",
              "4           4  colon_n/colonn4634.jpeg  colon_n"
            ]
          },
          "metadata": {
            "tags": []
          },
          "execution_count": 4
        }
      ]
    },
    {
      "cell_type": "code",
      "metadata": {
        "colab": {
          "base_uri": "https://localhost:8080/",
          "height": 316
        },
        "id": "5u0TvQ6rp0UF",
        "outputId": "1a7ed843-2376-4efb-c08d-d5136295df56"
      },
      "source": [
        "df_full_path = df_original.copy()\n",
        "\n",
        "#'''\n",
        "for i in range(df_original.shape[0]):\n",
        "    filename = df_original['path'][i]\n",
        "    file_full_path = f\"{base_dir}{filename}\"\n",
        "    df_full_path['path'][i] = file_full_path\n",
        "#'''\n",
        "    \n",
        "print(f\"df_full_path['path'][0] = {df_full_path['path'][0]}\")\n",
        "df_full_path.tail()"
      ],
      "execution_count": null,
      "outputs": [
        {
          "output_type": "stream",
          "text": [
            "/usr/local/lib/python3.7/dist-packages/ipykernel_launcher.py:7: SettingWithCopyWarning: \n",
            "A value is trying to be set on a copy of a slice from a DataFrame\n",
            "\n",
            "See the caveats in the documentation: https://pandas.pydata.org/pandas-docs/stable/user_guide/indexing.html#returning-a-view-versus-a-copy\n",
            "  import sys\n"
          ],
          "name": "stderr"
        },
        {
          "output_type": "stream",
          "text": [
            "df_full_path['path'][0] = drive/My Drive/Cancer/Lung and Colon Cancer Histopathological Images/lung_colon_image_set_all/colon_n/colonn4479.jpeg\n"
          ],
          "name": "stdout"
        },
        {
          "output_type": "execute_result",
          "data": {
            "text/html": [
              "<div>\n",
              "<style scoped>\n",
              "    .dataframe tbody tr th:only-of-type {\n",
              "        vertical-align: middle;\n",
              "    }\n",
              "\n",
              "    .dataframe tbody tr th {\n",
              "        vertical-align: top;\n",
              "    }\n",
              "\n",
              "    .dataframe thead th {\n",
              "        text-align: right;\n",
              "    }\n",
              "</style>\n",
              "<table border=\"1\" class=\"dataframe\">\n",
              "  <thead>\n",
              "    <tr style=\"text-align: right;\">\n",
              "      <th></th>\n",
              "      <th>Unnamed: 0</th>\n",
              "      <th>path</th>\n",
              "      <th>label</th>\n",
              "    </tr>\n",
              "  </thead>\n",
              "  <tbody>\n",
              "    <tr>\n",
              "      <th>24995</th>\n",
              "      <td>24995</td>\n",
              "      <td>drive/My Drive/Cancer/Lung and Colon Cancer Hi...</td>\n",
              "      <td>colon_aca</td>\n",
              "    </tr>\n",
              "    <tr>\n",
              "      <th>24996</th>\n",
              "      <td>24996</td>\n",
              "      <td>drive/My Drive/Cancer/Lung and Colon Cancer Hi...</td>\n",
              "      <td>colon_aca</td>\n",
              "    </tr>\n",
              "    <tr>\n",
              "      <th>24997</th>\n",
              "      <td>24997</td>\n",
              "      <td>drive/My Drive/Cancer/Lung and Colon Cancer Hi...</td>\n",
              "      <td>colon_aca</td>\n",
              "    </tr>\n",
              "    <tr>\n",
              "      <th>24998</th>\n",
              "      <td>24998</td>\n",
              "      <td>drive/My Drive/Cancer/Lung and Colon Cancer Hi...</td>\n",
              "      <td>colon_aca</td>\n",
              "    </tr>\n",
              "    <tr>\n",
              "      <th>24999</th>\n",
              "      <td>24999</td>\n",
              "      <td>drive/My Drive/Cancer/Lung and Colon Cancer Hi...</td>\n",
              "      <td>colon_aca</td>\n",
              "    </tr>\n",
              "  </tbody>\n",
              "</table>\n",
              "</div>"
            ],
            "text/plain": [
              "       Unnamed: 0                                               path      label\n",
              "24995       24995  drive/My Drive/Cancer/Lung and Colon Cancer Hi...  colon_aca\n",
              "24996       24996  drive/My Drive/Cancer/Lung and Colon Cancer Hi...  colon_aca\n",
              "24997       24997  drive/My Drive/Cancer/Lung and Colon Cancer Hi...  colon_aca\n",
              "24998       24998  drive/My Drive/Cancer/Lung and Colon Cancer Hi...  colon_aca\n",
              "24999       24999  drive/My Drive/Cancer/Lung and Colon Cancer Hi...  colon_aca"
            ]
          },
          "metadata": {
            "tags": []
          },
          "execution_count": 5
        }
      ]
    },
    {
      "cell_type": "code",
      "metadata": {
        "id": "hAbfT89H1tDs"
      },
      "source": [
        "df_full_path['label'] = df_full_path['label'].astype(str)"
      ],
      "execution_count": null,
      "outputs": []
    },
    {
      "cell_type": "code",
      "metadata": {
        "id": "bhdg838lqvbP"
      },
      "source": [
        ""
      ],
      "execution_count": null,
      "outputs": []
    },
    {
      "cell_type": "code",
      "metadata": {
        "colab": {
          "base_uri": "https://localhost:8080/"
        },
        "id": "5_QrLCpZJ8zT",
        "outputId": "641daf8a-ab87-4b60-f4fc-ed53be329da4"
      },
      "source": [
        "list_classes = np.unique(df_full_path.label.values)\n",
        "list_classes"
      ],
      "execution_count": null,
      "outputs": [
        {
          "output_type": "execute_result",
          "data": {
            "text/plain": [
              "array(['colon_aca', 'colon_n', 'lung_aca', 'lung_n', 'lung_scc'],\n",
              "      dtype=object)"
            ]
          },
          "metadata": {
            "tags": []
          },
          "execution_count": 7
        }
      ]
    },
    {
      "cell_type": "code",
      "metadata": {
        "colab": {
          "base_uri": "https://localhost:8080/"
        },
        "id": "nErKA455KoAN",
        "outputId": "d3b5b29f-d8a3-4c8b-82e6-0aee7ca632d5"
      },
      "source": [
        "list_train_indices = []\n",
        "list_val_indices = []\n",
        "\n",
        "for category in list_classes:\n",
        "    df_category = df_full_path[df_full_path['label'] == category]\n",
        "    print(f\"category -> {category}: {df_category.shape[0]}:\")\n",
        "\n",
        "    #'''\n",
        "    list_indices = list(df_category[['Unnamed: 0']].values)\n",
        "    #print(f\"list_indices[0][0] = {list_indices[0][0]}\")\n",
        "    #print(f\"list_indices[-1][0] = {list_indices[-1][0]}\")\n",
        "\n",
        "    split_indices = int(df_category.shape[0]/num_folds)\n",
        "    \n",
        "    train_indices = list_indices[:k*split_indices-split_indices]\n",
        "    train_indices += list_indices[k*split_indices:]\n",
        "    val_indices = list_indices[k*split_indices-split_indices:k*split_indices]\n",
        "    print(f\"len(train_indices): {len(train_indices)}\")\n",
        "    print(f\"len(val_indices): {len(val_indices)}\\n\")\n",
        "\n",
        "    for index in train_indices:\n",
        "        list_train_indices.append(index[0])\n",
        "    \n",
        "    for index in val_indices:\n",
        "        list_val_indices.append(index[0])\n",
        "    #'''\n",
        "\n",
        "print(f\"len(list_train_indices): {len(list_train_indices)}\")\n",
        "print(f\"len(list_val_indices): {len(list_val_indices)}\")"
      ],
      "execution_count": null,
      "outputs": [
        {
          "output_type": "stream",
          "text": [
            "category -> colon_aca: 5000:\n",
            "len(train_indices): 4000\n",
            "len(val_indices): 1000\n",
            "\n",
            "category -> colon_n: 5000:\n",
            "len(train_indices): 4000\n",
            "len(val_indices): 1000\n",
            "\n",
            "category -> lung_aca: 5000:\n",
            "len(train_indices): 4000\n",
            "len(val_indices): 1000\n",
            "\n",
            "category -> lung_n: 5000:\n",
            "len(train_indices): 4000\n",
            "len(val_indices): 1000\n",
            "\n",
            "category -> lung_scc: 5000:\n",
            "len(train_indices): 4000\n",
            "len(val_indices): 1000\n",
            "\n",
            "len(list_train_indices): 20000\n",
            "len(list_val_indices): 5000\n"
          ],
          "name": "stdout"
        }
      ]
    },
    {
      "cell_type": "code",
      "metadata": {
        "id": "rrNCs8GhJ819"
      },
      "source": [
        ""
      ],
      "execution_count": null,
      "outputs": []
    },
    {
      "cell_type": "code",
      "metadata": {
        "colab": {
          "base_uri": "https://localhost:8080/",
          "height": 225
        },
        "id": "gNAmMVnMhBaG",
        "outputId": "da6eac0a-7047-453b-98c2-4fe185fbeb5b"
      },
      "source": [
        "train_df = df_full_path[pd.DataFrame(df_full_path['Unnamed: 0'].tolist()).isin(list_train_indices).any(1).values]\n",
        "print(f\"train_df.shape = {train_df.shape}\")\n",
        "train_df.head() "
      ],
      "execution_count": null,
      "outputs": [
        {
          "output_type": "stream",
          "text": [
            "train_df.shape = (20000, 3)\n"
          ],
          "name": "stdout"
        },
        {
          "output_type": "execute_result",
          "data": {
            "text/html": [
              "<div>\n",
              "<style scoped>\n",
              "    .dataframe tbody tr th:only-of-type {\n",
              "        vertical-align: middle;\n",
              "    }\n",
              "\n",
              "    .dataframe tbody tr th {\n",
              "        vertical-align: top;\n",
              "    }\n",
              "\n",
              "    .dataframe thead th {\n",
              "        text-align: right;\n",
              "    }\n",
              "</style>\n",
              "<table border=\"1\" class=\"dataframe\">\n",
              "  <thead>\n",
              "    <tr style=\"text-align: right;\">\n",
              "      <th></th>\n",
              "      <th>Unnamed: 0</th>\n",
              "      <th>path</th>\n",
              "      <th>label</th>\n",
              "    </tr>\n",
              "  </thead>\n",
              "  <tbody>\n",
              "    <tr>\n",
              "      <th>0</th>\n",
              "      <td>0</td>\n",
              "      <td>drive/My Drive/Cancer/Lung and Colon Cancer Hi...</td>\n",
              "      <td>colon_n</td>\n",
              "    </tr>\n",
              "    <tr>\n",
              "      <th>1</th>\n",
              "      <td>1</td>\n",
              "      <td>drive/My Drive/Cancer/Lung and Colon Cancer Hi...</td>\n",
              "      <td>colon_n</td>\n",
              "    </tr>\n",
              "    <tr>\n",
              "      <th>2</th>\n",
              "      <td>2</td>\n",
              "      <td>drive/My Drive/Cancer/Lung and Colon Cancer Hi...</td>\n",
              "      <td>colon_n</td>\n",
              "    </tr>\n",
              "    <tr>\n",
              "      <th>3</th>\n",
              "      <td>3</td>\n",
              "      <td>drive/My Drive/Cancer/Lung and Colon Cancer Hi...</td>\n",
              "      <td>colon_n</td>\n",
              "    </tr>\n",
              "    <tr>\n",
              "      <th>4</th>\n",
              "      <td>4</td>\n",
              "      <td>drive/My Drive/Cancer/Lung and Colon Cancer Hi...</td>\n",
              "      <td>colon_n</td>\n",
              "    </tr>\n",
              "  </tbody>\n",
              "</table>\n",
              "</div>"
            ],
            "text/plain": [
              "   Unnamed: 0                                               path    label\n",
              "0           0  drive/My Drive/Cancer/Lung and Colon Cancer Hi...  colon_n\n",
              "1           1  drive/My Drive/Cancer/Lung and Colon Cancer Hi...  colon_n\n",
              "2           2  drive/My Drive/Cancer/Lung and Colon Cancer Hi...  colon_n\n",
              "3           3  drive/My Drive/Cancer/Lung and Colon Cancer Hi...  colon_n\n",
              "4           4  drive/My Drive/Cancer/Lung and Colon Cancer Hi...  colon_n"
            ]
          },
          "metadata": {
            "tags": []
          },
          "execution_count": 9
        }
      ]
    },
    {
      "cell_type": "code",
      "metadata": {
        "id": "pW7AmyJSpsE1"
      },
      "source": [
        ""
      ],
      "execution_count": null,
      "outputs": []
    },
    {
      "cell_type": "code",
      "metadata": {
        "colab": {
          "base_uri": "https://localhost:8080/",
          "height": 225
        },
        "id": "H5PPbd3bnbn7",
        "outputId": "0abd07e7-c19b-413f-b899-83a2e22e959a"
      },
      "source": [
        "test_df = df_full_path[pd.DataFrame(df_full_path['Unnamed: 0'].tolist()).isin(list_val_indices).any(1).values]\n",
        "print(f\"test_df.shape = {test_df.shape}\")\n",
        "test_df.tail()"
      ],
      "execution_count": null,
      "outputs": [
        {
          "output_type": "stream",
          "text": [
            "test_df.shape = (5000, 3)\n"
          ],
          "name": "stdout"
        },
        {
          "output_type": "execute_result",
          "data": {
            "text/html": [
              "<div>\n",
              "<style scoped>\n",
              "    .dataframe tbody tr th:only-of-type {\n",
              "        vertical-align: middle;\n",
              "    }\n",
              "\n",
              "    .dataframe tbody tr th {\n",
              "        vertical-align: top;\n",
              "    }\n",
              "\n",
              "    .dataframe thead th {\n",
              "        text-align: right;\n",
              "    }\n",
              "</style>\n",
              "<table border=\"1\" class=\"dataframe\">\n",
              "  <thead>\n",
              "    <tr style=\"text-align: right;\">\n",
              "      <th></th>\n",
              "      <th>Unnamed: 0</th>\n",
              "      <th>path</th>\n",
              "      <th>label</th>\n",
              "    </tr>\n",
              "  </thead>\n",
              "  <tbody>\n",
              "    <tr>\n",
              "      <th>23995</th>\n",
              "      <td>23995</td>\n",
              "      <td>drive/My Drive/Cancer/Lung and Colon Cancer Hi...</td>\n",
              "      <td>colon_aca</td>\n",
              "    </tr>\n",
              "    <tr>\n",
              "      <th>23996</th>\n",
              "      <td>23996</td>\n",
              "      <td>drive/My Drive/Cancer/Lung and Colon Cancer Hi...</td>\n",
              "      <td>colon_aca</td>\n",
              "    </tr>\n",
              "    <tr>\n",
              "      <th>23997</th>\n",
              "      <td>23997</td>\n",
              "      <td>drive/My Drive/Cancer/Lung and Colon Cancer Hi...</td>\n",
              "      <td>colon_aca</td>\n",
              "    </tr>\n",
              "    <tr>\n",
              "      <th>23998</th>\n",
              "      <td>23998</td>\n",
              "      <td>drive/My Drive/Cancer/Lung and Colon Cancer Hi...</td>\n",
              "      <td>colon_aca</td>\n",
              "    </tr>\n",
              "    <tr>\n",
              "      <th>23999</th>\n",
              "      <td>23999</td>\n",
              "      <td>drive/My Drive/Cancer/Lung and Colon Cancer Hi...</td>\n",
              "      <td>colon_aca</td>\n",
              "    </tr>\n",
              "  </tbody>\n",
              "</table>\n",
              "</div>"
            ],
            "text/plain": [
              "       Unnamed: 0                                               path      label\n",
              "23995       23995  drive/My Drive/Cancer/Lung and Colon Cancer Hi...  colon_aca\n",
              "23996       23996  drive/My Drive/Cancer/Lung and Colon Cancer Hi...  colon_aca\n",
              "23997       23997  drive/My Drive/Cancer/Lung and Colon Cancer Hi...  colon_aca\n",
              "23998       23998  drive/My Drive/Cancer/Lung and Colon Cancer Hi...  colon_aca\n",
              "23999       23999  drive/My Drive/Cancer/Lung and Colon Cancer Hi...  colon_aca"
            ]
          },
          "metadata": {
            "tags": []
          },
          "execution_count": 10
        }
      ]
    },
    {
      "cell_type": "code",
      "metadata": {
        "id": "pzbMbDTgKNYL"
      },
      "source": [
        ""
      ],
      "execution_count": null,
      "outputs": []
    },
    {
      "cell_type": "code",
      "metadata": {
        "id": "fWGa77p2eWAd",
        "colab": {
          "base_uri": "https://localhost:8080/",
          "height": 36
        },
        "outputId": "c28d0963-dff2-48a5-cac0-c822a56ccef6"
      },
      "source": [
        "'''\n",
        "img_path = test_df['path'][20995]\n",
        "img_path\n",
        "#'''"
      ],
      "execution_count": null,
      "outputs": [
        {
          "output_type": "execute_result",
          "data": {
            "application/vnd.google.colaboratory.intrinsic+json": {
              "type": "string"
            },
            "text/plain": [
              "\"\\nimg_path = test_df['path'][20995]\\nimg_path\\n#\""
            ]
          },
          "metadata": {
            "tags": []
          },
          "execution_count": 11
        }
      ]
    },
    {
      "cell_type": "code",
      "metadata": {
        "id": "53eBXZM2KHra",
        "colab": {
          "base_uri": "https://localhost:8080/",
          "height": 36
        },
        "outputId": "6ba9a2e7-be0d-4de7-cb12-c304f374805b"
      },
      "source": [
        "'''\n",
        "img = cv2.imread(img_path, cv2.IMREAD_UNCHANGED)\n",
        "print(f\"img.shape={img.shape}\")\n",
        "plt.imshow(img)\n",
        "#'''"
      ],
      "execution_count": null,
      "outputs": [
        {
          "output_type": "execute_result",
          "data": {
            "application/vnd.google.colaboratory.intrinsic+json": {
              "type": "string"
            },
            "text/plain": [
              "'\\nimg = cv2.imread(img_path, cv2.IMREAD_UNCHANGED)\\nprint(f\"img.shape={img.shape}\")\\nplt.imshow(img)\\n#'"
            ]
          },
          "metadata": {
            "tags": []
          },
          "execution_count": 12
        }
      ]
    },
    {
      "cell_type": "code",
      "metadata": {
        "id": "sq8dwFXqnSGs"
      },
      "source": [
        ""
      ],
      "execution_count": null,
      "outputs": []
    },
    {
      "cell_type": "markdown",
      "metadata": {
        "id": "TqAkPCojLNki"
      },
      "source": [
        "Bilinear is the standard resizing algorithm — good for most uses. Lanczos better preserves small details when upscaling and downscaling. And Nearest Neighbor is great for pixel art!"
      ]
    },
    {
      "cell_type": "code",
      "metadata": {
        "id": "LnYytOrbKGMH"
      },
      "source": [
        "'''\n",
        "width_shift_range=0.2,\n",
        "height_shift_range=0.2,\n",
        "zoom_range=0.2,\n",
        "horizontal_flip=True, \n",
        "vertical_flip=True,\n",
        "#rotation_range=20,\n",
        "'''\n",
        "\n",
        "train_datagen = ImageDataGenerator(rescale=1./255,\n",
        "                                   #fill_mode=\"lanczos\",\n",
        "                                   )\n",
        "test_datagen = ImageDataGenerator(rescale=1./255,\n",
        "                                  #fill_mode=\"lanczos\",\n",
        "                                  )"
      ],
      "execution_count": null,
      "outputs": []
    },
    {
      "cell_type": "code",
      "metadata": {
        "id": "qG4nma2UP_F0"
      },
      "source": [
        ""
      ],
      "execution_count": null,
      "outputs": []
    },
    {
      "cell_type": "code",
      "metadata": {
        "colab": {
          "base_uri": "https://localhost:8080/"
        },
        "id": "rga2byZPKPQt",
        "outputId": "a45dcf4e-15bd-48a4-df1e-8c37cced6da7"
      },
      "source": [
        "train_generator = train_datagen.flow_from_dataframe(\n",
        "        train_df,\n",
        "        directory=None,\n",
        "        x_col='path', \n",
        "        y_col='label',\n",
        "        target_size=(768, 768),  # target images are automatically resized to (256, 256)\n",
        "        batch_size=BATCH_SIZE,\n",
        "        shuffle = True,\n",
        "        color_mode=color_type, # grayscale, rgb\n",
        "        class_mode='categorical' # categorical, raw\n",
        "        )"
      ],
      "execution_count": null,
      "outputs": [
        {
          "output_type": "stream",
          "text": [
            "Found 20000 validated image filenames belonging to 5 classes.\n"
          ],
          "name": "stdout"
        }
      ]
    },
    {
      "cell_type": "code",
      "metadata": {
        "colab": {
          "base_uri": "https://localhost:8080/"
        },
        "id": "uwy6M8sgK1KT",
        "outputId": "037ea02c-f35f-4cde-e6fb-599bc45b4489"
      },
      "source": [
        "num_classes = len(train_generator.class_indices)\n",
        "total_train_data = train_generator.samples\n",
        "\n",
        "print(f\"total_train_data = {total_train_data}\")\n",
        "print(f\"train_generator.image_shape = {train_generator.image_shape}\")\n",
        "print(f\"num_classes = {num_classes}\")"
      ],
      "execution_count": null,
      "outputs": [
        {
          "output_type": "stream",
          "text": [
            "total_train_data = 20000\n",
            "train_generator.image_shape = (768, 768, 3)\n",
            "num_classes = 5\n"
          ],
          "name": "stdout"
        }
      ]
    },
    {
      "cell_type": "code",
      "metadata": {
        "colab": {
          "base_uri": "https://localhost:8080/"
        },
        "id": "YsvrZgrALXMl",
        "outputId": "b3ce3e9a-4d90-462c-a108-d54bdd60fa95"
      },
      "source": [
        "test_generator = test_datagen.flow_from_dataframe(\n",
        "        test_df,\n",
        "        directory=None,\n",
        "        x_col='path', \n",
        "        y_col='label',\n",
        "        target_size=(768, 768),  # target images are automatically resized to (256, 256)\n",
        "        batch_size=BATCH_SIZE,\n",
        "        shuffle = False,\n",
        "        color_mode=color_type, # grayscale, rgb\n",
        "        class_mode='categorical')"
      ],
      "execution_count": null,
      "outputs": [
        {
          "output_type": "stream",
          "text": [
            "Found 5000 validated image filenames belonging to 5 classes.\n"
          ],
          "name": "stdout"
        }
      ]
    },
    {
      "cell_type": "code",
      "metadata": {
        "colab": {
          "base_uri": "https://localhost:8080/"
        },
        "id": "HxU0D6TuOOOL",
        "outputId": "458b52b4-3226-459e-b262-34abac4df604"
      },
      "source": [
        "total_test_data = test_generator.samples\n",
        "print(f\"total_test_data = {total_test_data}\")"
      ],
      "execution_count": null,
      "outputs": [
        {
          "output_type": "stream",
          "text": [
            "total_test_data = 5000\n"
          ],
          "name": "stdout"
        }
      ]
    },
    {
      "cell_type": "code",
      "metadata": {
        "id": "roidu5RmFRJq"
      },
      "source": [
        ""
      ],
      "execution_count": null,
      "outputs": []
    },
    {
      "cell_type": "code",
      "metadata": {
        "colab": {
          "base_uri": "https://localhost:8080/",
          "height": 36
        },
        "id": "XRwynF9xPBWy",
        "outputId": "e13dfaf2-44aa-423a-9344-c8e0aa65cca4"
      },
      "source": [
        "# DenseNet121 ResNet101 ResNet50 DenseNet201 InceptionV3 Xception NASNetLarge ResNet152V2 InceptionResNetV2 EfficientNetB7\n",
        "impl_type = \"noTL.Custom1\" # TransferLearning3D \n",
        "dataset = f\"{Dataset_Name}.{color_type}.{train_generator.image_shape[1]}p.DataFlow\" # +str(img_size)+\"p\"\n",
        "dataset"
      ],
      "execution_count": null,
      "outputs": [
        {
          "output_type": "execute_result",
          "data": {
            "application/vnd.google.colaboratory.intrinsic+json": {
              "type": "string"
            },
            "text/plain": [
              "'Lung.Colon.Cancer.Hist.5k4.rgb.768p.DataFlow'"
            ]
          },
          "metadata": {
            "tags": []
          },
          "execution_count": 18
        }
      ]
    },
    {
      "cell_type": "code",
      "metadata": {
        "id": "rLVsewD-O3gl"
      },
      "source": [
        "#'''\n",
        "count_no_improvement = 0\n",
        "epoch_initial = True\n",
        "#'''"
      ],
      "execution_count": null,
      "outputs": []
    },
    {
      "cell_type": "code",
      "metadata": {
        "colab": {
          "base_uri": "https://localhost:8080/"
        },
        "id": "OxppPm7hO3l8",
        "outputId": "41c0f956-0433-4f01-aa24-4b6118fc371e"
      },
      "source": [
        "#NUM_NEURONS = 16\n",
        "#NUM_LAYERS = 3\n",
        "#BATCH_SIZE = 16 # 10\n",
        "NUM_EPOCHS = 50 # 300, 5\n",
        "epochs_completed = 0\n",
        "LEARNING_RATE = 0.00001\n",
        "EPSILON = 1e-4\n",
        "early_stop_after_epochs = 50\n",
        "DROPOUT = 0.5 # 0.5 0.0\n",
        "pad = 0\n",
        "\n",
        "LOSS = 'categorical_crossentropy'\n",
        "ACTIVATION_FUNCTION = 'elu' # relu sigmoid elu\n",
        "FINAL_ACTIVATION_FUNCTION = 'softmax'\n",
        "validation_split = 0.1\n",
        "kernel_size=(1,1)\n",
        "pointTrainableAfter = \"allDefault\" # \"allDefault\" 160 170\n",
        "OPTIMIZER = \"Adam\" # Adam SGD RMSProp\n",
        "init_weights = \"None\" # \"imagenet\" None\n",
        "modelExt = \"\" # .Dense.128.256.512, .512.512.512 .Dense.512.512.512.512.Res\n",
        "l2_val = 0.001\n",
        "\n",
        "# +\"_kernel\"+str(kernel_size)+\"_lr\"+str(LEARNING_RATE)+\"_batch\"+str(BATCH_SIZE)+\"_epochs\"+str(NUM_EPOCHS)\n",
        "#checkpointer_name  = \"weights_\"+dataset+\"_\"+impl_type+\"_nLayers\"+str(NUM_LAYERS)+\"_nNeurons\"+str(NUM_NEURONS)+\".hdf5\"\n",
        "ext = f\".run_1\" # run_1 run_2 .DropAfter .momentum0.9\n",
        "#'''\n",
        "checkpointer_name  = \"weights.\"+dataset+\".pad\"+str(pad)+\".\"+impl_type+\".wInit.\"+str(init_weights)+\".TrainableAfter.\"+str(pointTrainableAfter)+\\\n",
        "                     modelExt+\".actF.\"+ACTIVATION_FUNCTION+\".opt.\"+OPTIMIZER+\".drop.\"+str(DROPOUT)+\".batch\"+str(BATCH_SIZE)+ext+\".hdf5\"\n",
        "log_name = \"log.\"+checkpointer_name[8:-5]+\".log\"\n",
        "\n",
        "print('checkpointer_name =', checkpointer_name)\n",
        "print('log_name =', log_name)\n",
        "#'''"
      ],
      "execution_count": null,
      "outputs": [
        {
          "output_type": "stream",
          "text": [
            "checkpointer_name = weights.Lung.Colon.Cancer.Hist.5k4.rgb.768p.DataFlow.pad0.noTL.Custom1.wInit.None.TrainableAfter.allDefault.actF.elu.opt.Adam.drop.0.5.batch16.run_1.hdf5\n",
            "log_name = log.Lung.Colon.Cancer.Hist.5k4.rgb.768p.DataFlow.pad0.noTL.Custom1.wInit.None.TrainableAfter.allDefault.actF.elu.opt.Adam.drop.0.5.batch16.run_1.log\n"
          ],
          "name": "stdout"
        }
      ]
    },
    {
      "cell_type": "code",
      "metadata": {
        "colab": {
          "base_uri": "https://localhost:8080/"
        },
        "id": "hcB3WVaWO6BV",
        "outputId": "461db65c-20f2-47cc-84e4-95f64fc740d0"
      },
      "source": [
        "train_generator.image_shape"
      ],
      "execution_count": null,
      "outputs": [
        {
          "output_type": "execute_result",
          "data": {
            "text/plain": [
              "(768, 768, 3)"
            ]
          },
          "metadata": {
            "tags": []
          },
          "execution_count": 34
        }
      ]
    },
    {
      "cell_type": "code",
      "metadata": {
        "colab": {
          "base_uri": "https://localhost:8080/",
          "height": 128
        },
        "id": "XyK6ZbJOOsjV",
        "outputId": "fa519378-d92d-475a-a023-e03ce32b2775"
      },
      "source": [
        "\"\"\"\n",
        "#base_model=DenseNet121(weights=None, include_top=False, input_shape=np_train_dataset2.shape[1:]) # `None` (random initialization)\n",
        "#base_model=ResNet152V2(weights=None, include_top=False, input_shape=np_train_dataset2.shape[1:])\n",
        "# ResNet152V2 ResNet50 ResNet101 ResNet152 DenseNet201 InceptionV3 Xception NASNetLarge 'imagenet' ResNet152V2 DenseNet121\n",
        "#inputs = Input(final_train_imageset.shape[1:])\n",
        "#x = ZeroPadding2D(padding=(pad,pad))(inputs)\n",
        "#base_model=tf.keras.applications.ResNet50(weights=init_weights, include_top=False, input_tensor=x)\n",
        "base_model=tf.keras.applications.DenseNet201(weights=init_weights, include_top=False, input_shape=train_generator.image_shape)\n",
        "x=base_model.output\n",
        "\n",
        "x = Flatten()(x)\n",
        "\n",
        "#'''\n",
        "x = Dense(1024, kernel_regularizer=tf.keras.regularizers.l2(l2_val), activation=ACTIVATION_FUNCTION)(x)\n",
        "#x_copy = x\n",
        "x = Dropout(DROPOUT)(x)\n",
        "x = Dense(1024, kernel_regularizer=tf.keras.regularizers.l2(l2_val), activation=ACTIVATION_FUNCTION)(x)\n",
        "x = Dropout(DROPOUT)(x)\n",
        "x = Dense(2048, kernel_regularizer=tf.keras.regularizers.l2(l2_val), activation=ACTIVATION_FUNCTION)(x)\n",
        "x = Dropout(DROPOUT)(x)\n",
        "#x = Add()([x,x_copy])\n",
        "#'''\n",
        "outputs=Dense(num_classes,activation='softmax')(x)\n",
        "\n",
        "model=Model(inputs=base_model.input,outputs=outputs)\n",
        "model.summary()\n",
        "#\"\"\""
      ],
      "execution_count": null,
      "outputs": [
        {
          "output_type": "execute_result",
          "data": {
            "application/vnd.google.colaboratory.intrinsic+json": {
              "type": "string"
            },
            "text/plain": [
              "\"\\n#base_model=DenseNet121(weights=None, include_top=False, input_shape=np_train_dataset2.shape[1:]) # `None` (random initialization)\\n#base_model=ResNet152V2(weights=None, include_top=False, input_shape=np_train_dataset2.shape[1:])\\n# ResNet152V2 ResNet50 ResNet101 ResNet152 DenseNet201 InceptionV3 Xception NASNetLarge 'imagenet' ResNet152V2 DenseNet121\\n#inputs = Input(final_train_imageset.shape[1:])\\n#x = ZeroPadding2D(padding=(pad,pad))(inputs)\\n#base_model=tf.keras.applications.ResNet50(weights=init_weights, include_top=False, input_tensor=x)\\nbase_model=tf.keras.applications.DenseNet201(weights=init_weights, include_top=False, input_shape=train_generator.image_shape)\\nx=base_model.output\\n\\nx = Flatten()(x)\\n\\n#'''\\nx = Dense(1024, kernel_regularizer=tf.keras.regularizers.l2(l2_val), activation=ACTIVATION_FUNCTION)(x)\\n#x_copy = x\\nx = Dropout(DROPOUT)(x)\\nx = Dense(1024, kernel_regularizer=tf.keras.regularizers.l2(l2_val), activation=ACTIVATION_FUNCTION)(x)\\nx = Dropout(DROPOUT)(x)\\nx = Dense(2048, kernel_regularizer=tf.keras.regularizers.l2(l2_val), activation=ACTIVATION_FUNCTION)(x)\\nx = Dropout(DROPOUT)(x)\\n#x = Add()([x,x_copy])\\n#'''\\noutputs=Dense(num_classes,activation='softmax')(x)\\n\\nmodel=Model(inputs=base_model.input,outputs=outputs)\\nmodel.summary()\\n#\""
            ]
          },
          "metadata": {
            "tags": []
          },
          "execution_count": 35
        }
      ]
    },
    {
      "cell_type": "code",
      "metadata": {
        "colab": {
          "base_uri": "https://localhost:8080/"
        },
        "id": "qQ6l4-yROFbT",
        "outputId": "41d8a061-7b36-4bb5-d306-1f679f968ef4"
      },
      "source": [
        "inputs = Input(train_generator.image_shape)\n",
        "x = inputs\n",
        "\n",
        "x = Conv2D(16, kernel_size=(3,3), strides=(1,1), padding='valid')(x)\n",
        "x = Activation(ACTIVATION_FUNCTION)(x)\n",
        "x = MaxPooling2D(pool_size=(2,2), padding='valid')(x)\n",
        "x = Conv2D(16, kernel_size=(3,3), strides=(1,1), padding='same')(x)\n",
        "x = Activation(ACTIVATION_FUNCTION)(x)\n",
        "x = MaxPooling2D(pool_size=(2,2), padding='valid')(x)\n",
        "x = Conv2D(32, kernel_size=(3,3), strides=(1,1), padding='same')(x)\n",
        "x = Activation(ACTIVATION_FUNCTION)(x)\n",
        "x = MaxPooling2D(pool_size=(2,2), padding='valid')(x)\n",
        "x = Conv2D(32, kernel_size=(3,3), strides=(1,1), padding='same')(x)\n",
        "x = Activation(ACTIVATION_FUNCTION)(x)\n",
        "x = MaxPooling2D(pool_size=(2,2), padding='valid')(x)\n",
        "x = Conv2D(64, kernel_size=(3,3), strides=(1,1), padding='same')(x)\n",
        "x = Activation(ACTIVATION_FUNCTION)(x)\n",
        "x = MaxPooling2D(pool_size=(2,2), padding='valid')(x)\n",
        "x = Conv2D(64, kernel_size=(3,3), strides=(1,1), padding='same')(x)\n",
        "x = Activation(ACTIVATION_FUNCTION)(x)\n",
        "x = MaxPooling2D(pool_size=(2,2), padding='valid')(x)\n",
        "x = Conv2D(128, kernel_size=(3,3), strides=(1,1), padding='same')(x)\n",
        "x = Activation(ACTIVATION_FUNCTION)(x)\n",
        "x = MaxPooling2D(pool_size=(2,2), padding='valid')(x)\n",
        "x = Conv2D(128, kernel_size=(3,3), strides=(1,1), padding='same')(x)\n",
        "x = Activation(ACTIVATION_FUNCTION)(x)\n",
        "\n",
        "x = Flatten()(x)\n",
        "x = Dense(512, kernel_regularizer=tf.keras.regularizers.l2(l2_val))(x)\n",
        "x = Activation(ACTIVATION_FUNCTION)(x)\n",
        "x = Dense(512, kernel_regularizer=tf.keras.regularizers.l2(l2_val))(x)\n",
        "x = Activation(ACTIVATION_FUNCTION)(x)\n",
        "x = Dense(1024, kernel_regularizer=tf.keras.regularizers.l2(l2_val))(x)\n",
        "x = Activation(ACTIVATION_FUNCTION)(x)\n",
        "x = Dense(1024, kernel_regularizer=tf.keras.regularizers.l2(l2_val))(x)\n",
        "x = Activation(ACTIVATION_FUNCTION)(x)\n",
        "x = Dense(2048, kernel_regularizer=tf.keras.regularizers.l2(l2_val))(x)\n",
        "x = Activation(ACTIVATION_FUNCTION)(x)\n",
        "\n",
        "outputs = Dense(num_classes, activation='softmax')(x)\n",
        "model=Model(inputs=inputs,outputs=outputs)\n",
        "model.summary()"
      ],
      "execution_count": null,
      "outputs": [
        {
          "output_type": "stream",
          "text": [
            "Model: \"model_1\"\n",
            "_________________________________________________________________\n",
            "Layer (type)                 Output Shape              Param #   \n",
            "=================================================================\n",
            "input_2 (InputLayer)         [(None, 768, 768, 3)]     0         \n",
            "_________________________________________________________________\n",
            "conv2d_8 (Conv2D)            (None, 766, 766, 16)      448       \n",
            "_________________________________________________________________\n",
            "activation_13 (Activation)   (None, 766, 766, 16)      0         \n",
            "_________________________________________________________________\n",
            "max_pooling2d_7 (MaxPooling2 (None, 383, 383, 16)      0         \n",
            "_________________________________________________________________\n",
            "conv2d_9 (Conv2D)            (None, 383, 383, 16)      2320      \n",
            "_________________________________________________________________\n",
            "activation_14 (Activation)   (None, 383, 383, 16)      0         \n",
            "_________________________________________________________________\n",
            "max_pooling2d_8 (MaxPooling2 (None, 191, 191, 16)      0         \n",
            "_________________________________________________________________\n",
            "conv2d_10 (Conv2D)           (None, 191, 191, 32)      4640      \n",
            "_________________________________________________________________\n",
            "activation_15 (Activation)   (None, 191, 191, 32)      0         \n",
            "_________________________________________________________________\n",
            "max_pooling2d_9 (MaxPooling2 (None, 95, 95, 32)        0         \n",
            "_________________________________________________________________\n",
            "conv2d_11 (Conv2D)           (None, 95, 95, 32)        9248      \n",
            "_________________________________________________________________\n",
            "activation_16 (Activation)   (None, 95, 95, 32)        0         \n",
            "_________________________________________________________________\n",
            "max_pooling2d_10 (MaxPooling (None, 47, 47, 32)        0         \n",
            "_________________________________________________________________\n",
            "conv2d_12 (Conv2D)           (None, 47, 47, 64)        18496     \n",
            "_________________________________________________________________\n",
            "activation_17 (Activation)   (None, 47, 47, 64)        0         \n",
            "_________________________________________________________________\n",
            "max_pooling2d_11 (MaxPooling (None, 23, 23, 64)        0         \n",
            "_________________________________________________________________\n",
            "conv2d_13 (Conv2D)           (None, 23, 23, 64)        36928     \n",
            "_________________________________________________________________\n",
            "activation_18 (Activation)   (None, 23, 23, 64)        0         \n",
            "_________________________________________________________________\n",
            "max_pooling2d_12 (MaxPooling (None, 11, 11, 64)        0         \n",
            "_________________________________________________________________\n",
            "conv2d_14 (Conv2D)           (None, 11, 11, 128)       73856     \n",
            "_________________________________________________________________\n",
            "activation_19 (Activation)   (None, 11, 11, 128)       0         \n",
            "_________________________________________________________________\n",
            "max_pooling2d_13 (MaxPooling (None, 5, 5, 128)         0         \n",
            "_________________________________________________________________\n",
            "conv2d_15 (Conv2D)           (None, 5, 5, 128)         147584    \n",
            "_________________________________________________________________\n",
            "activation_20 (Activation)   (None, 5, 5, 128)         0         \n",
            "_________________________________________________________________\n",
            "flatten_1 (Flatten)          (None, 3200)              0         \n",
            "_________________________________________________________________\n",
            "dense_6 (Dense)              (None, 512)               1638912   \n",
            "_________________________________________________________________\n",
            "activation_21 (Activation)   (None, 512)               0         \n",
            "_________________________________________________________________\n",
            "dense_7 (Dense)              (None, 512)               262656    \n",
            "_________________________________________________________________\n",
            "activation_22 (Activation)   (None, 512)               0         \n",
            "_________________________________________________________________\n",
            "dense_8 (Dense)              (None, 1024)              525312    \n",
            "_________________________________________________________________\n",
            "activation_23 (Activation)   (None, 1024)              0         \n",
            "_________________________________________________________________\n",
            "dense_9 (Dense)              (None, 1024)              1049600   \n",
            "_________________________________________________________________\n",
            "activation_24 (Activation)   (None, 1024)              0         \n",
            "_________________________________________________________________\n",
            "dense_10 (Dense)             (None, 2048)              2099200   \n",
            "_________________________________________________________________\n",
            "activation_25 (Activation)   (None, 2048)              0         \n",
            "_________________________________________________________________\n",
            "dense_11 (Dense)             (None, 5)                 10245     \n",
            "=================================================================\n",
            "Total params: 5,879,445\n",
            "Trainable params: 5,879,445\n",
            "Non-trainable params: 0\n",
            "_________________________________________________________________\n"
          ],
          "name": "stdout"
        }
      ]
    },
    {
      "cell_type": "code",
      "metadata": {
        "colab": {
          "base_uri": "https://localhost:8080/",
          "height": 36
        },
        "id": "WgomlDGDqn6-",
        "outputId": "2adf97cd-c12c-4e68-9e1a-11651bfc0364"
      },
      "source": [
        "'''\n",
        "tf.keras.utils.plot_model(\n",
        "    model, to_file='model.png', show_shapes=True, show_dtype=False,\n",
        "    show_layer_names=True, rankdir='TB', expand_nested=True, dpi=64\n",
        ")\n",
        "#'''"
      ],
      "execution_count": null,
      "outputs": [
        {
          "output_type": "execute_result",
          "data": {
            "application/vnd.google.colaboratory.intrinsic+json": {
              "type": "string"
            },
            "text/plain": [
              "\"\\ntf.keras.utils.plot_model(\\n    model, to_file='model.png', show_shapes=True, show_dtype=False,\\n    show_layer_names=True, rankdir='TB', expand_nested=True, dpi=64\\n)\\n#\""
            ]
          },
          "metadata": {
            "tags": []
          },
          "execution_count": 37
        }
      ]
    },
    {
      "cell_type": "code",
      "metadata": {
        "colab": {
          "base_uri": "https://localhost:8080/"
        },
        "id": "ozx7Z-ZiUE-2",
        "outputId": "a0d0d909-a129-4c64-de84-b5ad39d3424f"
      },
      "source": [
        "count_trainable = 0\n",
        "count_non_trainable = 0\n",
        "\n",
        "#'''\n",
        "if pointTrainableAfter == \"allDefault\":\n",
        "    for layer in model.layers:\n",
        "        layer.trainable=True\n",
        "        count_trainable += 1\n",
        "elif pointTrainableAfter > 0:\n",
        "    for layer in model.layers[:pointTrainableAfter]: # [:-pointTrainableAfter]\n",
        "        layer.trainable=False\n",
        "        count_non_trainable += 1\n",
        "    for layer in model.layers[pointTrainableAfter:]: # [-pointTrainableAfter:]\n",
        "        layer.trainable=True\n",
        "        count_trainable += 1\n",
        "#'''\n",
        "\n",
        "'''\n",
        "for layer in model.layers:\n",
        "    layer.trainable=True\n",
        "    count_trainable += 1\n",
        "#'''\n",
        "\n",
        "print(\"count_non_trainable =\", count_non_trainable)\n",
        "print(\"count_trainable =\", count_trainable)\n",
        "print(\"Total number of layers =\", count_non_trainable+count_trainable)"
      ],
      "execution_count": null,
      "outputs": [
        {
          "output_type": "stream",
          "text": [
            "count_non_trainable = 0\n",
            "count_trainable = 36\n",
            "Total number of layers = 36\n"
          ],
          "name": "stdout"
        }
      ]
    },
    {
      "cell_type": "code",
      "metadata": {
        "colab": {
          "base_uri": "https://localhost:8080/",
          "height": 72
        },
        "id": "aqwYD5TGPxyV",
        "outputId": "f35e119d-4956-4993-c97b-14d83b5e8960"
      },
      "source": [
        "'''\n",
        "checkpointer_name  = \"weights.\"+dataset+\".pad\"+str(pad)+\".\"+impl_type+\".wInit.\"+str(init_weights)+\".TrainableAfter.\"+str(pointTrainableAfter)+\\\n",
        "                     modelExt+\".opt.\"+OPTIMIZER+\".drop.\"+str(DROPOUT)+\".batch\"+str(BATCH_SIZE)+ext+\".hdf5\"\n",
        "log_name = \"log.\"+checkpointer_name[8:-5]+\".log\"\n",
        "\n",
        "print('checkpointer_name =', checkpointer_name)\n",
        "print('log_name =', log_name)\n",
        "#'''"
      ],
      "execution_count": null,
      "outputs": [
        {
          "output_type": "execute_result",
          "data": {
            "application/vnd.google.colaboratory.intrinsic+json": {
              "type": "string"
            },
            "text/plain": [
              "'\\ncheckpointer_name  = \"weights.\"+dataset+\".pad\"+str(pad)+\".\"+impl_type+\".wInit.\"+str(init_weights)+\".TrainableAfter.\"+str(pointTrainableAfter)+                     modelExt+\".opt.\"+OPTIMIZER+\".drop.\"+str(DROPOUT)+\".batch\"+str(BATCH_SIZE)+ext+\".hdf5\"\\nlog_name = \"log.\"+checkpointer_name[8:-5]+\".log\"\\n\\nprint(\\'checkpointer_name =\\', checkpointer_name)\\nprint(\\'log_name =\\', log_name)\\n#'"
            ]
          },
          "metadata": {
            "tags": []
          },
          "execution_count": 39
        }
      ]
    },
    {
      "cell_type": "code",
      "metadata": {
        "id": "V7TtWSDfE_Te"
      },
      "source": [
        ""
      ],
      "execution_count": null,
      "outputs": []
    },
    {
      "cell_type": "code",
      "metadata": {
        "colab": {
          "base_uri": "https://localhost:8080/"
        },
        "id": "3T7w_lC1QCPh",
        "outputId": "768f6965-d66b-44f8-a2fa-102b40a230d0"
      },
      "source": [
        "# \"RMSProp\" \"SGD\" \"Adam\" \"Adamax\" \"Adadelta\" \"Adagrad\" \"SGD\"\n",
        "#optimizer = tf.keras.optimizers.RMSprop(lr = LEARNING_RATE, epsilon=EPSILON)\n",
        "\n",
        "if OPTIMIZER == \"RMSProp\":\n",
        "    optimizer = tf.keras.optimizers.RMSprop(learning_rate = LEARNING_RATE, epsilon=EPSILON)\n",
        "elif OPTIMIZER == \"Adam\":\n",
        "    optimizer = tf.keras.optimizers.Adam(learning_rate = LEARNING_RATE, epsilon=EPSILON, beta_1=0.9, beta_2=0.999)\n",
        "elif OPTIMIZER == \"Adamax\":\n",
        "    optimizer = tf.keras.optimizers.Adamax(learning_rate = LEARNING_RATE, epsilon=EPSILON, beta_1=0.9, beta_2=0.999)\n",
        "elif OPTIMIZER == \"Adadelta\":\n",
        "    optimizer = tf.keras.optimizers.Adadelta(learning_rate = LEARNING_RATE, epsilon=EPSILON, rho=0.95)\n",
        "elif OPTIMIZER == \"Adagrad\":\n",
        "    optimizer = tf.keras.optimizers.Adagrad(learning_rate = LEARNING_RATE, epsilon=EPSILON, initial_accumulator_value=0.1)\n",
        "elif OPTIMIZER == \"SGD\":\n",
        "    optimizer = tf.keras.optimizers.SGD(learning_rate = LEARNING_RATE, momentum=0.9)\n",
        "\n",
        "model.compile(\n",
        "    #optimizer=OPTIMIZER,\n",
        "    optimizer=optimizer,\n",
        "    loss=LOSS,\n",
        "    metrics=['accuracy', 'Precision', 'Recall', 'AUC', 'TruePositives', 'TrueNegatives', 'FalsePositives', 'FalseNegatives']\n",
        ")\n",
        "\n",
        "print(\"OPTIMIZER =\", OPTIMIZER)"
      ],
      "execution_count": null,
      "outputs": [
        {
          "output_type": "stream",
          "text": [
            "OPTIMIZER = Adam\n"
          ],
          "name": "stdout"
        }
      ]
    },
    {
      "cell_type": "code",
      "metadata": {
        "id": "OdySVEG3QCpv"
      },
      "source": [
        "# save the best model with least validation loss\n",
        "checkpointer = ModelCheckpoint(filepath = work_dir+checkpointer_name, \n",
        "                               #monitor='val_accuracy',\n",
        "                               monitor='val_loss',\n",
        "                               save_weights_only=False,  \n",
        "                               mode='auto', \n",
        "                               verbose = 1, # 0 = silent, 1 = progress bar, 2 = one line per epoch\n",
        "                               save_best_only =False\n",
        "                               )\n",
        "checkpointer_best = ModelCheckpoint(filepath = work_dir+\"best_\"+checkpointer_name, \n",
        "                                    monitor='val_loss', \n",
        "                                    save_weights_only=False,\n",
        "                                    mode='auto',  \n",
        "                                    verbose = 1, \n",
        "                                    save_best_only = True\n",
        "                                    )\n",
        "early_stopping = EarlyStopping(monitor='loss', patience=early_stop_after_epochs)"
      ],
      "execution_count": null,
      "outputs": []
    },
    {
      "cell_type": "code",
      "metadata": {
        "colab": {
          "base_uri": "https://localhost:8080/"
        },
        "id": "Fq3iXmYXQHNL",
        "outputId": "df05addb-2ad8-4b34-ed3f-882ebac90776"
      },
      "source": [
        "'''\n",
        "if 'count_no_improvement' not in globals():\n",
        "    count_no_improvement = 0\n",
        "    print(\"count_no_improvement =\", count_no_improvement)\n",
        "#'''\n",
        "'''\n",
        "count_no_improvement = 1 # 0\n",
        "epoch_initial = False\n",
        "#'''\n",
        "min_delta = 0.0009\n",
        "print(\"count_no_improvement =\", count_no_improvement)\n",
        "\n",
        "def checkBestPerformance(epoch, logs):\n",
        "    save_filepath = work_dir+\"best_\"+checkpointer_name\n",
        "\n",
        "    global epoch_initial\n",
        "    if epoch_initial == True:\n",
        "        epoch_initial = False\n",
        "        model.save(filepath = save_filepath)\n",
        "        print(\". Model saved!\")\n",
        "\n",
        "    elif epoch_initial == False:\n",
        "        global count_no_improvement\n",
        "\n",
        "        log_data = pd.read_csv(work_dir+log_name, sep=',', usecols=['val_loss', 'val_accuracy'], engine='python')\n",
        "        min_val_loss = float(str(min(log_data.val_loss.values))[:6])\n",
        "        max_val_acc = float(str(max(log_data.val_accuracy.values))[:6])\n",
        "\n",
        "        current_val_acc = float(str(logs['val_accuracy'])[:6])\n",
        "        current_val_loss = float(str(logs['val_loss'])[:6])\n",
        "\n",
        "        if (current_val_loss < min_val_loss) and (abs(current_val_loss-min_val_loss) >= min_delta):\n",
        "            count_no_improvement = 0\n",
        "            model.save(filepath = save_filepath)\n",
        "            print(\"\\nval_loss decreased from\",min_val_loss,\" to\",current_val_loss,\"( val_accuracy =\",current_val_acc,\").\")\n",
        "\n",
        "        elif (current_val_loss==min_val_loss) and (current_val_acc>max_val_acc):\n",
        "            count_no_improvement = 0\n",
        "            model.save(filepath = save_filepath)\n",
        "            print(\"\\nval_accuracy increased to\", current_val_acc, \".\")\n",
        "\n",
        "        else:\n",
        "            count_no_improvement += 1\n",
        "            print(\". count_no_improvement =\", count_no_improvement)\n",
        "\n",
        "        if count_no_improvement >= early_stop_after_epochs:\n",
        "            global list_callbacks\n",
        "            del list_callbacks, count_no_improvement\n",
        "            #print(\"count_no_improvement =\", count_no_improvement, \"... list_callbacks =\", list_callbacks)"
      ],
      "execution_count": null,
      "outputs": [
        {
          "output_type": "stream",
          "text": [
            "count_no_improvement = 0\n"
          ],
          "name": "stdout"
        }
      ]
    },
    {
      "cell_type": "code",
      "metadata": {
        "colab": {
          "base_uri": "https://localhost:8080/"
        },
        "id": "YYewyuDiREFZ",
        "outputId": "8314dfa9-f76a-48c4-db8c-6731ef32a73a"
      },
      "source": [
        "epochs_completed = 0\n",
        "list_callbacks = []\n",
        "csv_logger = CSVLogger(work_dir+log_name, separator=',', append=True)\n",
        "\n",
        "#if 'list_callbacks' in globals():\n",
        "#    del list_callbacks\n",
        "\n",
        "try:\n",
        "    log_data = pd.read_csv(work_dir+log_name, sep=',', usecols=['epoch'], engine='python')\n",
        "    epochs_completed = log_data.shape[0]\n",
        "\n",
        "    #if epochs_completed > 0:\n",
        "    model = load_model(work_dir+checkpointer_name)\n",
        "    list_callbacks = [checkpointer, LambdaCallback(on_epoch_end=checkBestPerformance), csv_logger]\n",
        "    print(\"epochs_completed =\", epochs_completed)\n",
        "\n",
        "except Exception as error:\n",
        "    if epochs_completed == 0:\n",
        "        # list_callbacks = [checkpointer, checkpointer_best, csv_logger, early_stopping] \n",
        "        list_callbacks = [checkpointer, LambdaCallback(on_epoch_end=checkBestPerformance), csv_logger]\n",
        "        print(\"epochs_completed =\", epochs_completed)\n",
        "    elif epochs_completed > 0:\n",
        "        print(error)\n",
        "\n",
        "print('checkpointer_name =', checkpointer_name)"
      ],
      "execution_count": null,
      "outputs": [
        {
          "output_type": "stream",
          "text": [
            "epochs_completed = 0\n",
            "checkpointer_name = weights.Lung.Colon.Cancer.Hist.5k4.rgb.768p.DataFlow.pad0.noTL.Custom1.wInit.None.TrainableAfter.allDefault.actF.elu.opt.Adam.drop.0.5.batch16.run_1.hdf5\n"
          ],
          "name": "stdout"
        }
      ]
    },
    {
      "cell_type": "code",
      "metadata": {
        "colab": {
          "base_uri": "https://localhost:8080/"
        },
        "id": "6JKqrHnwRGGz",
        "outputId": "bfe7ade8-f5aa-439b-88b5-cfd9a503d8d3"
      },
      "source": [
        "print('checkpointer_name =', checkpointer_name)\n",
        "print(\"Previously completed epochs =\", epochs_completed)\n",
        "print(\"count_no_improvement =\", count_no_improvement, \"\\n\")\n",
        "\n",
        "#'''\n",
        "try:\n",
        "    start_time = time.time()\n",
        "    history = model.fit(train_generator, \n",
        "                        steps_per_epoch=total_train_data // BATCH_SIZE,\n",
        "                        shuffle=True, \n",
        "                        epochs = NUM_EPOCHS - epochs_completed, \n",
        "                        validation_data=test_generator,\n",
        "                        validation_steps=total_test_data // BATCH_SIZE,\n",
        "                        verbose = 1,\n",
        "                        callbacks=list_callbacks\n",
        "                        )\n",
        "    elapsed_time = time.time() - start_time \n",
        "    print(\"\\nTime elapsed: \", elapsed_time)\n",
        "\n",
        "except Exception as error:\n",
        "    print(\"\\nError:\", error)\n",
        "#'''"
      ],
      "execution_count": null,
      "outputs": [
        {
          "output_type": "stream",
          "text": [
            "checkpointer_name = weights.Lung.Colon.Cancer.Hist.5k4.rgb.768p.DataFlow.pad0.noTL.Custom1.wInit.None.TrainableAfter.allDefault.actF.elu.opt.Adam.drop.0.5.batch16.run_1.hdf5\n",
            "Previously completed epochs = 0\n",
            "count_no_improvement = 0 \n",
            "\n",
            "Epoch 1/50\n",
            "1250/1250 [==============================] - 7038s 6s/step - loss: 4.9991 - accuracy: 0.7168 - precision: 0.7872 - recall: 0.6320 - auc: 0.9431 - true_positives: 12641.0000 - true_negatives: 76582.0000 - false_positives: 3418.0000 - false_negatives: 7359.0000 - val_loss: 4.5839 - val_accuracy: 0.8413 - val_precision: 0.8450 - val_recall: 0.8363 - val_auc: 0.9786 - val_true_positives: 4175.0000 - val_true_negatives: 19202.0000 - val_false_positives: 766.0000 - val_false_negatives: 817.0000\n",
            "\n",
            "Epoch 00001: saving model to drive/My Drive/Cancer/Lung and Colon Cancer Histopathological Images/Records/weights.Lung.Colon.Cancer.Hist.5k4.rgb.768p.DataFlow.pad0.noTL.Custom1.wInit.None.TrainableAfter.allDefault.actF.elu.opt.Adam.drop.0.5.batch16.run_1.hdf5\n",
            ". Model saved!\n",
            "Epoch 2/50\n",
            "1250/1250 [==============================] - 460s 368ms/step - loss: 4.4074 - accuracy: 0.8611 - precision: 0.8647 - recall: 0.8575 - auc: 0.9824 - true_positives: 17149.0000 - true_negatives: 77316.0000 - false_positives: 2684.0000 - false_negatives: 2851.0000 - val_loss: 4.2550 - val_accuracy: 0.8602 - val_precision: 0.8626 - val_recall: 0.8576 - val_auc: 0.9839 - val_true_positives: 4281.0000 - val_true_negatives: 19286.0000 - val_false_positives: 682.0000 - val_false_negatives: 711.0000\n",
            "\n",
            "Epoch 00002: saving model to drive/My Drive/Cancer/Lung and Colon Cancer Histopathological Images/Records/weights.Lung.Colon.Cancer.Hist.5k4.rgb.768p.DataFlow.pad0.noTL.Custom1.wInit.None.TrainableAfter.allDefault.actF.elu.opt.Adam.drop.0.5.batch16.run_1.hdf5\n",
            "\n",
            "val_loss decreased from 4.5839  to 4.2549 ( val_accuracy = 0.8601 ).\n",
            "Epoch 3/50\n",
            "1250/1250 [==============================] - 449s 359ms/step - loss: 4.0873 - accuracy: 0.8813 - precision: 0.8841 - recall: 0.8788 - auc: 0.9874 - true_positives: 17576.0000 - true_negatives: 77697.0000 - false_positives: 2303.0000 - false_negatives: 2424.0000 - val_loss: 3.9323 - val_accuracy: 0.8928 - val_precision: 0.8947 - val_recall: 0.8900 - val_auc: 0.9896 - val_true_positives: 4443.0000 - val_true_negatives: 19445.0000 - val_false_positives: 523.0000 - val_false_negatives: 549.0000\n",
            "\n",
            "Epoch 00003: saving model to drive/My Drive/Cancer/Lung and Colon Cancer Histopathological Images/Records/weights.Lung.Colon.Cancer.Hist.5k4.rgb.768p.DataFlow.pad0.noTL.Custom1.wInit.None.TrainableAfter.allDefault.actF.elu.opt.Adam.drop.0.5.batch16.run_1.hdf5\n",
            "\n",
            "val_loss decreased from 4.2549  to 3.9322 ( val_accuracy = 0.8928 ).\n",
            "Epoch 4/50\n",
            "1250/1250 [==============================] - 447s 357ms/step - loss: 3.7952 - accuracy: 0.8989 - precision: 0.9007 - recall: 0.8974 - auc: 0.9906 - true_positives: 17949.0000 - true_negatives: 78022.0000 - false_positives: 1978.0000 - false_negatives: 2051.0000 - val_loss: 3.6620 - val_accuracy: 0.9083 - val_precision: 0.9087 - val_recall: 0.9056 - val_auc: 0.9916 - val_true_positives: 4521.0000 - val_true_negatives: 19514.0000 - val_false_positives: 454.0000 - val_false_negatives: 471.0000\n",
            "\n",
            "Epoch 00004: saving model to drive/My Drive/Cancer/Lung and Colon Cancer Histopathological Images/Records/weights.Lung.Colon.Cancer.Hist.5k4.rgb.768p.DataFlow.pad0.noTL.Custom1.wInit.None.TrainableAfter.allDefault.actF.elu.opt.Adam.drop.0.5.batch16.run_1.hdf5\n",
            "\n",
            "val_loss decreased from 3.9322  to 3.662 ( val_accuracy = 0.9082 ).\n",
            "Epoch 5/50\n",
            "1250/1250 [==============================] - 449s 359ms/step - loss: 3.5331 - accuracy: 0.9119 - precision: 0.9134 - recall: 0.9108 - auc: 0.9925 - true_positives: 18216.0000 - true_negatives: 78274.0000 - false_positives: 1726.0000 - false_negatives: 1784.0000 - val_loss: 3.4019 - val_accuracy: 0.9289 - val_precision: 0.9295 - val_recall: 0.9275 - val_auc: 0.9938 - val_true_positives: 4630.0000 - val_true_negatives: 19617.0000 - val_false_positives: 351.0000 - val_false_negatives: 362.0000\n",
            "\n",
            "Epoch 00005: saving model to drive/My Drive/Cancer/Lung and Colon Cancer Histopathological Images/Records/weights.Lung.Colon.Cancer.Hist.5k4.rgb.768p.DataFlow.pad0.noTL.Custom1.wInit.None.TrainableAfter.allDefault.actF.elu.opt.Adam.drop.0.5.batch16.run_1.hdf5\n",
            "\n",
            "val_loss decreased from 3.662  to 3.4019 ( val_accuracy = 0.9288 ).\n",
            "Epoch 6/50\n",
            "1250/1250 [==============================] - 441s 353ms/step - loss: 3.2908 - accuracy: 0.9219 - precision: 0.9234 - recall: 0.9202 - auc: 0.9940 - true_positives: 18405.0000 - true_negatives: 78474.0000 - false_positives: 1526.0000 - false_negatives: 1595.0000 - val_loss: 3.1801 - val_accuracy: 0.9243 - val_precision: 0.9252 - val_recall: 0.9239 - val_auc: 0.9940 - val_true_positives: 4612.0000 - val_true_negatives: 19595.0000 - val_false_positives: 373.0000 - val_false_negatives: 380.0000\n",
            "\n",
            "Epoch 00006: saving model to drive/My Drive/Cancer/Lung and Colon Cancer Histopathological Images/Records/weights.Lung.Colon.Cancer.Hist.5k4.rgb.768p.DataFlow.pad0.noTL.Custom1.wInit.None.TrainableAfter.allDefault.actF.elu.opt.Adam.drop.0.5.batch16.run_1.hdf5\n",
            "\n",
            "val_loss decreased from 3.4019  to 3.1801 ( val_accuracy = 0.9242 ).\n",
            "Epoch 7/50\n",
            "1250/1250 [==============================] - 454s 363ms/step - loss: 3.0643 - accuracy: 0.9329 - precision: 0.9338 - recall: 0.9311 - auc: 0.9951 - true_positives: 18621.0000 - true_negatives: 78680.0000 - false_positives: 1320.0000 - false_negatives: 1379.0000 - val_loss: 2.9548 - val_accuracy: 0.9381 - val_precision: 0.9390 - val_recall: 0.9369 - val_auc: 0.9955 - val_true_positives: 4677.0000 - val_true_negatives: 19664.0000 - val_false_positives: 304.0000 - val_false_negatives: 315.0000\n",
            "\n",
            "Epoch 00007: saving model to drive/My Drive/Cancer/Lung and Colon Cancer Histopathological Images/Records/weights.Lung.Colon.Cancer.Hist.5k4.rgb.768p.DataFlow.pad0.noTL.Custom1.wInit.None.TrainableAfter.allDefault.actF.elu.opt.Adam.drop.0.5.batch16.run_1.hdf5\n",
            "\n",
            "val_loss decreased from 3.1801  to 2.9547 ( val_accuracy = 0.9381 ).\n",
            "Epoch 8/50\n",
            "1250/1250 [==============================] - 447s 358ms/step - loss: 2.8561 - accuracy: 0.9387 - precision: 0.9399 - recall: 0.9378 - auc: 0.9959 - true_positives: 18757.0000 - true_negatives: 78801.0000 - false_positives: 1199.0000 - false_negatives: 1243.0000 - val_loss: 2.7946 - val_accuracy: 0.9271 - val_precision: 0.9281 - val_recall: 0.9257 - val_auc: 0.9945 - val_true_positives: 4621.0000 - val_true_negatives: 19610.0000 - val_false_positives: 358.0000 - val_false_negatives: 371.0000\n",
            "\n",
            "Epoch 00008: saving model to drive/My Drive/Cancer/Lung and Colon Cancer Histopathological Images/Records/weights.Lung.Colon.Cancer.Hist.5k4.rgb.768p.DataFlow.pad0.noTL.Custom1.wInit.None.TrainableAfter.allDefault.actF.elu.opt.Adam.drop.0.5.batch16.run_1.hdf5\n",
            "\n",
            "val_loss decreased from 2.9547  to 2.7945 ( val_accuracy = 0.927 ).\n",
            "Epoch 9/50\n",
            "1250/1250 [==============================] - 454s 363ms/step - loss: 2.6658 - accuracy: 0.9415 - precision: 0.9428 - recall: 0.9405 - auc: 0.9964 - true_positives: 18810.0000 - true_negatives: 78858.0000 - false_positives: 1142.0000 - false_negatives: 1190.0000 - val_loss: 2.6005 - val_accuracy: 0.9347 - val_precision: 0.9357 - val_recall: 0.9335 - val_auc: 0.9956 - val_true_positives: 4660.0000 - val_true_negatives: 19648.0000 - val_false_positives: 320.0000 - val_false_negatives: 332.0000\n",
            "\n",
            "Epoch 00009: saving model to drive/My Drive/Cancer/Lung and Colon Cancer Histopathological Images/Records/weights.Lung.Colon.Cancer.Hist.5k4.rgb.768p.DataFlow.pad0.noTL.Custom1.wInit.None.TrainableAfter.allDefault.actF.elu.opt.Adam.drop.0.5.batch16.run_1.hdf5\n",
            "\n",
            "val_loss decreased from 2.7945  to 2.6004 ( val_accuracy = 0.9346 ).\n",
            "Epoch 10/50\n",
            "1250/1250 [==============================] - 447s 357ms/step - loss: 2.4882 - accuracy: 0.9465 - precision: 0.9475 - recall: 0.9458 - auc: 0.9968 - true_positives: 18916.0000 - true_negatives: 78951.0000 - false_positives: 1049.0000 - false_negatives: 1084.0000 - val_loss: 2.4160 - val_accuracy: 0.9407 - val_precision: 0.9406 - val_recall: 0.9397 - val_auc: 0.9965 - val_true_positives: 4691.0000 - val_true_negatives: 19672.0000 - val_false_positives: 296.0000 - val_false_negatives: 301.0000\n",
            "\n",
            "Epoch 00010: saving model to drive/My Drive/Cancer/Lung and Colon Cancer Histopathological Images/Records/weights.Lung.Colon.Cancer.Hist.5k4.rgb.768p.DataFlow.pad0.noTL.Custom1.wInit.None.TrainableAfter.allDefault.actF.elu.opt.Adam.drop.0.5.batch16.run_1.hdf5\n",
            "\n",
            "val_loss decreased from 2.6004  to 2.416 ( val_accuracy = 0.9407 ).\n",
            "Epoch 11/50\n",
            "1250/1250 [==============================] - 443s 354ms/step - loss: 2.3305 - accuracy: 0.9483 - precision: 0.9491 - recall: 0.9471 - auc: 0.9970 - true_positives: 18942.0000 - true_negatives: 78984.0000 - false_positives: 1016.0000 - false_negatives: 1058.0000 - val_loss: 2.2659 - val_accuracy: 0.9431 - val_precision: 0.9438 - val_recall: 0.9421 - val_auc: 0.9969 - val_true_positives: 4703.0000 - val_true_negatives: 19688.0000 - val_false_positives: 280.0000 - val_false_negatives: 289.0000\n",
            "\n",
            "Epoch 00011: saving model to drive/My Drive/Cancer/Lung and Colon Cancer Histopathological Images/Records/weights.Lung.Colon.Cancer.Hist.5k4.rgb.768p.DataFlow.pad0.noTL.Custom1.wInit.None.TrainableAfter.allDefault.actF.elu.opt.Adam.drop.0.5.batch16.run_1.hdf5\n",
            "\n",
            "val_loss decreased from 2.416  to 2.2658 ( val_accuracy = 0.9431 ).\n",
            "Epoch 12/50\n",
            "1250/1250 [==============================] - 443s 355ms/step - loss: 2.1829 - accuracy: 0.9502 - precision: 0.9510 - recall: 0.9495 - auc: 0.9972 - true_positives: 18991.0000 - true_negatives: 79021.0000 - false_positives: 979.0000 - false_negatives: 1009.0000 - val_loss: 2.1279 - val_accuracy: 0.9443 - val_precision: 0.9452 - val_recall: 0.9437 - val_auc: 0.9969 - val_true_positives: 4711.0000 - val_true_negatives: 19695.0000 - val_false_positives: 273.0000 - val_false_negatives: 281.0000\n",
            "\n",
            "Epoch 00012: saving model to drive/My Drive/Cancer/Lung and Colon Cancer Histopathological Images/Records/weights.Lung.Colon.Cancer.Hist.5k4.rgb.768p.DataFlow.pad0.noTL.Custom1.wInit.None.TrainableAfter.allDefault.actF.elu.opt.Adam.drop.0.5.batch16.run_1.hdf5\n",
            "\n",
            "val_loss decreased from 2.2658  to 2.1279 ( val_accuracy = 0.9443 ).\n",
            "Epoch 13/50\n",
            "1250/1250 [==============================] - 442s 354ms/step - loss: 2.0446 - accuracy: 0.9527 - precision: 0.9535 - recall: 0.9517 - auc: 0.9977 - true_positives: 19035.0000 - true_negatives: 79072.0000 - false_positives: 928.0000 - false_negatives: 965.0000 - val_loss: 1.9888 - val_accuracy: 0.9523 - val_precision: 0.9527 - val_recall: 0.9515 - val_auc: 0.9972 - val_true_positives: 4750.0000 - val_true_negatives: 19732.0000 - val_false_positives: 236.0000 - val_false_negatives: 242.0000\n",
            "\n",
            "Epoch 00013: saving model to drive/My Drive/Cancer/Lung and Colon Cancer Histopathological Images/Records/weights.Lung.Colon.Cancer.Hist.5k4.rgb.768p.DataFlow.pad0.noTL.Custom1.wInit.None.TrainableAfter.allDefault.actF.elu.opt.Adam.drop.0.5.batch16.run_1.hdf5\n",
            "\n",
            "val_loss decreased from 2.1279  to 1.9887 ( val_accuracy = 0.9523 ).\n",
            "Epoch 14/50\n",
            "1250/1250 [==============================] - 443s 354ms/step - loss: 1.9189 - accuracy: 0.9559 - precision: 0.9564 - recall: 0.9549 - auc: 0.9977 - true_positives: 19098.0000 - true_negatives: 79129.0000 - false_positives: 871.0000 - false_negatives: 902.0000 - val_loss: 1.9274 - val_accuracy: 0.9283 - val_precision: 0.9287 - val_recall: 0.9267 - val_auc: 0.9948 - val_true_positives: 4626.0000 - val_true_negatives: 19613.0000 - val_false_positives: 355.0000 - val_false_negatives: 366.0000\n",
            "\n",
            "Epoch 00014: saving model to drive/My Drive/Cancer/Lung and Colon Cancer Histopathological Images/Records/weights.Lung.Colon.Cancer.Hist.5k4.rgb.768p.DataFlow.pad0.noTL.Custom1.wInit.None.TrainableAfter.allDefault.actF.elu.opt.Adam.drop.0.5.batch16.run_1.hdf5\n",
            "\n",
            "val_loss decreased from 1.9887  to 1.9273 ( val_accuracy = 0.9282 ).\n",
            "Epoch 15/50\n",
            "1250/1250 [==============================] - 441s 353ms/step - loss: 1.8006 - accuracy: 0.9571 - precision: 0.9579 - recall: 0.9562 - auc: 0.9979 - true_positives: 19124.0000 - true_negatives: 79159.0000 - false_positives: 841.0000 - false_negatives: 876.0000 - val_loss: 1.7877 - val_accuracy: 0.9389 - val_precision: 0.9396 - val_recall: 0.9381 - val_auc: 0.9965 - val_true_positives: 4683.0000 - val_true_negatives: 19667.0000 - val_false_positives: 301.0000 - val_false_negatives: 309.0000\n",
            "\n",
            "Epoch 00015: saving model to drive/My Drive/Cancer/Lung and Colon Cancer Histopathological Images/Records/weights.Lung.Colon.Cancer.Hist.5k4.rgb.768p.DataFlow.pad0.noTL.Custom1.wInit.None.TrainableAfter.allDefault.actF.elu.opt.Adam.drop.0.5.batch16.run_1.hdf5\n",
            "\n",
            "val_loss decreased from 1.9273  to 1.7876 ( val_accuracy = 0.9389 ).\n",
            "Epoch 16/50\n",
            "1250/1250 [==============================] - 445s 356ms/step - loss: 1.6931 - accuracy: 0.9576 - precision: 0.9582 - recall: 0.9569 - auc: 0.9978 - true_positives: 19138.0000 - true_negatives: 79165.0000 - false_positives: 835.0000 - false_negatives: 862.0000 - val_loss: 1.6690 - val_accuracy: 0.9467 - val_precision: 0.9474 - val_recall: 0.9457 - val_auc: 0.9967 - val_true_positives: 4721.0000 - val_true_negatives: 19706.0000 - val_false_positives: 262.0000 - val_false_negatives: 271.0000\n",
            "\n",
            "Epoch 00016: saving model to drive/My Drive/Cancer/Lung and Colon Cancer Histopathological Images/Records/weights.Lung.Colon.Cancer.Hist.5k4.rgb.768p.DataFlow.pad0.noTL.Custom1.wInit.None.TrainableAfter.allDefault.actF.elu.opt.Adam.drop.0.5.batch16.run_1.hdf5\n",
            "\n",
            "val_loss decreased from 1.7876  to 1.6689 ( val_accuracy = 0.9467 ).\n",
            "Epoch 17/50\n",
            "1250/1250 [==============================] - 445s 356ms/step - loss: 1.5919 - accuracy: 0.9603 - precision: 0.9610 - recall: 0.9596 - auc: 0.9981 - true_positives: 19192.0000 - true_negatives: 79221.0000 - false_positives: 779.0000 - false_negatives: 808.0000 - val_loss: 1.5684 - val_accuracy: 0.9501 - val_precision: 0.9509 - val_recall: 0.9495 - val_auc: 0.9975 - val_true_positives: 4740.0000 - val_true_negatives: 19723.0000 - val_false_positives: 245.0000 - val_false_negatives: 252.0000\n",
            "\n",
            "Epoch 00017: saving model to drive/My Drive/Cancer/Lung and Colon Cancer Histopathological Images/Records/weights.Lung.Colon.Cancer.Hist.5k4.rgb.768p.DataFlow.pad0.noTL.Custom1.wInit.None.TrainableAfter.allDefault.actF.elu.opt.Adam.drop.0.5.batch16.run_1.hdf5\n",
            "\n",
            "val_loss decreased from 1.6689  to 1.5684 ( val_accuracy = 0.9501 ).\n",
            "Epoch 18/50\n",
            "1250/1250 [==============================] - 448s 358ms/step - loss: 1.4995 - accuracy: 0.9606 - precision: 0.9611 - recall: 0.9600 - auc: 0.9982 - true_positives: 19200.0000 - true_negatives: 79223.0000 - false_positives: 777.0000 - false_negatives: 800.0000 - val_loss: 1.4723 - val_accuracy: 0.9535 - val_precision: 0.9539 - val_recall: 0.9533 - val_auc: 0.9978 - val_true_positives: 4759.0000 - val_true_negatives: 19738.0000 - val_false_positives: 230.0000 - val_false_negatives: 233.0000\n",
            "\n",
            "Epoch 00018: saving model to drive/My Drive/Cancer/Lung and Colon Cancer Histopathological Images/Records/weights.Lung.Colon.Cancer.Hist.5k4.rgb.768p.DataFlow.pad0.noTL.Custom1.wInit.None.TrainableAfter.allDefault.actF.elu.opt.Adam.drop.0.5.batch16.run_1.hdf5\n",
            "\n",
            "val_loss decreased from 1.5684  to 1.4723 ( val_accuracy = 0.9535 ).\n",
            "Epoch 19/50\n",
            "1250/1250 [==============================] - 449s 359ms/step - loss: 1.4099 - accuracy: 0.9635 - precision: 0.9639 - recall: 0.9628 - auc: 0.9984 - true_positives: 19256.0000 - true_negatives: 79279.0000 - false_positives: 721.0000 - false_negatives: 744.0000 - val_loss: 1.3820 - val_accuracy: 0.9581 - val_precision: 0.9585 - val_recall: 0.9571 - val_auc: 0.9982 - val_true_positives: 4778.0000 - val_true_negatives: 19761.0000 - val_false_positives: 207.0000 - val_false_negatives: 214.0000\n",
            "\n",
            "Epoch 00019: saving model to drive/My Drive/Cancer/Lung and Colon Cancer Histopathological Images/Records/weights.Lung.Colon.Cancer.Hist.5k4.rgb.768p.DataFlow.pad0.noTL.Custom1.wInit.None.TrainableAfter.allDefault.actF.elu.opt.Adam.drop.0.5.batch16.run_1.hdf5\n",
            "\n",
            "val_loss decreased from 1.4723  to 1.3819 ( val_accuracy = 0.9581 ).\n",
            "Epoch 20/50\n",
            "1250/1250 [==============================] - 453s 363ms/step - loss: 1.3263 - accuracy: 0.9651 - precision: 0.9658 - recall: 0.9646 - auc: 0.9986 - true_positives: 19291.0000 - true_negatives: 79317.0000 - false_positives: 683.0000 - false_negatives: 709.0000 - val_loss: 1.4215 - val_accuracy: 0.9117 - val_precision: 0.9142 - val_recall: 0.9097 - val_auc: 0.9913 - val_true_positives: 4541.0000 - val_true_negatives: 19542.0000 - val_false_positives: 426.0000 - val_false_negatives: 451.0000\n",
            "\n",
            "Epoch 00020: saving model to drive/My Drive/Cancer/Lung and Colon Cancer Histopathological Images/Records/weights.Lung.Colon.Cancer.Hist.5k4.rgb.768p.DataFlow.pad0.noTL.Custom1.wInit.None.TrainableAfter.allDefault.actF.elu.opt.Adam.drop.0.5.batch16.run_1.hdf5\n",
            ". count_no_improvement = 1\n",
            "Epoch 21/50\n",
            "1250/1250 [==============================] - 511s 409ms/step - loss: 1.2508 - accuracy: 0.9649 - precision: 0.9655 - recall: 0.9642 - auc: 0.9987 - true_positives: 19284.0000 - true_negatives: 79311.0000 - false_positives: 689.0000 - false_negatives: 716.0000 - val_loss: 1.2526 - val_accuracy: 0.9525 - val_precision: 0.9527 - val_recall: 0.9521 - val_auc: 0.9968 - val_true_positives: 4753.0000 - val_true_negatives: 19732.0000 - val_false_positives: 236.0000 - val_false_negatives: 239.0000\n",
            "\n",
            "Epoch 00021: saving model to drive/My Drive/Cancer/Lung and Colon Cancer Histopathological Images/Records/weights.Lung.Colon.Cancer.Hist.5k4.rgb.768p.DataFlow.pad0.noTL.Custom1.wInit.None.TrainableAfter.allDefault.actF.elu.opt.Adam.drop.0.5.batch16.run_1.hdf5\n",
            "\n",
            "val_loss decreased from 1.3819  to 1.2525 ( val_accuracy = 0.9525 ).\n",
            "Epoch 22/50\n",
            "1250/1250 [==============================] - 450s 360ms/step - loss: 1.1825 - accuracy: 0.9650 - precision: 0.9656 - recall: 0.9644 - auc: 0.9987 - true_positives: 19288.0000 - true_negatives: 79312.0000 - false_positives: 688.0000 - false_negatives: 712.0000 - val_loss: 1.1636 - val_accuracy: 0.9601 - val_precision: 0.9609 - val_recall: 0.9589 - val_auc: 0.9983 - val_true_positives: 4787.0000 - val_true_negatives: 19773.0000 - val_false_positives: 195.0000 - val_false_negatives: 205.0000\n",
            "\n",
            "Epoch 00022: saving model to drive/My Drive/Cancer/Lung and Colon Cancer Histopathological Images/Records/weights.Lung.Colon.Cancer.Hist.5k4.rgb.768p.DataFlow.pad0.noTL.Custom1.wInit.None.TrainableAfter.allDefault.actF.elu.opt.Adam.drop.0.5.batch16.run_1.hdf5\n",
            "\n",
            "val_loss decreased from 1.2525  to 1.1636 ( val_accuracy = 0.9601 ).\n",
            "Epoch 23/50\n",
            "1250/1250 [==============================] - 451s 361ms/step - loss: 1.1159 - accuracy: 0.9692 - precision: 0.9696 - recall: 0.9686 - auc: 0.9986 - true_positives: 19372.0000 - true_negatives: 79392.0000 - false_positives: 608.0000 - false_negatives: 628.0000 - val_loss: 1.1233 - val_accuracy: 0.9519 - val_precision: 0.9527 - val_recall: 0.9517 - val_auc: 0.9973 - val_true_positives: 4751.0000 - val_true_negatives: 19732.0000 - val_false_positives: 236.0000 - val_false_negatives: 241.0000\n",
            "\n",
            "Epoch 00023: saving model to drive/My Drive/Cancer/Lung and Colon Cancer Histopathological Images/Records/weights.Lung.Colon.Cancer.Hist.5k4.rgb.768p.DataFlow.pad0.noTL.Custom1.wInit.None.TrainableAfter.allDefault.actF.elu.opt.Adam.drop.0.5.batch16.run_1.hdf5\n",
            "\n",
            "val_loss decreased from 1.1636  to 1.1232 ( val_accuracy = 0.9519 ).\n",
            "Epoch 24/50\n",
            "1250/1250 [==============================] - 449s 359ms/step - loss: 1.0514 - accuracy: 0.9707 - precision: 0.9712 - recall: 0.9702 - auc: 0.9989 - true_positives: 19404.0000 - true_negatives: 79424.0000 - false_positives: 576.0000 - false_negatives: 596.0000 - val_loss: 1.0482 - val_accuracy: 0.9589 - val_precision: 0.9591 - val_recall: 0.9587 - val_auc: 0.9983 - val_true_positives: 4786.0000 - val_true_negatives: 19764.0000 - val_false_positives: 204.0000 - val_false_negatives: 206.0000\n",
            "\n",
            "Epoch 00024: saving model to drive/My Drive/Cancer/Lung and Colon Cancer Histopathological Images/Records/weights.Lung.Colon.Cancer.Hist.5k4.rgb.768p.DataFlow.pad0.noTL.Custom1.wInit.None.TrainableAfter.allDefault.actF.elu.opt.Adam.drop.0.5.batch16.run_1.hdf5\n",
            "\n",
            "val_loss decreased from 1.1232  to 1.0481 ( val_accuracy = 0.9589 ).\n",
            "Epoch 25/50\n",
            "1250/1250 [==============================] - 448s 358ms/step - loss: 0.9927 - accuracy: 0.9718 - precision: 0.9722 - recall: 0.9716 - auc: 0.9991 - true_positives: 19432.0000 - true_negatives: 79445.0000 - false_positives: 555.0000 - false_negatives: 568.0000 - val_loss: 0.9906 - val_accuracy: 0.9585 - val_precision: 0.9587 - val_recall: 0.9579 - val_auc: 0.9982 - val_true_positives: 4782.0000 - val_true_negatives: 19762.0000 - val_false_positives: 206.0000 - val_false_negatives: 210.0000\n",
            "\n",
            "Epoch 00025: saving model to drive/My Drive/Cancer/Lung and Colon Cancer Histopathological Images/Records/weights.Lung.Colon.Cancer.Hist.5k4.rgb.768p.DataFlow.pad0.noTL.Custom1.wInit.None.TrainableAfter.allDefault.actF.elu.opt.Adam.drop.0.5.batch16.run_1.hdf5\n",
            "\n",
            "val_loss decreased from 1.0481  to 0.9905 ( val_accuracy = 0.9585 ).\n",
            "Epoch 26/50\n",
            "1250/1250 [==============================] - 451s 360ms/step - loss: 0.9393 - accuracy: 0.9726 - precision: 0.9729 - recall: 0.9722 - auc: 0.9990 - true_positives: 19444.0000 - true_negatives: 79458.0000 - false_positives: 542.0000 - false_negatives: 556.0000 - val_loss: 0.9520 - val_accuracy: 0.9563 - val_precision: 0.9563 - val_recall: 0.9557 - val_auc: 0.9978 - val_true_positives: 4771.0000 - val_true_negatives: 19750.0000 - val_false_positives: 218.0000 - val_false_negatives: 221.0000\n",
            "\n",
            "Epoch 00026: saving model to drive/My Drive/Cancer/Lung and Colon Cancer Histopathological Images/Records/weights.Lung.Colon.Cancer.Hist.5k4.rgb.768p.DataFlow.pad0.noTL.Custom1.wInit.None.TrainableAfter.allDefault.actF.elu.opt.Adam.drop.0.5.batch16.run_1.hdf5\n",
            "\n",
            "val_loss decreased from 0.9905  to 0.952 ( val_accuracy = 0.9563 ).\n",
            "Epoch 27/50\n",
            "1250/1250 [==============================] - 451s 361ms/step - loss: 0.8844 - accuracy: 0.9748 - precision: 0.9750 - recall: 0.9743 - auc: 0.9993 - true_positives: 19487.0000 - true_negatives: 79500.0000 - false_positives: 500.0000 - false_negatives: 513.0000 - val_loss: 0.9024 - val_accuracy: 0.9615 - val_precision: 0.9625 - val_recall: 0.9615 - val_auc: 0.9977 - val_true_positives: 4800.0000 - val_true_negatives: 19781.0000 - val_false_positives: 187.0000 - val_false_negatives: 192.0000\n",
            "\n",
            "Epoch 00027: saving model to drive/My Drive/Cancer/Lung and Colon Cancer Histopathological Images/Records/weights.Lung.Colon.Cancer.Hist.5k4.rgb.768p.DataFlow.pad0.noTL.Custom1.wInit.None.TrainableAfter.allDefault.actF.elu.opt.Adam.drop.0.5.batch16.run_1.hdf5\n",
            "\n",
            "val_loss decreased from 0.952  to 0.9023 ( val_accuracy = 0.9615 ).\n",
            "Epoch 28/50\n",
            "1250/1250 [==============================] - 450s 360ms/step - loss: 0.8381 - accuracy: 0.9764 - precision: 0.9769 - recall: 0.9761 - auc: 0.9993 - true_positives: 19523.0000 - true_negatives: 79538.0000 - false_positives: 462.0000 - false_negatives: 477.0000 - val_loss: 0.8405 - val_accuracy: 0.9645 - val_precision: 0.9645 - val_recall: 0.9645 - val_auc: 0.9987 - val_true_positives: 4815.0000 - val_true_negatives: 19791.0000 - val_false_positives: 177.0000 - val_false_negatives: 177.0000\n",
            "\n",
            "Epoch 00028: saving model to drive/My Drive/Cancer/Lung and Colon Cancer Histopathological Images/Records/weights.Lung.Colon.Cancer.Hist.5k4.rgb.768p.DataFlow.pad0.noTL.Custom1.wInit.None.TrainableAfter.allDefault.actF.elu.opt.Adam.drop.0.5.batch16.run_1.hdf5\n",
            "\n",
            "val_loss decreased from 0.9023  to 0.8405 ( val_accuracy = 0.9645 ).\n",
            "Epoch 29/50\n",
            "1250/1250 [==============================] - 445s 356ms/step - loss: 0.7955 - accuracy: 0.9771 - precision: 0.9772 - recall: 0.9768 - auc: 0.9994 - true_positives: 19535.0000 - true_negatives: 79545.0000 - false_positives: 455.0000 - false_negatives: 465.0000 - val_loss: 0.8055 - val_accuracy: 0.9613 - val_precision: 0.9615 - val_recall: 0.9609 - val_auc: 0.9984 - val_true_positives: 4797.0000 - val_true_negatives: 19776.0000 - val_false_positives: 192.0000 - val_false_negatives: 195.0000\n",
            "\n",
            "Epoch 00029: saving model to drive/My Drive/Cancer/Lung and Colon Cancer Histopathological Images/Records/weights.Lung.Colon.Cancer.Hist.5k4.rgb.768p.DataFlow.pad0.noTL.Custom1.wInit.None.TrainableAfter.allDefault.actF.elu.opt.Adam.drop.0.5.batch16.run_1.hdf5\n",
            "\n",
            "val_loss decreased from 0.8405  to 0.8054 ( val_accuracy = 0.9613 ).\n",
            "Epoch 30/50\n",
            "1250/1250 [==============================] - 446s 357ms/step - loss: 0.7542 - accuracy: 0.9780 - precision: 0.9783 - recall: 0.9775 - auc: 0.9994 - true_positives: 19550.0000 - true_negatives: 79566.0000 - false_positives: 434.0000 - false_negatives: 450.0000 - val_loss: 0.7809 - val_accuracy: 0.9595 - val_precision: 0.9595 - val_recall: 0.9595 - val_auc: 0.9979 - val_true_positives: 4790.0000 - val_true_negatives: 19766.0000 - val_false_positives: 202.0000 - val_false_negatives: 202.0000\n",
            "\n",
            "Epoch 00030: saving model to drive/My Drive/Cancer/Lung and Colon Cancer Histopathological Images/Records/weights.Lung.Colon.Cancer.Hist.5k4.rgb.768p.DataFlow.pad0.noTL.Custom1.wInit.None.TrainableAfter.allDefault.actF.elu.opt.Adam.drop.0.5.batch16.run_1.hdf5\n",
            "\n",
            "val_loss decreased from 0.8054  to 0.7808 ( val_accuracy = 0.9595 ).\n",
            "Epoch 31/50\n",
            "1250/1250 [==============================] - 446s 356ms/step - loss: 0.7138 - accuracy: 0.9798 - precision: 0.9799 - recall: 0.9795 - auc: 0.9994 - true_positives: 19590.0000 - true_negatives: 79599.0000 - false_positives: 401.0000 - false_negatives: 410.0000 - val_loss: 0.7489 - val_accuracy: 0.9599 - val_precision: 0.9599 - val_recall: 0.9597 - val_auc: 0.9974 - val_true_positives: 4791.0000 - val_true_negatives: 19768.0000 - val_false_positives: 200.0000 - val_false_negatives: 201.0000\n",
            "\n",
            "Epoch 00031: saving model to drive/My Drive/Cancer/Lung and Colon Cancer Histopathological Images/Records/weights.Lung.Colon.Cancer.Hist.5k4.rgb.768p.DataFlow.pad0.noTL.Custom1.wInit.None.TrainableAfter.allDefault.actF.elu.opt.Adam.drop.0.5.batch16.run_1.hdf5\n",
            "\n",
            "val_loss decreased from 0.7808  to 0.7488 ( val_accuracy = 0.9599 ).\n",
            "Epoch 32/50\n",
            "1250/1250 [==============================] - 446s 357ms/step - loss: 0.6770 - accuracy: 0.9818 - precision: 0.9821 - recall: 0.9814 - auc: 0.9995 - true_positives: 19628.0000 - true_negatives: 79642.0000 - false_positives: 358.0000 - false_negatives: 372.0000 - val_loss: 0.7102 - val_accuracy: 0.9637 - val_precision: 0.9649 - val_recall: 0.9631 - val_auc: 0.9972 - val_true_positives: 4808.0000 - val_true_negatives: 19793.0000 - val_false_positives: 175.0000 - val_false_negatives: 184.0000\n",
            "\n",
            "Epoch 00032: saving model to drive/My Drive/Cancer/Lung and Colon Cancer Histopathological Images/Records/weights.Lung.Colon.Cancer.Hist.5k4.rgb.768p.DataFlow.pad0.noTL.Custom1.wInit.None.TrainableAfter.allDefault.actF.elu.opt.Adam.drop.0.5.batch16.run_1.hdf5\n",
            "\n",
            "val_loss decreased from 0.7488  to 0.7101 ( val_accuracy = 0.9637 ).\n",
            "Epoch 33/50\n",
            "1250/1250 [==============================] - 451s 361ms/step - loss: 0.6428 - accuracy: 0.9826 - precision: 0.9829 - recall: 0.9822 - auc: 0.9995 - true_positives: 19643.0000 - true_negatives: 79658.0000 - false_positives: 342.0000 - false_negatives: 357.0000 - val_loss: 0.6641 - val_accuracy: 0.9696 - val_precision: 0.9701 - val_recall: 0.9694 - val_auc: 0.9980 - val_true_positives: 4839.0000 - val_true_negatives: 19819.0000 - val_false_positives: 149.0000 - val_false_negatives: 153.0000\n",
            "\n",
            "Epoch 00033: saving model to drive/My Drive/Cancer/Lung and Colon Cancer Histopathological Images/Records/weights.Lung.Colon.Cancer.Hist.5k4.rgb.768p.DataFlow.pad0.noTL.Custom1.wInit.None.TrainableAfter.allDefault.actF.elu.opt.Adam.drop.0.5.batch16.run_1.hdf5\n",
            "\n",
            "val_loss decreased from 0.7101  to 0.6641 ( val_accuracy = 0.9695 ).\n",
            "Epoch 34/50\n",
            "1250/1250 [==============================] - 460s 368ms/step - loss: 0.6089 - accuracy: 0.9841 - precision: 0.9843 - recall: 0.9840 - auc: 0.9996 - true_positives: 19679.0000 - true_negatives: 79687.0000 - false_positives: 313.0000 - false_negatives: 321.0000 - val_loss: 0.6324 - val_accuracy: 0.9704 - val_precision: 0.9705 - val_recall: 0.9696 - val_auc: 0.9984 - val_true_positives: 4840.0000 - val_true_negatives: 19821.0000 - val_false_positives: 147.0000 - val_false_negatives: 152.0000\n",
            "\n",
            "Epoch 00034: saving model to drive/My Drive/Cancer/Lung and Colon Cancer Histopathological Images/Records/weights.Lung.Colon.Cancer.Hist.5k4.rgb.768p.DataFlow.pad0.noTL.Custom1.wInit.None.TrainableAfter.allDefault.actF.elu.opt.Adam.drop.0.5.batch16.run_1.hdf5\n",
            "\n",
            "val_loss decreased from 0.6641  to 0.6323 ( val_accuracy = 0.9703 ).\n",
            "Epoch 35/50\n",
            "1250/1250 [==============================] - 461s 369ms/step - loss: 0.5825 - accuracy: 0.9836 - precision: 0.9838 - recall: 0.9834 - auc: 0.9996 - true_positives: 19669.0000 - true_negatives: 79677.0000 - false_positives: 323.0000 - false_negatives: 331.0000 - val_loss: 0.6102 - val_accuracy: 0.9690 - val_precision: 0.9691 - val_recall: 0.9688 - val_auc: 0.9982 - val_true_positives: 4836.0000 - val_true_negatives: 19814.0000 - val_false_positives: 154.0000 - val_false_negatives: 156.0000\n",
            "\n",
            "Epoch 00035: saving model to drive/My Drive/Cancer/Lung and Colon Cancer Histopathological Images/Records/weights.Lung.Colon.Cancer.Hist.5k4.rgb.768p.DataFlow.pad0.noTL.Custom1.wInit.None.TrainableAfter.allDefault.actF.elu.opt.Adam.drop.0.5.batch16.run_1.hdf5\n",
            "\n",
            "val_loss decreased from 0.6323  to 0.6102 ( val_accuracy = 0.9689 ).\n",
            "Epoch 36/50\n",
            "1250/1250 [==============================] - 519s 415ms/step - loss: 0.5511 - accuracy: 0.9877 - precision: 0.9878 - recall: 0.9875 - auc: 0.9997 - true_positives: 19749.0000 - true_negatives: 79756.0000 - false_positives: 244.0000 - false_negatives: 251.0000 - val_loss: 0.5806 - val_accuracy: 0.9732 - val_precision: 0.9731 - val_recall: 0.9728 - val_auc: 0.9982 - val_true_positives: 4856.0000 - val_true_negatives: 19834.0000 - val_false_positives: 134.0000 - val_false_negatives: 136.0000\n",
            "\n",
            "Epoch 00036: saving model to drive/My Drive/Cancer/Lung and Colon Cancer Histopathological Images/Records/weights.Lung.Colon.Cancer.Hist.5k4.rgb.768p.DataFlow.pad0.noTL.Custom1.wInit.None.TrainableAfter.allDefault.actF.elu.opt.Adam.drop.0.5.batch16.run_1.hdf5\n",
            "\n",
            "val_loss decreased from 0.6102  to 0.5806 ( val_accuracy = 0.9731 ).\n",
            "Epoch 37/50\n",
            "1250/1250 [==============================] - 523s 419ms/step - loss: 0.5293 - accuracy: 0.9862 - precision: 0.9863 - recall: 0.9858 - auc: 0.9997 - true_positives: 19717.0000 - true_negatives: 79727.0000 - false_positives: 273.0000 - false_negatives: 283.0000 - val_loss: 0.5964 - val_accuracy: 0.9633 - val_precision: 0.9639 - val_recall: 0.9631 - val_auc: 0.9963 - val_true_positives: 4808.0000 - val_true_negatives: 19788.0000 - val_false_positives: 180.0000 - val_false_negatives: 184.0000\n",
            "\n",
            "Epoch 00037: saving model to drive/My Drive/Cancer/Lung and Colon Cancer Histopathological Images/Records/weights.Lung.Colon.Cancer.Hist.5k4.rgb.768p.DataFlow.pad0.noTL.Custom1.wInit.None.TrainableAfter.allDefault.actF.elu.opt.Adam.drop.0.5.batch16.run_1.hdf5\n",
            ". count_no_improvement = 1\n",
            "Epoch 38/50\n",
            "1250/1250 [==============================] - 519s 415ms/step - loss: 0.4987 - accuracy: 0.9900 - precision: 0.9901 - recall: 0.9898 - auc: 0.9998 - true_positives: 19795.0000 - true_negatives: 79802.0000 - false_positives: 198.0000 - false_negatives: 205.0000 - val_loss: 0.5427 - val_accuracy: 0.9716 - val_precision: 0.9715 - val_recall: 0.9712 - val_auc: 0.9980 - val_true_positives: 4848.0000 - val_true_negatives: 19826.0000 - val_false_positives: 142.0000 - val_false_negatives: 144.0000\n",
            "\n",
            "Epoch 00038: saving model to drive/My Drive/Cancer/Lung and Colon Cancer Histopathological Images/Records/weights.Lung.Colon.Cancer.Hist.5k4.rgb.768p.DataFlow.pad0.noTL.Custom1.wInit.None.TrainableAfter.allDefault.actF.elu.opt.Adam.drop.0.5.batch16.run_1.hdf5\n",
            "\n",
            "val_loss decreased from 0.5806  to 0.5426 ( val_accuracy = 0.9715 ).\n",
            "Epoch 39/50\n",
            "1250/1250 [==============================] - 457s 365ms/step - loss: 0.4757 - accuracy: 0.9911 - precision: 0.9912 - recall: 0.9909 - auc: 0.9999 - true_positives: 19818.0000 - true_negatives: 79824.0000 - false_positives: 176.0000 - false_negatives: 182.0000 - val_loss: 0.5257 - val_accuracy: 0.9706 - val_precision: 0.9707 - val_recall: 0.9706 - val_auc: 0.9969 - val_true_positives: 4845.0000 - val_true_negatives: 19822.0000 - val_false_positives: 146.0000 - val_false_negatives: 147.0000\n",
            "\n",
            "Epoch 00039: saving model to drive/My Drive/Cancer/Lung and Colon Cancer Histopathological Images/Records/weights.Lung.Colon.Cancer.Hist.5k4.rgb.768p.DataFlow.pad0.noTL.Custom1.wInit.None.TrainableAfter.allDefault.actF.elu.opt.Adam.drop.0.5.batch16.run_1.hdf5\n",
            "\n",
            "val_loss decreased from 0.5426  to 0.5256 ( val_accuracy = 0.9705 ).\n",
            "Epoch 40/50\n",
            "1250/1250 [==============================] - 459s 367ms/step - loss: 0.4579 - accuracy: 0.9901 - precision: 0.9902 - recall: 0.9898 - auc: 0.9998 - true_positives: 19795.0000 - true_negatives: 79804.0000 - false_positives: 196.0000 - false_negatives: 205.0000 - val_loss: 0.5060 - val_accuracy: 0.9677 - val_precision: 0.9679 - val_recall: 0.9677 - val_auc: 0.9976 - val_true_positives: 4831.0000 - val_true_negatives: 19808.0000 - val_false_positives: 160.0000 - val_false_negatives: 161.0000\n",
            "\n",
            "Epoch 00040: saving model to drive/My Drive/Cancer/Lung and Colon Cancer Histopathological Images/Records/weights.Lung.Colon.Cancer.Hist.5k4.rgb.768p.DataFlow.pad0.noTL.Custom1.wInit.None.TrainableAfter.allDefault.actF.elu.opt.Adam.drop.0.5.batch16.run_1.hdf5\n",
            "\n",
            "val_loss decreased from 0.5256  to 0.506 ( val_accuracy = 0.9677 ).\n",
            "Epoch 41/50\n",
            "1250/1250 [==============================] - 525s 420ms/step - loss: 0.4348 - accuracy: 0.9919 - precision: 0.9919 - recall: 0.9918 - auc: 0.9998 - true_positives: 19835.0000 - true_negatives: 79839.0000 - false_positives: 161.0000 - false_negatives: 165.0000 - val_loss: 0.5081 - val_accuracy: 0.9631 - val_precision: 0.9633 - val_recall: 0.9629 - val_auc: 0.9969 - val_true_positives: 4807.0000 - val_true_negatives: 19785.0000 - val_false_positives: 183.0000 - val_false_negatives: 185.0000\n",
            "\n",
            "Epoch 00041: saving model to drive/My Drive/Cancer/Lung and Colon Cancer Histopathological Images/Records/weights.Lung.Colon.Cancer.Hist.5k4.rgb.768p.DataFlow.pad0.noTL.Custom1.wInit.None.TrainableAfter.allDefault.actF.elu.opt.Adam.drop.0.5.batch16.run_1.hdf5\n",
            ". count_no_improvement = 1\n",
            "Epoch 42/50\n",
            "1250/1250 [==============================] - 462s 369ms/step - loss: 0.4119 - accuracy: 0.9940 - precision: 0.9940 - recall: 0.9939 - auc: 1.0000 - true_positives: 19878.0000 - true_negatives: 79881.0000 - false_positives: 119.0000 - false_negatives: 122.0000 - val_loss: 0.4977 - val_accuracy: 0.9645 - val_precision: 0.9645 - val_recall: 0.9645 - val_auc: 0.9964 - val_true_positives: 4815.0000 - val_true_negatives: 19791.0000 - val_false_positives: 177.0000 - val_false_negatives: 177.0000\n",
            "\n",
            "Epoch 00042: saving model to drive/My Drive/Cancer/Lung and Colon Cancer Histopathological Images/Records/weights.Lung.Colon.Cancer.Hist.5k4.rgb.768p.DataFlow.pad0.noTL.Custom1.wInit.None.TrainableAfter.allDefault.actF.elu.opt.Adam.drop.0.5.batch16.run_1.hdf5\n",
            "\n",
            "val_loss decreased from 0.506  to 0.4977 ( val_accuracy = 0.9645 ).\n",
            "Epoch 43/50\n",
            "1250/1250 [==============================] - 453s 362ms/step - loss: 0.3947 - accuracy: 0.9936 - precision: 0.9936 - recall: 0.9934 - auc: 0.9999 - true_positives: 19868.0000 - true_negatives: 79873.0000 - false_positives: 127.0000 - false_negatives: 132.0000 - val_loss: 0.4502 - val_accuracy: 0.9734 - val_precision: 0.9735 - val_recall: 0.9732 - val_auc: 0.9977 - val_true_positives: 4858.0000 - val_true_negatives: 19836.0000 - val_false_positives: 132.0000 - val_false_negatives: 134.0000\n",
            "\n",
            "Epoch 00043: saving model to drive/My Drive/Cancer/Lung and Colon Cancer Histopathological Images/Records/weights.Lung.Colon.Cancer.Hist.5k4.rgb.768p.DataFlow.pad0.noTL.Custom1.wInit.None.TrainableAfter.allDefault.actF.elu.opt.Adam.drop.0.5.batch16.run_1.hdf5\n",
            "\n",
            "val_loss decreased from 0.4977  to 0.4502 ( val_accuracy = 0.9733 ).\n",
            "Epoch 44/50\n",
            "1250/1250 [==============================] - 460s 368ms/step - loss: 0.3742 - accuracy: 0.9951 - precision: 0.9951 - recall: 0.9950 - auc: 0.9999 - true_positives: 19900.0000 - true_negatives: 79903.0000 - false_positives: 97.0000 - false_negatives: 100.0000 - val_loss: 0.4375 - val_accuracy: 0.9692 - val_precision: 0.9695 - val_recall: 0.9692 - val_auc: 0.9975 - val_true_positives: 4838.0000 - val_true_negatives: 19816.0000 - val_false_positives: 152.0000 - val_false_negatives: 154.0000\n",
            "\n",
            "Epoch 00044: saving model to drive/My Drive/Cancer/Lung and Colon Cancer Histopathological Images/Records/weights.Lung.Colon.Cancer.Hist.5k4.rgb.768p.DataFlow.pad0.noTL.Custom1.wInit.None.TrainableAfter.allDefault.actF.elu.opt.Adam.drop.0.5.batch16.run_1.hdf5\n",
            "\n",
            "val_loss decreased from 0.4502  to 0.4375 ( val_accuracy = 0.9691 ).\n",
            "Epoch 45/50\n",
            "1250/1250 [==============================] - 516s 413ms/step - loss: 0.3621 - accuracy: 0.9940 - precision: 0.9941 - recall: 0.9938 - auc: 0.9998 - true_positives: 19877.0000 - true_negatives: 79882.0000 - false_positives: 118.0000 - false_negatives: 123.0000 - val_loss: 0.4216 - val_accuracy: 0.9722 - val_precision: 0.9722 - val_recall: 0.9722 - val_auc: 0.9974 - val_true_positives: 4853.0000 - val_true_negatives: 19829.0000 - val_false_positives: 139.0000 - val_false_negatives: 139.0000\n",
            "\n",
            "Epoch 00045: saving model to drive/My Drive/Cancer/Lung and Colon Cancer Histopathological Images/Records/weights.Lung.Colon.Cancer.Hist.5k4.rgb.768p.DataFlow.pad0.noTL.Custom1.wInit.None.TrainableAfter.allDefault.actF.elu.opt.Adam.drop.0.5.batch16.run_1.hdf5\n",
            "\n",
            "val_loss decreased from 0.4375  to 0.4216 ( val_accuracy = 0.9721 ).\n",
            "Epoch 46/50\n",
            "1250/1250 [==============================] - 518s 414ms/step - loss: 0.3407 - accuracy: 0.9965 - precision: 0.9965 - recall: 0.9964 - auc: 1.0000 - true_positives: 19928.0000 - true_negatives: 79930.0000 - false_positives: 70.0000 - false_negatives: 72.0000 - val_loss: 0.4128 - val_accuracy: 0.9708 - val_precision: 0.9707 - val_recall: 0.9704 - val_auc: 0.9970 - val_true_positives: 4844.0000 - val_true_negatives: 19822.0000 - val_false_positives: 146.0000 - val_false_negatives: 148.0000\n",
            "\n",
            "Epoch 00046: saving model to drive/My Drive/Cancer/Lung and Colon Cancer Histopathological Images/Records/weights.Lung.Colon.Cancer.Hist.5k4.rgb.768p.DataFlow.pad0.noTL.Custom1.wInit.None.TrainableAfter.allDefault.actF.elu.opt.Adam.drop.0.5.batch16.run_1.hdf5\n",
            "\n",
            "val_loss decreased from 0.4216  to 0.4128 ( val_accuracy = 0.9707 ).\n",
            "Epoch 47/50\n",
            "1250/1250 [==============================] - 468s 374ms/step - loss: 0.3249 - accuracy: 0.9971 - precision: 0.9971 - recall: 0.9970 - auc: 1.0000 - true_positives: 19941.0000 - true_negatives: 79943.0000 - false_positives: 57.0000 - false_negatives: 59.0000 - val_loss: 0.3975 - val_accuracy: 0.9718 - val_precision: 0.9721 - val_recall: 0.9716 - val_auc: 0.9963 - val_true_positives: 4850.0000 - val_true_negatives: 19829.0000 - val_false_positives: 139.0000 - val_false_negatives: 142.0000\n",
            "\n",
            "Epoch 00047: saving model to drive/My Drive/Cancer/Lung and Colon Cancer Histopathological Images/Records/weights.Lung.Colon.Cancer.Hist.5k4.rgb.768p.DataFlow.pad0.noTL.Custom1.wInit.None.TrainableAfter.allDefault.actF.elu.opt.Adam.drop.0.5.batch16.run_1.hdf5\n",
            "\n",
            "val_loss decreased from 0.4128  to 0.3974 ( val_accuracy = 0.9717 ).\n",
            "Epoch 48/50\n",
            "  87/1250 [=>............................] - ETA: 6:09 - loss: 0.3124 - accuracy: 0.9978 - precision: 0.9978 - recall: 0.9978 - auc: 1.0000 - true_positives: 1389.0000 - true_negatives: 5565.0000 - false_positives: 3.0000 - false_negatives: 3.0000"
          ],
          "name": "stdout"
        }
      ]
    },
    {
      "cell_type": "code",
      "metadata": {
        "id": "UJsgsZFzQCs2"
      },
      "source": [
        "# weights.Lung.Colon.Cancer.Hist.5k4.rgb.768p.DataFlow.pad0.noTL.Custom1.wInit.None.TrainableAfter.allDefault.actF.elu.opt.Adam.drop.0.5.batch16.run_1.hdf5\n"
      ],
      "execution_count": null,
      "outputs": []
    },
    {
      "cell_type": "code",
      "metadata": {
        "id": "l_xKnoFvFQ4F"
      },
      "source": [
        "'''\n",
        "Record: Lung_Colon_Cancer_Hist_5_folds_k4_impl_1_768p_RGB_Custom_noTL_DataFrame: \n",
        "(Accuracy: 96.33%, Precision: 96.39%, Recall: 96.37%, F-Measure: 96.38%):\n",
        "---\n",
        "\n",
        "#'''\n",
        "'''\n",
        "csv_logger = CSVLogger(work_dir+log_name, separator=',', append=True)\n",
        "log_data = pd.read_csv(work_dir+log_name, sep=',', usecols=['epoch'], engine='python')\n",
        "epochs_completed = log_data.shape[0]\n",
        "\n",
        "result = model.evaluate(test_generator, steps=total_test_data // BATCH_SIZE)\n",
        "print(\"Test Acc: {}, Precision: {}, Recall: {}, Test Loss: {}: ep{}, {}\\n\".format(round(result[1],4), round(result[2],4), round(result[3],4), round(result[0],4), epochs_completed, checkpointer_name))\n",
        "#'''"
      ],
      "execution_count": null,
      "outputs": []
    },
    {
      "cell_type": "code",
      "metadata": {
        "id": "IQM7JieEFQ1G"
      },
      "source": [
        "#checkpointer_name = \"weights.Fashion.DenseNet121.wInit.None.TrainableAfterallDefault.opt.SGD.drop.0.0.batch32.Flatten.run_1.hdf5\"\n",
        "model_loaded = load_model(work_dir+\"best_\"+checkpointer_name)\n",
        "print(\"Loaded \"+work_dir+\"best_\"+checkpointer_name+\".\")"
      ],
      "execution_count": null,
      "outputs": []
    },
    {
      "cell_type": "code",
      "metadata": {
        "id": "chvVsOEgRfsO"
      },
      "source": [
        "'''\n",
        "Record: Lung_Colon_Cancer_Hist_5_folds_k4_impl_1_768p_RGB_Custom_noTL_DataFrame: \n",
        "(Accuracy: 96.33%, Precision: 96.39%, Recall: 96.37%, F-Measure: 96.38%):\n",
        "---\n",
        "\n",
        "#'''\n",
        "'''\n",
        "csv_logger = CSVLogger(work_dir+log_name, separator=',', append=True)\n",
        "log_data = pd.read_csv(work_dir+log_name, sep=',', usecols=['epoch'], engine='python')\n",
        "epochs_completed = log_data.shape[0]\n",
        "#'''\n",
        "\n",
        "result2 = model_loaded.evaluate(test_generator, steps=total_test_data // BATCH_SIZE)\n",
        "#print(\"nLayers: {}, nNeurons: {}, DROPOUT: {}, Test Acc: {}, Test Loss: {}\".format(NUM_LAYERS, NUM_NEURONS, DROPOUT, round(result2[1], 4), round(result2[0], 4)))\n",
        "print(\"Test Acc: {}, Precision: {}, Recall: {}, Test Loss: {}: ep{}, {}\\n\".format(round(result2[1],4), round(result2[2],4), round(result2[3],4), round(result2[0],4), epochs_completed, checkpointer_name))\n"
      ],
      "execution_count": null,
      "outputs": []
    },
    {
      "cell_type": "code",
      "metadata": {
        "id": "vbKfFMo9gDPZ"
      },
      "source": [
        ""
      ],
      "execution_count": null,
      "outputs": []
    },
    {
      "cell_type": "code",
      "metadata": {
        "id": "hn9Yd4vHgDvH"
      },
      "source": [
        "# metrics=['accuracy', 'Precision', 'Recall', 'AUC', 'TruePositives', 'TrueNegatives', 'FalsePositives', 'FalseNegatives']\n",
        "result2"
      ],
      "execution_count": null,
      "outputs": []
    },
    {
      "cell_type": "code",
      "metadata": {
        "id": "pdej_0gOghKl"
      },
      "source": [
        "TP = result2[5]\n",
        "TN = result2[6]\n",
        "FP = result2[7]\n",
        "FN = result2[8]\n",
        "print(f\"TP={TP}, TN={TN}, FP={FP}, FN={FN}\")"
      ],
      "execution_count": null,
      "outputs": []
    },
    {
      "cell_type": "code",
      "metadata": {
        "id": "VoGYlDuJnoYd"
      },
      "source": [
        "'''\n",
        "run_1: accuracy=0.9768, sensitivity=recall=0.9768, specificity=0.9942, precision=0.9768, f1_score=0.9768, auc=0.9768\n",
        "\n",
        "'''"
      ],
      "execution_count": null,
      "outputs": []
    },
    {
      "cell_type": "code",
      "metadata": {
        "id": "NlzLzPAThX6A"
      },
      "source": [
        "accuracy = round(result2[1], 4)\n",
        "sensitivity = round((TP / (TP+FN)), 4)\n",
        "specificity = round((TN / (FP+TN)), 4)\n",
        "precision = round((TP / (TP+FP)), 4)\n",
        "recall = sensitivity # sensitivity and recall are same.\n",
        "f1_score = round((2*precision*recall) / (precision+recall), 4)\n",
        "auc = round(result2[2], 4)\n",
        "\n",
        "print(f\"accuracy={accuracy}, sensitivity=recall={sensitivity}, specificity={specificity}, precision={precision}, f1_score={f1_score}, auc={auc}\")"
      ],
      "execution_count": null,
      "outputs": []
    },
    {
      "cell_type": "code",
      "metadata": {
        "id": "SIIc9qKegDyk"
      },
      "source": [
        ""
      ],
      "execution_count": null,
      "outputs": []
    },
    {
      "cell_type": "code",
      "metadata": {
        "id": "z1GzwpODRlRf"
      },
      "source": [
        "import csv\n",
        "\n",
        "with open(work_dir+'Records.csv', \"a\") as fp:\n",
        "    wr = csv.writer(fp, dialect='excel')\n",
        "    try:\n",
        "        wr.writerow([checkpointer_name[8:-5], round(result2[1], 4), round(result2[0], 4), elapsed_time])\n",
        "    except:\n",
        "        wr.writerow([checkpointer_name[8:-5], round(result2[1], 4), round(result2[0], 4)])\n",
        "print(\"Saved results.\")"
      ],
      "execution_count": null,
      "outputs": []
    },
    {
      "cell_type": "code",
      "metadata": {
        "id": "Dv35-hm1Rfv5"
      },
      "source": [
        ""
      ],
      "execution_count": null,
      "outputs": []
    },
    {
      "cell_type": "code",
      "metadata": {
        "id": "r41Tx24EuA8A"
      },
      "source": [
        "#Confution Matrix and Classification Report\n",
        "#'''\n",
        "Y_pred = model_loaded.predict_generator(test_generator, verbose=1)\n",
        "#'''\n",
        "#'''\n",
        "save_predictions_filename = f\"Y_pred.{checkpointer_name[8:-5]}\"\n",
        "np.save(f\"{work_dir}{save_predictions_filename}\", Y_pred, allow_pickle=True)\n",
        "print(f\"Saved: {work_dir}{save_predictions_filename}\")\n",
        "#'''"
      ],
      "execution_count": null,
      "outputs": []
    },
    {
      "cell_type": "code",
      "metadata": {
        "id": "RCOqGtOtSVG5"
      },
      "source": [
        "'''\n",
        "save_predictions_filename = f\"Y_pred.{checkpointer_name[8:-5]}\"\n",
        "np.save(f\"{work_dir}{save_predictions_filename}\", Y_pred, allow_pickle=True)\n",
        "print(f\"Saved: {work_dir}{save_predictions_filename}\")\n",
        "#'''"
      ],
      "execution_count": null,
      "outputs": []
    },
    {
      "cell_type": "code",
      "metadata": {
        "id": "f5DLKM2YTGiR"
      },
      "source": [
        "#Y_pred_loaded = np.load(f\"{work_dir}{save_predictions_filename_2}.npy\", allow_pickle=True)\n",
        "Y_pred_loaded = np.load(f\"{work_dir}{save_predictions_filename}.npy\", allow_pickle=True)\n",
        "print(f\"Y_pred_loaded.shape = {Y_pred_loaded.shape}\")"
      ],
      "execution_count": null,
      "outputs": []
    },
    {
      "cell_type": "code",
      "metadata": {
        "id": "sKVblYYLTR8O"
      },
      "source": [
        ""
      ],
      "execution_count": null,
      "outputs": []
    },
    {
      "cell_type": "code",
      "metadata": {
        "id": "vPVcI8W8uVxT"
      },
      "source": [
        "y_pred = np.argmax(Y_pred_loaded, axis=1)"
      ],
      "execution_count": null,
      "outputs": []
    },
    {
      "cell_type": "code",
      "metadata": {
        "id": "EWjMUxOC_idw"
      },
      "source": [
        "y_true = test_generator.classes"
      ],
      "execution_count": null,
      "outputs": []
    },
    {
      "cell_type": "code",
      "metadata": {
        "id": "9AnENPzD_XCi"
      },
      "source": [
        "list_class_names_in_generator = list(test_generator.class_indices.values())\n",
        "list_class_names_in_generator[:5]"
      ],
      "execution_count": null,
      "outputs": []
    },
    {
      "cell_type": "code",
      "metadata": {
        "id": "g9ECGTlXdLEY"
      },
      "source": [
        "len(list_class_names_in_generator)"
      ],
      "execution_count": null,
      "outputs": []
    },
    {
      "cell_type": "code",
      "metadata": {
        "id": "7c1QqkvSB4rw"
      },
      "source": [
        "list_y_true_rearranged = []\n",
        "list_y_pred_rearranged = []\n",
        "\n",
        "for true_class,pred_class in zip(y_true,y_pred):\n",
        "    #print(f\"true_class = {true_class}; pred_class = {pred_class}\")\n",
        "    #y_true_rearranged = int(list_class_names_in_generator[true_class][5:])\n",
        "    #y_pred_rearranged = int(list_class_names_in_generator[pred_class][5:])\n",
        "\n",
        "    y_true_rearranged = int(list_class_names_in_generator[true_class])\n",
        "    y_pred_rearranged = int(list_class_names_in_generator[pred_class])\n",
        "\n",
        "    list_y_true_rearranged.append(y_true_rearranged)\n",
        "    list_y_pred_rearranged.append(y_pred_rearranged)"
      ],
      "execution_count": null,
      "outputs": []
    },
    {
      "cell_type": "code",
      "metadata": {
        "id": "twUaOkzO_lYu"
      },
      "source": [
        "np_y_true_rearranged = np.array(list_y_true_rearranged)\n",
        "np_y_pred_rearranged = np.array(list_y_pred_rearranged)\n",
        "\n",
        "print(f\"np_y_true_rearranged.shape = {np_y_true_rearranged.shape}\")\n",
        "print(f\"np_y_pred_rearranged.shape = {np_y_pred_rearranged.shape}\")\n",
        "print(f\"np_y_true_rearranged: {np_y_true_rearranged}\")\n",
        "print(f\"np_y_pred_rearranged: {np_y_pred_rearranged}\")"
      ],
      "execution_count": null,
      "outputs": []
    },
    {
      "cell_type": "code",
      "metadata": {
        "id": "LxgBOkM5Es08"
      },
      "source": [
        "print(f\"np_y_true_rearranged.shape = {np_y_true_rearranged.shape}\\n\")\n",
        "\n",
        "index = -5\n",
        "print(f\"y_true[{index}:] = {y_true[index:]}\")\n",
        "print(f\"y_pred[{index}:] = {y_pred[index:]}\\n\")\n",
        "print(f\"np_y_true_rearranged[{index}:] = {np_y_true_rearranged[index:]}\")\n",
        "print(f\"np_y_pred_rearranged[{index}:] = {np_y_pred_rearranged[index:]}\\n\")\n",
        "print(f\"np.unique(np_y_true_rearranged) = {np.unique(np_y_true_rearranged)}\")\n",
        "print(f\"np.unique(np_y_pred_rearranged) = {np.unique(np_y_pred_rearranged)}\")"
      ],
      "execution_count": null,
      "outputs": []
    },
    {
      "cell_type": "code",
      "metadata": {
        "id": "yo2maYGREHa1"
      },
      "source": [
        ""
      ],
      "execution_count": null,
      "outputs": []
    },
    {
      "cell_type": "code",
      "metadata": {
        "id": "ATQ8O5enuJcA"
      },
      "source": [
        "conf_matrix = sklearn.metrics.confusion_matrix(np_y_true_rearranged, np_y_pred_rearranged)\n",
        "print(f\"Confusion Matrix:\\n{conf_matrix}\")"
      ],
      "execution_count": null,
      "outputs": []
    },
    {
      "cell_type": "code",
      "metadata": {
        "id": "iWt92DPh8BIG"
      },
      "source": [
        "#plt.figure(figsize = (30,30))\n",
        "plt.matshow(conf_matrix)"
      ],
      "execution_count": null,
      "outputs": []
    },
    {
      "cell_type": "code",
      "metadata": {
        "id": "qYbVekfx9Qk-"
      },
      "source": [
        "df_conf_matrix = pd.DataFrame(conf_matrix, index = [f\"Class {i+1}\" for i in range(num_classes)],\n",
        "                  columns = [f\"Class {i+1}\" for i in range(num_classes)])"
      ],
      "execution_count": null,
      "outputs": []
    },
    {
      "cell_type": "code",
      "metadata": {
        "id": "bhhb_ykf7mGr"
      },
      "source": [
        "title = \"Confusion matrix for \"+dataset+\" \"+impl_type+\"\\n\"\n",
        "plt.figure(figsize = (5,3))\n",
        "plt.title(title)\n",
        "sn.heatmap(df_conf_matrix, annot=True)\n",
        "\n",
        "img_path = work_dir+'Images/conf_matrix_'+checkpointer_name[8:-5]+'.png'\n",
        "plt.savefig(img_path, dpi=600)\n",
        "print(f\"img_path = {img_path}\")"
      ],
      "execution_count": null,
      "outputs": []
    },
    {
      "cell_type": "code",
      "metadata": {
        "id": "OyvlKAMW-q4-"
      },
      "source": [
        ""
      ],
      "execution_count": null,
      "outputs": []
    },
    {
      "cell_type": "code",
      "metadata": {
        "id": "hgY4v21DyQwL"
      },
      "source": [
        "#Confution Matrix and Classification Report\n",
        "'''\n",
        "Y_pred = model_loaded.predict_generator(final_test_imageset, len(final_test_imageset))\n",
        "y_pred = np.argmax(Y_pred, axis=1)\n",
        "print('Confusion Matrix')\n",
        "print(sklearn.metrics.confusion_matrix(np_test_label, y_pred))\n",
        "#'''"
      ],
      "execution_count": null,
      "outputs": []
    },
    {
      "cell_type": "code",
      "metadata": {
        "id": "U5j7b3KcRvwj"
      },
      "source": [
        "# Precision [TP/TP+FP] = The ratio of correctly predicted positive observations to the total predicted positive observations.\n",
        "# Recall (Sensitivity) [TP/TP+FN] = The ratio of correctly predicted positive observations to the all observations in actual class - 'yes'.\n",
        "# F1 score [F1 Score = 2*(Recall * Precision) / (Recall + Precision)] = The weighted average of Precision and Recall.\n",
        "# Support = The number of samples of the true response that lie in that class.\n",
        "'''\n",
        "print('Classification Report:')\n",
        "print(sklearn.metrics.classification_report(test_generator.classes, y_pred))\n",
        "#'''"
      ],
      "execution_count": null,
      "outputs": []
    },
    {
      "cell_type": "code",
      "metadata": {
        "id": "jTwSA-kRYavk"
      },
      "source": [
        ""
      ],
      "execution_count": null,
      "outputs": []
    },
    {
      "cell_type": "code",
      "metadata": {
        "id": "AaZZkLXW6Vb8"
      },
      "source": [
        "test_generator.class_indices.keys()"
      ],
      "execution_count": null,
      "outputs": []
    },
    {
      "cell_type": "code",
      "metadata": {
        "id": "ceGRitu9RvzV"
      },
      "source": [
        "#'''\n",
        "print('Classification Report')\n",
        "print(sklearn.metrics.classification_report(np_y_true_rearranged, np_y_pred_rearranged, target_names=test_generator.class_indices.keys()))\n",
        "#'''"
      ],
      "execution_count": null,
      "outputs": []
    },
    {
      "cell_type": "code",
      "metadata": {
        "id": "ujLQjTf2Rv11"
      },
      "source": [
        "log_data = pd.read_csv(work_dir+log_name, sep=',', engine='python') "
      ],
      "execution_count": null,
      "outputs": []
    },
    {
      "cell_type": "code",
      "metadata": {
        "id": "To55jgGSRv4a"
      },
      "source": [
        "# Getting the model history keys \n",
        "#history.history.keys()\n",
        "log_data.head()"
      ],
      "execution_count": null,
      "outputs": []
    },
    {
      "cell_type": "code",
      "metadata": {
        "id": "aytAYSJ4Rv7T"
      },
      "source": [
        "# plot the training artifacts\n",
        "title = \"Val loss for \"+dataset+\" \"+impl_type+\"\\n\"\n",
        "\n",
        "plt.plot(log_data['loss'])\n",
        "plt.plot(log_data['val_loss'])\n",
        "plt.title(title)\n",
        "plt.ylabel('loss')\n",
        "plt.xlabel('epoch')\n",
        "plt.legend(['train_loss','val_loss'], loc = 'best')\n",
        "plt.grid(b=True, which='major', axis='both')\n",
        "\n",
        "img_path = work_dir+'Images/vLoss_'+checkpointer_name[8:-5]+'.png'\n",
        "plt.savefig(img_path, dpi=600)\n",
        "plt.show()\n",
        "print('img_path =', img_path)"
      ],
      "execution_count": null,
      "outputs": []
    },
    {
      "cell_type": "code",
      "metadata": {
        "id": "yUq1WaElRv-M"
      },
      "source": [
        "title = \"Val acc for \"+dataset+\" \"+impl_type+\"\\n\"\n",
        "\n",
        "plt.plot(log_data['accuracy'])\n",
        "plt.plot(log_data['val_accuracy'])\n",
        "plt.title(title)\n",
        "plt.ylabel('accuracy')\n",
        "plt.xlabel('epoch')\n",
        "plt.legend(['train_accuracy','val_accuracy'], loc = 'best')\n",
        "plt.grid(b=True, which='major', axis='both')\n",
        "\n",
        "img_path = work_dir+'Images/vAcc_'+checkpointer_name[8:-5]+'.png'\n",
        "plt.savefig(img_path, dpi=600)\n",
        "plt.show()\n",
        "print('img_path =', img_path)"
      ],
      "execution_count": null,
      "outputs": []
    },
    {
      "cell_type": "code",
      "metadata": {
        "id": "w4msuVKMSk8E"
      },
      "source": [
        ""
      ],
      "execution_count": null,
      "outputs": []
    }
  ]
}