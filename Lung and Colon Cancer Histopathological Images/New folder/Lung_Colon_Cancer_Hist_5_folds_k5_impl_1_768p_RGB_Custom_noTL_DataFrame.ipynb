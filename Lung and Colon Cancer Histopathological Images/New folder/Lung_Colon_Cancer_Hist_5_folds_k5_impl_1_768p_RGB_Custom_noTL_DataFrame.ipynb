{
  "nbformat": 4,
  "nbformat_minor": 0,
  "metadata": {
    "colab": {
      "name": "Lung_Colon_Cancer_Hist_5_folds_k5_impl_1_768p_RGB_Custom_noTL_DataFrame.ipynb",
      "provenance": [],
      "collapsed_sections": []
    },
    "kernelspec": {
      "display_name": "Python 3",
      "name": "python3"
    },
    "accelerator": "GPU"
  },
  "cells": [
    {
      "cell_type": "code",
      "metadata": {
        "colab": {
          "base_uri": "https://localhost:8080/"
        },
        "id": "w35zPOcMyNwJ",
        "outputId": "bfcba6bc-7454-4e8b-94d7-b7c1cfa46cc5"
      },
      "source": [
        "from google.colab import drive \n",
        "drive.mount('/content/drive', force_remount=True)"
      ],
      "execution_count": 2,
      "outputs": [
        {
          "output_type": "stream",
          "text": [
            "Mounted at /content/drive\n"
          ],
          "name": "stdout"
        }
      ]
    },
    {
      "cell_type": "code",
      "metadata": {
        "id": "ph-qNIaajXGT",
        "colab": {
          "base_uri": "https://localhost:8080/"
        },
        "outputId": "eae62cdc-ffcc-476a-8e7e-9e1139c6e4c2"
      },
      "source": [
        "num_folds = 5\n",
        "k = 5\n",
        "color_type = 'rgb' # rgb, grayscale\n",
        "BATCH_SIZE = 16\n",
        "\n",
        "Dataset_Name = f\"Lung.Colon.Cancer.Hist.{num_folds}k{str(k)}\"\n",
        "work_dir = \"drive/My Drive/Cancer/Lung and Colon Cancer Histopathological Images/Records/\"\n",
        "base_dir = \"drive/My Drive/Cancer/Lung and Colon Cancer Histopathological Images/lung_colon_image_set_all/\"\n",
        "\n",
        "print(f\"Dataset_Name = {Dataset_Name}\")"
      ],
      "execution_count": 3,
      "outputs": [
        {
          "output_type": "stream",
          "text": [
            "Dataset_Name = Lung.Colon.Cancer.Hist.5k5\n"
          ],
          "name": "stdout"
        }
      ]
    },
    {
      "cell_type": "code",
      "metadata": {
        "id": "9xc7MvTxyQd7"
      },
      "source": [
        "\n",
        "import numpy as np\n",
        "import pandas as pd\n",
        "import pickle\n",
        "import numpy as np\n",
        "import random\n",
        "import time\n",
        "import os\n",
        "#os.environ[\"OPENCV_IO_MAX_IMAGE_PIXELS\"] = pow(2,40).__str__()\n",
        "import cv2\n",
        "from tqdm import tqdm\n",
        "\n",
        "import tensorflow as tf\n",
        "from tensorflow.python.keras import Sequential\n",
        "from tensorflow.keras import layers, optimizers\n",
        "from tensorflow.keras.applications import DenseNet121\n",
        "from tensorflow.keras.applications.resnet50 import ResNet50\n",
        "from tensorflow.keras.layers import *\n",
        "from tensorflow.keras.models import Model, load_model\n",
        "from tensorflow.keras.initializers import glorot_uniform\n",
        "from tensorflow.keras.utils import plot_model\n",
        "from tensorflow.keras.callbacks import ReduceLROnPlateau, EarlyStopping, ModelCheckpoint, LearningRateScheduler\n",
        "from IPython.display import display\n",
        "from tensorflow.keras import backend as K\n",
        "import matplotlib.pyplot as plt\n",
        "import matplotlib.image as mpimg\n",
        "from sklearn.model_selection import train_test_split\n",
        "from keras import optimizers\n",
        "#from sklearn.metrics import classification_report, confusion_matrix\n",
        "import sklearn\n",
        "import seaborn as sn\n",
        "from keras.callbacks import CSVLogger, LambdaCallback\n",
        "from tensorflow.keras.preprocessing.image import ImageDataGenerator\n",
        "\n",
        "import math"
      ],
      "execution_count": 4,
      "outputs": []
    },
    {
      "cell_type": "code",
      "metadata": {
        "id": "0Bpa74kr60p9"
      },
      "source": [
        ""
      ],
      "execution_count": 4,
      "outputs": []
    },
    {
      "cell_type": "code",
      "metadata": {
        "colab": {
          "base_uri": "https://localhost:8080/",
          "height": 206
        },
        "id": "rQbFaGlX60ym",
        "outputId": "890ba95f-00a4-4260-b768-20d6c93c04d8"
      },
      "source": [
        "csv_file = \"drive/My Drive/Cancer/Lung and Colon Cancer Histopathological Images/lung_colon_image_set_all.csv\"\n",
        "df_original = pd.read_csv(csv_file) # , delimiter = \" \", header=None\n",
        "#train_df_original.columns = ['Column_1', 'filename', 'label', 'Column_2']\n",
        "df_original.head()"
      ],
      "execution_count": 5,
      "outputs": [
        {
          "output_type": "execute_result",
          "data": {
            "text/html": [
              "<div>\n",
              "<style scoped>\n",
              "    .dataframe tbody tr th:only-of-type {\n",
              "        vertical-align: middle;\n",
              "    }\n",
              "\n",
              "    .dataframe tbody tr th {\n",
              "        vertical-align: top;\n",
              "    }\n",
              "\n",
              "    .dataframe thead th {\n",
              "        text-align: right;\n",
              "    }\n",
              "</style>\n",
              "<table border=\"1\" class=\"dataframe\">\n",
              "  <thead>\n",
              "    <tr style=\"text-align: right;\">\n",
              "      <th></th>\n",
              "      <th>Unnamed: 0</th>\n",
              "      <th>path</th>\n",
              "      <th>label</th>\n",
              "    </tr>\n",
              "  </thead>\n",
              "  <tbody>\n",
              "    <tr>\n",
              "      <th>0</th>\n",
              "      <td>0</td>\n",
              "      <td>colon_n/colonn4479.jpeg</td>\n",
              "      <td>colon_n</td>\n",
              "    </tr>\n",
              "    <tr>\n",
              "      <th>1</th>\n",
              "      <td>1</td>\n",
              "      <td>colon_n/colonn4571.jpeg</td>\n",
              "      <td>colon_n</td>\n",
              "    </tr>\n",
              "    <tr>\n",
              "      <th>2</th>\n",
              "      <td>2</td>\n",
              "      <td>colon_n/colonn4546.jpeg</td>\n",
              "      <td>colon_n</td>\n",
              "    </tr>\n",
              "    <tr>\n",
              "      <th>3</th>\n",
              "      <td>3</td>\n",
              "      <td>colon_n/colonn4467.jpeg</td>\n",
              "      <td>colon_n</td>\n",
              "    </tr>\n",
              "    <tr>\n",
              "      <th>4</th>\n",
              "      <td>4</td>\n",
              "      <td>colon_n/colonn4634.jpeg</td>\n",
              "      <td>colon_n</td>\n",
              "    </tr>\n",
              "  </tbody>\n",
              "</table>\n",
              "</div>"
            ],
            "text/plain": [
              "   Unnamed: 0                     path    label\n",
              "0           0  colon_n/colonn4479.jpeg  colon_n\n",
              "1           1  colon_n/colonn4571.jpeg  colon_n\n",
              "2           2  colon_n/colonn4546.jpeg  colon_n\n",
              "3           3  colon_n/colonn4467.jpeg  colon_n\n",
              "4           4  colon_n/colonn4634.jpeg  colon_n"
            ]
          },
          "metadata": {
            "tags": []
          },
          "execution_count": 5
        }
      ]
    },
    {
      "cell_type": "code",
      "metadata": {
        "colab": {
          "base_uri": "https://localhost:8080/",
          "height": 316
        },
        "id": "5u0TvQ6rp0UF",
        "outputId": "1a23b3a1-ad03-471d-bd0c-fa8a8391102d"
      },
      "source": [
        "df_full_path = df_original.copy()\n",
        "\n",
        "#'''\n",
        "for i in range(df_original.shape[0]):\n",
        "    filename = df_original['path'][i]\n",
        "    file_full_path = f\"{base_dir}{filename}\"\n",
        "    df_full_path['path'][i] = file_full_path\n",
        "#'''\n",
        "    \n",
        "print(f\"df_full_path['path'][0] = {df_full_path['path'][0]}\")\n",
        "df_full_path.tail()"
      ],
      "execution_count": 6,
      "outputs": [
        {
          "output_type": "stream",
          "text": [
            "/usr/local/lib/python3.7/dist-packages/ipykernel_launcher.py:7: SettingWithCopyWarning: \n",
            "A value is trying to be set on a copy of a slice from a DataFrame\n",
            "\n",
            "See the caveats in the documentation: https://pandas.pydata.org/pandas-docs/stable/user_guide/indexing.html#returning-a-view-versus-a-copy\n",
            "  import sys\n"
          ],
          "name": "stderr"
        },
        {
          "output_type": "stream",
          "text": [
            "df_full_path['path'][0] = drive/My Drive/Cancer/Lung and Colon Cancer Histopathological Images/lung_colon_image_set_all/colon_n/colonn4479.jpeg\n"
          ],
          "name": "stdout"
        },
        {
          "output_type": "execute_result",
          "data": {
            "text/html": [
              "<div>\n",
              "<style scoped>\n",
              "    .dataframe tbody tr th:only-of-type {\n",
              "        vertical-align: middle;\n",
              "    }\n",
              "\n",
              "    .dataframe tbody tr th {\n",
              "        vertical-align: top;\n",
              "    }\n",
              "\n",
              "    .dataframe thead th {\n",
              "        text-align: right;\n",
              "    }\n",
              "</style>\n",
              "<table border=\"1\" class=\"dataframe\">\n",
              "  <thead>\n",
              "    <tr style=\"text-align: right;\">\n",
              "      <th></th>\n",
              "      <th>Unnamed: 0</th>\n",
              "      <th>path</th>\n",
              "      <th>label</th>\n",
              "    </tr>\n",
              "  </thead>\n",
              "  <tbody>\n",
              "    <tr>\n",
              "      <th>24995</th>\n",
              "      <td>24995</td>\n",
              "      <td>drive/My Drive/Cancer/Lung and Colon Cancer Hi...</td>\n",
              "      <td>colon_aca</td>\n",
              "    </tr>\n",
              "    <tr>\n",
              "      <th>24996</th>\n",
              "      <td>24996</td>\n",
              "      <td>drive/My Drive/Cancer/Lung and Colon Cancer Hi...</td>\n",
              "      <td>colon_aca</td>\n",
              "    </tr>\n",
              "    <tr>\n",
              "      <th>24997</th>\n",
              "      <td>24997</td>\n",
              "      <td>drive/My Drive/Cancer/Lung and Colon Cancer Hi...</td>\n",
              "      <td>colon_aca</td>\n",
              "    </tr>\n",
              "    <tr>\n",
              "      <th>24998</th>\n",
              "      <td>24998</td>\n",
              "      <td>drive/My Drive/Cancer/Lung and Colon Cancer Hi...</td>\n",
              "      <td>colon_aca</td>\n",
              "    </tr>\n",
              "    <tr>\n",
              "      <th>24999</th>\n",
              "      <td>24999</td>\n",
              "      <td>drive/My Drive/Cancer/Lung and Colon Cancer Hi...</td>\n",
              "      <td>colon_aca</td>\n",
              "    </tr>\n",
              "  </tbody>\n",
              "</table>\n",
              "</div>"
            ],
            "text/plain": [
              "       Unnamed: 0                                               path      label\n",
              "24995       24995  drive/My Drive/Cancer/Lung and Colon Cancer Hi...  colon_aca\n",
              "24996       24996  drive/My Drive/Cancer/Lung and Colon Cancer Hi...  colon_aca\n",
              "24997       24997  drive/My Drive/Cancer/Lung and Colon Cancer Hi...  colon_aca\n",
              "24998       24998  drive/My Drive/Cancer/Lung and Colon Cancer Hi...  colon_aca\n",
              "24999       24999  drive/My Drive/Cancer/Lung and Colon Cancer Hi...  colon_aca"
            ]
          },
          "metadata": {
            "tags": []
          },
          "execution_count": 6
        }
      ]
    },
    {
      "cell_type": "code",
      "metadata": {
        "id": "hAbfT89H1tDs"
      },
      "source": [
        "df_full_path['label'] = df_full_path['label'].astype(str)"
      ],
      "execution_count": 7,
      "outputs": []
    },
    {
      "cell_type": "code",
      "metadata": {
        "id": "bhdg838lqvbP"
      },
      "source": [
        ""
      ],
      "execution_count": 7,
      "outputs": []
    },
    {
      "cell_type": "code",
      "metadata": {
        "colab": {
          "base_uri": "https://localhost:8080/"
        },
        "id": "5_QrLCpZJ8zT",
        "outputId": "9790717f-b2a3-4177-c691-f85acb68d7ad"
      },
      "source": [
        "list_classes = np.unique(df_full_path.label.values)\n",
        "list_classes"
      ],
      "execution_count": 8,
      "outputs": [
        {
          "output_type": "execute_result",
          "data": {
            "text/plain": [
              "array(['colon_aca', 'colon_n', 'lung_aca', 'lung_n', 'lung_scc'],\n",
              "      dtype=object)"
            ]
          },
          "metadata": {
            "tags": []
          },
          "execution_count": 8
        }
      ]
    },
    {
      "cell_type": "code",
      "metadata": {
        "colab": {
          "base_uri": "https://localhost:8080/"
        },
        "id": "nErKA455KoAN",
        "outputId": "e98ad167-3327-46da-a444-1989a237791c"
      },
      "source": [
        "list_train_indices = []\n",
        "list_val_indices = []\n",
        "\n",
        "for category in list_classes:\n",
        "    df_category = df_full_path[df_full_path['label'] == category]\n",
        "    print(f\"category -> {category}: {df_category.shape[0]}:\")\n",
        "\n",
        "    #'''\n",
        "    list_indices = list(df_category[['Unnamed: 0']].values)\n",
        "    #print(f\"list_indices[0][0] = {list_indices[0][0]}\")\n",
        "    #print(f\"list_indices[-1][0] = {list_indices[-1][0]}\")\n",
        "\n",
        "    split_indices = int(df_category.shape[0]/num_folds)\n",
        "    \n",
        "    train_indices = list_indices[:k*split_indices-split_indices]\n",
        "    train_indices += list_indices[k*split_indices:]\n",
        "    val_indices = list_indices[k*split_indices-split_indices:k*split_indices]\n",
        "    print(f\"len(train_indices): {len(train_indices)}\")\n",
        "    print(f\"len(val_indices): {len(val_indices)}\\n\")\n",
        "\n",
        "    for index in train_indices:\n",
        "        list_train_indices.append(index[0])\n",
        "    \n",
        "    for index in val_indices:\n",
        "        list_val_indices.append(index[0])\n",
        "    #'''\n",
        "\n",
        "print(f\"len(list_train_indices): {len(list_train_indices)}\")\n",
        "print(f\"len(list_val_indices): {len(list_val_indices)}\")"
      ],
      "execution_count": 9,
      "outputs": [
        {
          "output_type": "stream",
          "text": [
            "category -> colon_aca: 5000:\n",
            "len(train_indices): 4000\n",
            "len(val_indices): 1000\n",
            "\n",
            "category -> colon_n: 5000:\n",
            "len(train_indices): 4000\n",
            "len(val_indices): 1000\n",
            "\n",
            "category -> lung_aca: 5000:\n",
            "len(train_indices): 4000\n",
            "len(val_indices): 1000\n",
            "\n",
            "category -> lung_n: 5000:\n",
            "len(train_indices): 4000\n",
            "len(val_indices): 1000\n",
            "\n",
            "category -> lung_scc: 5000:\n",
            "len(train_indices): 4000\n",
            "len(val_indices): 1000\n",
            "\n",
            "len(list_train_indices): 20000\n",
            "len(list_val_indices): 5000\n"
          ],
          "name": "stdout"
        }
      ]
    },
    {
      "cell_type": "code",
      "metadata": {
        "id": "rrNCs8GhJ819"
      },
      "source": [
        ""
      ],
      "execution_count": 9,
      "outputs": []
    },
    {
      "cell_type": "code",
      "metadata": {
        "colab": {
          "base_uri": "https://localhost:8080/",
          "height": 225
        },
        "id": "gNAmMVnMhBaG",
        "outputId": "d846cfa8-a7fa-4cc2-f767-d6dbbca5eea8"
      },
      "source": [
        "train_df = df_full_path[pd.DataFrame(df_full_path['Unnamed: 0'].tolist()).isin(list_train_indices).any(1).values]\n",
        "print(f\"train_df.shape = {train_df.shape}\")\n",
        "train_df.head() "
      ],
      "execution_count": 10,
      "outputs": [
        {
          "output_type": "stream",
          "text": [
            "train_df.shape = (20000, 3)\n"
          ],
          "name": "stdout"
        },
        {
          "output_type": "execute_result",
          "data": {
            "text/html": [
              "<div>\n",
              "<style scoped>\n",
              "    .dataframe tbody tr th:only-of-type {\n",
              "        vertical-align: middle;\n",
              "    }\n",
              "\n",
              "    .dataframe tbody tr th {\n",
              "        vertical-align: top;\n",
              "    }\n",
              "\n",
              "    .dataframe thead th {\n",
              "        text-align: right;\n",
              "    }\n",
              "</style>\n",
              "<table border=\"1\" class=\"dataframe\">\n",
              "  <thead>\n",
              "    <tr style=\"text-align: right;\">\n",
              "      <th></th>\n",
              "      <th>Unnamed: 0</th>\n",
              "      <th>path</th>\n",
              "      <th>label</th>\n",
              "    </tr>\n",
              "  </thead>\n",
              "  <tbody>\n",
              "    <tr>\n",
              "      <th>0</th>\n",
              "      <td>0</td>\n",
              "      <td>drive/My Drive/Cancer/Lung and Colon Cancer Hi...</td>\n",
              "      <td>colon_n</td>\n",
              "    </tr>\n",
              "    <tr>\n",
              "      <th>1</th>\n",
              "      <td>1</td>\n",
              "      <td>drive/My Drive/Cancer/Lung and Colon Cancer Hi...</td>\n",
              "      <td>colon_n</td>\n",
              "    </tr>\n",
              "    <tr>\n",
              "      <th>2</th>\n",
              "      <td>2</td>\n",
              "      <td>drive/My Drive/Cancer/Lung and Colon Cancer Hi...</td>\n",
              "      <td>colon_n</td>\n",
              "    </tr>\n",
              "    <tr>\n",
              "      <th>3</th>\n",
              "      <td>3</td>\n",
              "      <td>drive/My Drive/Cancer/Lung and Colon Cancer Hi...</td>\n",
              "      <td>colon_n</td>\n",
              "    </tr>\n",
              "    <tr>\n",
              "      <th>4</th>\n",
              "      <td>4</td>\n",
              "      <td>drive/My Drive/Cancer/Lung and Colon Cancer Hi...</td>\n",
              "      <td>colon_n</td>\n",
              "    </tr>\n",
              "  </tbody>\n",
              "</table>\n",
              "</div>"
            ],
            "text/plain": [
              "   Unnamed: 0                                               path    label\n",
              "0           0  drive/My Drive/Cancer/Lung and Colon Cancer Hi...  colon_n\n",
              "1           1  drive/My Drive/Cancer/Lung and Colon Cancer Hi...  colon_n\n",
              "2           2  drive/My Drive/Cancer/Lung and Colon Cancer Hi...  colon_n\n",
              "3           3  drive/My Drive/Cancer/Lung and Colon Cancer Hi...  colon_n\n",
              "4           4  drive/My Drive/Cancer/Lung and Colon Cancer Hi...  colon_n"
            ]
          },
          "metadata": {
            "tags": []
          },
          "execution_count": 10
        }
      ]
    },
    {
      "cell_type": "code",
      "metadata": {
        "id": "pW7AmyJSpsE1"
      },
      "source": [
        ""
      ],
      "execution_count": 10,
      "outputs": []
    },
    {
      "cell_type": "code",
      "metadata": {
        "colab": {
          "base_uri": "https://localhost:8080/",
          "height": 225
        },
        "id": "H5PPbd3bnbn7",
        "outputId": "5a316c6a-cc08-4c10-af38-5cc3d40775ca"
      },
      "source": [
        "test_df = df_full_path[pd.DataFrame(df_full_path['Unnamed: 0'].tolist()).isin(list_val_indices).any(1).values]\n",
        "print(f\"test_df.shape = {test_df.shape}\")\n",
        "test_df.tail()"
      ],
      "execution_count": 11,
      "outputs": [
        {
          "output_type": "stream",
          "text": [
            "test_df.shape = (5000, 3)\n"
          ],
          "name": "stdout"
        },
        {
          "output_type": "execute_result",
          "data": {
            "text/html": [
              "<div>\n",
              "<style scoped>\n",
              "    .dataframe tbody tr th:only-of-type {\n",
              "        vertical-align: middle;\n",
              "    }\n",
              "\n",
              "    .dataframe tbody tr th {\n",
              "        vertical-align: top;\n",
              "    }\n",
              "\n",
              "    .dataframe thead th {\n",
              "        text-align: right;\n",
              "    }\n",
              "</style>\n",
              "<table border=\"1\" class=\"dataframe\">\n",
              "  <thead>\n",
              "    <tr style=\"text-align: right;\">\n",
              "      <th></th>\n",
              "      <th>Unnamed: 0</th>\n",
              "      <th>path</th>\n",
              "      <th>label</th>\n",
              "    </tr>\n",
              "  </thead>\n",
              "  <tbody>\n",
              "    <tr>\n",
              "      <th>24995</th>\n",
              "      <td>24995</td>\n",
              "      <td>drive/My Drive/Cancer/Lung and Colon Cancer Hi...</td>\n",
              "      <td>colon_aca</td>\n",
              "    </tr>\n",
              "    <tr>\n",
              "      <th>24996</th>\n",
              "      <td>24996</td>\n",
              "      <td>drive/My Drive/Cancer/Lung and Colon Cancer Hi...</td>\n",
              "      <td>colon_aca</td>\n",
              "    </tr>\n",
              "    <tr>\n",
              "      <th>24997</th>\n",
              "      <td>24997</td>\n",
              "      <td>drive/My Drive/Cancer/Lung and Colon Cancer Hi...</td>\n",
              "      <td>colon_aca</td>\n",
              "    </tr>\n",
              "    <tr>\n",
              "      <th>24998</th>\n",
              "      <td>24998</td>\n",
              "      <td>drive/My Drive/Cancer/Lung and Colon Cancer Hi...</td>\n",
              "      <td>colon_aca</td>\n",
              "    </tr>\n",
              "    <tr>\n",
              "      <th>24999</th>\n",
              "      <td>24999</td>\n",
              "      <td>drive/My Drive/Cancer/Lung and Colon Cancer Hi...</td>\n",
              "      <td>colon_aca</td>\n",
              "    </tr>\n",
              "  </tbody>\n",
              "</table>\n",
              "</div>"
            ],
            "text/plain": [
              "       Unnamed: 0                                               path      label\n",
              "24995       24995  drive/My Drive/Cancer/Lung and Colon Cancer Hi...  colon_aca\n",
              "24996       24996  drive/My Drive/Cancer/Lung and Colon Cancer Hi...  colon_aca\n",
              "24997       24997  drive/My Drive/Cancer/Lung and Colon Cancer Hi...  colon_aca\n",
              "24998       24998  drive/My Drive/Cancer/Lung and Colon Cancer Hi...  colon_aca\n",
              "24999       24999  drive/My Drive/Cancer/Lung and Colon Cancer Hi...  colon_aca"
            ]
          },
          "metadata": {
            "tags": []
          },
          "execution_count": 11
        }
      ]
    },
    {
      "cell_type": "code",
      "metadata": {
        "id": "pzbMbDTgKNYL"
      },
      "source": [
        ""
      ],
      "execution_count": 11,
      "outputs": []
    },
    {
      "cell_type": "code",
      "metadata": {
        "id": "fWGa77p2eWAd",
        "colab": {
          "base_uri": "https://localhost:8080/",
          "height": 36
        },
        "outputId": "b7811b3b-8067-4bdb-9ba1-964b26002fd4"
      },
      "source": [
        "'''\n",
        "img_path = test_df['path'][20995]\n",
        "img_path\n",
        "#'''"
      ],
      "execution_count": 12,
      "outputs": [
        {
          "output_type": "execute_result",
          "data": {
            "application/vnd.google.colaboratory.intrinsic+json": {
              "type": "string"
            },
            "text/plain": [
              "\"\\nimg_path = test_df['path'][20995]\\nimg_path\\n#\""
            ]
          },
          "metadata": {
            "tags": []
          },
          "execution_count": 12
        }
      ]
    },
    {
      "cell_type": "code",
      "metadata": {
        "colab": {
          "base_uri": "https://localhost:8080/",
          "height": 36
        },
        "id": "NonlZTviI7dc",
        "outputId": "090bdc1e-cc18-49dc-a0f5-1775d9434cc2"
      },
      "source": [
        "'''\n",
        "img = cv2.imread(img_path, cv2.IMREAD_UNCHANGED)\n",
        "print(f\"img.shape={img.shape}\")\n",
        "plt.imshow(img)\n",
        "#'''"
      ],
      "execution_count": 13,
      "outputs": [
        {
          "output_type": "execute_result",
          "data": {
            "application/vnd.google.colaboratory.intrinsic+json": {
              "type": "string"
            },
            "text/plain": [
              "'\\nimg = cv2.imread(img_path, cv2.IMREAD_UNCHANGED)\\nprint(f\"img.shape={img.shape}\")\\nplt.imshow(img)\\n#'"
            ]
          },
          "metadata": {
            "tags": []
          },
          "execution_count": 13
        }
      ]
    },
    {
      "cell_type": "code",
      "metadata": {
        "id": "53eBXZM2KHra"
      },
      "source": [
        ""
      ],
      "execution_count": 13,
      "outputs": []
    },
    {
      "cell_type": "markdown",
      "metadata": {
        "id": "TqAkPCojLNki"
      },
      "source": [
        "Bilinear is the standard resizing algorithm — good for most uses. Lanczos better preserves small details when upscaling and downscaling. And Nearest Neighbor is great for pixel art!"
      ]
    },
    {
      "cell_type": "code",
      "metadata": {
        "id": "LnYytOrbKGMH"
      },
      "source": [
        "'''\n",
        "width_shift_range=0.2,\n",
        "height_shift_range=0.2,\n",
        "zoom_range=0.2,\n",
        "horizontal_flip=True, \n",
        "vertical_flip=True,\n",
        "#rotation_range=20,\n",
        "'''\n",
        "\n",
        "train_datagen = ImageDataGenerator(rescale=1./255,\n",
        "                                   #fill_mode=\"lanczos\",\n",
        "                                   )\n",
        "test_datagen = ImageDataGenerator(rescale=1./255,\n",
        "                                  #fill_mode=\"lanczos\",\n",
        "                                  )"
      ],
      "execution_count": 14,
      "outputs": []
    },
    {
      "cell_type": "code",
      "metadata": {
        "id": "qG4nma2UP_F0"
      },
      "source": [
        ""
      ],
      "execution_count": 14,
      "outputs": []
    },
    {
      "cell_type": "code",
      "metadata": {
        "colab": {
          "base_uri": "https://localhost:8080/"
        },
        "id": "rga2byZPKPQt",
        "outputId": "54fe7087-2262-4b88-e714-a5f515e58101"
      },
      "source": [
        "train_generator = train_datagen.flow_from_dataframe(\n",
        "        train_df,\n",
        "        directory=None,\n",
        "        x_col='path', \n",
        "        y_col='label',\n",
        "        target_size=(768, 768),  # target images are automatically resized to (256, 256)\n",
        "        batch_size=BATCH_SIZE,\n",
        "        shuffle = True,\n",
        "        color_mode=color_type, # grayscale, rgb\n",
        "        class_mode='categorical' # categorical, raw\n",
        "        )"
      ],
      "execution_count": 15,
      "outputs": [
        {
          "output_type": "stream",
          "text": [
            "Found 20000 validated image filenames belonging to 5 classes.\n"
          ],
          "name": "stdout"
        }
      ]
    },
    {
      "cell_type": "code",
      "metadata": {
        "colab": {
          "base_uri": "https://localhost:8080/"
        },
        "id": "uwy6M8sgK1KT",
        "outputId": "73f1bd9e-71b1-4c08-c6dd-da878362a5bf"
      },
      "source": [
        "num_classes = len(train_generator.class_indices)\n",
        "total_train_data = train_generator.samples\n",
        "\n",
        "print(f\"total_train_data = {total_train_data}\")\n",
        "print(f\"train_generator.image_shape = {train_generator.image_shape}\")\n",
        "print(f\"num_classes = {num_classes}\")"
      ],
      "execution_count": 16,
      "outputs": [
        {
          "output_type": "stream",
          "text": [
            "total_train_data = 20000\n",
            "train_generator.image_shape = (768, 768, 3)\n",
            "num_classes = 5\n"
          ],
          "name": "stdout"
        }
      ]
    },
    {
      "cell_type": "code",
      "metadata": {
        "colab": {
          "base_uri": "https://localhost:8080/"
        },
        "id": "YsvrZgrALXMl",
        "outputId": "541903a7-cff9-490d-831b-5e11ee8fda6c"
      },
      "source": [
        "test_generator = test_datagen.flow_from_dataframe(\n",
        "        test_df,\n",
        "        directory=None,\n",
        "        x_col='path', \n",
        "        y_col='label',\n",
        "        target_size=(768, 768),  # target images are automatically resized to (256, 256)\n",
        "        batch_size=BATCH_SIZE,\n",
        "        shuffle = False,\n",
        "        color_mode=color_type, # grayscale, rgb\n",
        "        class_mode='categorical')"
      ],
      "execution_count": 17,
      "outputs": [
        {
          "output_type": "stream",
          "text": [
            "Found 5000 validated image filenames belonging to 5 classes.\n"
          ],
          "name": "stdout"
        }
      ]
    },
    {
      "cell_type": "code",
      "metadata": {
        "colab": {
          "base_uri": "https://localhost:8080/"
        },
        "id": "HxU0D6TuOOOL",
        "outputId": "de6ced6b-e722-4faf-8e6f-af7861cb9e10"
      },
      "source": [
        "total_test_data = test_generator.samples\n",
        "print(f\"total_test_data = {total_test_data}\")"
      ],
      "execution_count": 18,
      "outputs": [
        {
          "output_type": "stream",
          "text": [
            "total_test_data = 5000\n"
          ],
          "name": "stdout"
        }
      ]
    },
    {
      "cell_type": "code",
      "metadata": {
        "id": "roidu5RmFRJq"
      },
      "source": [
        ""
      ],
      "execution_count": 18,
      "outputs": []
    },
    {
      "cell_type": "code",
      "metadata": {
        "colab": {
          "base_uri": "https://localhost:8080/",
          "height": 36
        },
        "id": "XRwynF9xPBWy",
        "outputId": "d1034584-192d-49fa-e7e7-dcebf5302e3f"
      },
      "source": [
        "# DenseNet121 ResNet101 ResNet50 DenseNet201 InceptionV3 Xception NASNetLarge ResNet152V2 InceptionResNetV2 EfficientNetB7\n",
        "impl_type = \"noTL.Custom1\" # TransferLearning3D \n",
        "dataset = f\"{Dataset_Name}.{color_type}.{train_generator.image_shape[1]}p.DataFlow\" # +str(img_size)+\"p\"\n",
        "dataset"
      ],
      "execution_count": 19,
      "outputs": [
        {
          "output_type": "execute_result",
          "data": {
            "application/vnd.google.colaboratory.intrinsic+json": {
              "type": "string"
            },
            "text/plain": [
              "'Lung.Colon.Cancer.Hist.5k5.rgb.768p.DataFlow'"
            ]
          },
          "metadata": {
            "tags": []
          },
          "execution_count": 19
        }
      ]
    },
    {
      "cell_type": "code",
      "metadata": {
        "id": "rLVsewD-O3gl",
        "colab": {
          "base_uri": "https://localhost:8080/",
          "height": 36
        },
        "outputId": "d79e012c-ed13-4c29-8bd7-613ee823c2d8"
      },
      "source": [
        "'''\n",
        "count_no_improvement = 0\n",
        "epoch_initial = True\n",
        "#'''"
      ],
      "execution_count": 20,
      "outputs": [
        {
          "output_type": "execute_result",
          "data": {
            "application/vnd.google.colaboratory.intrinsic+json": {
              "type": "string"
            },
            "text/plain": [
              "'\\ncount_no_improvement = 0\\nepoch_initial = True\\n#'"
            ]
          },
          "metadata": {
            "tags": []
          },
          "execution_count": 20
        }
      ]
    },
    {
      "cell_type": "code",
      "metadata": {
        "colab": {
          "base_uri": "https://localhost:8080/"
        },
        "id": "OxppPm7hO3l8",
        "outputId": "84d87326-b78f-446a-972c-431c22ec1a46"
      },
      "source": [
        "#NUM_NEURONS = 16\n",
        "#NUM_LAYERS = 3\n",
        "#BATCH_SIZE = 16 # 10\n",
        "NUM_EPOCHS = 50 # 300, 5\n",
        "epochs_completed = 0\n",
        "LEARNING_RATE = 0.00001\n",
        "EPSILON = 1e-4\n",
        "early_stop_after_epochs = 50\n",
        "DROPOUT = 0.5 # 0.5 0.0\n",
        "pad = 0\n",
        "\n",
        "LOSS = 'categorical_crossentropy'\n",
        "ACTIVATION_FUNCTION = 'elu' # relu sigmoid elu\n",
        "FINAL_ACTIVATION_FUNCTION = 'softmax'\n",
        "validation_split = 0.1\n",
        "kernel_size=(1,1)\n",
        "pointTrainableAfter = \"allDefault\" # \"allDefault\" 160 170\n",
        "OPTIMIZER = \"Adam\" # Adam SGD RMSProp\n",
        "init_weights = \"None\" # \"imagenet\" None\n",
        "modelExt = \"\" # .Dense.128.256.512, .512.512.512 .Dense.512.512.512.512.Res\n",
        "l2_val = 0.001\n",
        "\n",
        "# +\"_kernel\"+str(kernel_size)+\"_lr\"+str(LEARNING_RATE)+\"_batch\"+str(BATCH_SIZE)+\"_epochs\"+str(NUM_EPOCHS)\n",
        "#checkpointer_name  = \"weights_\"+dataset+\"_\"+impl_type+\"_nLayers\"+str(NUM_LAYERS)+\"_nNeurons\"+str(NUM_NEURONS)+\".hdf5\"\n",
        "ext = f\".run_1\" # run_1 run_2 .DropAfter .momentum0.9\n",
        "#'''\n",
        "checkpointer_name  = \"weights.\"+dataset+\".pad\"+str(pad)+\".\"+impl_type+\".wInit.\"+str(init_weights)+\".TrainableAfter.\"+str(pointTrainableAfter)+\\\n",
        "                     modelExt+\".actF.\"+ACTIVATION_FUNCTION+\".opt.\"+OPTIMIZER+\".drop.\"+str(DROPOUT)+\".batch\"+str(BATCH_SIZE)+ext+\".hdf5\"\n",
        "log_name = \"log.\"+checkpointer_name[8:-5]+\".log\"\n",
        "\n",
        "print('checkpointer_name =', checkpointer_name)\n",
        "print('log_name =', log_name)\n",
        "#'''"
      ],
      "execution_count": 21,
      "outputs": [
        {
          "output_type": "stream",
          "text": [
            "checkpointer_name = weights.Lung.Colon.Cancer.Hist.5k5.rgb.768p.DataFlow.pad0.noTL.Custom1.wInit.None.TrainableAfter.allDefault.actF.elu.opt.Adam.drop.0.5.batch16.run_1.hdf5\n",
            "log_name = log.Lung.Colon.Cancer.Hist.5k5.rgb.768p.DataFlow.pad0.noTL.Custom1.wInit.None.TrainableAfter.allDefault.actF.elu.opt.Adam.drop.0.5.batch16.run_1.log\n"
          ],
          "name": "stdout"
        }
      ]
    },
    {
      "cell_type": "code",
      "metadata": {
        "colab": {
          "base_uri": "https://localhost:8080/"
        },
        "id": "hcB3WVaWO6BV",
        "outputId": "d5307a89-1a2b-4eb0-e1fa-8f4200facf50"
      },
      "source": [
        "train_generator.image_shape"
      ],
      "execution_count": 22,
      "outputs": [
        {
          "output_type": "execute_result",
          "data": {
            "text/plain": [
              "(768, 768, 3)"
            ]
          },
          "metadata": {
            "tags": []
          },
          "execution_count": 22
        }
      ]
    },
    {
      "cell_type": "code",
      "metadata": {
        "colab": {
          "base_uri": "https://localhost:8080/",
          "height": 128
        },
        "id": "XyK6ZbJOOsjV",
        "outputId": "ab3f3c63-cef7-41be-ad8b-a90a231c7136"
      },
      "source": [
        "\"\"\"\n",
        "#base_model=DenseNet121(weights=None, include_top=False, input_shape=np_train_dataset2.shape[1:]) # `None` (random initialization)\n",
        "#base_model=ResNet152V2(weights=None, include_top=False, input_shape=np_train_dataset2.shape[1:])\n",
        "# ResNet152V2 ResNet50 ResNet101 ResNet152 DenseNet201 InceptionV3 Xception NASNetLarge 'imagenet' ResNet152V2 DenseNet121\n",
        "#inputs = Input(final_train_imageset.shape[1:])\n",
        "#x = ZeroPadding2D(padding=(pad,pad))(inputs)\n",
        "#base_model=tf.keras.applications.ResNet50(weights=init_weights, include_top=False, input_tensor=x)\n",
        "base_model=tf.keras.applications.DenseNet201(weights=init_weights, include_top=False, input_shape=train_generator.image_shape)\n",
        "x=base_model.output\n",
        "\n",
        "x = Flatten()(x)\n",
        "\n",
        "#'''\n",
        "x = Dense(1024, kernel_regularizer=tf.keras.regularizers.l2(l2_val), activation=ACTIVATION_FUNCTION)(x)\n",
        "#x_copy = x\n",
        "x = Dropout(DROPOUT)(x)\n",
        "x = Dense(1024, kernel_regularizer=tf.keras.regularizers.l2(l2_val), activation=ACTIVATION_FUNCTION)(x)\n",
        "x = Dropout(DROPOUT)(x)\n",
        "x = Dense(2048, kernel_regularizer=tf.keras.regularizers.l2(l2_val), activation=ACTIVATION_FUNCTION)(x)\n",
        "x = Dropout(DROPOUT)(x)\n",
        "#x = Add()([x,x_copy])\n",
        "#'''\n",
        "outputs=Dense(num_classes,activation='softmax')(x)\n",
        "\n",
        "model=Model(inputs=base_model.input,outputs=outputs)\n",
        "model.summary()\n",
        "#\"\"\""
      ],
      "execution_count": 23,
      "outputs": [
        {
          "output_type": "execute_result",
          "data": {
            "application/vnd.google.colaboratory.intrinsic+json": {
              "type": "string"
            },
            "text/plain": [
              "\"\\n#base_model=DenseNet121(weights=None, include_top=False, input_shape=np_train_dataset2.shape[1:]) # `None` (random initialization)\\n#base_model=ResNet152V2(weights=None, include_top=False, input_shape=np_train_dataset2.shape[1:])\\n# ResNet152V2 ResNet50 ResNet101 ResNet152 DenseNet201 InceptionV3 Xception NASNetLarge 'imagenet' ResNet152V2 DenseNet121\\n#inputs = Input(final_train_imageset.shape[1:])\\n#x = ZeroPadding2D(padding=(pad,pad))(inputs)\\n#base_model=tf.keras.applications.ResNet50(weights=init_weights, include_top=False, input_tensor=x)\\nbase_model=tf.keras.applications.DenseNet201(weights=init_weights, include_top=False, input_shape=train_generator.image_shape)\\nx=base_model.output\\n\\nx = Flatten()(x)\\n\\n#'''\\nx = Dense(1024, kernel_regularizer=tf.keras.regularizers.l2(l2_val), activation=ACTIVATION_FUNCTION)(x)\\n#x_copy = x\\nx = Dropout(DROPOUT)(x)\\nx = Dense(1024, kernel_regularizer=tf.keras.regularizers.l2(l2_val), activation=ACTIVATION_FUNCTION)(x)\\nx = Dropout(DROPOUT)(x)\\nx = Dense(2048, kernel_regularizer=tf.keras.regularizers.l2(l2_val), activation=ACTIVATION_FUNCTION)(x)\\nx = Dropout(DROPOUT)(x)\\n#x = Add()([x,x_copy])\\n#'''\\noutputs=Dense(num_classes,activation='softmax')(x)\\n\\nmodel=Model(inputs=base_model.input,outputs=outputs)\\nmodel.summary()\\n#\""
            ]
          },
          "metadata": {
            "tags": []
          },
          "execution_count": 23
        }
      ]
    },
    {
      "cell_type": "code",
      "metadata": {
        "colab": {
          "base_uri": "https://localhost:8080/"
        },
        "id": "qQ6l4-yROFbT",
        "outputId": "31640e00-77a2-4782-8e65-966968df6d36"
      },
      "source": [
        "inputs = Input(train_generator.image_shape)\n",
        "x = inputs\n",
        "\n",
        "x = Conv2D(16, kernel_size=(3,3), strides=(1,1), padding='valid')(x)\n",
        "x = Activation('elu')(x)\n",
        "x = MaxPooling2D(pool_size=(2,2), padding='valid')(x)\n",
        "x = Conv2D(16, kernel_size=(3,3), strides=(1,1), padding='same')(x)\n",
        "x = Activation('elu')(x)\n",
        "x = MaxPooling2D(pool_size=(2,2), padding='valid')(x)\n",
        "x = Conv2D(32, kernel_size=(3,3), strides=(1,1), padding='same')(x)\n",
        "x = Activation('elu')(x)\n",
        "x = MaxPooling2D(pool_size=(2,2), padding='valid')(x)\n",
        "x = Conv2D(32, kernel_size=(3,3), strides=(1,1), padding='same')(x)\n",
        "x = Activation('elu')(x)\n",
        "x = MaxPooling2D(pool_size=(2,2), padding='valid')(x)\n",
        "x = Conv2D(64, kernel_size=(3,3), strides=(1,1), padding='same')(x)\n",
        "x = Activation('elu')(x)\n",
        "x = MaxPooling2D(pool_size=(2,2), padding='valid')(x)\n",
        "x = Conv2D(64, kernel_size=(3,3), strides=(1,1), padding='same')(x)\n",
        "x = Activation('elu')(x)\n",
        "x = MaxPooling2D(pool_size=(2,2), padding='valid')(x)\n",
        "x = Conv2D(128, kernel_size=(3,3), strides=(1,1), padding='same')(x)\n",
        "x = Activation('elu')(x)\n",
        "x = MaxPooling2D(pool_size=(2,2), padding='valid')(x)\n",
        "x = Conv2D(128, kernel_size=(3,3), strides=(1,1), padding='same')(x)\n",
        "x = Activation('elu')(x)\n",
        "\n",
        "x = Flatten()(x)\n",
        "x = Dense(512, kernel_regularizer=tf.keras.regularizers.l2(l2_val))(x)\n",
        "x = Activation('elu')(x)\n",
        "x = Dense(512, kernel_regularizer=tf.keras.regularizers.l2(l2_val))(x)\n",
        "x = Activation('elu')(x)\n",
        "x = Dense(1024, kernel_regularizer=tf.keras.regularizers.l2(l2_val))(x)\n",
        "x = Activation('elu')(x)\n",
        "x = Dense(1024, kernel_regularizer=tf.keras.regularizers.l2(l2_val))(x)\n",
        "x = Activation('elu')(x)\n",
        "x = Dense(2048, kernel_regularizer=tf.keras.regularizers.l2(l2_val))(x)\n",
        "x = Activation('elu')(x)\n",
        "\n",
        "outputs = Dense(num_classes, activation='softmax')(x)\n",
        "model=Model(inputs=inputs,outputs=outputs)\n",
        "model.summary()"
      ],
      "execution_count": 24,
      "outputs": [
        {
          "output_type": "stream",
          "text": [
            "Model: \"model\"\n",
            "_________________________________________________________________\n",
            "Layer (type)                 Output Shape              Param #   \n",
            "=================================================================\n",
            "input_1 (InputLayer)         [(None, 768, 768, 3)]     0         \n",
            "_________________________________________________________________\n",
            "conv2d (Conv2D)              (None, 766, 766, 16)      448       \n",
            "_________________________________________________________________\n",
            "activation (Activation)      (None, 766, 766, 16)      0         \n",
            "_________________________________________________________________\n",
            "max_pooling2d (MaxPooling2D) (None, 383, 383, 16)      0         \n",
            "_________________________________________________________________\n",
            "conv2d_1 (Conv2D)            (None, 383, 383, 16)      2320      \n",
            "_________________________________________________________________\n",
            "activation_1 (Activation)    (None, 383, 383, 16)      0         \n",
            "_________________________________________________________________\n",
            "max_pooling2d_1 (MaxPooling2 (None, 191, 191, 16)      0         \n",
            "_________________________________________________________________\n",
            "conv2d_2 (Conv2D)            (None, 191, 191, 32)      4640      \n",
            "_________________________________________________________________\n",
            "activation_2 (Activation)    (None, 191, 191, 32)      0         \n",
            "_________________________________________________________________\n",
            "max_pooling2d_2 (MaxPooling2 (None, 95, 95, 32)        0         \n",
            "_________________________________________________________________\n",
            "conv2d_3 (Conv2D)            (None, 95, 95, 32)        9248      \n",
            "_________________________________________________________________\n",
            "activation_3 (Activation)    (None, 95, 95, 32)        0         \n",
            "_________________________________________________________________\n",
            "max_pooling2d_3 (MaxPooling2 (None, 47, 47, 32)        0         \n",
            "_________________________________________________________________\n",
            "conv2d_4 (Conv2D)            (None, 47, 47, 64)        18496     \n",
            "_________________________________________________________________\n",
            "activation_4 (Activation)    (None, 47, 47, 64)        0         \n",
            "_________________________________________________________________\n",
            "max_pooling2d_4 (MaxPooling2 (None, 23, 23, 64)        0         \n",
            "_________________________________________________________________\n",
            "conv2d_5 (Conv2D)            (None, 23, 23, 64)        36928     \n",
            "_________________________________________________________________\n",
            "activation_5 (Activation)    (None, 23, 23, 64)        0         \n",
            "_________________________________________________________________\n",
            "max_pooling2d_5 (MaxPooling2 (None, 11, 11, 64)        0         \n",
            "_________________________________________________________________\n",
            "conv2d_6 (Conv2D)            (None, 11, 11, 128)       73856     \n",
            "_________________________________________________________________\n",
            "activation_6 (Activation)    (None, 11, 11, 128)       0         \n",
            "_________________________________________________________________\n",
            "max_pooling2d_6 (MaxPooling2 (None, 5, 5, 128)         0         \n",
            "_________________________________________________________________\n",
            "conv2d_7 (Conv2D)            (None, 5, 5, 128)         147584    \n",
            "_________________________________________________________________\n",
            "activation_7 (Activation)    (None, 5, 5, 128)         0         \n",
            "_________________________________________________________________\n",
            "flatten (Flatten)            (None, 3200)              0         \n",
            "_________________________________________________________________\n",
            "dense (Dense)                (None, 512)               1638912   \n",
            "_________________________________________________________________\n",
            "activation_8 (Activation)    (None, 512)               0         \n",
            "_________________________________________________________________\n",
            "dense_1 (Dense)              (None, 512)               262656    \n",
            "_________________________________________________________________\n",
            "activation_9 (Activation)    (None, 512)               0         \n",
            "_________________________________________________________________\n",
            "dense_2 (Dense)              (None, 1024)              525312    \n",
            "_________________________________________________________________\n",
            "activation_10 (Activation)   (None, 1024)              0         \n",
            "_________________________________________________________________\n",
            "dense_3 (Dense)              (None, 1024)              1049600   \n",
            "_________________________________________________________________\n",
            "activation_11 (Activation)   (None, 1024)              0         \n",
            "_________________________________________________________________\n",
            "dense_4 (Dense)              (None, 2048)              2099200   \n",
            "_________________________________________________________________\n",
            "activation_12 (Activation)   (None, 2048)              0         \n",
            "_________________________________________________________________\n",
            "dense_5 (Dense)              (None, 5)                 10245     \n",
            "=================================================================\n",
            "Total params: 5,879,445\n",
            "Trainable params: 5,879,445\n",
            "Non-trainable params: 0\n",
            "_________________________________________________________________\n"
          ],
          "name": "stdout"
        }
      ]
    },
    {
      "cell_type": "code",
      "metadata": {
        "colab": {
          "base_uri": "https://localhost:8080/",
          "height": 1000
        },
        "id": "WgomlDGDqn6-",
        "outputId": "8ba5841d-8f69-4455-8c82-e5c649175986"
      },
      "source": [
        "#'''\n",
        "save_model_png = work_dir+'Images/'+'model.'+checkpointer_name[8:-5]+'.png'\n",
        "print(f\"save_model_png = {save_model_png}\\n\")\n",
        "tf.keras.utils.plot_model(\n",
        "    model, to_file=save_model_png, show_shapes=True, show_dtype=False,\n",
        "    show_layer_names=True, rankdir='TB', expand_nested=True, dpi=64\n",
        ")\n",
        "#'''"
      ],
      "execution_count": 68,
      "outputs": [
        {
          "output_type": "stream",
          "text": [
            "save_model_png = drive/My Drive/Cancer/Lung and Colon Cancer Histopathological Images/Records/Images/model.Lung.Colon.Cancer.Hist.5k5.rgb.768p.DataFlow.pad0.noTL.Custom1.wInit.None.TrainableAfter.allDefault.actF.elu.opt.Adam.drop.0.5.batch16.run_1.png\n",
            "\n"
          ],
          "name": "stdout"
        },
        {
          "output_type": "execute_result",
          "data": {
            "image/png": "[encoded data removed]",
            "text/plain": [
              "<IPython.core.display.Image object>"
            ]
          },
          "metadata": {
            "tags": []
          },
          "execution_count": 68
        }
      ]
    },
    {
      "cell_type": "code",
      "metadata": {
        "colab": {
          "base_uri": "https://localhost:8080/"
        },
        "id": "ozx7Z-ZiUE-2",
        "outputId": "675cc53d-5599-4080-d873-06f9266bc9ac"
      },
      "source": [
        "count_trainable = 0\n",
        "count_non_trainable = 0\n",
        "\n",
        "#'''\n",
        "if pointTrainableAfter == \"allDefault\":\n",
        "    for layer in model.layers:\n",
        "        layer.trainable=True\n",
        "        count_trainable += 1\n",
        "elif pointTrainableAfter > 0:\n",
        "    for layer in model.layers[:pointTrainableAfter]: # [:-pointTrainableAfter]\n",
        "        layer.trainable=False\n",
        "        count_non_trainable += 1\n",
        "    for layer in model.layers[pointTrainableAfter:]: # [-pointTrainableAfter:]\n",
        "        layer.trainable=True\n",
        "        count_trainable += 1\n",
        "#'''\n",
        "\n",
        "'''\n",
        "for layer in model.layers:\n",
        "    layer.trainable=True\n",
        "    count_trainable += 1\n",
        "#'''\n",
        "\n",
        "print(\"count_non_trainable =\", count_non_trainable)\n",
        "print(\"count_trainable =\", count_trainable)\n",
        "print(\"Total number of layers =\", count_non_trainable+count_trainable)"
      ],
      "execution_count": 26,
      "outputs": [
        {
          "output_type": "stream",
          "text": [
            "count_non_trainable = 0\n",
            "count_trainable = 36\n",
            "Total number of layers = 36\n"
          ],
          "name": "stdout"
        }
      ]
    },
    {
      "cell_type": "code",
      "metadata": {
        "colab": {
          "base_uri": "https://localhost:8080/",
          "height": 72
        },
        "id": "aqwYD5TGPxyV",
        "outputId": "c1d51c8f-ab1c-47be-b6f5-db52a632876d"
      },
      "source": [
        "'''\n",
        "checkpointer_name  = \"weights.\"+dataset+\".pad\"+str(pad)+\".\"+impl_type+\".wInit.\"+str(init_weights)+\".TrainableAfter.\"+str(pointTrainableAfter)+\\\n",
        "                     modelExt+\".opt.\"+OPTIMIZER+\".drop.\"+str(DROPOUT)+\".batch\"+str(BATCH_SIZE)+ext+\".hdf5\"\n",
        "log_name = \"log.\"+checkpointer_name[8:-5]+\".log\"\n",
        "\n",
        "print('checkpointer_name =', checkpointer_name)\n",
        "print('log_name =', log_name)\n",
        "#'''"
      ],
      "execution_count": 27,
      "outputs": [
        {
          "output_type": "execute_result",
          "data": {
            "application/vnd.google.colaboratory.intrinsic+json": {
              "type": "string"
            },
            "text/plain": [
              "'\\ncheckpointer_name  = \"weights.\"+dataset+\".pad\"+str(pad)+\".\"+impl_type+\".wInit.\"+str(init_weights)+\".TrainableAfter.\"+str(pointTrainableAfter)+                     modelExt+\".opt.\"+OPTIMIZER+\".drop.\"+str(DROPOUT)+\".batch\"+str(BATCH_SIZE)+ext+\".hdf5\"\\nlog_name = \"log.\"+checkpointer_name[8:-5]+\".log\"\\n\\nprint(\\'checkpointer_name =\\', checkpointer_name)\\nprint(\\'log_name =\\', log_name)\\n#'"
            ]
          },
          "metadata": {
            "tags": []
          },
          "execution_count": 27
        }
      ]
    },
    {
      "cell_type": "code",
      "metadata": {
        "id": "V7TtWSDfE_Te"
      },
      "source": [
        ""
      ],
      "execution_count": 27,
      "outputs": []
    },
    {
      "cell_type": "code",
      "metadata": {
        "colab": {
          "base_uri": "https://localhost:8080/"
        },
        "id": "3T7w_lC1QCPh",
        "outputId": "bf488d09-1e43-49b9-9e32-3673b31a2f8e"
      },
      "source": [
        "# \"RMSProp\" \"SGD\" \"Adam\" \"Adamax\" \"Adadelta\" \"Adagrad\" \"SGD\"\n",
        "#optimizer = tf.keras.optimizers.RMSprop(lr = LEARNING_RATE, epsilon=EPSILON)\n",
        "\n",
        "if OPTIMIZER == \"RMSProp\":\n",
        "    optimizer = tf.keras.optimizers.RMSprop(learning_rate = LEARNING_RATE, epsilon=EPSILON)\n",
        "elif OPTIMIZER == \"Adam\":\n",
        "    optimizer = tf.keras.optimizers.Adam(learning_rate = LEARNING_RATE, epsilon=EPSILON, beta_1=0.9, beta_2=0.999)\n",
        "elif OPTIMIZER == \"Adamax\":\n",
        "    optimizer = tf.keras.optimizers.Adamax(learning_rate = LEARNING_RATE, epsilon=EPSILON, beta_1=0.9, beta_2=0.999)\n",
        "elif OPTIMIZER == \"Adadelta\":\n",
        "    optimizer = tf.keras.optimizers.Adadelta(learning_rate = LEARNING_RATE, epsilon=EPSILON, rho=0.95)\n",
        "elif OPTIMIZER == \"Adagrad\":\n",
        "    optimizer = tf.keras.optimizers.Adagrad(learning_rate = LEARNING_RATE, epsilon=EPSILON, initial_accumulator_value=0.1)\n",
        "elif OPTIMIZER == \"SGD\":\n",
        "    optimizer = tf.keras.optimizers.SGD(learning_rate = LEARNING_RATE, momentum=0.9)\n",
        "\n",
        "model.compile(\n",
        "    #optimizer=OPTIMIZER,\n",
        "    optimizer=optimizer,\n",
        "    loss=LOSS,\n",
        "    metrics=['accuracy', 'Precision', 'Recall', 'AUC', 'TruePositives', 'TrueNegatives', 'FalsePositives', 'FalseNegatives']\n",
        ")\n",
        "\n",
        "print(\"OPTIMIZER =\", OPTIMIZER)"
      ],
      "execution_count": 28,
      "outputs": [
        {
          "output_type": "stream",
          "text": [
            "OPTIMIZER = Adam\n"
          ],
          "name": "stdout"
        }
      ]
    },
    {
      "cell_type": "code",
      "metadata": {
        "id": "OdySVEG3QCpv"
      },
      "source": [
        "# save the best model with least validation loss\n",
        "checkpointer = ModelCheckpoint(filepath = work_dir+checkpointer_name, \n",
        "                               #monitor='val_accuracy',\n",
        "                               monitor='val_loss',\n",
        "                               save_weights_only=False,  \n",
        "                               mode='auto', \n",
        "                               verbose = 1, # 0 = silent, 1 = progress bar, 2 = one line per epoch\n",
        "                               save_best_only =False\n",
        "                               )\n",
        "checkpointer_best = ModelCheckpoint(filepath = work_dir+\"best_\"+checkpointer_name, \n",
        "                                    monitor='val_loss', \n",
        "                                    save_weights_only=False,\n",
        "                                    mode='auto',  \n",
        "                                    verbose = 1, \n",
        "                                    save_best_only = True\n",
        "                                    )\n",
        "early_stopping = EarlyStopping(monitor='loss', patience=early_stop_after_epochs)"
      ],
      "execution_count": 29,
      "outputs": []
    },
    {
      "cell_type": "code",
      "metadata": {
        "colab": {
          "base_uri": "https://localhost:8080/"
        },
        "id": "Fq3iXmYXQHNL",
        "outputId": "d6cd1ea0-aab0-4b39-e35f-974dd5988b35"
      },
      "source": [
        "'''\n",
        "if 'count_no_improvement' not in globals():\n",
        "    count_no_improvement = 0\n",
        "    print(\"count_no_improvement =\", count_no_improvement)\n",
        "#'''\n",
        "#'''\n",
        "count_no_improvement = 0 # 0\n",
        "epoch_initial = False\n",
        "#'''\n",
        "min_delta = 0.0009\n",
        "print(\"count_no_improvement =\", count_no_improvement)\n",
        "\n",
        "def checkBestPerformance(epoch, logs):\n",
        "    save_filepath = work_dir+\"best_\"+checkpointer_name\n",
        "\n",
        "    global epoch_initial\n",
        "    if epoch_initial == True:\n",
        "        epoch_initial = False\n",
        "        model.save(filepath = save_filepath)\n",
        "        print(\". Model saved!\")\n",
        "\n",
        "    elif epoch_initial == False:\n",
        "        global count_no_improvement\n",
        "\n",
        "        log_data = pd.read_csv(work_dir+log_name, sep=',', usecols=['val_loss', 'val_accuracy'], engine='python')\n",
        "        min_val_loss = float(str(min(log_data.val_loss.values))[:6])\n",
        "        max_val_acc = float(str(max(log_data.val_accuracy.values))[:6])\n",
        "\n",
        "        current_val_acc = float(str(logs['val_accuracy'])[:6])\n",
        "        current_val_loss = float(str(logs['val_loss'])[:6])\n",
        "\n",
        "        if (current_val_loss < min_val_loss) and (abs(current_val_loss-min_val_loss) >= min_delta):\n",
        "            count_no_improvement = 0\n",
        "            model.save(filepath = save_filepath)\n",
        "            print(\"\\nval_loss decreased from\",min_val_loss,\" to\",current_val_loss,\"( val_accuracy =\",current_val_acc,\").\")\n",
        "\n",
        "        elif (current_val_loss==min_val_loss) and (current_val_acc>max_val_acc):\n",
        "            count_no_improvement = 0\n",
        "            model.save(filepath = save_filepath)\n",
        "            print(\"\\nval_accuracy increased to\", current_val_acc, \".\")\n",
        "\n",
        "        else:\n",
        "            count_no_improvement += 1\n",
        "            print(\". count_no_improvement =\", count_no_improvement)\n",
        "\n",
        "        if count_no_improvement >= early_stop_after_epochs:\n",
        "            global list_callbacks\n",
        "            del list_callbacks, count_no_improvement\n",
        "            #print(\"count_no_improvement =\", count_no_improvement, \"... list_callbacks =\", list_callbacks)"
      ],
      "execution_count": 30,
      "outputs": [
        {
          "output_type": "stream",
          "text": [
            "count_no_improvement = 0\n"
          ],
          "name": "stdout"
        }
      ]
    },
    {
      "cell_type": "code",
      "metadata": {
        "colab": {
          "base_uri": "https://localhost:8080/"
        },
        "id": "YYewyuDiREFZ",
        "outputId": "575e98a2-30ff-4889-962d-4d3b34bb29ab"
      },
      "source": [
        "epochs_completed = 0\n",
        "list_callbacks = []\n",
        "csv_logger = CSVLogger(work_dir+log_name, separator=',', append=True)\n",
        "\n",
        "#if 'list_callbacks' in globals():\n",
        "#    del list_callbacks\n",
        "\n",
        "try:\n",
        "    log_data = pd.read_csv(work_dir+log_name, sep=',', usecols=['epoch'], engine='python')\n",
        "    epochs_completed = log_data.shape[0]\n",
        "\n",
        "    #if epochs_completed > 0:\n",
        "    model = load_model(work_dir+checkpointer_name)\n",
        "    list_callbacks = [checkpointer, LambdaCallback(on_epoch_end=checkBestPerformance), csv_logger]\n",
        "    print(\"epochs_completed =\", epochs_completed)\n",
        "\n",
        "except Exception as error:\n",
        "    if epochs_completed == 0:\n",
        "        # list_callbacks = [checkpointer, checkpointer_best, csv_logger, early_stopping] \n",
        "        list_callbacks = [checkpointer, LambdaCallback(on_epoch_end=checkBestPerformance), csv_logger]\n",
        "        print(\"epochs_completed =\", epochs_completed)\n",
        "    elif epochs_completed > 0:\n",
        "        print(error)\n",
        "\n",
        "print('checkpointer_name =', checkpointer_name)"
      ],
      "execution_count": 31,
      "outputs": [
        {
          "output_type": "stream",
          "text": [
            "epochs_completed = 50\n",
            "checkpointer_name = weights.Lung.Colon.Cancer.Hist.5k5.rgb.768p.DataFlow.pad0.noTL.Custom1.wInit.None.TrainableAfter.allDefault.actF.elu.opt.Adam.drop.0.5.batch16.run_1.hdf5\n"
          ],
          "name": "stdout"
        }
      ]
    },
    {
      "cell_type": "code",
      "metadata": {
        "colab": {
          "base_uri": "https://localhost:8080/"
        },
        "id": "6JKqrHnwRGGz",
        "outputId": "65203215-1834-4112-ad7f-d9142bb95a0b"
      },
      "source": [
        "print('checkpointer_name =', checkpointer_name)\n",
        "print(\"Previously completed epochs =\", epochs_completed)\n",
        "print(\"count_no_improvement =\", count_no_improvement, \"\\n\")\n",
        "\n",
        "#'''\n",
        "try:\n",
        "    start_time = time.time()\n",
        "    history = model.fit(train_generator, \n",
        "                        steps_per_epoch=total_train_data // BATCH_SIZE,\n",
        "                        shuffle=True, \n",
        "                        epochs = NUM_EPOCHS - epochs_completed, \n",
        "                        validation_data=test_generator,\n",
        "                        validation_steps=total_test_data // BATCH_SIZE,\n",
        "                        verbose = 1,\n",
        "                        callbacks=list_callbacks\n",
        "                        )\n",
        "    elapsed_time = time.time() - start_time \n",
        "    print(\"\\nTime elapsed: \", elapsed_time)\n",
        "\n",
        "except Exception as error:\n",
        "    print(\"\\nError:\", error)\n",
        "#'''"
      ],
      "execution_count": 32,
      "outputs": [
        {
          "output_type": "stream",
          "text": [
            "checkpointer_name = weights.Lung.Colon.Cancer.Hist.5k5.rgb.768p.DataFlow.pad0.noTL.Custom1.wInit.None.TrainableAfter.allDefault.actF.elu.opt.Adam.drop.0.5.batch16.run_1.hdf5\n",
            "Previously completed epochs = 50\n",
            "count_no_improvement = 0 \n",
            "\n",
            "\n",
            "Time elapsed:  3.5205981731414795\n"
          ],
          "name": "stdout"
        }
      ]
    },
    {
      "cell_type": "code",
      "metadata": {
        "id": "UJsgsZFzQCs2"
      },
      "source": [
        "# weights.Lung.Colon.Cancer.Hist.5k5.rgb.768p.DataFlow.pad0.noTL.Custom1.wInit.None.TrainableAfter.allDefault.actF.elu.opt.Adam.drop.0.5.batch16.run_1.hdf5\n"
      ],
      "execution_count": 33,
      "outputs": []
    },
    {
      "cell_type": "code",
      "metadata": {
        "id": "l_xKnoFvFQ4F",
        "colab": {
          "base_uri": "https://localhost:8080/",
          "height": 72
        },
        "outputId": "8a478c72-d1c7-4ec6-fa6b-e19d301462fd"
      },
      "source": [
        "'''\n",
        "Record: Lung_Colon_Cancer_Hist_5_folds_k5_impl_1_768p_RGB_Custom_noTL_DataFrame: \n",
        "(Accuracy: 96.33%, Precision: 96.39%, Recall: 96.37%, F-Measure: 96.38%):\n",
        "---\n",
        "\n",
        "#'''\n",
        "'''\n",
        "csv_logger = CSVLogger(work_dir+log_name, separator=',', append=True)\n",
        "log_data = pd.read_csv(work_dir+log_name, sep=',', usecols=['epoch'], engine='python')\n",
        "epochs_completed = log_data.shape[0]\n",
        "\n",
        "result = model.evaluate(test_generator, steps=total_test_data // BATCH_SIZE)\n",
        "print(\"Test Acc: {}, Precision: {}, Recall: {}, Test Loss: {}: ep{}, {}\\n\".format(round(result[1],4), round(result[2],4), round(result[3],4), round(result[0],4), epochs_completed, checkpointer_name))\n",
        "#'''"
      ],
      "execution_count": 34,
      "outputs": [
        {
          "output_type": "execute_result",
          "data": {
            "application/vnd.google.colaboratory.intrinsic+json": {
              "type": "string"
            },
            "text/plain": [
              "'\\ncsv_logger = CSVLogger(work_dir+log_name, separator=\\',\\', append=True)\\nlog_data = pd.read_csv(work_dir+log_name, sep=\\',\\', usecols=[\\'epoch\\'], engine=\\'python\\')\\nepochs_completed = log_data.shape[0]\\n\\nresult = model.evaluate(test_generator, steps=total_test_data // BATCH_SIZE)\\nprint(\"Test Acc: {}, Precision: {}, Recall: {}, Test Loss: {}: ep{}, {}\\n\".format(round(result[1],4), round(result[2],4), round(result[3],4), round(result[0],4), epochs_completed, checkpointer_name))\\n#'"
            ]
          },
          "metadata": {
            "tags": []
          },
          "execution_count": 34
        }
      ]
    },
    {
      "cell_type": "code",
      "metadata": {
        "id": "IQM7JieEFQ1G",
        "colab": {
          "base_uri": "https://localhost:8080/"
        },
        "outputId": "7005ea15-1af7-4e6e-e40d-af79c9156a1d"
      },
      "source": [
        "#checkpointer_name = \"weights.Fashion.DenseNet121.wInit.None.TrainableAfterallDefault.opt.SGD.drop.0.0.batch32.Flatten.run_1.hdf5\"\n",
        "model_loaded = load_model(work_dir+\"best_\"+checkpointer_name)\n",
        "print(\"Loaded \"+work_dir+\"best_\"+checkpointer_name+\".\")"
      ],
      "execution_count": 35,
      "outputs": [
        {
          "output_type": "stream",
          "text": [
            "Loaded drive/My Drive/Cancer/Lung and Colon Cancer Histopathological Images/Records/best_weights.Lung.Colon.Cancer.Hist.5k5.rgb.768p.DataFlow.pad0.noTL.Custom1.wInit.None.TrainableAfter.allDefault.actF.elu.opt.Adam.drop.0.5.batch16.run_1.hdf5.\n"
          ],
          "name": "stdout"
        }
      ]
    },
    {
      "cell_type": "code",
      "metadata": {
        "id": "chvVsOEgRfsO",
        "colab": {
          "base_uri": "https://localhost:8080/"
        },
        "outputId": "de67f9a7-c853-4cf6-d507-bd9e34ae0bac"
      },
      "source": [
        "'''\n",
        "Record: Lung_Colon_Cancer_Hist_5_folds_k5_impl_1_768p_RGB_Custom_noTL_DataFrame: \n",
        "(Accuracy: 96.33%, Precision: 96.39%, Recall: 96.37%, F-Measure: 96.38%):\n",
        "---\n",
        "Test Acc: 0.9766, Precision: 0.9766, Recall: 0.9764, Test Loss: 0.3401: ep47, weights.Lung.Colon.Cancer.Hist.5k5.rgb.768p.DataFlow.pad0.noTL.Custom1.wInit.None.TrainableAfter.allDefault.actF.elu.opt.Adam.drop.0.5.batch16.run_1.hdf5\n",
        "\n",
        "#'''\n",
        "'''\n",
        "csv_logger = CSVLogger(work_dir+log_name, separator=',', append=True)\n",
        "log_data = pd.read_csv(work_dir+log_name, sep=',', usecols=['epoch'], engine='python')\n",
        "epochs_completed = log_data.shape[0]\n",
        "#'''\n",
        "\n",
        "result2 = model_loaded.evaluate(test_generator, steps=total_test_data // BATCH_SIZE)\n",
        "#print(\"nLayers: {}, nNeurons: {}, DROPOUT: {}, Test Acc: {}, Test Loss: {}\".format(NUM_LAYERS, NUM_NEURONS, DROPOUT, round(result2[1], 4), round(result2[0], 4)))\n",
        "print(\"Test Acc: {}, Precision: {}, Recall: {}, Test Loss: {}: ep{}, {}\\n\".format(round(result2[1],4), round(result2[2],4), round(result2[3],4), round(result2[0],4), epochs_completed, checkpointer_name))\n"
      ],
      "execution_count": 36,
      "outputs": [
        {
          "output_type": "stream",
          "text": [
            "312/312 [==============================] - 1179s 4s/step - loss: 0.3401 - accuracy: 0.9766 - precision: 0.9766 - recall: 0.9764 - auc: 0.9983 - true_positives: 4874.0000 - true_negatives: 19851.0000 - false_positives: 117.0000 - false_negatives: 118.0000\n",
            "Test Acc: 0.9766, Precision: 0.9766, Recall: 0.9764, Test Loss: 0.3401: ep50, weights.Lung.Colon.Cancer.Hist.5k5.rgb.768p.DataFlow.pad0.noTL.Custom1.wInit.None.TrainableAfter.allDefault.actF.elu.opt.Adam.drop.0.5.batch16.run_1.hdf5\n",
            "\n"
          ],
          "name": "stdout"
        }
      ]
    },
    {
      "cell_type": "code",
      "metadata": {
        "id": "vbKfFMo9gDPZ"
      },
      "source": [
        ""
      ],
      "execution_count": 36,
      "outputs": []
    },
    {
      "cell_type": "code",
      "metadata": {
        "id": "hn9Yd4vHgDvH",
        "colab": {
          "base_uri": "https://localhost:8080/"
        },
        "outputId": "3b9a89d5-1dd2-42b0-cfb8-6f292bc74324"
      },
      "source": [
        "# metrics=['accuracy', 'Precision', 'Recall', 'AUC', 'TruePositives', 'TrueNegatives', 'FalsePositives', 'FalseNegatives']\n",
        "result2"
      ],
      "execution_count": 37,
      "outputs": [
        {
          "output_type": "execute_result",
          "data": {
            "text/plain": [
              "[0.34011349081993103,\n",
              " 0.9765625,\n",
              " 0.9765577912330627,\n",
              " 0.9763621687889099,\n",
              " 0.9982821941375732,\n",
              " 4874.0,\n",
              " 19851.0,\n",
              " 117.0,\n",
              " 118.0]"
            ]
          },
          "metadata": {
            "tags": []
          },
          "execution_count": 37
        }
      ]
    },
    {
      "cell_type": "code",
      "metadata": {
        "id": "pdej_0gOghKl",
        "colab": {
          "base_uri": "https://localhost:8080/"
        },
        "outputId": "1ccd8dae-50ad-4d68-fe00-79f14a758265"
      },
      "source": [
        "TP = result2[5]\n",
        "TN = result2[6]\n",
        "FP = result2[7]\n",
        "FN = result2[8]\n",
        "print(f\"TP={TP}, TN={TN}, FP={FP}, FN={FN}\")"
      ],
      "execution_count": 38,
      "outputs": [
        {
          "output_type": "stream",
          "text": [
            "TP=4874.0, TN=19851.0, FP=117.0, FN=118.0\n"
          ],
          "name": "stdout"
        }
      ]
    },
    {
      "cell_type": "code",
      "metadata": {
        "id": "VoGYlDuJnoYd",
        "colab": {
          "base_uri": "https://localhost:8080/",
          "height": 36
        },
        "outputId": "88b31790-68da-4ca0-812e-e1a3f0632702"
      },
      "source": [
        "'''\n",
        "run_1: accuracy=0.9766, sensitivity=recall=0.9764, specificity=0.9941, precision=0.9766, f1_score=0.9765, auc=0.9766\n",
        "\n",
        "'''"
      ],
      "execution_count": 39,
      "outputs": [
        {
          "output_type": "execute_result",
          "data": {
            "application/vnd.google.colaboratory.intrinsic+json": {
              "type": "string"
            },
            "text/plain": [
              "'\\nrun_1: accuracy=0.9766, sensitivity=recall=0.9764, specificity=0.9941, precision=0.9766, f1_score=0.9765, auc=0.9766\\n\\n'"
            ]
          },
          "metadata": {
            "tags": []
          },
          "execution_count": 39
        }
      ]
    },
    {
      "cell_type": "code",
      "metadata": {
        "id": "NlzLzPAThX6A",
        "colab": {
          "base_uri": "https://localhost:8080/"
        },
        "outputId": "5e82103b-b622-444a-fe5e-e1c818cef483"
      },
      "source": [
        "accuracy = round(result2[1], 4)\n",
        "sensitivity = round((TP / (TP+FN)), 4)\n",
        "specificity = round((TN / (FP+TN)), 4)\n",
        "precision = round((TP / (TP+FP)), 4)\n",
        "recall = sensitivity # sensitivity and recall are same.\n",
        "f1_score = round((2*precision*recall) / (precision+recall), 4)\n",
        "auc = round(result2[2], 4)\n",
        "\n",
        "print(f\"accuracy={accuracy}, sensitivity=recall={sensitivity}, specificity={specificity}, precision={precision}, f1_score={f1_score}, auc={auc}\")"
      ],
      "execution_count": 40,
      "outputs": [
        {
          "output_type": "stream",
          "text": [
            "accuracy=0.9766, sensitivity=recall=0.9764, specificity=0.9941, precision=0.9766, f1_score=0.9765, auc=0.9766\n"
          ],
          "name": "stdout"
        }
      ]
    },
    {
      "cell_type": "code",
      "metadata": {
        "id": "SIIc9qKegDyk"
      },
      "source": [
        ""
      ],
      "execution_count": 40,
      "outputs": []
    },
    {
      "cell_type": "code",
      "metadata": {
        "id": "z1GzwpODRlRf",
        "colab": {
          "base_uri": "https://localhost:8080/"
        },
        "outputId": "6d249bc6-7758-450f-c280-48b0f3119be7"
      },
      "source": [
        "import csv\n",
        "\n",
        "with open(work_dir+'Records.csv', \"a\") as fp:\n",
        "    wr = csv.writer(fp, dialect='excel')\n",
        "    try:\n",
        "        wr.writerow([checkpointer_name[8:-5], round(result2[1], 4), round(result2[0], 4), elapsed_time])\n",
        "    except:\n",
        "        wr.writerow([checkpointer_name[8:-5], round(result2[1], 4), round(result2[0], 4)])\n",
        "print(\"Saved results.\")"
      ],
      "execution_count": 41,
      "outputs": [
        {
          "output_type": "stream",
          "text": [
            "Saved results.\n"
          ],
          "name": "stdout"
        }
      ]
    },
    {
      "cell_type": "code",
      "metadata": {
        "id": "Dv35-hm1Rfv5"
      },
      "source": [
        ""
      ],
      "execution_count": 41,
      "outputs": []
    },
    {
      "cell_type": "code",
      "metadata": {
        "id": "r41Tx24EuA8A",
        "colab": {
          "base_uri": "https://localhost:8080/"
        },
        "outputId": "1366fe63-a34e-43df-a708-6d2d161393ff"
      },
      "source": [
        "#Confution Matrix and Classification Report\n",
        "#'''\n",
        "Y_pred = model_loaded.predict_generator(test_generator, verbose=1)\n",
        "#'''\n",
        "#'''\n",
        "save_predictions_filename = f\"Y_pred.{checkpointer_name[8:-5]}\"\n",
        "np.save(f\"{work_dir}{save_predictions_filename}\", Y_pred, allow_pickle=True)\n",
        "print(f\"Saved: {work_dir}{save_predictions_filename}\")\n",
        "#'''"
      ],
      "execution_count": 42,
      "outputs": [
        {
          "output_type": "stream",
          "text": [
            "/usr/local/lib/python3.7/dist-packages/tensorflow/python/keras/engine/training.py:2001: UserWarning: `Model.predict_generator` is deprecated and will be removed in a future version. Please use `Model.predict`, which supports generators.\n",
            "  warnings.warn('`Model.predict_generator` is deprecated and '\n"
          ],
          "name": "stderr"
        },
        {
          "output_type": "stream",
          "text": [
            "313/313 [==============================] - 90s 286ms/step\n",
            "Saved: drive/My Drive/Cancer/Lung and Colon Cancer Histopathological Images/Records/Y_pred.Lung.Colon.Cancer.Hist.5k5.rgb.768p.DataFlow.pad0.noTL.Custom1.wInit.None.TrainableAfter.allDefault.actF.elu.opt.Adam.drop.0.5.batch16.run_1\n"
          ],
          "name": "stdout"
        }
      ]
    },
    {
      "cell_type": "code",
      "metadata": {
        "id": "RCOqGtOtSVG5",
        "colab": {
          "base_uri": "https://localhost:8080/",
          "height": 54
        },
        "outputId": "5ce583e2-1546-4bbb-a7fa-5270ac375598"
      },
      "source": [
        "'''\n",
        "save_predictions_filename = f\"Y_pred.{checkpointer_name[8:-5]}\"\n",
        "np.save(f\"{work_dir}{save_predictions_filename}\", Y_pred, allow_pickle=True)\n",
        "print(f\"Saved: {work_dir}{save_predictions_filename}\")\n",
        "#'''"
      ],
      "execution_count": 43,
      "outputs": [
        {
          "output_type": "execute_result",
          "data": {
            "application/vnd.google.colaboratory.intrinsic+json": {
              "type": "string"
            },
            "text/plain": [
              "'\\nsave_predictions_filename = f\"Y_pred.{checkpointer_name[8:-5]}\"\\nnp.save(f\"{work_dir}{save_predictions_filename}\", Y_pred, allow_pickle=True)\\nprint(f\"Saved: {work_dir}{save_predictions_filename}\")\\n#'"
            ]
          },
          "metadata": {
            "tags": []
          },
          "execution_count": 43
        }
      ]
    },
    {
      "cell_type": "code",
      "metadata": {
        "id": "f5DLKM2YTGiR",
        "colab": {
          "base_uri": "https://localhost:8080/"
        },
        "outputId": "af78209c-dde7-46a3-c803-b8e18e9286a1"
      },
      "source": [
        "#Y_pred_loaded = np.load(f\"{work_dir}{save_predictions_filename_2}.npy\", allow_pickle=True)\n",
        "Y_pred_loaded = np.load(f\"{work_dir}{save_predictions_filename}.npy\", allow_pickle=True)\n",
        "print(f\"Y_pred_loaded.shape = {Y_pred_loaded.shape}\")"
      ],
      "execution_count": 44,
      "outputs": [
        {
          "output_type": "stream",
          "text": [
            "Y_pred_loaded.shape = (5000, 5)\n"
          ],
          "name": "stdout"
        }
      ]
    },
    {
      "cell_type": "code",
      "metadata": {
        "id": "sKVblYYLTR8O"
      },
      "source": [
        ""
      ],
      "execution_count": 44,
      "outputs": []
    },
    {
      "cell_type": "code",
      "metadata": {
        "id": "vPVcI8W8uVxT"
      },
      "source": [
        "y_pred = np.argmax(Y_pred_loaded, axis=1)"
      ],
      "execution_count": 45,
      "outputs": []
    },
    {
      "cell_type": "code",
      "metadata": {
        "id": "EWjMUxOC_idw"
      },
      "source": [
        "y_true = test_generator.classes"
      ],
      "execution_count": 46,
      "outputs": []
    },
    {
      "cell_type": "code",
      "metadata": {
        "id": "9AnENPzD_XCi",
        "colab": {
          "base_uri": "https://localhost:8080/"
        },
        "outputId": "69e156b2-8c95-46fd-d648-5dbf8e05d8da"
      },
      "source": [
        "list_class_names_in_generator = list(test_generator.class_indices.values())\n",
        "list_class_names_in_generator[:5]"
      ],
      "execution_count": 47,
      "outputs": [
        {
          "output_type": "execute_result",
          "data": {
            "text/plain": [
              "[0, 1, 2, 3, 4]"
            ]
          },
          "metadata": {
            "tags": []
          },
          "execution_count": 47
        }
      ]
    },
    {
      "cell_type": "code",
      "metadata": {
        "id": "g9ECGTlXdLEY",
        "colab": {
          "base_uri": "https://localhost:8080/"
        },
        "outputId": "a6d81f53-c6f9-405f-99a4-27b5e108efe5"
      },
      "source": [
        "len(list_class_names_in_generator)"
      ],
      "execution_count": 48,
      "outputs": [
        {
          "output_type": "execute_result",
          "data": {
            "text/plain": [
              "5"
            ]
          },
          "metadata": {
            "tags": []
          },
          "execution_count": 48
        }
      ]
    },
    {
      "cell_type": "code",
      "metadata": {
        "id": "7c1QqkvSB4rw"
      },
      "source": [
        "list_y_true_rearranged = []\n",
        "list_y_pred_rearranged = []\n",
        "\n",
        "for true_class,pred_class in zip(y_true,y_pred):\n",
        "    #print(f\"true_class = {true_class}; pred_class = {pred_class}\")\n",
        "    #y_true_rearranged = int(list_class_names_in_generator[true_class][5:])\n",
        "    #y_pred_rearranged = int(list_class_names_in_generator[pred_class][5:])\n",
        "\n",
        "    y_true_rearranged = int(list_class_names_in_generator[true_class])\n",
        "    y_pred_rearranged = int(list_class_names_in_generator[pred_class])\n",
        "\n",
        "    list_y_true_rearranged.append(y_true_rearranged)\n",
        "    list_y_pred_rearranged.append(y_pred_rearranged)"
      ],
      "execution_count": 49,
      "outputs": []
    },
    {
      "cell_type": "code",
      "metadata": {
        "id": "twUaOkzO_lYu",
        "colab": {
          "base_uri": "https://localhost:8080/"
        },
        "outputId": "83fed810-a976-402f-ce07-e73e25e95ed5"
      },
      "source": [
        "np_y_true_rearranged = np.array(list_y_true_rearranged)\n",
        "np_y_pred_rearranged = np.array(list_y_pred_rearranged)\n",
        "\n",
        "print(f\"np_y_true_rearranged.shape = {np_y_true_rearranged.shape}\")\n",
        "print(f\"np_y_pred_rearranged.shape = {np_y_pred_rearranged.shape}\")\n",
        "print(f\"np_y_true_rearranged: {np_y_true_rearranged}\")\n",
        "print(f\"np_y_pred_rearranged: {np_y_pred_rearranged}\")"
      ],
      "execution_count": 50,
      "outputs": [
        {
          "output_type": "stream",
          "text": [
            "np_y_true_rearranged.shape = (5000,)\n",
            "np_y_pred_rearranged.shape = (5000,)\n",
            "np_y_true_rearranged: [1 1 1 ... 0 0 0]\n",
            "np_y_pred_rearranged: [1 1 1 ... 0 0 0]\n"
          ],
          "name": "stdout"
        }
      ]
    },
    {
      "cell_type": "code",
      "metadata": {
        "id": "LxgBOkM5Es08",
        "colab": {
          "base_uri": "https://localhost:8080/"
        },
        "outputId": "a448bb0b-ec18-4657-933a-0b58e1b81d5e"
      },
      "source": [
        "print(f\"np_y_true_rearranged.shape = {np_y_true_rearranged.shape}\\n\")\n",
        "\n",
        "index = -5\n",
        "print(f\"y_true[{index}:] = {y_true[index:]}\")\n",
        "print(f\"y_pred[{index}:] = {y_pred[index:]}\\n\")\n",
        "print(f\"np_y_true_rearranged[{index}:] = {np_y_true_rearranged[index:]}\")\n",
        "print(f\"np_y_pred_rearranged[{index}:] = {np_y_pred_rearranged[index:]}\\n\")\n",
        "print(f\"np.unique(np_y_true_rearranged) = {np.unique(np_y_true_rearranged)}\")\n",
        "print(f\"np.unique(np_y_pred_rearranged) = {np.unique(np_y_pred_rearranged)}\")"
      ],
      "execution_count": 51,
      "outputs": [
        {
          "output_type": "stream",
          "text": [
            "np_y_true_rearranged.shape = (5000,)\n",
            "\n",
            "y_true[-5:] = [0, 0, 0, 0, 0]\n",
            "y_pred[-5:] = [2 0 0 0 0]\n",
            "\n",
            "np_y_true_rearranged[-5:] = [0 0 0 0 0]\n",
            "np_y_pred_rearranged[-5:] = [2 0 0 0 0]\n",
            "\n",
            "np.unique(np_y_true_rearranged) = [0 1 2 3 4]\n",
            "np.unique(np_y_pred_rearranged) = [0 1 2 3 4]\n"
          ],
          "name": "stdout"
        }
      ]
    },
    {
      "cell_type": "code",
      "metadata": {
        "id": "yo2maYGREHa1"
      },
      "source": [
        ""
      ],
      "execution_count": 51,
      "outputs": []
    },
    {
      "cell_type": "code",
      "metadata": {
        "id": "ATQ8O5enuJcA",
        "colab": {
          "base_uri": "https://localhost:8080/"
        },
        "outputId": "215ac917-bdb3-4d16-bb64-1ee392662fe4"
      },
      "source": [
        "conf_matrix = sklearn.metrics.confusion_matrix(np_y_true_rearranged, np_y_pred_rearranged)\n",
        "print(f\"Confusion Matrix:\\n{conf_matrix}\")"
      ],
      "execution_count": 52,
      "outputs": [
        {
          "output_type": "stream",
          "text": [
            "Confusion Matrix:\n",
            "[[966  32   1   1   0]\n",
            " [  5 995   0   0   0]\n",
            " [  0   1 947   5  47]\n",
            " [  0   0   1 999   0]\n",
            " [  0   0  25   0 975]]\n"
          ],
          "name": "stdout"
        }
      ]
    },
    {
      "cell_type": "code",
      "metadata": {
        "id": "iWt92DPh8BIG",
        "colab": {
          "base_uri": "https://localhost:8080/",
          "height": 293
        },
        "outputId": "de7c2e74-5865-416f-b952-31ac2dee66ab"
      },
      "source": [
        "#plt.figure(figsize = (30,30))\n",
        "plt.matshow(conf_matrix)"
      ],
      "execution_count": 53,
      "outputs": [
        {
          "output_type": "execute_result",
          "data": {
            "text/plain": [
              "<matplotlib.image.AxesImage at 0x7f2488653750>"
            ]
          },
          "metadata": {
            "tags": []
          },
          "execution_count": 53
        },
        {
          "output_type": "display_data",
          "data": {
            "image/png": "[encoded data removed]",
            "text/plain": [
              "<Figure size 288x288 with 1 Axes>"
            ]
          },
          "metadata": {
            "tags": [],
            "needs_background": "light"
          }
        }
      ]
    },
    {
      "cell_type": "code",
      "metadata": {
        "id": "qYbVekfx9Qk-"
      },
      "source": [
        "df_conf_matrix = pd.DataFrame(conf_matrix, index = [f\"Class {i+1}\" for i in range(num_classes)],\n",
        "                  columns = [f\"Class {i+1}\" for i in range(num_classes)])"
      ],
      "execution_count": 54,
      "outputs": []
    },
    {
      "cell_type": "code",
      "metadata": {
        "id": "bhhb_ykf7mGr",
        "colab": {
          "base_uri": "https://localhost:8080/",
          "height": 280
        },
        "outputId": "f6fab7ab-3574-4d36-f4d0-69cf3beb2d08"
      },
      "source": [
        "title = \"Confusion matrix for \"+dataset+\" \"+impl_type+\"\\n\"\n",
        "plt.figure(figsize = (5,3))\n",
        "plt.title(title)\n",
        "sn.heatmap(df_conf_matrix, annot=True)\n",
        "\n",
        "img_path = work_dir+'Images/conf_matrix_'+checkpointer_name[8:-5]+'.png'\n",
        "plt.savefig(img_path, dpi=600)\n",
        "print(f\"img_path = {img_path}\")"
      ],
      "execution_count": 55,
      "outputs": [
        {
          "output_type": "stream",
          "text": [
            "img_path = drive/My Drive/Cancer/Lung and Colon Cancer Histopathological Images/Records/Images/conf_matrix_Lung.Colon.Cancer.Hist.5k5.rgb.768p.DataFlow.pad0.noTL.Custom1.wInit.None.TrainableAfter.allDefault.actF.elu.opt.Adam.drop.0.5.batch16.run_1.png\n"
          ],
          "name": "stdout"
        },
        {
          "output_type": "display_data",
          "data": {
            "image/png": "[encoded data removed]",
            "text/plain": [
              "<Figure size 360x216 with 2 Axes>"
            ]
          },
          "metadata": {
            "tags": [],
            "needs_background": "light"
          }
        }
      ]
    },
    {
      "cell_type": "code",
      "metadata": {
        "id": "OyvlKAMW-q4-"
      },
      "source": [
        ""
      ],
      "execution_count": 55,
      "outputs": []
    },
    {
      "cell_type": "code",
      "metadata": {
        "id": "hgY4v21DyQwL",
        "colab": {
          "base_uri": "https://localhost:8080/",
          "height": 54
        },
        "outputId": "f4a49cd7-2a95-4ddd-a64b-15cd5a00a755"
      },
      "source": [
        "#Confution Matrix and Classification Report\n",
        "'''\n",
        "Y_pred = model_loaded.predict_generator(final_test_imageset, len(final_test_imageset))\n",
        "y_pred = np.argmax(Y_pred, axis=1)\n",
        "print('Confusion Matrix')\n",
        "print(sklearn.metrics.confusion_matrix(np_test_label, y_pred))\n",
        "#'''"
      ],
      "execution_count": 56,
      "outputs": [
        {
          "output_type": "execute_result",
          "data": {
            "application/vnd.google.colaboratory.intrinsic+json": {
              "type": "string"
            },
            "text/plain": [
              "\"\\nY_pred = model_loaded.predict_generator(final_test_imageset, len(final_test_imageset))\\ny_pred = np.argmax(Y_pred, axis=1)\\nprint('Confusion Matrix')\\nprint(sklearn.metrics.confusion_matrix(np_test_label, y_pred))\\n#\""
            ]
          },
          "metadata": {
            "tags": []
          },
          "execution_count": 56
        }
      ]
    },
    {
      "cell_type": "code",
      "metadata": {
        "id": "U5j7b3KcRvwj",
        "colab": {
          "base_uri": "https://localhost:8080/",
          "height": 36
        },
        "outputId": "c3d293b6-c931-4095-b02f-ba9fbdc38d79"
      },
      "source": [
        "# Precision [TP/TP+FP] = The ratio of correctly predicted positive observations to the total predicted positive observations.\n",
        "# Recall (Sensitivity) [TP/TP+FN] = The ratio of correctly predicted positive observations to the all observations in actual class - 'yes'.\n",
        "# F1 score [F1 Score = 2*(Recall * Precision) / (Recall + Precision)] = The weighted average of Precision and Recall.\n",
        "# Support = The number of samples of the true response that lie in that class.\n",
        "'''\n",
        "print('Classification Report:')\n",
        "print(sklearn.metrics.classification_report(test_generator.classes, y_pred))\n",
        "#'''"
      ],
      "execution_count": 57,
      "outputs": [
        {
          "output_type": "execute_result",
          "data": {
            "application/vnd.google.colaboratory.intrinsic+json": {
              "type": "string"
            },
            "text/plain": [
              "\"\\nprint('Classification Report:')\\nprint(sklearn.metrics.classification_report(test_generator.classes, y_pred))\\n#\""
            ]
          },
          "metadata": {
            "tags": []
          },
          "execution_count": 57
        }
      ]
    },
    {
      "cell_type": "code",
      "metadata": {
        "id": "jTwSA-kRYavk"
      },
      "source": [
        ""
      ],
      "execution_count": 57,
      "outputs": []
    },
    {
      "cell_type": "code",
      "metadata": {
        "id": "AaZZkLXW6Vb8",
        "colab": {
          "base_uri": "https://localhost:8080/"
        },
        "outputId": "0aa806ff-b253-4266-fd8e-b5b3fd447526"
      },
      "source": [
        "test_generator.class_indices.keys()"
      ],
      "execution_count": 58,
      "outputs": [
        {
          "output_type": "execute_result",
          "data": {
            "text/plain": [
              "dict_keys(['colon_aca', 'colon_n', 'lung_aca', 'lung_n', 'lung_scc'])"
            ]
          },
          "metadata": {
            "tags": []
          },
          "execution_count": 58
        }
      ]
    },
    {
      "cell_type": "code",
      "metadata": {
        "id": "ceGRitu9RvzV",
        "colab": {
          "base_uri": "https://localhost:8080/"
        },
        "outputId": "bdc2f42b-a97e-453c-f846-67f0f888b189"
      },
      "source": [
        "#'''\n",
        "print('Classification Report')\n",
        "print(sklearn.metrics.classification_report(np_y_true_rearranged, np_y_pred_rearranged, target_names=test_generator.class_indices.keys()))\n",
        "#'''"
      ],
      "execution_count": 59,
      "outputs": [
        {
          "output_type": "stream",
          "text": [
            "Classification Report\n",
            "              precision    recall  f1-score   support\n",
            "\n",
            "   colon_aca       0.99      0.97      0.98      1000\n",
            "     colon_n       0.97      0.99      0.98      1000\n",
            "    lung_aca       0.97      0.95      0.96      1000\n",
            "      lung_n       0.99      1.00      1.00      1000\n",
            "    lung_scc       0.95      0.97      0.96      1000\n",
            "\n",
            "    accuracy                           0.98      5000\n",
            "   macro avg       0.98      0.98      0.98      5000\n",
            "weighted avg       0.98      0.98      0.98      5000\n",
            "\n"
          ],
          "name": "stdout"
        }
      ]
    },
    {
      "cell_type": "code",
      "metadata": {
        "id": "ujLQjTf2Rv11"
      },
      "source": [
        "log_data = pd.read_csv(work_dir+log_name, sep=',', engine='python') "
      ],
      "execution_count": 60,
      "outputs": []
    },
    {
      "cell_type": "code",
      "metadata": {
        "id": "To55jgGSRv4a",
        "colab": {
          "base_uri": "https://localhost:8080/",
          "height": 226
        },
        "outputId": "22d81f96-d50b-4c57-9ef6-7280073f4a2f"
      },
      "source": [
        "# Getting the model history keys \n",
        "#history.history.keys()\n",
        "log_data.head()"
      ],
      "execution_count": 61,
      "outputs": [
        {
          "output_type": "execute_result",
          "data": {
            "text/html": [
              "<div>\n",
              "<style scoped>\n",
              "    .dataframe tbody tr th:only-of-type {\n",
              "        vertical-align: middle;\n",
              "    }\n",
              "\n",
              "    .dataframe tbody tr th {\n",
              "        vertical-align: top;\n",
              "    }\n",
              "\n",
              "    .dataframe thead th {\n",
              "        text-align: right;\n",
              "    }\n",
              "</style>\n",
              "<table border=\"1\" class=\"dataframe\">\n",
              "  <thead>\n",
              "    <tr style=\"text-align: right;\">\n",
              "      <th></th>\n",
              "      <th>epoch</th>\n",
              "      <th>accuracy</th>\n",
              "      <th>auc</th>\n",
              "      <th>false_negatives</th>\n",
              "      <th>false_positives</th>\n",
              "      <th>loss</th>\n",
              "      <th>precision</th>\n",
              "      <th>recall</th>\n",
              "      <th>true_negatives</th>\n",
              "      <th>true_positives</th>\n",
              "      <th>val_accuracy</th>\n",
              "      <th>val_auc</th>\n",
              "      <th>val_false_negatives</th>\n",
              "      <th>val_false_positives</th>\n",
              "      <th>val_loss</th>\n",
              "      <th>val_precision</th>\n",
              "      <th>val_recall</th>\n",
              "      <th>val_true_negatives</th>\n",
              "      <th>val_true_positives</th>\n",
              "    </tr>\n",
              "  </thead>\n",
              "  <tbody>\n",
              "    <tr>\n",
              "      <th>0</th>\n",
              "      <td>0</td>\n",
              "      <td>0.72395</td>\n",
              "      <td>0.945421</td>\n",
              "      <td>7300.0</td>\n",
              "      <td>3005.0</td>\n",
              "      <td>4.979438</td>\n",
              "      <td>0.808660</td>\n",
              "      <td>0.63500</td>\n",
              "      <td>76995.0</td>\n",
              "      <td>12700.0</td>\n",
              "      <td>0.849159</td>\n",
              "      <td>0.981219</td>\n",
              "      <td>779.0</td>\n",
              "      <td>730.0</td>\n",
              "      <td>4.536319</td>\n",
              "      <td>0.852316</td>\n",
              "      <td>0.843950</td>\n",
              "      <td>19238.0</td>\n",
              "      <td>4213.0</td>\n",
              "    </tr>\n",
              "    <tr>\n",
              "      <th>1</th>\n",
              "      <td>1</td>\n",
              "      <td>0.85695</td>\n",
              "      <td>0.983057</td>\n",
              "      <td>2934.0</td>\n",
              "      <td>2781.0</td>\n",
              "      <td>4.362849</td>\n",
              "      <td>0.859878</td>\n",
              "      <td>0.85330</td>\n",
              "      <td>77219.0</td>\n",
              "      <td>17066.0</td>\n",
              "      <td>0.873197</td>\n",
              "      <td>0.985228</td>\n",
              "      <td>641.0</td>\n",
              "      <td>623.0</td>\n",
              "      <td>4.187646</td>\n",
              "      <td>0.874749</td>\n",
              "      <td>0.871595</td>\n",
              "      <td>19345.0</td>\n",
              "      <td>4351.0</td>\n",
              "    </tr>\n",
              "    <tr>\n",
              "      <th>2</th>\n",
              "      <td>2</td>\n",
              "      <td>0.87560</td>\n",
              "      <td>0.986316</td>\n",
              "      <td>2530.0</td>\n",
              "      <td>2432.0</td>\n",
              "      <td>4.032818</td>\n",
              "      <td>0.877801</td>\n",
              "      <td>0.87350</td>\n",
              "      <td>77568.0</td>\n",
              "      <td>17470.0</td>\n",
              "      <td>0.887220</td>\n",
              "      <td>0.987976</td>\n",
              "      <td>568.0</td>\n",
              "      <td>558.0</td>\n",
              "      <td>3.875944</td>\n",
              "      <td>0.887997</td>\n",
              "      <td>0.886218</td>\n",
              "      <td>19410.0</td>\n",
              "      <td>4424.0</td>\n",
              "    </tr>\n",
              "    <tr>\n",
              "      <th>3</th>\n",
              "      <td>3</td>\n",
              "      <td>0.88855</td>\n",
              "      <td>0.988463</td>\n",
              "      <td>2274.0</td>\n",
              "      <td>2173.0</td>\n",
              "      <td>3.737384</td>\n",
              "      <td>0.890799</td>\n",
              "      <td>0.88630</td>\n",
              "      <td>77827.0</td>\n",
              "      <td>17726.0</td>\n",
              "      <td>0.889623</td>\n",
              "      <td>0.989261</td>\n",
              "      <td>559.0</td>\n",
              "      <td>540.0</td>\n",
              "      <td>3.597858</td>\n",
              "      <td>0.891414</td>\n",
              "      <td>0.888021</td>\n",
              "      <td>19428.0</td>\n",
              "      <td>4433.0</td>\n",
              "    </tr>\n",
              "    <tr>\n",
              "      <th>4</th>\n",
              "      <td>4</td>\n",
              "      <td>0.89435</td>\n",
              "      <td>0.989768</td>\n",
              "      <td>2153.0</td>\n",
              "      <td>2068.0</td>\n",
              "      <td>3.472989</td>\n",
              "      <td>0.896159</td>\n",
              "      <td>0.89235</td>\n",
              "      <td>77932.0</td>\n",
              "      <td>17847.0</td>\n",
              "      <td>0.893429</td>\n",
              "      <td>0.990148</td>\n",
              "      <td>539.0</td>\n",
              "      <td>530.0</td>\n",
              "      <td>3.351979</td>\n",
              "      <td>0.893638</td>\n",
              "      <td>0.892027</td>\n",
              "      <td>19438.0</td>\n",
              "      <td>4453.0</td>\n",
              "    </tr>\n",
              "  </tbody>\n",
              "</table>\n",
              "</div>"
            ],
            "text/plain": [
              "   epoch  accuracy  ...  val_true_negatives  val_true_positives\n",
              "0      0   0.72395  ...             19238.0              4213.0\n",
              "1      1   0.85695  ...             19345.0              4351.0\n",
              "2      2   0.87560  ...             19410.0              4424.0\n",
              "3      3   0.88855  ...             19428.0              4433.0\n",
              "4      4   0.89435  ...             19438.0              4453.0\n",
              "\n",
              "[5 rows x 19 columns]"
            ]
          },
          "metadata": {
            "tags": []
          },
          "execution_count": 61
        }
      ]
    },
    {
      "cell_type": "code",
      "metadata": {
        "id": "aytAYSJ4Rv7T",
        "colab": {
          "base_uri": "https://localhost:8080/",
          "height": 348
        },
        "outputId": "802500b9-9599-49d8-fdd3-59f72551739a"
      },
      "source": [
        "# plot the training artifacts\n",
        "title = \"Val loss for \"+dataset+\" \"+impl_type+\"\\n\"\n",
        "\n",
        "plt.plot(log_data['loss'])\n",
        "plt.plot(log_data['val_loss'])\n",
        "plt.title(title)\n",
        "plt.ylabel('loss')\n",
        "plt.xlabel('epoch')\n",
        "plt.legend(['train_loss','val_loss'], loc = 'best')\n",
        "plt.grid(b=True, which='major', axis='both')\n",
        "\n",
        "img_path = work_dir+'Images/vLoss_'+checkpointer_name[8:-5]+'.png'\n",
        "plt.savefig(img_path, dpi=600)\n",
        "plt.show()\n",
        "print('img_path =', img_path)"
      ],
      "execution_count": 62,
      "outputs": [
        {
          "output_type": "display_data",
          "data": {
            "image/png": "[encoded data removed]",
            "text/plain": [
              "<Figure size 432x288 with 1 Axes>"
            ]
          },
          "metadata": {
            "tags": [],
            "needs_background": "light"
          }
        },
        {
          "output_type": "stream",
          "text": [
            "img_path = drive/My Drive/Cancer/Lung and Colon Cancer Histopathological Images/Records/Images/vLoss_Lung.Colon.Cancer.Hist.5k5.rgb.768p.DataFlow.pad0.noTL.Custom1.wInit.None.TrainableAfter.allDefault.actF.elu.opt.Adam.drop.0.5.batch16.run_1.png\n"
          ],
          "name": "stdout"
        }
      ]
    },
    {
      "cell_type": "code",
      "metadata": {
        "id": "yUq1WaElRv-M",
        "colab": {
          "base_uri": "https://localhost:8080/",
          "height": 348
        },
        "outputId": "0457ba5f-33ab-40d8-be59-ae6a40ba4f4d"
      },
      "source": [
        "title = \"Val acc for \"+dataset+\" \"+impl_type+\"\\n\"\n",
        "\n",
        "plt.plot(log_data['accuracy'])\n",
        "plt.plot(log_data['val_accuracy'])\n",
        "plt.title(title)\n",
        "plt.ylabel('accuracy')\n",
        "plt.xlabel('epoch')\n",
        "plt.legend(['train_accuracy','val_accuracy'], loc = 'best')\n",
        "plt.grid(b=True, which='major', axis='both')\n",
        "\n",
        "img_path = work_dir+'Images/vAcc_'+checkpointer_name[8:-5]+'.png'\n",
        "plt.savefig(img_path, dpi=600)\n",
        "plt.show()\n",
        "print('img_path =', img_path)"
      ],
      "execution_count": 63,
      "outputs": [
        {
          "output_type": "display_data",
          "data": {
            "image/png": "[encoded data removed]",
            "text/plain": [
              "<Figure size 432x288 with 1 Axes>"
            ]
          },
          "metadata": {
            "tags": [],
            "needs_background": "light"
          }
        },
        {
          "output_type": "stream",
          "text": [
            "img_path = drive/My Drive/Cancer/Lung and Colon Cancer Histopathological Images/Records/Images/vAcc_Lung.Colon.Cancer.Hist.5k5.rgb.768p.DataFlow.pad0.noTL.Custom1.wInit.None.TrainableAfter.allDefault.actF.elu.opt.Adam.drop.0.5.batch16.run_1.png\n"
          ],
          "name": "stdout"
        }
      ]
    },
    {
      "cell_type": "code",
      "metadata": {
        "id": "w4msuVKMSk8E"
      },
      "source": [
        ""
      ],
      "execution_count": 63,
      "outputs": []
    }
  ]
}