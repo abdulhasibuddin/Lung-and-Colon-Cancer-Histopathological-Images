{
  "nbformat": 4,
  "nbformat_minor": 0,
  "metadata": {
    "colab": {
      "name": "Lung_Colon_Cancer_Hist_10_folds_k3_impl_1_768p_RGB_Custom_noTL_DataFrame.ipynb",
      "provenance": [],
      "collapsed_sections": []
    },
    "kernelspec": {
      "display_name": "Python 3",
      "name": "python3"
    },
    "accelerator": "GPU"
  },
  "cells": [
    {
      "cell_type": "code",
      "metadata": {
        "colab": {
          "base_uri": "https://localhost:8080/"
        },
        "id": "w35zPOcMyNwJ",
        "outputId": "f668d35c-8dd2-4c23-e741-947afd426e87"
      },
      "source": [
        "from google.colab import drive \n",
        "drive.mount('/content/drive', force_remount=True)"
      ],
      "execution_count": 1,
      "outputs": [
        {
          "output_type": "stream",
          "text": [
            "Mounted at /content/drive\n"
          ],
          "name": "stdout"
        }
      ]
    },
    {
      "cell_type": "code",
      "metadata": {
        "id": "ph-qNIaajXGT",
        "colab": {
          "base_uri": "https://localhost:8080/"
        },
        "outputId": "9bba7b44-5bff-44bb-982a-e2669b4267a8"
      },
      "source": [
        "num_folds = 10\n",
        "k = 3\n",
        "color_type = 'rgb' # rgb, grayscale\n",
        "BATCH_SIZE = 16\n",
        "\n",
        "Dataset_Name = f\"Lung.Colon.Cancer.Hist.{num_folds}k{str(k)}\"\n",
        "work_dir = \"drive/My Drive/Cancer/Lung and Colon Cancer Histopathological Images/Records/\"\n",
        "base_dir = \"drive/My Drive/Cancer/Lung and Colon Cancer Histopathological Images/lung_colon_image_set_all/\"\n",
        "\n",
        "print(f\"Dataset_Name = {Dataset_Name}\")"
      ],
      "execution_count": 2,
      "outputs": [
        {
          "output_type": "stream",
          "text": [
            "Dataset_Name = Lung.Colon.Cancer.Hist.10k3\n"
          ],
          "name": "stdout"
        }
      ]
    },
    {
      "cell_type": "code",
      "metadata": {
        "id": "9xc7MvTxyQd7"
      },
      "source": [
        "\n",
        "import numpy as np\n",
        "import pandas as pd\n",
        "import pickle\n",
        "import numpy as np\n",
        "import random\n",
        "import time\n",
        "import os\n",
        "#os.environ[\"OPENCV_IO_MAX_IMAGE_PIXELS\"] = pow(2,40).__str__()\n",
        "import cv2\n",
        "from tqdm import tqdm\n",
        "\n",
        "import tensorflow as tf\n",
        "from tensorflow.python.keras import Sequential\n",
        "from tensorflow.keras import layers, optimizers\n",
        "from tensorflow.keras.applications import DenseNet121\n",
        "from tensorflow.keras.applications.resnet50 import ResNet50\n",
        "from tensorflow.keras.layers import *\n",
        "from tensorflow.keras.models import Model, load_model\n",
        "from tensorflow.keras.initializers import glorot_uniform\n",
        "from tensorflow.keras.utils import plot_model\n",
        "from tensorflow.keras.callbacks import ReduceLROnPlateau, EarlyStopping, ModelCheckpoint, LearningRateScheduler\n",
        "from IPython.display import display\n",
        "from tensorflow.keras import backend as K\n",
        "import matplotlib.pyplot as plt\n",
        "import matplotlib.image as mpimg\n",
        "from sklearn.model_selection import train_test_split\n",
        "from keras import optimizers\n",
        "#from sklearn.metrics import classification_report, confusion_matrix\n",
        "import sklearn\n",
        "import seaborn as sn\n",
        "from keras.callbacks import CSVLogger, LambdaCallback\n",
        "from tensorflow.keras.preprocessing.image import ImageDataGenerator\n",
        "\n",
        "import math"
      ],
      "execution_count": 3,
      "outputs": []
    },
    {
      "cell_type": "code",
      "metadata": {
        "id": "0Bpa74kr60p9"
      },
      "source": [
        ""
      ],
      "execution_count": 3,
      "outputs": []
    },
    {
      "cell_type": "code",
      "metadata": {
        "colab": {
          "base_uri": "https://localhost:8080/",
          "height": 206
        },
        "id": "rQbFaGlX60ym",
        "outputId": "945e3bfc-c3ba-4ff9-b9dc-ece93cfb2122"
      },
      "source": [
        "csv_file = \"drive/My Drive/Cancer/Lung and Colon Cancer Histopathological Images/lung_colon_image_set_all.csv\"\n",
        "df_original = pd.read_csv(csv_file) # , delimiter = \" \", header=None\n",
        "#train_df_original.columns = ['Column_1', 'filename', 'label', 'Column_2']\n",
        "df_original.head()"
      ],
      "execution_count": 4,
      "outputs": [
        {
          "output_type": "execute_result",
          "data": {
            "text/html": [
              "<div>\n",
              "<style scoped>\n",
              "    .dataframe tbody tr th:only-of-type {\n",
              "        vertical-align: middle;\n",
              "    }\n",
              "\n",
              "    .dataframe tbody tr th {\n",
              "        vertical-align: top;\n",
              "    }\n",
              "\n",
              "    .dataframe thead th {\n",
              "        text-align: right;\n",
              "    }\n",
              "</style>\n",
              "<table border=\"1\" class=\"dataframe\">\n",
              "  <thead>\n",
              "    <tr style=\"text-align: right;\">\n",
              "      <th></th>\n",
              "      <th>Unnamed: 0</th>\n",
              "      <th>path</th>\n",
              "      <th>label</th>\n",
              "    </tr>\n",
              "  </thead>\n",
              "  <tbody>\n",
              "    <tr>\n",
              "      <th>0</th>\n",
              "      <td>0</td>\n",
              "      <td>colon_n/colonn4479.jpeg</td>\n",
              "      <td>colon_n</td>\n",
              "    </tr>\n",
              "    <tr>\n",
              "      <th>1</th>\n",
              "      <td>1</td>\n",
              "      <td>colon_n/colonn4571.jpeg</td>\n",
              "      <td>colon_n</td>\n",
              "    </tr>\n",
              "    <tr>\n",
              "      <th>2</th>\n",
              "      <td>2</td>\n",
              "      <td>colon_n/colonn4546.jpeg</td>\n",
              "      <td>colon_n</td>\n",
              "    </tr>\n",
              "    <tr>\n",
              "      <th>3</th>\n",
              "      <td>3</td>\n",
              "      <td>colon_n/colonn4467.jpeg</td>\n",
              "      <td>colon_n</td>\n",
              "    </tr>\n",
              "    <tr>\n",
              "      <th>4</th>\n",
              "      <td>4</td>\n",
              "      <td>colon_n/colonn4634.jpeg</td>\n",
              "      <td>colon_n</td>\n",
              "    </tr>\n",
              "  </tbody>\n",
              "</table>\n",
              "</div>"
            ],
            "text/plain": [
              "   Unnamed: 0                     path    label\n",
              "0           0  colon_n/colonn4479.jpeg  colon_n\n",
              "1           1  colon_n/colonn4571.jpeg  colon_n\n",
              "2           2  colon_n/colonn4546.jpeg  colon_n\n",
              "3           3  colon_n/colonn4467.jpeg  colon_n\n",
              "4           4  colon_n/colonn4634.jpeg  colon_n"
            ]
          },
          "metadata": {
            "tags": []
          },
          "execution_count": 4
        }
      ]
    },
    {
      "cell_type": "code",
      "metadata": {
        "colab": {
          "base_uri": "https://localhost:8080/",
          "height": 316
        },
        "id": "5u0TvQ6rp0UF",
        "outputId": "66df6784-0cc5-4748-c827-5584b8802969"
      },
      "source": [
        "df_full_path = df_original.copy()\n",
        "\n",
        "#'''\n",
        "for i in range(df_original.shape[0]):\n",
        "    filename = df_original['path'][i]\n",
        "    file_full_path = f\"{base_dir}{filename}\"\n",
        "    df_full_path['path'][i] = file_full_path\n",
        "#'''\n",
        "    \n",
        "print(f\"df_full_path['path'][0] = {df_full_path['path'][0]}\")\n",
        "df_full_path.tail()"
      ],
      "execution_count": 5,
      "outputs": [
        {
          "output_type": "stream",
          "text": [
            "/usr/local/lib/python3.7/dist-packages/ipykernel_launcher.py:7: SettingWithCopyWarning: \n",
            "A value is trying to be set on a copy of a slice from a DataFrame\n",
            "\n",
            "See the caveats in the documentation: https://pandas.pydata.org/pandas-docs/stable/user_guide/indexing.html#returning-a-view-versus-a-copy\n",
            "  import sys\n"
          ],
          "name": "stderr"
        },
        {
          "output_type": "stream",
          "text": [
            "df_full_path['path'][0] = drive/My Drive/Cancer/Lung and Colon Cancer Histopathological Images/lung_colon_image_set_all/colon_n/colonn4479.jpeg\n"
          ],
          "name": "stdout"
        },
        {
          "output_type": "execute_result",
          "data": {
            "text/html": [
              "<div>\n",
              "<style scoped>\n",
              "    .dataframe tbody tr th:only-of-type {\n",
              "        vertical-align: middle;\n",
              "    }\n",
              "\n",
              "    .dataframe tbody tr th {\n",
              "        vertical-align: top;\n",
              "    }\n",
              "\n",
              "    .dataframe thead th {\n",
              "        text-align: right;\n",
              "    }\n",
              "</style>\n",
              "<table border=\"1\" class=\"dataframe\">\n",
              "  <thead>\n",
              "    <tr style=\"text-align: right;\">\n",
              "      <th></th>\n",
              "      <th>Unnamed: 0</th>\n",
              "      <th>path</th>\n",
              "      <th>label</th>\n",
              "    </tr>\n",
              "  </thead>\n",
              "  <tbody>\n",
              "    <tr>\n",
              "      <th>24995</th>\n",
              "      <td>24995</td>\n",
              "      <td>drive/My Drive/Cancer/Lung and Colon Cancer Hi...</td>\n",
              "      <td>colon_aca</td>\n",
              "    </tr>\n",
              "    <tr>\n",
              "      <th>24996</th>\n",
              "      <td>24996</td>\n",
              "      <td>drive/My Drive/Cancer/Lung and Colon Cancer Hi...</td>\n",
              "      <td>colon_aca</td>\n",
              "    </tr>\n",
              "    <tr>\n",
              "      <th>24997</th>\n",
              "      <td>24997</td>\n",
              "      <td>drive/My Drive/Cancer/Lung and Colon Cancer Hi...</td>\n",
              "      <td>colon_aca</td>\n",
              "    </tr>\n",
              "    <tr>\n",
              "      <th>24998</th>\n",
              "      <td>24998</td>\n",
              "      <td>drive/My Drive/Cancer/Lung and Colon Cancer Hi...</td>\n",
              "      <td>colon_aca</td>\n",
              "    </tr>\n",
              "    <tr>\n",
              "      <th>24999</th>\n",
              "      <td>24999</td>\n",
              "      <td>drive/My Drive/Cancer/Lung and Colon Cancer Hi...</td>\n",
              "      <td>colon_aca</td>\n",
              "    </tr>\n",
              "  </tbody>\n",
              "</table>\n",
              "</div>"
            ],
            "text/plain": [
              "       Unnamed: 0                                               path      label\n",
              "24995       24995  drive/My Drive/Cancer/Lung and Colon Cancer Hi...  colon_aca\n",
              "24996       24996  drive/My Drive/Cancer/Lung and Colon Cancer Hi...  colon_aca\n",
              "24997       24997  drive/My Drive/Cancer/Lung and Colon Cancer Hi...  colon_aca\n",
              "24998       24998  drive/My Drive/Cancer/Lung and Colon Cancer Hi...  colon_aca\n",
              "24999       24999  drive/My Drive/Cancer/Lung and Colon Cancer Hi...  colon_aca"
            ]
          },
          "metadata": {
            "tags": []
          },
          "execution_count": 5
        }
      ]
    },
    {
      "cell_type": "code",
      "metadata": {
        "id": "hAbfT89H1tDs"
      },
      "source": [
        "df_full_path['label'] = df_full_path['label'].astype(str)"
      ],
      "execution_count": 6,
      "outputs": []
    },
    {
      "cell_type": "code",
      "metadata": {
        "id": "bhdg838lqvbP"
      },
      "source": [
        ""
      ],
      "execution_count": 6,
      "outputs": []
    },
    {
      "cell_type": "code",
      "metadata": {
        "colab": {
          "base_uri": "https://localhost:8080/"
        },
        "id": "5_QrLCpZJ8zT",
        "outputId": "e4e8ad5b-c2c4-4dd6-f960-89ad1603e076"
      },
      "source": [
        "list_classes = np.unique(df_full_path.label.values)\n",
        "list_classes"
      ],
      "execution_count": 7,
      "outputs": [
        {
          "output_type": "execute_result",
          "data": {
            "text/plain": [
              "array(['colon_aca', 'colon_n', 'lung_aca', 'lung_n', 'lung_scc'],\n",
              "      dtype=object)"
            ]
          },
          "metadata": {
            "tags": []
          },
          "execution_count": 7
        }
      ]
    },
    {
      "cell_type": "code",
      "metadata": {
        "colab": {
          "base_uri": "https://localhost:8080/"
        },
        "id": "nErKA455KoAN",
        "outputId": "824366fd-0b78-4770-9fed-389210fb5308"
      },
      "source": [
        "list_train_indices = []\n",
        "list_val_indices = []\n",
        "\n",
        "for category in list_classes:\n",
        "    df_category = df_full_path[df_full_path['label'] == category]\n",
        "    print(f\"category -> {category}: {df_category.shape[0]}:\")\n",
        "\n",
        "    #'''\n",
        "    list_indices = list(df_category[['Unnamed: 0']].values)\n",
        "    #print(f\"list_indices[0][0] = {list_indices[0][0]}\")\n",
        "    #print(f\"list_indices[-1][0] = {list_indices[-1][0]}\")\n",
        "\n",
        "    split_indices = int(df_category.shape[0]/num_folds)\n",
        "    \n",
        "    train_indices = list_indices[:k*split_indices-split_indices]\n",
        "    train_indices += list_indices[k*split_indices:]\n",
        "    val_indices = list_indices[k*split_indices-split_indices:k*split_indices]\n",
        "    print(f\"len(train_indices): {len(train_indices)}\")\n",
        "    print(f\"len(val_indices): {len(val_indices)}\\n\")\n",
        "\n",
        "    for index in train_indices:\n",
        "        list_train_indices.append(index[0])\n",
        "    \n",
        "    for index in val_indices:\n",
        "        list_val_indices.append(index[0])\n",
        "    #'''\n",
        "\n",
        "print(f\"len(list_train_indices): {len(list_train_indices)}\")\n",
        "print(f\"len(list_val_indices): {len(list_val_indices)}\")"
      ],
      "execution_count": 8,
      "outputs": [
        {
          "output_type": "stream",
          "text": [
            "category -> colon_aca: 5000:\n",
            "len(train_indices): 4500\n",
            "len(val_indices): 500\n",
            "\n",
            "category -> colon_n: 5000:\n",
            "len(train_indices): 4500\n",
            "len(val_indices): 500\n",
            "\n",
            "category -> lung_aca: 5000:\n",
            "len(train_indices): 4500\n",
            "len(val_indices): 500\n",
            "\n",
            "category -> lung_n: 5000:\n",
            "len(train_indices): 4500\n",
            "len(val_indices): 500\n",
            "\n",
            "category -> lung_scc: 5000:\n",
            "len(train_indices): 4500\n",
            "len(val_indices): 500\n",
            "\n",
            "len(list_train_indices): 22500\n",
            "len(list_val_indices): 2500\n"
          ],
          "name": "stdout"
        }
      ]
    },
    {
      "cell_type": "code",
      "metadata": {
        "id": "rrNCs8GhJ819"
      },
      "source": [
        ""
      ],
      "execution_count": 8,
      "outputs": []
    },
    {
      "cell_type": "code",
      "metadata": {
        "colab": {
          "base_uri": "https://localhost:8080/",
          "height": 225
        },
        "id": "gNAmMVnMhBaG",
        "outputId": "c3575839-794f-402b-e876-f6ea36f4e7bb"
      },
      "source": [
        "train_df = df_full_path[pd.DataFrame(df_full_path['Unnamed: 0'].tolist()).isin(list_train_indices).any(1).values]\n",
        "print(f\"train_df.shape = {train_df.shape}\")\n",
        "train_df.head() "
      ],
      "execution_count": 9,
      "outputs": [
        {
          "output_type": "stream",
          "text": [
            "train_df.shape = (22500, 3)\n"
          ],
          "name": "stdout"
        },
        {
          "output_type": "execute_result",
          "data": {
            "text/html": [
              "<div>\n",
              "<style scoped>\n",
              "    .dataframe tbody tr th:only-of-type {\n",
              "        vertical-align: middle;\n",
              "    }\n",
              "\n",
              "    .dataframe tbody tr th {\n",
              "        vertical-align: top;\n",
              "    }\n",
              "\n",
              "    .dataframe thead th {\n",
              "        text-align: right;\n",
              "    }\n",
              "</style>\n",
              "<table border=\"1\" class=\"dataframe\">\n",
              "  <thead>\n",
              "    <tr style=\"text-align: right;\">\n",
              "      <th></th>\n",
              "      <th>Unnamed: 0</th>\n",
              "      <th>path</th>\n",
              "      <th>label</th>\n",
              "    </tr>\n",
              "  </thead>\n",
              "  <tbody>\n",
              "    <tr>\n",
              "      <th>0</th>\n",
              "      <td>0</td>\n",
              "      <td>drive/My Drive/Cancer/Lung and Colon Cancer Hi...</td>\n",
              "      <td>colon_n</td>\n",
              "    </tr>\n",
              "    <tr>\n",
              "      <th>1</th>\n",
              "      <td>1</td>\n",
              "      <td>drive/My Drive/Cancer/Lung and Colon Cancer Hi...</td>\n",
              "      <td>colon_n</td>\n",
              "    </tr>\n",
              "    <tr>\n",
              "      <th>2</th>\n",
              "      <td>2</td>\n",
              "      <td>drive/My Drive/Cancer/Lung and Colon Cancer Hi...</td>\n",
              "      <td>colon_n</td>\n",
              "    </tr>\n",
              "    <tr>\n",
              "      <th>3</th>\n",
              "      <td>3</td>\n",
              "      <td>drive/My Drive/Cancer/Lung and Colon Cancer Hi...</td>\n",
              "      <td>colon_n</td>\n",
              "    </tr>\n",
              "    <tr>\n",
              "      <th>4</th>\n",
              "      <td>4</td>\n",
              "      <td>drive/My Drive/Cancer/Lung and Colon Cancer Hi...</td>\n",
              "      <td>colon_n</td>\n",
              "    </tr>\n",
              "  </tbody>\n",
              "</table>\n",
              "</div>"
            ],
            "text/plain": [
              "   Unnamed: 0                                               path    label\n",
              "0           0  drive/My Drive/Cancer/Lung and Colon Cancer Hi...  colon_n\n",
              "1           1  drive/My Drive/Cancer/Lung and Colon Cancer Hi...  colon_n\n",
              "2           2  drive/My Drive/Cancer/Lung and Colon Cancer Hi...  colon_n\n",
              "3           3  drive/My Drive/Cancer/Lung and Colon Cancer Hi...  colon_n\n",
              "4           4  drive/My Drive/Cancer/Lung and Colon Cancer Hi...  colon_n"
            ]
          },
          "metadata": {
            "tags": []
          },
          "execution_count": 9
        }
      ]
    },
    {
      "cell_type": "code",
      "metadata": {
        "id": "pW7AmyJSpsE1"
      },
      "source": [
        ""
      ],
      "execution_count": 9,
      "outputs": []
    },
    {
      "cell_type": "code",
      "metadata": {
        "colab": {
          "base_uri": "https://localhost:8080/",
          "height": 225
        },
        "id": "H5PPbd3bnbn7",
        "outputId": "589c94e3-1fb0-4c02-b960-31a1f46acb5d"
      },
      "source": [
        "test_df = df_full_path[pd.DataFrame(df_full_path['Unnamed: 0'].tolist()).isin(list_val_indices).any(1).values]\n",
        "print(f\"test_df.shape = {test_df.shape}\")\n",
        "test_df.tail()"
      ],
      "execution_count": 10,
      "outputs": [
        {
          "output_type": "stream",
          "text": [
            "test_df.shape = (2500, 3)\n"
          ],
          "name": "stdout"
        },
        {
          "output_type": "execute_result",
          "data": {
            "text/html": [
              "<div>\n",
              "<style scoped>\n",
              "    .dataframe tbody tr th:only-of-type {\n",
              "        vertical-align: middle;\n",
              "    }\n",
              "\n",
              "    .dataframe tbody tr th {\n",
              "        vertical-align: top;\n",
              "    }\n",
              "\n",
              "    .dataframe thead th {\n",
              "        text-align: right;\n",
              "    }\n",
              "</style>\n",
              "<table border=\"1\" class=\"dataframe\">\n",
              "  <thead>\n",
              "    <tr style=\"text-align: right;\">\n",
              "      <th></th>\n",
              "      <th>Unnamed: 0</th>\n",
              "      <th>path</th>\n",
              "      <th>label</th>\n",
              "    </tr>\n",
              "  </thead>\n",
              "  <tbody>\n",
              "    <tr>\n",
              "      <th>21495</th>\n",
              "      <td>21495</td>\n",
              "      <td>drive/My Drive/Cancer/Lung and Colon Cancer Hi...</td>\n",
              "      <td>colon_aca</td>\n",
              "    </tr>\n",
              "    <tr>\n",
              "      <th>21496</th>\n",
              "      <td>21496</td>\n",
              "      <td>drive/My Drive/Cancer/Lung and Colon Cancer Hi...</td>\n",
              "      <td>colon_aca</td>\n",
              "    </tr>\n",
              "    <tr>\n",
              "      <th>21497</th>\n",
              "      <td>21497</td>\n",
              "      <td>drive/My Drive/Cancer/Lung and Colon Cancer Hi...</td>\n",
              "      <td>colon_aca</td>\n",
              "    </tr>\n",
              "    <tr>\n",
              "      <th>21498</th>\n",
              "      <td>21498</td>\n",
              "      <td>drive/My Drive/Cancer/Lung and Colon Cancer Hi...</td>\n",
              "      <td>colon_aca</td>\n",
              "    </tr>\n",
              "    <tr>\n",
              "      <th>21499</th>\n",
              "      <td>21499</td>\n",
              "      <td>drive/My Drive/Cancer/Lung and Colon Cancer Hi...</td>\n",
              "      <td>colon_aca</td>\n",
              "    </tr>\n",
              "  </tbody>\n",
              "</table>\n",
              "</div>"
            ],
            "text/plain": [
              "       Unnamed: 0                                               path      label\n",
              "21495       21495  drive/My Drive/Cancer/Lung and Colon Cancer Hi...  colon_aca\n",
              "21496       21496  drive/My Drive/Cancer/Lung and Colon Cancer Hi...  colon_aca\n",
              "21497       21497  drive/My Drive/Cancer/Lung and Colon Cancer Hi...  colon_aca\n",
              "21498       21498  drive/My Drive/Cancer/Lung and Colon Cancer Hi...  colon_aca\n",
              "21499       21499  drive/My Drive/Cancer/Lung and Colon Cancer Hi...  colon_aca"
            ]
          },
          "metadata": {
            "tags": []
          },
          "execution_count": 10
        }
      ]
    },
    {
      "cell_type": "code",
      "metadata": {
        "id": "pzbMbDTgKNYL"
      },
      "source": [
        ""
      ],
      "execution_count": 10,
      "outputs": []
    },
    {
      "cell_type": "code",
      "metadata": {
        "id": "fWGa77p2eWAd",
        "colab": {
          "base_uri": "https://localhost:8080/",
          "height": 36
        },
        "outputId": "7e837c8b-94fd-4817-d301-9d330906e80c"
      },
      "source": [
        "img_path = test_df['path'][21495]\n",
        "img_path"
      ],
      "execution_count": 11,
      "outputs": [
        {
          "output_type": "execute_result",
          "data": {
            "application/vnd.google.colaboratory.intrinsic+json": {
              "type": "string"
            },
            "text/plain": [
              "'drive/My Drive/Cancer/Lung and Colon Cancer Histopathological Images/lung_colon_image_set_all/colon_aca/colonca2309.jpeg'"
            ]
          },
          "metadata": {
            "tags": []
          },
          "execution_count": 11
        }
      ]
    },
    {
      "cell_type": "code",
      "metadata": {
        "colab": {
          "base_uri": "https://localhost:8080/"
        },
        "id": "NonlZTviI7dc",
        "outputId": "432dc402-85c3-49e3-a7a9-eb2bee2bf3f9"
      },
      "source": [
        "img = cv2.imread(img_path, cv2.IMREAD_UNCHANGED)\n",
        "img.shape"
      ],
      "execution_count": 12,
      "outputs": [
        {
          "output_type": "execute_result",
          "data": {
            "text/plain": [
              "(768, 768, 3)"
            ]
          },
          "metadata": {
            "tags": []
          },
          "execution_count": 12
        }
      ]
    },
    {
      "cell_type": "code",
      "metadata": {
        "id": "yXJPjlRhhBg8",
        "colab": {
          "base_uri": "https://localhost:8080/",
          "height": 287
        },
        "outputId": "c6776eee-a226-45b9-ee9e-67cd6eb2af90"
      },
      "source": [
        "plt.imshow(img)"
      ],
      "execution_count": 13,
      "outputs": [
        {
          "output_type": "execute_result",
          "data": {
            "text/plain": [
              "<matplotlib.image.AxesImage at 0x7f0f84ac1f10>"
            ]
          },
          "metadata": {
            "tags": []
          },
          "execution_count": 13
        },
        {
          "output_type": "display_data",
          "data": {
            "image/png": "[encoded data removed]",
            "text/plain": [
              "<Figure size 432x288 with 1 Axes>"
            ]
          },
          "metadata": {
            "tags": [],
            "needs_background": "light"
          }
        }
      ]
    },
    {
      "cell_type": "code",
      "metadata": {
        "id": "53eBXZM2KHra"
      },
      "source": [
        ""
      ],
      "execution_count": 13,
      "outputs": []
    },
    {
      "cell_type": "markdown",
      "metadata": {
        "id": "TqAkPCojLNki"
      },
      "source": [
        "Bilinear is the standard resizing algorithm — good for most uses. Lanczos better preserves small details when upscaling and downscaling. And Nearest Neighbor is great for pixel art!"
      ]
    },
    {
      "cell_type": "code",
      "metadata": {
        "id": "LnYytOrbKGMH"
      },
      "source": [
        "'''\n",
        "width_shift_range=0.2,\n",
        "height_shift_range=0.2,\n",
        "zoom_range=0.2,\n",
        "horizontal_flip=True, \n",
        "vertical_flip=True,\n",
        "#rotation_range=20,\n",
        "'''\n",
        "\n",
        "train_datagen = ImageDataGenerator(rescale=1./255,\n",
        "                                   #fill_mode=\"lanczos\",\n",
        "                                   )\n",
        "test_datagen = ImageDataGenerator(rescale=1./255,\n",
        "                                  #fill_mode=\"lanczos\",\n",
        "                                  )"
      ],
      "execution_count": 14,
      "outputs": []
    },
    {
      "cell_type": "code",
      "metadata": {
        "id": "qG4nma2UP_F0"
      },
      "source": [
        ""
      ],
      "execution_count": 14,
      "outputs": []
    },
    {
      "cell_type": "code",
      "metadata": {
        "colab": {
          "base_uri": "https://localhost:8080/"
        },
        "id": "rga2byZPKPQt",
        "outputId": "9247916a-febb-422c-d392-e8db027c2d5f"
      },
      "source": [
        "train_generator = train_datagen.flow_from_dataframe(\n",
        "        train_df,\n",
        "        directory=None,\n",
        "        x_col='path', \n",
        "        y_col='label',\n",
        "        target_size=(768, 768),  # target images are automatically resized to (256, 256)\n",
        "        batch_size=BATCH_SIZE,\n",
        "        shuffle = True,\n",
        "        color_mode=color_type, # grayscale, rgb\n",
        "        class_mode='categorical' # categorical, raw\n",
        "        )"
      ],
      "execution_count": 15,
      "outputs": [
        {
          "output_type": "stream",
          "text": [
            "Found 22500 validated image filenames belonging to 5 classes.\n"
          ],
          "name": "stdout"
        }
      ]
    },
    {
      "cell_type": "code",
      "metadata": {
        "colab": {
          "base_uri": "https://localhost:8080/"
        },
        "id": "uwy6M8sgK1KT",
        "outputId": "2b843ba2-567e-4645-8f27-0c09d1903e62"
      },
      "source": [
        "num_classes = len(train_generator.class_indices)\n",
        "total_train_data = train_generator.samples\n",
        "\n",
        "print(f\"total_train_data = {total_train_data}\")\n",
        "print(f\"train_generator.image_shape = {train_generator.image_shape}\")\n",
        "print(f\"num_classes = {num_classes}\")"
      ],
      "execution_count": 16,
      "outputs": [
        {
          "output_type": "stream",
          "text": [
            "total_train_data = 22500\n",
            "train_generator.image_shape = (768, 768, 3)\n",
            "num_classes = 5\n"
          ],
          "name": "stdout"
        }
      ]
    },
    {
      "cell_type": "code",
      "metadata": {
        "colab": {
          "base_uri": "https://localhost:8080/"
        },
        "id": "YsvrZgrALXMl",
        "outputId": "a9750c82-5bf6-496e-8422-51abe2644b76"
      },
      "source": [
        "test_generator = test_datagen.flow_from_dataframe(\n",
        "        test_df,\n",
        "        directory=None,\n",
        "        x_col='path', \n",
        "        y_col='label',\n",
        "        target_size=(768, 768),  # target images are automatically resized to (256, 256)\n",
        "        batch_size=BATCH_SIZE,\n",
        "        shuffle = False,\n",
        "        color_mode=color_type, # grayscale, rgb\n",
        "        class_mode='categorical')"
      ],
      "execution_count": 17,
      "outputs": [
        {
          "output_type": "stream",
          "text": [
            "Found 2500 validated image filenames belonging to 5 classes.\n"
          ],
          "name": "stdout"
        }
      ]
    },
    {
      "cell_type": "code",
      "metadata": {
        "colab": {
          "base_uri": "https://localhost:8080/"
        },
        "id": "HxU0D6TuOOOL",
        "outputId": "e66a7114-a113-4a37-bbf4-d6319eeb579c"
      },
      "source": [
        "total_test_data = test_generator.samples\n",
        "print(f\"total_test_data = {total_test_data}\")"
      ],
      "execution_count": 18,
      "outputs": [
        {
          "output_type": "stream",
          "text": [
            "total_test_data = 2500\n"
          ],
          "name": "stdout"
        }
      ]
    },
    {
      "cell_type": "code",
      "metadata": {
        "id": "roidu5RmFRJq"
      },
      "source": [
        ""
      ],
      "execution_count": 18,
      "outputs": []
    },
    {
      "cell_type": "code",
      "metadata": {
        "colab": {
          "base_uri": "https://localhost:8080/",
          "height": 36
        },
        "id": "XRwynF9xPBWy",
        "outputId": "dcbd41c6-4ed5-4eb5-cffc-fe34b07bb8c7"
      },
      "source": [
        "# DenseNet121 ResNet101 ResNet50 DenseNet201 InceptionV3 Xception NASNetLarge ResNet152V2 InceptionResNetV2 EfficientNetB7\n",
        "impl_type = \"noTL.Custom1\" # TransferLearning3D \n",
        "dataset = f\"{Dataset_Name}.{color_type}.{train_generator.image_shape[1]}p.DataFlow\" # +str(img_size)+\"p\"\n",
        "dataset"
      ],
      "execution_count": 19,
      "outputs": [
        {
          "output_type": "execute_result",
          "data": {
            "application/vnd.google.colaboratory.intrinsic+json": {
              "type": "string"
            },
            "text/plain": [
              "'Lung.Colon.Cancer.Hist.10k3.rgb.768p.DataFlow'"
            ]
          },
          "metadata": {
            "tags": []
          },
          "execution_count": 19
        }
      ]
    },
    {
      "cell_type": "code",
      "metadata": {
        "id": "rLVsewD-O3gl"
      },
      "source": [
        "#'''\n",
        "count_no_improvement = 0\n",
        "epoch_initial = True\n",
        "#'''"
      ],
      "execution_count": 20,
      "outputs": []
    },
    {
      "cell_type": "code",
      "metadata": {
        "colab": {
          "base_uri": "https://localhost:8080/"
        },
        "id": "OxppPm7hO3l8",
        "outputId": "d2bd8ebc-b680-4e08-965a-3eb4bcafd556"
      },
      "source": [
        "#NUM_NEURONS = 16\n",
        "#NUM_LAYERS = 3\n",
        "#BATCH_SIZE = 16 # 10\n",
        "NUM_EPOCHS = 300 # 300, 5\n",
        "epochs_completed = 0\n",
        "LEARNING_RATE = 0.00001\n",
        "EPSILON = 1e-4\n",
        "early_stop_after_epochs = 5\n",
        "DROPOUT = 0.5 # 0.5 0.0\n",
        "pad = 0\n",
        "\n",
        "LOSS = 'categorical_crossentropy'\n",
        "ACTIVATION_FUNCTION = 'elu' # relu sigmoid elu\n",
        "FINAL_ACTIVATION_FUNCTION = 'softmax'\n",
        "validation_split = 0.1\n",
        "kernel_size=(1,1)\n",
        "pointTrainableAfter = \"allDefault\" # \"allDefault\" 160 170\n",
        "OPTIMIZER = \"Adam\" # Adam SGD RMSProp\n",
        "init_weights = \"None\" # \"imagenet\" None\n",
        "modelExt = \"\" # .Dense.128.256.512, .512.512.512 .Dense.512.512.512.512.Res\n",
        "l2_val = 0.001\n",
        "\n",
        "# +\"_kernel\"+str(kernel_size)+\"_lr\"+str(LEARNING_RATE)+\"_batch\"+str(BATCH_SIZE)+\"_epochs\"+str(NUM_EPOCHS)\n",
        "#checkpointer_name  = \"weights_\"+dataset+\"_\"+impl_type+\"_nLayers\"+str(NUM_LAYERS)+\"_nNeurons\"+str(NUM_NEURONS)+\".hdf5\"\n",
        "ext = f\".run_1\" # run_1 run_2 .DropAfter .momentum0.9\n",
        "#'''\n",
        "checkpointer_name  = \"weights.\"+dataset+\".pad\"+str(pad)+\".\"+impl_type+\".wInit.\"+str(init_weights)+\".TrainableAfter.\"+str(pointTrainableAfter)+\\\n",
        "                     modelExt+\".actF.\"+ACTIVATION_FUNCTION+\".opt.\"+OPTIMIZER+\".drop.\"+str(DROPOUT)+\".batch\"+str(BATCH_SIZE)+ext+\".hdf5\"\n",
        "log_name = \"log.\"+checkpointer_name[8:-5]+\".log\"\n",
        "\n",
        "print('checkpointer_name =', checkpointer_name)\n",
        "print('log_name =', log_name)\n",
        "#'''"
      ],
      "execution_count": 21,
      "outputs": [
        {
          "output_type": "stream",
          "text": [
            "checkpointer_name = weights.Lung.Colon.Cancer.Hist.10k3.rgb.768p.DataFlow.pad0.noTL.Custom1.wInit.None.TrainableAfter.allDefault.actF.elu.opt.Adam.drop.0.5.batch16.run_1.hdf5\n",
            "log_name = log.Lung.Colon.Cancer.Hist.10k3.rgb.768p.DataFlow.pad0.noTL.Custom1.wInit.None.TrainableAfter.allDefault.actF.elu.opt.Adam.drop.0.5.batch16.run_1.log\n"
          ],
          "name": "stdout"
        }
      ]
    },
    {
      "cell_type": "code",
      "metadata": {
        "colab": {
          "base_uri": "https://localhost:8080/"
        },
        "id": "hcB3WVaWO6BV",
        "outputId": "0254e80d-fd7d-467b-c019-1e604ee69a96"
      },
      "source": [
        "train_generator.image_shape"
      ],
      "execution_count": 22,
      "outputs": [
        {
          "output_type": "execute_result",
          "data": {
            "text/plain": [
              "(768, 768, 3)"
            ]
          },
          "metadata": {
            "tags": []
          },
          "execution_count": 22
        }
      ]
    },
    {
      "cell_type": "code",
      "metadata": {
        "colab": {
          "base_uri": "https://localhost:8080/",
          "height": 128
        },
        "id": "XyK6ZbJOOsjV",
        "outputId": "95914ae0-5915-468d-ca72-82599835905c"
      },
      "source": [
        "\"\"\"\n",
        "#base_model=DenseNet121(weights=None, include_top=False, input_shape=np_train_dataset2.shape[1:]) # `None` (random initialization)\n",
        "#base_model=ResNet152V2(weights=None, include_top=False, input_shape=np_train_dataset2.shape[1:])\n",
        "# ResNet152V2 ResNet50 ResNet101 ResNet152 DenseNet201 InceptionV3 Xception NASNetLarge 'imagenet' ResNet152V2 DenseNet121\n",
        "#inputs = Input(final_train_imageset.shape[1:])\n",
        "#x = ZeroPadding2D(padding=(pad,pad))(inputs)\n",
        "#base_model=tf.keras.applications.ResNet50(weights=init_weights, include_top=False, input_tensor=x)\n",
        "base_model=tf.keras.applications.DenseNet201(weights=init_weights, include_top=False, input_shape=train_generator.image_shape)\n",
        "x=base_model.output\n",
        "\n",
        "x = Flatten()(x)\n",
        "\n",
        "#'''\n",
        "x = Dense(1024, kernel_regularizer=tf.keras.regularizers.l2(l2_val), activation=ACTIVATION_FUNCTION)(x)\n",
        "#x_copy = x\n",
        "x = Dropout(DROPOUT)(x)\n",
        "x = Dense(1024, kernel_regularizer=tf.keras.regularizers.l2(l2_val), activation=ACTIVATION_FUNCTION)(x)\n",
        "x = Dropout(DROPOUT)(x)\n",
        "x = Dense(2048, kernel_regularizer=tf.keras.regularizers.l2(l2_val), activation=ACTIVATION_FUNCTION)(x)\n",
        "x = Dropout(DROPOUT)(x)\n",
        "#x = Add()([x,x_copy])\n",
        "#'''\n",
        "outputs=Dense(num_classes,activation='softmax')(x)\n",
        "\n",
        "model=Model(inputs=base_model.input,outputs=outputs)\n",
        "model.summary()\n",
        "#\"\"\""
      ],
      "execution_count": 23,
      "outputs": [
        {
          "output_type": "execute_result",
          "data": {
            "application/vnd.google.colaboratory.intrinsic+json": {
              "type": "string"
            },
            "text/plain": [
              "\"\\n#base_model=DenseNet121(weights=None, include_top=False, input_shape=np_train_dataset2.shape[1:]) # `None` (random initialization)\\n#base_model=ResNet152V2(weights=None, include_top=False, input_shape=np_train_dataset2.shape[1:])\\n# ResNet152V2 ResNet50 ResNet101 ResNet152 DenseNet201 InceptionV3 Xception NASNetLarge 'imagenet' ResNet152V2 DenseNet121\\n#inputs = Input(final_train_imageset.shape[1:])\\n#x = ZeroPadding2D(padding=(pad,pad))(inputs)\\n#base_model=tf.keras.applications.ResNet50(weights=init_weights, include_top=False, input_tensor=x)\\nbase_model=tf.keras.applications.DenseNet201(weights=init_weights, include_top=False, input_shape=train_generator.image_shape)\\nx=base_model.output\\n\\nx = Flatten()(x)\\n\\n#'''\\nx = Dense(1024, kernel_regularizer=tf.keras.regularizers.l2(l2_val), activation=ACTIVATION_FUNCTION)(x)\\n#x_copy = x\\nx = Dropout(DROPOUT)(x)\\nx = Dense(1024, kernel_regularizer=tf.keras.regularizers.l2(l2_val), activation=ACTIVATION_FUNCTION)(x)\\nx = Dropout(DROPOUT)(x)\\nx = Dense(2048, kernel_regularizer=tf.keras.regularizers.l2(l2_val), activation=ACTIVATION_FUNCTION)(x)\\nx = Dropout(DROPOUT)(x)\\n#x = Add()([x,x_copy])\\n#'''\\noutputs=Dense(num_classes,activation='softmax')(x)\\n\\nmodel=Model(inputs=base_model.input,outputs=outputs)\\nmodel.summary()\\n#\""
            ]
          },
          "metadata": {
            "tags": []
          },
          "execution_count": 23
        }
      ]
    },
    {
      "cell_type": "code",
      "metadata": {
        "colab": {
          "base_uri": "https://localhost:8080/"
        },
        "id": "qQ6l4-yROFbT",
        "outputId": "82325a0a-433c-43d8-d1ef-0be4b358b3b9"
      },
      "source": [
        "inputs = Input(train_generator.image_shape)\n",
        "x = inputs\n",
        "\n",
        "x = Conv2D(16, kernel_size=(3,3), strides=(1,1), padding='valid')(x)\n",
        "x = Activation('elu')(x)\n",
        "x = MaxPooling2D(pool_size=(2,2), padding='valid')(x)\n",
        "x = Conv2D(16, kernel_size=(3,3), strides=(1,1), padding='same')(x)\n",
        "x = Activation('elu')(x)\n",
        "x = MaxPooling2D(pool_size=(2,2), padding='valid')(x)\n",
        "x = Conv2D(32, kernel_size=(3,3), strides=(1,1), padding='same')(x)\n",
        "x = Activation('elu')(x)\n",
        "x = MaxPooling2D(pool_size=(2,2), padding='valid')(x)\n",
        "x = Conv2D(32, kernel_size=(3,3), strides=(1,1), padding='same')(x)\n",
        "x = Activation('elu')(x)\n",
        "x = MaxPooling2D(pool_size=(2,2), padding='valid')(x)\n",
        "x = Conv2D(64, kernel_size=(3,3), strides=(1,1), padding='same')(x)\n",
        "x = Activation('elu')(x)\n",
        "x = MaxPooling2D(pool_size=(2,2), padding='valid')(x)\n",
        "x = Conv2D(64, kernel_size=(3,3), strides=(1,1), padding='same')(x)\n",
        "x = Activation('elu')(x)\n",
        "x = MaxPooling2D(pool_size=(2,2), padding='valid')(x)\n",
        "x = Conv2D(128, kernel_size=(3,3), strides=(1,1), padding='same')(x)\n",
        "x = Activation('elu')(x)\n",
        "x = MaxPooling2D(pool_size=(2,2), padding='valid')(x)\n",
        "x = Conv2D(128, kernel_size=(3,3), strides=(1,1), padding='same')(x)\n",
        "x = Activation('elu')(x)\n",
        "\n",
        "x = Flatten()(x)\n",
        "x = Dense(512, kernel_regularizer=tf.keras.regularizers.l2(l2_val))(x)\n",
        "x = Activation('elu')(x)\n",
        "x = Dense(512, kernel_regularizer=tf.keras.regularizers.l2(l2_val))(x)\n",
        "x = Activation('elu')(x)\n",
        "x = Dense(1024, kernel_regularizer=tf.keras.regularizers.l2(l2_val))(x)\n",
        "x = Activation('elu')(x)\n",
        "x = Dense(1024, kernel_regularizer=tf.keras.regularizers.l2(l2_val))(x)\n",
        "x = Activation('elu')(x)\n",
        "x = Dense(2048, kernel_regularizer=tf.keras.regularizers.l2(l2_val))(x)\n",
        "x = Activation('elu')(x)\n",
        "\n",
        "outputs = Dense(num_classes, activation='softmax')(x)\n",
        "model=Model(inputs=inputs,outputs=outputs)\n",
        "model.summary()"
      ],
      "execution_count": 24,
      "outputs": [
        {
          "output_type": "stream",
          "text": [
            "Model: \"model\"\n",
            "_________________________________________________________________\n",
            "Layer (type)                 Output Shape              Param #   \n",
            "=================================================================\n",
            "input_1 (InputLayer)         [(None, 768, 768, 3)]     0         \n",
            "_________________________________________________________________\n",
            "conv2d (Conv2D)              (None, 766, 766, 16)      448       \n",
            "_________________________________________________________________\n",
            "activation (Activation)      (None, 766, 766, 16)      0         \n",
            "_________________________________________________________________\n",
            "max_pooling2d (MaxPooling2D) (None, 383, 383, 16)      0         \n",
            "_________________________________________________________________\n",
            "conv2d_1 (Conv2D)            (None, 383, 383, 16)      2320      \n",
            "_________________________________________________________________\n",
            "activation_1 (Activation)    (None, 383, 383, 16)      0         \n",
            "_________________________________________________________________\n",
            "max_pooling2d_1 (MaxPooling2 (None, 191, 191, 16)      0         \n",
            "_________________________________________________________________\n",
            "conv2d_2 (Conv2D)            (None, 191, 191, 32)      4640      \n",
            "_________________________________________________________________\n",
            "activation_2 (Activation)    (None, 191, 191, 32)      0         \n",
            "_________________________________________________________________\n",
            "max_pooling2d_2 (MaxPooling2 (None, 95, 95, 32)        0         \n",
            "_________________________________________________________________\n",
            "conv2d_3 (Conv2D)            (None, 95, 95, 32)        9248      \n",
            "_________________________________________________________________\n",
            "activation_3 (Activation)    (None, 95, 95, 32)        0         \n",
            "_________________________________________________________________\n",
            "max_pooling2d_3 (MaxPooling2 (None, 47, 47, 32)        0         \n",
            "_________________________________________________________________\n",
            "conv2d_4 (Conv2D)            (None, 47, 47, 64)        18496     \n",
            "_________________________________________________________________\n",
            "activation_4 (Activation)    (None, 47, 47, 64)        0         \n",
            "_________________________________________________________________\n",
            "max_pooling2d_4 (MaxPooling2 (None, 23, 23, 64)        0         \n",
            "_________________________________________________________________\n",
            "conv2d_5 (Conv2D)            (None, 23, 23, 64)        36928     \n",
            "_________________________________________________________________\n",
            "activation_5 (Activation)    (None, 23, 23, 64)        0         \n",
            "_________________________________________________________________\n",
            "max_pooling2d_5 (MaxPooling2 (None, 11, 11, 64)        0         \n",
            "_________________________________________________________________\n",
            "conv2d_6 (Conv2D)            (None, 11, 11, 128)       73856     \n",
            "_________________________________________________________________\n",
            "activation_6 (Activation)    (None, 11, 11, 128)       0         \n",
            "_________________________________________________________________\n",
            "max_pooling2d_6 (MaxPooling2 (None, 5, 5, 128)         0         \n",
            "_________________________________________________________________\n",
            "conv2d_7 (Conv2D)            (None, 5, 5, 128)         147584    \n",
            "_________________________________________________________________\n",
            "activation_7 (Activation)    (None, 5, 5, 128)         0         \n",
            "_________________________________________________________________\n",
            "flatten (Flatten)            (None, 3200)              0         \n",
            "_________________________________________________________________\n",
            "dense (Dense)                (None, 512)               1638912   \n",
            "_________________________________________________________________\n",
            "activation_8 (Activation)    (None, 512)               0         \n",
            "_________________________________________________________________\n",
            "dense_1 (Dense)              (None, 512)               262656    \n",
            "_________________________________________________________________\n",
            "activation_9 (Activation)    (None, 512)               0         \n",
            "_________________________________________________________________\n",
            "dense_2 (Dense)              (None, 1024)              525312    \n",
            "_________________________________________________________________\n",
            "activation_10 (Activation)   (None, 1024)              0         \n",
            "_________________________________________________________________\n",
            "dense_3 (Dense)              (None, 1024)              1049600   \n",
            "_________________________________________________________________\n",
            "activation_11 (Activation)   (None, 1024)              0         \n",
            "_________________________________________________________________\n",
            "dense_4 (Dense)              (None, 2048)              2099200   \n",
            "_________________________________________________________________\n",
            "activation_12 (Activation)   (None, 2048)              0         \n",
            "_________________________________________________________________\n",
            "dense_5 (Dense)              (None, 5)                 10245     \n",
            "=================================================================\n",
            "Total params: 5,879,445\n",
            "Trainable params: 5,879,445\n",
            "Non-trainable params: 0\n",
            "_________________________________________________________________\n"
          ],
          "name": "stdout"
        }
      ]
    },
    {
      "cell_type": "code",
      "metadata": {
        "colab": {
          "base_uri": "https://localhost:8080/",
          "height": 36
        },
        "id": "WgomlDGDqn6-",
        "outputId": "7750becc-4561-42e2-c9d6-4adb9a8678a3"
      },
      "source": [
        "'''\n",
        "tf.keras.utils.plot_model(\n",
        "    model, to_file='model.png', show_shapes=True, show_dtype=False,\n",
        "    show_layer_names=True, rankdir='TB', expand_nested=True, dpi=64\n",
        ")\n",
        "#'''"
      ],
      "execution_count": 25,
      "outputs": [
        {
          "output_type": "execute_result",
          "data": {
            "application/vnd.google.colaboratory.intrinsic+json": {
              "type": "string"
            },
            "text/plain": [
              "\"\\ntf.keras.utils.plot_model(\\n    model, to_file='model.png', show_shapes=True, show_dtype=False,\\n    show_layer_names=True, rankdir='TB', expand_nested=True, dpi=64\\n)\\n#\""
            ]
          },
          "metadata": {
            "tags": []
          },
          "execution_count": 25
        }
      ]
    },
    {
      "cell_type": "code",
      "metadata": {
        "colab": {
          "base_uri": "https://localhost:8080/"
        },
        "id": "ozx7Z-ZiUE-2",
        "outputId": "8434d1f0-ee20-4056-dda4-23a1bf06f86b"
      },
      "source": [
        "count_trainable = 0\n",
        "count_non_trainable = 0\n",
        "\n",
        "#'''\n",
        "if pointTrainableAfter == \"allDefault\":\n",
        "    for layer in model.layers:\n",
        "        layer.trainable=True\n",
        "        count_trainable += 1\n",
        "elif pointTrainableAfter > 0:\n",
        "    for layer in model.layers[:pointTrainableAfter]: # [:-pointTrainableAfter]\n",
        "        layer.trainable=False\n",
        "        count_non_trainable += 1\n",
        "    for layer in model.layers[pointTrainableAfter:]: # [-pointTrainableAfter:]\n",
        "        layer.trainable=True\n",
        "        count_trainable += 1\n",
        "#'''\n",
        "\n",
        "'''\n",
        "for layer in model.layers:\n",
        "    layer.trainable=True\n",
        "    count_trainable += 1\n",
        "#'''\n",
        "\n",
        "print(\"count_non_trainable =\", count_non_trainable)\n",
        "print(\"count_trainable =\", count_trainable)\n",
        "print(\"Total number of layers =\", count_non_trainable+count_trainable)"
      ],
      "execution_count": 26,
      "outputs": [
        {
          "output_type": "stream",
          "text": [
            "count_non_trainable = 0\n",
            "count_trainable = 36\n",
            "Total number of layers = 36\n"
          ],
          "name": "stdout"
        }
      ]
    },
    {
      "cell_type": "code",
      "metadata": {
        "colab": {
          "base_uri": "https://localhost:8080/",
          "height": 72
        },
        "id": "aqwYD5TGPxyV",
        "outputId": "5ede7741-020c-4233-a401-80a8a40343e5"
      },
      "source": [
        "'''\n",
        "checkpointer_name  = \"weights.\"+dataset+\".pad\"+str(pad)+\".\"+impl_type+\".wInit.\"+str(init_weights)+\".TrainableAfter.\"+str(pointTrainableAfter)+\\\n",
        "                     modelExt+\".opt.\"+OPTIMIZER+\".drop.\"+str(DROPOUT)+\".batch\"+str(BATCH_SIZE)+ext+\".hdf5\"\n",
        "log_name = \"log.\"+checkpointer_name[8:-5]+\".log\"\n",
        "\n",
        "print('checkpointer_name =', checkpointer_name)\n",
        "print('log_name =', log_name)\n",
        "#'''"
      ],
      "execution_count": 27,
      "outputs": [
        {
          "output_type": "execute_result",
          "data": {
            "application/vnd.google.colaboratory.intrinsic+json": {
              "type": "string"
            },
            "text/plain": [
              "'\\ncheckpointer_name  = \"weights.\"+dataset+\".pad\"+str(pad)+\".\"+impl_type+\".wInit.\"+str(init_weights)+\".TrainableAfter.\"+str(pointTrainableAfter)+                     modelExt+\".opt.\"+OPTIMIZER+\".drop.\"+str(DROPOUT)+\".batch\"+str(BATCH_SIZE)+ext+\".hdf5\"\\nlog_name = \"log.\"+checkpointer_name[8:-5]+\".log\"\\n\\nprint(\\'checkpointer_name =\\', checkpointer_name)\\nprint(\\'log_name =\\', log_name)\\n#'"
            ]
          },
          "metadata": {
            "tags": []
          },
          "execution_count": 27
        }
      ]
    },
    {
      "cell_type": "code",
      "metadata": {
        "id": "V7TtWSDfE_Te"
      },
      "source": [
        ""
      ],
      "execution_count": 27,
      "outputs": []
    },
    {
      "cell_type": "code",
      "metadata": {
        "colab": {
          "base_uri": "https://localhost:8080/"
        },
        "id": "3T7w_lC1QCPh",
        "outputId": "0ccca59d-af79-41dd-e9b7-7e1340ad03ef"
      },
      "source": [
        "# \"RMSProp\" \"SGD\" \"Adam\" \"Adamax\" \"Adadelta\" \"Adagrad\" \"SGD\"\n",
        "#optimizer = tf.keras.optimizers.RMSprop(lr = LEARNING_RATE, epsilon=EPSILON)\n",
        "\n",
        "if OPTIMIZER == \"RMSProp\":\n",
        "    optimizer = tf.keras.optimizers.RMSprop(learning_rate = LEARNING_RATE, epsilon=EPSILON)\n",
        "elif OPTIMIZER == \"Adam\":\n",
        "    optimizer = tf.keras.optimizers.Adam(learning_rate = LEARNING_RATE, epsilon=EPSILON, beta_1=0.9, beta_2=0.999)\n",
        "elif OPTIMIZER == \"Adamax\":\n",
        "    optimizer = tf.keras.optimizers.Adamax(learning_rate = LEARNING_RATE, epsilon=EPSILON, beta_1=0.9, beta_2=0.999)\n",
        "elif OPTIMIZER == \"Adadelta\":\n",
        "    optimizer = tf.keras.optimizers.Adadelta(learning_rate = LEARNING_RATE, epsilon=EPSILON, rho=0.95)\n",
        "elif OPTIMIZER == \"Adagrad\":\n",
        "    optimizer = tf.keras.optimizers.Adagrad(learning_rate = LEARNING_RATE, epsilon=EPSILON, initial_accumulator_value=0.1)\n",
        "elif OPTIMIZER == \"SGD\":\n",
        "    optimizer = tf.keras.optimizers.SGD(learning_rate = LEARNING_RATE, momentum=0.9)\n",
        "\n",
        "model.compile(\n",
        "    #optimizer=OPTIMIZER,\n",
        "    optimizer=optimizer,\n",
        "    loss=LOSS,\n",
        "    metrics=['accuracy', 'AUC', 'TruePositives', 'TrueNegatives', 'FalsePositives', 'FalseNegatives']\n",
        ")\n",
        "\n",
        "print(\"OPTIMIZER =\", OPTIMIZER)"
      ],
      "execution_count": 28,
      "outputs": [
        {
          "output_type": "stream",
          "text": [
            "OPTIMIZER = Adam\n"
          ],
          "name": "stdout"
        }
      ]
    },
    {
      "cell_type": "code",
      "metadata": {
        "id": "OdySVEG3QCpv"
      },
      "source": [
        "# save the best model with least validation loss\n",
        "checkpointer = ModelCheckpoint(filepath = work_dir+checkpointer_name, \n",
        "                               #monitor='val_accuracy',\n",
        "                               monitor='val_loss',\n",
        "                               save_weights_only=False,  \n",
        "                               mode='auto', \n",
        "                               verbose = 1, # 0 = silent, 1 = progress bar, 2 = one line per epoch\n",
        "                               save_best_only =False\n",
        "                               )\n",
        "checkpointer_best = ModelCheckpoint(filepath = work_dir+\"best_\"+checkpointer_name, \n",
        "                                    monitor='val_loss', \n",
        "                                    save_weights_only=False,\n",
        "                                    mode='auto',  \n",
        "                                    verbose = 1, \n",
        "                                    save_best_only = True\n",
        "                                    )\n",
        "early_stopping = EarlyStopping(monitor='loss', patience=early_stop_after_epochs)"
      ],
      "execution_count": 29,
      "outputs": []
    },
    {
      "cell_type": "code",
      "metadata": {
        "colab": {
          "base_uri": "https://localhost:8080/"
        },
        "id": "Fq3iXmYXQHNL",
        "outputId": "f98d5d77-db06-4553-f004-39f31d8f40e8"
      },
      "source": [
        "'''\n",
        "if 'count_no_improvement' not in globals():\n",
        "    count_no_improvement = 0\n",
        "    print(\"count_no_improvement =\", count_no_improvement)\n",
        "#'''\n",
        "'''\n",
        "count_no_improvement = 0 # 0\n",
        "epoch_initial = False\n",
        "#'''\n",
        "min_delta = 0.0009\n",
        "print(\"count_no_improvement =\", count_no_improvement)\n",
        "\n",
        "def checkBestPerformance(epoch, logs):\n",
        "    save_filepath = work_dir+\"best_\"+checkpointer_name\n",
        "\n",
        "    global epoch_initial\n",
        "    if epoch_initial == True:\n",
        "        epoch_initial = False\n",
        "        model.save(filepath = save_filepath)\n",
        "        print(\". Model saved!\")\n",
        "\n",
        "    elif epoch_initial == False:\n",
        "        global count_no_improvement\n",
        "\n",
        "        log_data = pd.read_csv(work_dir+log_name, sep=',', usecols=['val_loss', 'val_accuracy'], engine='python')\n",
        "        min_val_loss = float(str(min(log_data.val_loss.values))[:6])\n",
        "        max_val_acc = float(str(max(log_data.val_accuracy.values))[:6])\n",
        "\n",
        "        current_val_acc = float(str(logs['val_accuracy'])[:6])\n",
        "        current_val_loss = float(str(logs['val_loss'])[:6])\n",
        "\n",
        "        if (current_val_loss < min_val_loss) and (abs(current_val_loss-min_val_loss) >= min_delta):\n",
        "            count_no_improvement = 0\n",
        "            model.save(filepath = save_filepath)\n",
        "            print(\"\\nval_loss decreased from\",min_val_loss,\" to\",current_val_loss,\"( val_accuracy =\",current_val_acc,\").\")\n",
        "\n",
        "        elif (current_val_loss==min_val_loss) and (current_val_acc>max_val_acc):\n",
        "            count_no_improvement = 0\n",
        "            model.save(filepath = save_filepath)\n",
        "            print(\"\\nval_accuracy increased to\", current_val_acc, \".\")\n",
        "\n",
        "        else:\n",
        "            count_no_improvement += 1\n",
        "            print(\". count_no_improvement =\", count_no_improvement)\n",
        "\n",
        "        if count_no_improvement >= early_stop_after_epochs:\n",
        "            global list_callbacks\n",
        "            del list_callbacks, count_no_improvement\n",
        "            #print(\"count_no_improvement =\", count_no_improvement, \"... list_callbacks =\", list_callbacks)"
      ],
      "execution_count": 30,
      "outputs": [
        {
          "output_type": "stream",
          "text": [
            "count_no_improvement = 0\n"
          ],
          "name": "stdout"
        }
      ]
    },
    {
      "cell_type": "code",
      "metadata": {
        "colab": {
          "base_uri": "https://localhost:8080/"
        },
        "id": "YYewyuDiREFZ",
        "outputId": "740461a8-80af-46c0-fbf3-347025962c20"
      },
      "source": [
        "epochs_completed = 0\n",
        "list_callbacks = []\n",
        "csv_logger = CSVLogger(work_dir+log_name, separator=',', append=True)\n",
        "\n",
        "#if 'list_callbacks' in globals():\n",
        "#    del list_callbacks\n",
        "\n",
        "try:\n",
        "    log_data = pd.read_csv(work_dir+log_name, sep=',', usecols=['epoch'], engine='python')\n",
        "    epochs_completed = log_data.shape[0]\n",
        "\n",
        "    #if epochs_completed > 0:\n",
        "    model = load_model(work_dir+checkpointer_name)\n",
        "    list_callbacks = [checkpointer, LambdaCallback(on_epoch_end=checkBestPerformance), csv_logger]\n",
        "    print(\"epochs_completed =\", epochs_completed)\n",
        "\n",
        "except Exception as error:\n",
        "    if epochs_completed == 0:\n",
        "        # list_callbacks = [checkpointer, checkpointer_best, csv_logger, early_stopping] \n",
        "        list_callbacks = [checkpointer, LambdaCallback(on_epoch_end=checkBestPerformance), csv_logger]\n",
        "        print(\"epochs_completed =\", epochs_completed)\n",
        "    elif epochs_completed > 0:\n",
        "        print(error)\n",
        "\n",
        "print('checkpointer_name =', checkpointer_name)"
      ],
      "execution_count": 31,
      "outputs": [
        {
          "output_type": "stream",
          "text": [
            "epochs_completed = 0\n",
            "checkpointer_name = weights.Lung.Colon.Cancer.Hist.10k3.rgb.768p.DataFlow.pad0.noTL.Custom1.wInit.None.TrainableAfter.allDefault.actF.elu.opt.Adam.drop.0.5.batch16.run_1.hdf5\n"
          ],
          "name": "stdout"
        }
      ]
    },
    {
      "cell_type": "code",
      "metadata": {
        "colab": {
          "base_uri": "https://localhost:8080/"
        },
        "id": "6JKqrHnwRGGz",
        "outputId": "7e6cb218-20d8-4293-d19c-5f1698242778"
      },
      "source": [
        "print('checkpointer_name =', checkpointer_name)\n",
        "print(\"Previously completed epochs =\", epochs_completed)\n",
        "print(\"count_no_improvement =\", count_no_improvement, \"\\n\")\n",
        "\n",
        "#'''\n",
        "try:\n",
        "    start_time = time.time()\n",
        "    history = model.fit(train_generator, \n",
        "                        steps_per_epoch=total_train_data // BATCH_SIZE,\n",
        "                        shuffle=True, \n",
        "                        epochs = NUM_EPOCHS - epochs_completed, \n",
        "                        validation_data=test_generator,\n",
        "                        validation_steps=total_test_data // BATCH_SIZE,\n",
        "                        callbacks=list_callbacks\n",
        "                        )\n",
        "    elapsed_time = time.time() - start_time \n",
        "    print(\"\\nTime elapsed: \", elapsed_time)\n",
        "\n",
        "except Exception as error:\n",
        "    print(\"\\nError:\", error)\n",
        "#'''"
      ],
      "execution_count": null,
      "outputs": [
        {
          "output_type": "stream",
          "text": [
            "checkpointer_name = weights.Lung.Colon.Cancer.Hist.10k3.rgb.768p.DataFlow.pad0.noTL.Custom1.wInit.None.TrainableAfter.allDefault.actF.elu.opt.Adam.drop.0.5.batch16.run_1.hdf5\n",
            "Previously completed epochs = 0\n",
            "count_no_improvement = 0 \n",
            "\n",
            "Epoch 1/300\n",
            "1406/1406 [==============================] - 6413s 5s/step - loss: 5.0305 - accuracy: 0.6791 - auc: 0.9329 - true_positives: 13099.0000 - true_negatives: 85693.0000 - false_positives: 4243.0000 - false_negatives: 9385.0000 - val_loss: 4.5445 - val_accuracy: 0.8478 - val_auc: 0.9776 - val_true_positives: 2099.0000 - val_true_negatives: 9621.0000 - val_false_positives: 363.0000 - val_false_negatives: 397.0000\n",
            "\n",
            "Epoch 00001: saving model to drive/My Drive/Cancer/Lung and Colon Cancer Histopathological Images/Records/weights.Lung.Colon.Cancer.Hist.10k3.rgb.768p.DataFlow.pad0.noTL.Custom1.wInit.None.TrainableAfter.allDefault.actF.elu.opt.Adam.drop.0.5.batch16.run_1.hdf5\n",
            ". Model saved!\n",
            "Epoch 2/300\n",
            "1406/1406 [==============================] - 526s 374ms/step - loss: 4.3499 - accuracy: 0.8461 - auc: 0.9798 - true_positives: 18957.0000 - true_negatives: 86579.0000 - false_positives: 3357.0000 - false_negatives: 3527.0000 - val_loss: 4.1803 - val_accuracy: 0.8622 - val_auc: 0.9810 - val_true_positives: 2148.0000 - val_true_negatives: 9649.0000 - val_false_positives: 335.0000 - val_false_negatives: 348.0000\n",
            "\n",
            "Epoch 00002: saving model to drive/My Drive/Cancer/Lung and Colon Cancer Histopathological Images/Records/weights.Lung.Colon.Cancer.Hist.10k3.rgb.768p.DataFlow.pad0.noTL.Custom1.wInit.None.TrainableAfter.allDefault.actF.elu.opt.Adam.drop.0.5.batch16.run_1.hdf5\n",
            "\n",
            "val_loss decreased from 4.5445  to 4.1803 ( val_accuracy = 0.8621 ).\n",
            "Epoch 3/300\n",
            "1406/1406 [==============================] - 482s 343ms/step - loss: 3.9886 - accuracy: 0.8734 - auc: 0.9856 - true_positives: 19600.0000 - true_negatives: 87162.0000 - false_positives: 2774.0000 - false_negatives: 2884.0000 - val_loss: 3.8455 - val_accuracy: 0.8666 - val_auc: 0.9853 - val_true_positives: 2160.0000 - val_true_negatives: 9655.0000 - val_false_positives: 329.0000 - val_false_negatives: 336.0000\n",
            "\n",
            "Epoch 00003: saving model to drive/My Drive/Cancer/Lung and Colon Cancer Histopathological Images/Records/weights.Lung.Colon.Cancer.Hist.10k3.rgb.768p.DataFlow.pad0.noTL.Custom1.wInit.None.TrainableAfter.allDefault.actF.elu.opt.Adam.drop.0.5.batch16.run_1.hdf5\n",
            "\n",
            "val_loss decreased from 4.1803  to 3.8455 ( val_accuracy = 0.8665 ).\n",
            "Epoch 4/300\n",
            "1406/1406 [==============================] - 482s 342ms/step - loss: 3.6766 - accuracy: 0.8829 - auc: 0.9880 - true_positives: 19807.0000 - true_negatives: 87355.0000 - false_positives: 2581.0000 - false_negatives: 2677.0000 - val_loss: 3.5309 - val_accuracy: 0.8874 - val_auc: 0.9890 - val_true_positives: 2212.0000 - val_true_negatives: 9710.0000 - val_false_positives: 274.0000 - val_false_negatives: 284.0000\n",
            "\n",
            "Epoch 00004: saving model to drive/My Drive/Cancer/Lung and Colon Cancer Histopathological Images/Records/weights.Lung.Colon.Cancer.Hist.10k3.rgb.768p.DataFlow.pad0.noTL.Custom1.wInit.None.TrainableAfter.allDefault.actF.elu.opt.Adam.drop.0.5.batch16.run_1.hdf5\n",
            "\n",
            "val_loss decreased from 3.8455  to 3.5308 ( val_accuracy = 0.8874 ).\n",
            "Epoch 5/300\n",
            "1406/1406 [==============================] - 483s 343ms/step - loss: 3.3964 - accuracy: 0.8924 - auc: 0.9896 - true_positives: 20027.0000 - true_negatives: 87576.0000 - false_positives: 2360.0000 - false_negatives: 2457.0000 - val_loss: 3.2888 - val_accuracy: 0.8938 - val_auc: 0.9886 - val_true_positives: 2228.0000 - val_true_negatives: 9727.0000 - val_false_positives: 257.0000 - val_false_negatives: 268.0000\n",
            "\n",
            "Epoch 00005: saving model to drive/My Drive/Cancer/Lung and Colon Cancer Histopathological Images/Records/weights.Lung.Colon.Cancer.Hist.10k3.rgb.768p.DataFlow.pad0.noTL.Custom1.wInit.None.TrainableAfter.allDefault.actF.elu.opt.Adam.drop.0.5.batch16.run_1.hdf5\n",
            "\n",
            "val_loss decreased from 3.5308  to 3.2887 ( val_accuracy = 0.8938 ).\n",
            "Epoch 6/300\n",
            "1406/1406 [==============================] - 483s 343ms/step - loss: 3.1371 - accuracy: 0.9045 - auc: 0.9914 - true_positives: 20298.0000 - true_negatives: 87842.0000 - false_positives: 2094.0000 - false_negatives: 2186.0000 - val_loss: 3.0226 - val_accuracy: 0.9042 - val_auc: 0.9918 - val_true_positives: 2252.0000 - val_true_negatives: 9751.0000 - val_false_positives: 233.0000 - val_false_negatives: 244.0000\n",
            "\n",
            "Epoch 00006: saving model to drive/My Drive/Cancer/Lung and Colon Cancer Histopathological Images/Records/weights.Lung.Colon.Cancer.Hist.10k3.rgb.768p.DataFlow.pad0.noTL.Custom1.wInit.None.TrainableAfter.allDefault.actF.elu.opt.Adam.drop.0.5.batch16.run_1.hdf5\n",
            "\n",
            "val_loss decreased from 3.2887  to 3.0226 ( val_accuracy = 0.9042 ).\n",
            "Epoch 7/300\n",
            "1406/1406 [==============================] - 480s 341ms/step - loss: 2.9051 - accuracy: 0.9104 - auc: 0.9926 - true_positives: 20438.0000 - true_negatives: 87967.0000 - false_positives: 1969.0000 - false_negatives: 2046.0000 - val_loss: 2.8002 - val_accuracy: 0.9147 - val_auc: 0.9927 - val_true_positives: 2280.0000 - val_true_negatives: 9775.0000 - val_false_positives: 209.0000 - val_false_negatives: 216.0000\n",
            "\n",
            "Epoch 00007: saving model to drive/My Drive/Cancer/Lung and Colon Cancer Histopathological Images/Records/weights.Lung.Colon.Cancer.Hist.10k3.rgb.768p.DataFlow.pad0.noTL.Custom1.wInit.None.TrainableAfter.allDefault.actF.elu.opt.Adam.drop.0.5.batch16.run_1.hdf5\n",
            "\n",
            "val_loss decreased from 3.0226  to 2.8002 ( val_accuracy = 0.9146 ).\n",
            "Epoch 8/300\n",
            "1406/1406 [==============================] - 478s 340ms/step - loss: 2.6896 - accuracy: 0.9182 - auc: 0.9938 - true_positives: 20600.0000 - true_negatives: 88133.0000 - false_positives: 1803.0000 - false_negatives: 1884.0000 - val_loss: 2.6010 - val_accuracy: 0.9183 - val_auc: 0.9933 - val_true_positives: 2288.0000 - val_true_negatives: 9787.0000 - val_false_positives: 197.0000 - val_false_negatives: 208.0000\n",
            "\n",
            "Epoch 00008: saving model to drive/My Drive/Cancer/Lung and Colon Cancer Histopathological Images/Records/weights.Lung.Colon.Cancer.Hist.10k3.rgb.768p.DataFlow.pad0.noTL.Custom1.wInit.None.TrainableAfter.allDefault.actF.elu.opt.Adam.drop.0.5.batch16.run_1.hdf5\n",
            "\n",
            "val_loss decreased from 2.8002  to 2.6009 ( val_accuracy = 0.9182 ).\n",
            "Epoch 9/300\n",
            "1406/1406 [==============================] - 516s 367ms/step - loss: 2.4922 - accuracy: 0.9284 - auc: 0.9948 - true_positives: 20834.0000 - true_negatives: 88367.0000 - false_positives: 1569.0000 - false_negatives: 1650.0000 - val_loss: 2.3945 - val_accuracy: 0.9367 - val_auc: 0.9954 - val_true_positives: 2332.0000 - val_true_negatives: 9830.0000 - val_false_positives: 154.0000 - val_false_negatives: 164.0000\n",
            "\n",
            "Epoch 00009: saving model to drive/My Drive/Cancer/Lung and Colon Cancer Histopathological Images/Records/weights.Lung.Colon.Cancer.Hist.10k3.rgb.768p.DataFlow.pad0.noTL.Custom1.wInit.None.TrainableAfter.allDefault.actF.elu.opt.Adam.drop.0.5.batch16.run_1.hdf5\n",
            "\n",
            "val_loss decreased from 2.6009  to 2.3945 ( val_accuracy = 0.9366 ).\n",
            "Epoch 10/300\n",
            "1406/1406 [==============================] - 481s 342ms/step - loss: 2.3101 - accuracy: 0.9352 - auc: 0.9957 - true_positives: 21002.0000 - true_negatives: 88515.0000 - false_positives: 1421.0000 - false_negatives: 1482.0000 - val_loss: 2.2296 - val_accuracy: 0.9387 - val_auc: 0.9958 - val_true_positives: 2339.0000 - val_true_negatives: 9834.0000 - val_false_positives: 150.0000 - val_false_negatives: 157.0000\n",
            "\n",
            "Epoch 00010: saving model to drive/My Drive/Cancer/Lung and Colon Cancer Histopathological Images/Records/weights.Lung.Colon.Cancer.Hist.10k3.rgb.768p.DataFlow.pad0.noTL.Custom1.wInit.None.TrainableAfter.allDefault.actF.elu.opt.Adam.drop.0.5.batch16.run_1.hdf5\n",
            "\n",
            "val_loss decreased from 2.3945  to 2.2295 ( val_accuracy = 0.9387 ).\n",
            "Epoch 11/300\n",
            "1406/1406 [==============================] - 480s 342ms/step - loss: 2.1477 - accuracy: 0.9407 - auc: 0.9962 - true_positives: 21124.0000 - true_negatives: 88620.0000 - false_positives: 1316.0000 - false_negatives: 1360.0000 - val_loss: 2.1242 - val_accuracy: 0.9175 - val_auc: 0.9933 - val_true_positives: 2285.0000 - val_true_negatives: 9787.0000 - val_false_positives: 197.0000 - val_false_negatives: 211.0000\n",
            "\n",
            "Epoch 00011: saving model to drive/My Drive/Cancer/Lung and Colon Cancer Histopathological Images/Records/weights.Lung.Colon.Cancer.Hist.10k3.rgb.768p.DataFlow.pad0.noTL.Custom1.wInit.None.TrainableAfter.allDefault.actF.elu.opt.Adam.drop.0.5.batch16.run_1.hdf5\n",
            "\n",
            "val_loss decreased from 2.2295  to 2.1241 ( val_accuracy = 0.9174 ).\n",
            "Epoch 12/300\n",
            "1406/1406 [==============================] - 473s 336ms/step - loss: 1.9982 - accuracy: 0.9441 - auc: 0.9965 - true_positives: 21196.0000 - true_negatives: 88705.0000 - false_positives: 1231.0000 - false_negatives: 1288.0000 - val_loss: 1.9622 - val_accuracy: 0.9339 - val_auc: 0.9949 - val_true_positives: 2330.0000 - val_true_negatives: 9822.0000 - val_false_positives: 162.0000 - val_false_negatives: 166.0000\n",
            "\n",
            "Epoch 00012: saving model to drive/My Drive/Cancer/Lung and Colon Cancer Histopathological Images/Records/weights.Lung.Colon.Cancer.Hist.10k3.rgb.768p.DataFlow.pad0.noTL.Custom1.wInit.None.TrainableAfter.allDefault.actF.elu.opt.Adam.drop.0.5.batch16.run_1.hdf5\n",
            "\n",
            "val_loss decreased from 2.1241  to 1.9621 ( val_accuracy = 0.9338 ).\n",
            "Epoch 13/300\n",
            "1406/1406 [==============================] - 471s 335ms/step - loss: 1.8623 - accuracy: 0.9463 - auc: 0.9969 - true_positives: 21252.0000 - true_negatives: 88756.0000 - false_positives: 1180.0000 - false_negatives: 1232.0000 - val_loss: 1.8217 - val_accuracy: 0.9407 - val_auc: 0.9958 - val_true_positives: 2345.0000 - val_true_negatives: 9842.0000 - val_false_positives: 142.0000 - val_false_negatives: 151.0000\n",
            "\n",
            "Epoch 00013: saving model to drive/My Drive/Cancer/Lung and Colon Cancer Histopathological Images/Records/weights.Lung.Colon.Cancer.Hist.10k3.rgb.768p.DataFlow.pad0.noTL.Custom1.wInit.None.TrainableAfter.allDefault.actF.elu.opt.Adam.drop.0.5.batch16.run_1.hdf5\n",
            "\n",
            "val_loss decreased from 1.9621  to 1.8217 ( val_accuracy = 0.9407 ).\n",
            "Epoch 14/300\n",
            "1406/1406 [==============================] - 512s 364ms/step - loss: 1.7348 - accuracy: 0.9510 - auc: 0.9972 - true_positives: 21361.0000 - true_negatives: 88862.0000 - false_positives: 1074.0000 - false_negatives: 1123.0000 - val_loss: 1.6868 - val_accuracy: 0.9487 - val_auc: 0.9968 - val_true_positives: 2367.0000 - val_true_negatives: 9862.0000 - val_false_positives: 122.0000 - val_false_negatives: 129.0000\n",
            "\n",
            "Epoch 00014: saving model to drive/My Drive/Cancer/Lung and Colon Cancer Histopathological Images/Records/weights.Lung.Colon.Cancer.Hist.10k3.rgb.768p.DataFlow.pad0.noTL.Custom1.wInit.None.TrainableAfter.allDefault.actF.elu.opt.Adam.drop.0.5.batch16.run_1.hdf5\n",
            "\n",
            "val_loss decreased from 1.8217  to 1.6868 ( val_accuracy = 0.9487 ).\n",
            "Epoch 15/300\n",
            "1406/1406 [==============================] - 470s 334ms/step - loss: 1.6185 - accuracy: 0.9535 - auc: 0.9975 - true_positives: 21416.0000 - true_negatives: 88910.0000 - false_positives: 1026.0000 - false_negatives: 1068.0000 - val_loss: 1.5690 - val_accuracy: 0.9547 - val_auc: 0.9971 - val_true_positives: 2380.0000 - val_true_negatives: 9873.0000 - val_false_positives: 111.0000 - val_false_negatives: 116.0000\n",
            "\n",
            "Epoch 00015: saving model to drive/My Drive/Cancer/Lung and Colon Cancer Histopathological Images/Records/weights.Lung.Colon.Cancer.Hist.10k3.rgb.768p.DataFlow.pad0.noTL.Custom1.wInit.None.TrainableAfter.allDefault.actF.elu.opt.Adam.drop.0.5.batch16.run_1.hdf5\n",
            "\n",
            "val_loss decreased from 1.6868  to 1.5689 ( val_accuracy = 0.9547 ).\n",
            "Epoch 16/300\n",
            "1406/1406 [==============================] - 472s 336ms/step - loss: 1.5124 - accuracy: 0.9540 - auc: 0.9977 - true_positives: 21431.0000 - true_negatives: 88919.0000 - false_positives: 1017.0000 - false_negatives: 1053.0000 - val_loss: 1.4644 - val_accuracy: 0.9511 - val_auc: 0.9979 - val_true_positives: 2373.0000 - val_true_negatives: 9867.0000 - val_false_positives: 117.0000 - val_false_negatives: 123.0000\n",
            "\n",
            "Epoch 00016: saving model to drive/My Drive/Cancer/Lung and Colon Cancer Histopathological Images/Records/weights.Lung.Colon.Cancer.Hist.10k3.rgb.768p.DataFlow.pad0.noTL.Custom1.wInit.None.TrainableAfter.allDefault.actF.elu.opt.Adam.drop.0.5.batch16.run_1.hdf5\n",
            "\n",
            "val_loss decreased from 1.5689  to 1.4644 ( val_accuracy = 0.9511 ).\n",
            "Epoch 17/300\n",
            "1406/1406 [==============================] - 513s 365ms/step - loss: 1.4096 - accuracy: 0.9585 - auc: 0.9979 - true_positives: 21535.0000 - true_negatives: 89022.0000 - false_positives: 914.0000 - false_negatives: 949.0000 - val_loss: 1.3721 - val_accuracy: 0.9539 - val_auc: 0.9973 - val_true_positives: 2378.0000 - val_true_negatives: 9872.0000 - val_false_positives: 112.0000 - val_false_negatives: 118.0000\n",
            "\n",
            "Epoch 00017: saving model to drive/My Drive/Cancer/Lung and Colon Cancer Histopathological Images/Records/weights.Lung.Colon.Cancer.Hist.10k3.rgb.768p.DataFlow.pad0.noTL.Custom1.wInit.None.TrainableAfter.allDefault.actF.elu.opt.Adam.drop.0.5.batch16.run_1.hdf5\n",
            "\n",
            "val_loss decreased from 1.4644  to 1.3721 ( val_accuracy = 0.9539 ).\n",
            "Epoch 18/300\n",
            "1406/1406 [==============================] - 471s 335ms/step - loss: 1.3210 - accuracy: 0.9573 - auc: 0.9979 - true_positives: 21508.0000 - true_negatives: 88999.0000 - false_positives: 937.0000 - false_negatives: 976.0000 - val_loss: 1.3092 - val_accuracy: 0.9447 - val_auc: 0.9972 - val_true_positives: 2357.0000 - val_true_negatives: 9849.0000 - val_false_positives: 135.0000 - val_false_negatives: 139.0000\n",
            "\n",
            "Epoch 00018: saving model to drive/My Drive/Cancer/Lung and Colon Cancer Histopathological Images/Records/weights.Lung.Colon.Cancer.Hist.10k3.rgb.768p.DataFlow.pad0.noTL.Custom1.wInit.None.TrainableAfter.allDefault.actF.elu.opt.Adam.drop.0.5.batch16.run_1.hdf5\n",
            "\n",
            "val_loss decreased from 1.3721  to 1.3092 ( val_accuracy = 0.9447 ).\n",
            "Epoch 19/300\n",
            "1406/1406 [==============================] - 470s 334ms/step - loss: 1.2352 - accuracy: 0.9605 - auc: 0.9981 - true_positives: 21580.0000 - true_negatives: 89062.0000 - false_positives: 874.0000 - false_negatives: 904.0000 - val_loss: 1.2223 - val_accuracy: 0.9503 - val_auc: 0.9971 - val_true_positives: 2372.0000 - val_true_negatives: 9863.0000 - val_false_positives: 121.0000 - val_false_negatives: 124.0000\n",
            "\n",
            "Epoch 00019: saving model to drive/My Drive/Cancer/Lung and Colon Cancer Histopathological Images/Records/weights.Lung.Colon.Cancer.Hist.10k3.rgb.768p.DataFlow.pad0.noTL.Custom1.wInit.None.TrainableAfter.allDefault.actF.elu.opt.Adam.drop.0.5.batch16.run_1.hdf5\n",
            "\n",
            "val_loss decreased from 1.3092  to 1.2223 ( val_accuracy = 0.9503 ).\n",
            "Epoch 20/300\n",
            "1406/1406 [==============================] - 470s 334ms/step - loss: 1.1573 - accuracy: 0.9610 - auc: 0.9984 - true_positives: 21590.0000 - true_negatives: 89071.0000 - false_positives: 865.0000 - false_negatives: 894.0000 - val_loss: 1.1375 - val_accuracy: 0.9507 - val_auc: 0.9980 - val_true_positives: 2369.0000 - val_true_negatives: 9863.0000 - val_false_positives: 121.0000 - val_false_negatives: 127.0000\n",
            "\n",
            "Epoch 00020: saving model to drive/My Drive/Cancer/Lung and Colon Cancer Histopathological Images/Records/weights.Lung.Colon.Cancer.Hist.10k3.rgb.768p.DataFlow.pad0.noTL.Custom1.wInit.None.TrainableAfter.allDefault.actF.elu.opt.Adam.drop.0.5.batch16.run_1.hdf5\n",
            "\n",
            "val_loss decreased from 1.2223  to 1.1374 ( val_accuracy = 0.9507 ).\n",
            "Epoch 21/300\n",
            "1406/1406 [==============================] - 478s 340ms/step - loss: 1.0879 - accuracy: 0.9622 - auc: 0.9984 - true_positives: 21618.0000 - true_negatives: 89099.0000 - false_positives: 837.0000 - false_negatives: 866.0000 - val_loss: 1.0613 - val_accuracy: 0.9591 - val_auc: 0.9984 - val_true_positives: 2392.0000 - val_true_negatives: 9886.0000 - val_false_positives: 98.0000 - val_false_negatives: 104.0000\n",
            "\n",
            "Epoch 00021: saving model to drive/My Drive/Cancer/Lung and Colon Cancer Histopathological Images/Records/weights.Lung.Colon.Cancer.Hist.10k3.rgb.768p.DataFlow.pad0.noTL.Custom1.wInit.None.TrainableAfter.allDefault.actF.elu.opt.Adam.drop.0.5.batch16.run_1.hdf5\n",
            "\n",
            "val_loss decreased from 1.1374  to 1.0613 ( val_accuracy = 0.9591 ).\n",
            "Epoch 22/300\n",
            "1406/1406 [==============================] - 482s 343ms/step - loss: 1.0217 - accuracy: 0.9643 - auc: 0.9984 - true_positives: 21668.0000 - true_negatives: 89149.0000 - false_positives: 787.0000 - false_negatives: 816.0000 - val_loss: 0.9981 - val_accuracy: 0.9587 - val_auc: 0.9983 - val_true_positives: 2393.0000 - val_true_negatives: 9883.0000 - val_false_positives: 101.0000 - val_false_negatives: 103.0000\n",
            "\n",
            "Epoch 00022: saving model to drive/My Drive/Cancer/Lung and Colon Cancer Histopathological Images/Records/weights.Lung.Colon.Cancer.Hist.10k3.rgb.768p.DataFlow.pad0.noTL.Custom1.wInit.None.TrainableAfter.allDefault.actF.elu.opt.Adam.drop.0.5.batch16.run_1.hdf5\n",
            "\n",
            "val_loss decreased from 1.0613  to 0.9981 ( val_accuracy = 0.9587 ).\n",
            "Epoch 23/300\n",
            " 248/1406 [====>.........................] - ETA: 6:02 - loss: 0.9833 - accuracy: 0.9630 - auc: 0.9986 - true_positives: 3817.0000 - true_negatives: 15728.0000 - false_positives: 144.0000 - false_negatives: 151.0000"
          ],
          "name": "stdout"
        }
      ]
    },
    {
      "cell_type": "code",
      "metadata": {
        "id": "UJsgsZFzQCs2"
      },
      "source": [
        "# weights.Lung.Colon.Cancer.Hist.10k3.rgb.(256, 256).DataFlow.pad0.TransferLearning3D.DenseNet201.wInit.imagenet.TrainableAfter.allDefault.Dense.1024.1024.2048.actF.elu.opt.Adam.drop.0.5.batch16.Flatten.l2.0.001.run_1.hdf5\n"
      ],
      "execution_count": null,
      "outputs": []
    },
    {
      "cell_type": "code",
      "metadata": {
        "id": "l_xKnoFvFQ4F"
      },
      "source": [
        "'''\n",
        "Record: Lung_Colon_Cancer_Hist_10_folds_k3_impl_1_256p_RGB_Dense201_Custom_withImageNet_DataFlow: (96.33%)\n",
        ";\n",
        "---\n",
        "Test Acc: 0.9992, AUC: 0.9997, Test Loss: 3.0202: ep5, weights.Lung.Colon.Cancer.Hist.10k3.rgb.(256, 256).DataFlow.pad0.TransferLearning3D.DenseNet201.wInit.imagenet.TrainableAfter.allDefault.Dense.1024.1024.2048.actF.elu.opt.Adam.drop.0.5.batch16.Flatten.l2.0.001.run_1.hdf5\n",
        "\n",
        "#'''\n",
        "\n",
        "csv_logger = CSVLogger(work_dir+log_name, separator=',', append=True)\n",
        "log_data = pd.read_csv(work_dir+log_name, sep=',', usecols=['epoch'], engine='python')\n",
        "epochs_completed = log_data.shape[0]\n",
        "\n",
        "result = model.evaluate(test_generator, steps=total_test_data // BATCH_SIZE)\n",
        "print(\"Test Acc: {}, AUC: {}, Test Loss: {}: ep{}, {}\\n\".format(round(result[1],4), round(result[2],4), round(result[0],4), epochs_completed, checkpointer_name))\n"
      ],
      "execution_count": null,
      "outputs": []
    },
    {
      "cell_type": "code",
      "metadata": {
        "id": "IQM7JieEFQ1G"
      },
      "source": [
        "#checkpointer_name = \"weights.Fashion.DenseNet121.wInit.None.TrainableAfterallDefault.opt.SGD.drop.0.0.batch32.Flatten.run_1.hdf5\"\n",
        "model_loaded = load_model(work_dir+\"best_\"+checkpointer_name)\n",
        "print(\"Loaded \"+work_dir+\"best_\"+checkpointer_name+\".\")"
      ],
      "execution_count": null,
      "outputs": []
    },
    {
      "cell_type": "code",
      "metadata": {
        "id": "chvVsOEgRfsO"
      },
      "source": [
        "'''\n",
        "Record: Lung_Colon_Cancer_Hist_10_folds_k3_impl_1_256p_RGB_Dense201_Custom_withImageNet_DataFlow: (96.33%)\n",
        ";\n",
        "---\n",
        "Test Acc: 0.9992, AUC: 0.9997, Test Loss: 3.0202, ep5, best_weights.Lung.Colon.Cancer.Hist.10k3.rgb.(256, 256).DataFlow.pad0.TransferLearning3D.DenseNet201.wInit.imagenet.TrainableAfter.allDefault.Dense.1024.1024.2048.actF.elu.opt.Adam.drop.0.5.batch16.Flatten.l2.0.001.run_1.hdf5\n",
        "\n",
        "#'''\n",
        "'''\n",
        "csv_logger = CSVLogger(work_dir+log_name, separator=',', append=True)\n",
        "log_data = pd.read_csv(work_dir+log_name, sep=',', usecols=['epoch'], engine='python')\n",
        "epochs_completed = log_data.shape[0]\n",
        "#'''\n",
        "\n",
        "result2 = model_loaded.evaluate(test_generator, steps=total_test_data // BATCH_SIZE)\n",
        "#print(\"nLayers: {}, nNeurons: {}, DROPOUT: {}, Test Acc: {}, Test Loss: {}\".format(NUM_LAYERS, NUM_NEURONS, DROPOUT, round(result2[1], 4), round(result2[0], 4)))\n",
        "print(\"Test Acc: {}, AUC: {}, Test Loss: {}, ep{}, {}\\n\".format(round(result2[1],4), round(result2[2],4), round(result2[0],4), epochs_completed, \"best_\"+checkpointer_name))\n"
      ],
      "execution_count": null,
      "outputs": []
    },
    {
      "cell_type": "code",
      "metadata": {
        "id": "vbKfFMo9gDPZ"
      },
      "source": [
        ""
      ],
      "execution_count": null,
      "outputs": []
    },
    {
      "cell_type": "code",
      "metadata": {
        "id": "hn9Yd4vHgDvH"
      },
      "source": [
        "# metrics=['accuracy', 'AUC', 'TruePositives', 'TrueNegatives', 'FalsePositives', 'FalseNegatives']\n",
        "result2"
      ],
      "execution_count": null,
      "outputs": []
    },
    {
      "cell_type": "code",
      "metadata": {
        "id": "pdej_0gOghKl"
      },
      "source": [
        "TP = result2[3]\n",
        "TN = result2[4]\n",
        "FP = result2[5]\n",
        "FN = result2[6]\n",
        "print(f\"TP={TP}, TN={TN}, FP={FP}, FN={FN}\")"
      ],
      "execution_count": null,
      "outputs": []
    },
    {
      "cell_type": "code",
      "metadata": {
        "id": "VoGYlDuJnoYd"
      },
      "source": [
        "'''\n",
        "run_1: accuracy=0.9992, sensitivity=recall=0.9992, specificity=0.9998, precision=0.9992, f1_score=0.9992, auc=0.9997\n",
        "\n",
        "'''"
      ],
      "execution_count": null,
      "outputs": []
    },
    {
      "cell_type": "code",
      "metadata": {
        "id": "NlzLzPAThX6A"
      },
      "source": [
        "accuracy = round(result2[1], 4)\n",
        "sensitivity = round((TP / (TP+FN)), 4)\n",
        "specificity = round((TN / (FP+TN)), 4)\n",
        "precision = round((TP / (TP+FP)), 4)\n",
        "recall = sensitivity # sensitivity and recall are same.\n",
        "f1_score = round((2*precision*recall) / (precision+recall), 4)\n",
        "auc = round(result2[2], 4)\n",
        "\n",
        "print(f\"accuracy={accuracy}, sensitivity=recall={sensitivity}, specificity={specificity}, precision={precision}, f1_score={f1_score}, auc={auc}\")"
      ],
      "execution_count": null,
      "outputs": []
    },
    {
      "cell_type": "code",
      "metadata": {
        "id": "SIIc9qKegDyk"
      },
      "source": [
        ""
      ],
      "execution_count": null,
      "outputs": []
    },
    {
      "cell_type": "code",
      "metadata": {
        "id": "z1GzwpODRlRf"
      },
      "source": [
        "import csv\n",
        "\n",
        "with open(work_dir+'Records.csv', \"a\") as fp:\n",
        "    wr = csv.writer(fp, dialect='excel')\n",
        "    try:\n",
        "        wr.writerow([checkpointer_name[8:-5], round(result2[1], 4), round(result2[0], 4), elapsed_time])\n",
        "    except:\n",
        "        wr.writerow([checkpointer_name[8:-5], round(result2[1], 4), round(result2[0], 4)])\n",
        "print(\"Saved results.\")"
      ],
      "execution_count": null,
      "outputs": []
    },
    {
      "cell_type": "code",
      "metadata": {
        "id": "Dv35-hm1Rfv5"
      },
      "source": [
        ""
      ],
      "execution_count": null,
      "outputs": []
    },
    {
      "cell_type": "code",
      "metadata": {
        "id": "r41Tx24EuA8A"
      },
      "source": [
        "#Confution Matrix and Classification Report\n",
        "#'''\n",
        "Y_pred = model_loaded.predict_generator(test_generator, verbose=1)\n",
        "#'''\n",
        "#'''\n",
        "save_predictions_filename = f\"Y_pred.{checkpointer_name[8:-5]}\"\n",
        "np.save(f\"{work_dir}{save_predictions_filename}\", Y_pred, allow_pickle=True)\n",
        "print(f\"Saved: {work_dir}{save_predictions_filename}\")\n",
        "#'''"
      ],
      "execution_count": null,
      "outputs": []
    },
    {
      "cell_type": "code",
      "metadata": {
        "id": "RCOqGtOtSVG5"
      },
      "source": [
        "'''\n",
        "save_predictions_filename = f\"Y_pred.{checkpointer_name[8:-5]}\"\n",
        "np.save(f\"{work_dir}{save_predictions_filename}\", Y_pred, allow_pickle=True)\n",
        "print(f\"Saved: {work_dir}{save_predictions_filename}\")\n",
        "#'''"
      ],
      "execution_count": null,
      "outputs": []
    },
    {
      "cell_type": "code",
      "metadata": {
        "id": "f5DLKM2YTGiR"
      },
      "source": [
        "#Y_pred_loaded = np.load(f\"{work_dir}{save_predictions_filename_2}.npy\", allow_pickle=True)\n",
        "Y_pred_loaded = np.load(f\"{work_dir}{save_predictions_filename}.npy\", allow_pickle=True)\n",
        "print(f\"Y_pred_loaded.shape = {Y_pred_loaded.shape}\")"
      ],
      "execution_count": null,
      "outputs": []
    },
    {
      "cell_type": "code",
      "metadata": {
        "id": "sKVblYYLTR8O"
      },
      "source": [
        ""
      ],
      "execution_count": null,
      "outputs": []
    },
    {
      "cell_type": "code",
      "metadata": {
        "id": "vPVcI8W8uVxT"
      },
      "source": [
        "y_pred = np.argmax(Y_pred_loaded, axis=1)"
      ],
      "execution_count": null,
      "outputs": []
    },
    {
      "cell_type": "code",
      "metadata": {
        "id": "EWjMUxOC_idw"
      },
      "source": [
        "y_true = test_generator.classes"
      ],
      "execution_count": null,
      "outputs": []
    },
    {
      "cell_type": "code",
      "metadata": {
        "id": "9AnENPzD_XCi"
      },
      "source": [
        "list_class_names_in_generator = list(test_generator.class_indices.values())\n",
        "list_class_names_in_generator[:5]"
      ],
      "execution_count": null,
      "outputs": []
    },
    {
      "cell_type": "code",
      "metadata": {
        "id": "g9ECGTlXdLEY"
      },
      "source": [
        "len(list_class_names_in_generator)"
      ],
      "execution_count": null,
      "outputs": []
    },
    {
      "cell_type": "code",
      "metadata": {
        "id": "7c1QqkvSB4rw"
      },
      "source": [
        "list_y_true_rearranged = []\n",
        "list_y_pred_rearranged = []\n",
        "\n",
        "for true_class,pred_class in zip(y_true,y_pred):\n",
        "    #print(f\"true_class = {true_class}; pred_class = {pred_class}\")\n",
        "    #y_true_rearranged = int(list_class_names_in_generator[true_class][5:])\n",
        "    #y_pred_rearranged = int(list_class_names_in_generator[pred_class][5:])\n",
        "\n",
        "    y_true_rearranged = int(list_class_names_in_generator[true_class])\n",
        "    y_pred_rearranged = int(list_class_names_in_generator[pred_class])\n",
        "\n",
        "    list_y_true_rearranged.append(y_true_rearranged)\n",
        "    list_y_pred_rearranged.append(y_pred_rearranged)"
      ],
      "execution_count": null,
      "outputs": []
    },
    {
      "cell_type": "code",
      "metadata": {
        "id": "twUaOkzO_lYu"
      },
      "source": [
        "np_y_true_rearranged = np.array(list_y_true_rearranged)\n",
        "np_y_pred_rearranged = np.array(list_y_pred_rearranged)\n",
        "\n",
        "print(f\"np_y_true_rearranged.shape = {np_y_true_rearranged.shape}\")\n",
        "print(f\"np_y_pred_rearranged.shape = {np_y_pred_rearranged.shape}\")\n",
        "print(f\"np_y_true_rearranged: {np_y_true_rearranged}\")\n",
        "print(f\"np_y_pred_rearranged: {np_y_pred_rearranged}\")"
      ],
      "execution_count": null,
      "outputs": []
    },
    {
      "cell_type": "code",
      "metadata": {
        "id": "LxgBOkM5Es08"
      },
      "source": [
        "print(f\"np_y_true_rearranged.shape = {np_y_true_rearranged.shape}\\n\")\n",
        "\n",
        "index = -5\n",
        "print(f\"y_true[{index}:] = {y_true[index:]}\")\n",
        "print(f\"y_pred[{index}:] = {y_pred[index:]}\\n\")\n",
        "print(f\"np_y_true_rearranged[{index}:] = {np_y_true_rearranged[index:]}\")\n",
        "print(f\"np_y_pred_rearranged[{index}:] = {np_y_pred_rearranged[index:]}\\n\")\n",
        "print(f\"np.unique(np_y_true_rearranged) = {np.unique(np_y_true_rearranged)}\")\n",
        "print(f\"np.unique(np_y_pred_rearranged) = {np.unique(np_y_pred_rearranged)}\")"
      ],
      "execution_count": null,
      "outputs": []
    },
    {
      "cell_type": "code",
      "metadata": {
        "id": "yo2maYGREHa1"
      },
      "source": [
        ""
      ],
      "execution_count": null,
      "outputs": []
    },
    {
      "cell_type": "code",
      "metadata": {
        "id": "ATQ8O5enuJcA"
      },
      "source": [
        "conf_matrix = sklearn.metrics.confusion_matrix(np_y_true_rearranged, np_y_pred_rearranged)\n",
        "print(f\"Confusion Matrix:\\n{conf_matrix}\")"
      ],
      "execution_count": null,
      "outputs": []
    },
    {
      "cell_type": "code",
      "metadata": {
        "id": "iWt92DPh8BIG"
      },
      "source": [
        "#plt.figure(figsize = (30,30))\n",
        "plt.matshow(conf_matrix)"
      ],
      "execution_count": null,
      "outputs": []
    },
    {
      "cell_type": "code",
      "metadata": {
        "id": "qYbVekfx9Qk-"
      },
      "source": [
        "df_conf_matrix = pd.DataFrame(conf_matrix, index = [f\"Class {i+1}\" for i in range(num_classes)],\n",
        "                  columns = [f\"Class {i+1}\" for i in range(num_classes)])"
      ],
      "execution_count": null,
      "outputs": []
    },
    {
      "cell_type": "code",
      "metadata": {
        "id": "bhhb_ykf7mGr"
      },
      "source": [
        "title = \"Confusion matrix for \"+dataset+\" \"+impl_type+\"\\n\"\n",
        "plt.figure(figsize = (5,3))\n",
        "plt.title(title)\n",
        "sn.heatmap(df_conf_matrix, annot=True)\n",
        "\n",
        "img_path = work_dir+'Images/conf_matrix_'+checkpointer_name[8:-5]+'.png'\n",
        "plt.savefig(img_path, dpi=600)\n",
        "print(f\"img_path = {img_path}\")"
      ],
      "execution_count": null,
      "outputs": []
    },
    {
      "cell_type": "code",
      "metadata": {
        "id": "OyvlKAMW-q4-"
      },
      "source": [
        ""
      ],
      "execution_count": null,
      "outputs": []
    },
    {
      "cell_type": "code",
      "metadata": {
        "id": "hgY4v21DyQwL"
      },
      "source": [
        "#Confution Matrix and Classification Report\n",
        "'''\n",
        "Y_pred = model_loaded.predict_generator(final_test_imageset, len(final_test_imageset))\n",
        "y_pred = np.argmax(Y_pred, axis=1)\n",
        "print('Confusion Matrix')\n",
        "print(sklearn.metrics.confusion_matrix(np_test_label, y_pred))\n",
        "#'''"
      ],
      "execution_count": null,
      "outputs": []
    },
    {
      "cell_type": "code",
      "metadata": {
        "id": "U5j7b3KcRvwj"
      },
      "source": [
        "# Precision [TP/TP+FP] = The ratio of correctly predicted positive observations to the total predicted positive observations.\n",
        "# Recall (Sensitivity) [TP/TP+FN] = The ratio of correctly predicted positive observations to the all observations in actual class - 'yes'.\n",
        "# F1 score [F1 Score = 2*(Recall * Precision) / (Recall + Precision)] = The weighted average of Precision and Recall.\n",
        "# Support = The number of samples of the true response that lie in that class.\n",
        "'''\n",
        "print('Classification Report:')\n",
        "print(sklearn.metrics.classification_report(test_generator.classes, y_pred))\n",
        "#'''"
      ],
      "execution_count": null,
      "outputs": []
    },
    {
      "cell_type": "code",
      "metadata": {
        "id": "jTwSA-kRYavk"
      },
      "source": [
        ""
      ],
      "execution_count": null,
      "outputs": []
    },
    {
      "cell_type": "code",
      "metadata": {
        "id": "AaZZkLXW6Vb8"
      },
      "source": [
        "test_generator.class_indices.keys()"
      ],
      "execution_count": null,
      "outputs": []
    },
    {
      "cell_type": "code",
      "metadata": {
        "id": "ceGRitu9RvzV"
      },
      "source": [
        "#'''\n",
        "print('Classification Report')\n",
        "print(sklearn.metrics.classification_report(np_y_true_rearranged, np_y_pred_rearranged, target_names=test_generator.class_indices.keys()))\n",
        "#'''"
      ],
      "execution_count": null,
      "outputs": []
    },
    {
      "cell_type": "code",
      "metadata": {
        "id": "ujLQjTf2Rv11"
      },
      "source": [
        "log_data = pd.read_csv(work_dir+log_name, sep=',', engine='python') "
      ],
      "execution_count": null,
      "outputs": []
    },
    {
      "cell_type": "code",
      "metadata": {
        "id": "To55jgGSRv4a"
      },
      "source": [
        "# Getting the model history keys \n",
        "#history.history.keys()\n",
        "log_data.head()"
      ],
      "execution_count": null,
      "outputs": []
    },
    {
      "cell_type": "code",
      "metadata": {
        "id": "aytAYSJ4Rv7T"
      },
      "source": [
        "# plot the training artifacts\n",
        "title = \"Val loss for \"+dataset+\" \"+impl_type+\"\\n\"\n",
        "\n",
        "plt.plot(log_data['loss'])\n",
        "plt.plot(log_data['val_loss'])\n",
        "plt.title(title)\n",
        "plt.ylabel('loss')\n",
        "plt.xlabel('epoch')\n",
        "plt.legend(['train_loss','val_loss'], loc = 'best')\n",
        "plt.grid(b=True, which='major', axis='both')\n",
        "\n",
        "img_path = work_dir+'Images/vLoss_'+checkpointer_name[8:-5]+'.png'\n",
        "plt.savefig(img_path, dpi=600)\n",
        "plt.show()\n",
        "print('img_path =', img_path)"
      ],
      "execution_count": null,
      "outputs": []
    },
    {
      "cell_type": "code",
      "metadata": {
        "id": "yUq1WaElRv-M"
      },
      "source": [
        "title = \"Val acc for \"+dataset+\" \"+impl_type+\"\\n\"\n",
        "\n",
        "plt.plot(log_data['accuracy'])\n",
        "plt.plot(log_data['val_accuracy'])\n",
        "plt.title(title)\n",
        "plt.ylabel('accuracy')\n",
        "plt.xlabel('epoch')\n",
        "plt.legend(['train_accuracy','val_accuracy'], loc = 'best')\n",
        "plt.grid(b=True, which='major', axis='both')\n",
        "\n",
        "img_path = work_dir+'Images/vAcc_'+checkpointer_name[8:-5]+'.png'\n",
        "plt.savefig(img_path, dpi=600)\n",
        "plt.show()\n",
        "print('img_path =', img_path)"
      ],
      "execution_count": null,
      "outputs": []
    },
    {
      "cell_type": "code",
      "metadata": {
        "id": "w4msuVKMSk8E"
      },
      "source": [
        ""
      ],
      "execution_count": null,
      "outputs": []
    }
  ]
}