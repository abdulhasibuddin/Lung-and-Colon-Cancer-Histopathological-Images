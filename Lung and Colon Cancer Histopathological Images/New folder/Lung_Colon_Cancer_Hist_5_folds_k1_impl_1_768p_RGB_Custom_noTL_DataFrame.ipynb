{
  "nbformat": 4,
  "nbformat_minor": 0,
  "metadata": {
    "colab": {
      "name": "Lung_Colon_Cancer_Hist_5_folds_k1_impl_1_768p_RGB_Custom_noTL_DataFrame.ipynb",
      "provenance": [],
      "collapsed_sections": []
    },
    "kernelspec": {
      "display_name": "Python 3",
      "name": "python3"
    },
    "accelerator": "GPU"
  },
  "cells": [
    {
      "cell_type": "code",
      "metadata": {
        "colab": {
          "base_uri": "https://localhost:8080/"
        },
        "id": "w35zPOcMyNwJ",
        "outputId": "fd0cfda4-9fe7-4a24-a5b8-181a7f46f475"
      },
      "source": [
        "from google.colab import drive \n",
        "drive.mount('/content/drive', force_remount=True)"
      ],
      "execution_count": 5,
      "outputs": [
        {
          "output_type": "stream",
          "text": [
            "Mounted at /content/drive\n"
          ],
          "name": "stdout"
        }
      ]
    },
    {
      "cell_type": "code",
      "metadata": {
        "id": "ph-qNIaajXGT",
        "colab": {
          "base_uri": "https://localhost:8080/"
        },
        "outputId": "18ef08bd-9e80-4dc6-a39e-3e2921837e16"
      },
      "source": [
        "num_folds = 5\n",
        "k = 1\n",
        "color_type = 'rgb' # rgb, grayscale\n",
        "BATCH_SIZE = 16\n",
        "\n",
        "Dataset_Name = f\"Lung.Colon.Cancer.Hist.{num_folds}k{str(k)}\"\n",
        "work_dir = \"drive/My Drive/Cancer/Lung and Colon Cancer Histopathological Images/Records/\"\n",
        "base_dir = \"drive/My Drive/Cancer/Lung and Colon Cancer Histopathological Images/lung_colon_image_set_all/\"\n",
        "\n",
        "print(f\"Dataset_Name = {Dataset_Name}\")"
      ],
      "execution_count": 6,
      "outputs": [
        {
          "output_type": "stream",
          "text": [
            "Dataset_Name = Lung.Colon.Cancer.Hist.5k1\n"
          ],
          "name": "stdout"
        }
      ]
    },
    {
      "cell_type": "code",
      "metadata": {
        "id": "9xc7MvTxyQd7"
      },
      "source": [
        "\n",
        "import numpy as np\n",
        "import pandas as pd\n",
        "import pickle\n",
        "import numpy as np\n",
        "import random\n",
        "import time\n",
        "import os\n",
        "#os.environ[\"OPENCV_IO_MAX_IMAGE_PIXELS\"] = pow(2,40).__str__()\n",
        "import cv2\n",
        "from tqdm import tqdm\n",
        "\n",
        "import tensorflow as tf\n",
        "from tensorflow.python.keras import Sequential\n",
        "from tensorflow.keras import layers, optimizers\n",
        "from tensorflow.keras.applications import DenseNet121\n",
        "from tensorflow.keras.applications.resnet50 import ResNet50\n",
        "from tensorflow.keras.layers import *\n",
        "from tensorflow.keras.models import Model, load_model\n",
        "from tensorflow.keras.initializers import glorot_uniform\n",
        "from tensorflow.keras.utils import plot_model\n",
        "from tensorflow.keras.callbacks import ReduceLROnPlateau, EarlyStopping, ModelCheckpoint, LearningRateScheduler\n",
        "from IPython.display import display\n",
        "from tensorflow.keras import backend as K\n",
        "import matplotlib.pyplot as plt\n",
        "import matplotlib.image as mpimg\n",
        "from sklearn.model_selection import train_test_split\n",
        "from keras import optimizers\n",
        "#from sklearn.metrics import classification_report, confusion_matrix\n",
        "import sklearn\n",
        "import seaborn as sn\n",
        "from keras.callbacks import CSVLogger, LambdaCallback\n",
        "from tensorflow.keras.preprocessing.image import ImageDataGenerator\n",
        "\n",
        "import math"
      ],
      "execution_count": 7,
      "outputs": []
    },
    {
      "cell_type": "code",
      "metadata": {
        "id": "0Bpa74kr60p9"
      },
      "source": [
        ""
      ],
      "execution_count": 7,
      "outputs": []
    },
    {
      "cell_type": "code",
      "metadata": {
        "colab": {
          "base_uri": "https://localhost:8080/",
          "height": 206
        },
        "id": "rQbFaGlX60ym",
        "outputId": "96d98f15-effe-4335-b63d-1848b1354579"
      },
      "source": [
        "csv_file = \"drive/My Drive/Cancer/Lung and Colon Cancer Histopathological Images/lung_colon_image_set_all.csv\"\n",
        "df_original = pd.read_csv(csv_file) # , delimiter = \" \", header=None\n",
        "#train_df_original.columns = ['Column_1', 'filename', 'label', 'Column_2']\n",
        "df_original.head()"
      ],
      "execution_count": 8,
      "outputs": [
        {
          "output_type": "execute_result",
          "data": {
            "text/html": [
              "<div>\n",
              "<style scoped>\n",
              "    .dataframe tbody tr th:only-of-type {\n",
              "        vertical-align: middle;\n",
              "    }\n",
              "\n",
              "    .dataframe tbody tr th {\n",
              "        vertical-align: top;\n",
              "    }\n",
              "\n",
              "    .dataframe thead th {\n",
              "        text-align: right;\n",
              "    }\n",
              "</style>\n",
              "<table border=\"1\" class=\"dataframe\">\n",
              "  <thead>\n",
              "    <tr style=\"text-align: right;\">\n",
              "      <th></th>\n",
              "      <th>Unnamed: 0</th>\n",
              "      <th>path</th>\n",
              "      <th>label</th>\n",
              "    </tr>\n",
              "  </thead>\n",
              "  <tbody>\n",
              "    <tr>\n",
              "      <th>0</th>\n",
              "      <td>0</td>\n",
              "      <td>colon_n/colonn4479.jpeg</td>\n",
              "      <td>colon_n</td>\n",
              "    </tr>\n",
              "    <tr>\n",
              "      <th>1</th>\n",
              "      <td>1</td>\n",
              "      <td>colon_n/colonn4571.jpeg</td>\n",
              "      <td>colon_n</td>\n",
              "    </tr>\n",
              "    <tr>\n",
              "      <th>2</th>\n",
              "      <td>2</td>\n",
              "      <td>colon_n/colonn4546.jpeg</td>\n",
              "      <td>colon_n</td>\n",
              "    </tr>\n",
              "    <tr>\n",
              "      <th>3</th>\n",
              "      <td>3</td>\n",
              "      <td>colon_n/colonn4467.jpeg</td>\n",
              "      <td>colon_n</td>\n",
              "    </tr>\n",
              "    <tr>\n",
              "      <th>4</th>\n",
              "      <td>4</td>\n",
              "      <td>colon_n/colonn4634.jpeg</td>\n",
              "      <td>colon_n</td>\n",
              "    </tr>\n",
              "  </tbody>\n",
              "</table>\n",
              "</div>"
            ],
            "text/plain": [
              "   Unnamed: 0                     path    label\n",
              "0           0  colon_n/colonn4479.jpeg  colon_n\n",
              "1           1  colon_n/colonn4571.jpeg  colon_n\n",
              "2           2  colon_n/colonn4546.jpeg  colon_n\n",
              "3           3  colon_n/colonn4467.jpeg  colon_n\n",
              "4           4  colon_n/colonn4634.jpeg  colon_n"
            ]
          },
          "metadata": {
            "tags": []
          },
          "execution_count": 8
        }
      ]
    },
    {
      "cell_type": "code",
      "metadata": {
        "colab": {
          "base_uri": "https://localhost:8080/",
          "height": 316
        },
        "id": "5u0TvQ6rp0UF",
        "outputId": "d12250a3-6f85-4a4b-8f89-2d4ad64a466d"
      },
      "source": [
        "df_full_path = df_original.copy()\n",
        "\n",
        "#'''\n",
        "for i in range(df_original.shape[0]):\n",
        "    filename = df_original['path'][i]\n",
        "    file_full_path = f\"{base_dir}{filename}\"\n",
        "    df_full_path['path'][i] = file_full_path\n",
        "#'''\n",
        "    \n",
        "print(f\"df_full_path['path'][0] = {df_full_path['path'][0]}\")\n",
        "df_full_path.tail()"
      ],
      "execution_count": 9,
      "outputs": [
        {
          "output_type": "stream",
          "text": [
            "/usr/local/lib/python3.7/dist-packages/ipykernel_launcher.py:7: SettingWithCopyWarning: \n",
            "A value is trying to be set on a copy of a slice from a DataFrame\n",
            "\n",
            "See the caveats in the documentation: https://pandas.pydata.org/pandas-docs/stable/user_guide/indexing.html#returning-a-view-versus-a-copy\n",
            "  import sys\n"
          ],
          "name": "stderr"
        },
        {
          "output_type": "stream",
          "text": [
            "df_full_path['path'][0] = drive/My Drive/Cancer/Lung and Colon Cancer Histopathological Images/lung_colon_image_set_all/colon_n/colonn4479.jpeg\n"
          ],
          "name": "stdout"
        },
        {
          "output_type": "execute_result",
          "data": {
            "text/html": [
              "<div>\n",
              "<style scoped>\n",
              "    .dataframe tbody tr th:only-of-type {\n",
              "        vertical-align: middle;\n",
              "    }\n",
              "\n",
              "    .dataframe tbody tr th {\n",
              "        vertical-align: top;\n",
              "    }\n",
              "\n",
              "    .dataframe thead th {\n",
              "        text-align: right;\n",
              "    }\n",
              "</style>\n",
              "<table border=\"1\" class=\"dataframe\">\n",
              "  <thead>\n",
              "    <tr style=\"text-align: right;\">\n",
              "      <th></th>\n",
              "      <th>Unnamed: 0</th>\n",
              "      <th>path</th>\n",
              "      <th>label</th>\n",
              "    </tr>\n",
              "  </thead>\n",
              "  <tbody>\n",
              "    <tr>\n",
              "      <th>24995</th>\n",
              "      <td>24995</td>\n",
              "      <td>drive/My Drive/Cancer/Lung and Colon Cancer Hi...</td>\n",
              "      <td>colon_aca</td>\n",
              "    </tr>\n",
              "    <tr>\n",
              "      <th>24996</th>\n",
              "      <td>24996</td>\n",
              "      <td>drive/My Drive/Cancer/Lung and Colon Cancer Hi...</td>\n",
              "      <td>colon_aca</td>\n",
              "    </tr>\n",
              "    <tr>\n",
              "      <th>24997</th>\n",
              "      <td>24997</td>\n",
              "      <td>drive/My Drive/Cancer/Lung and Colon Cancer Hi...</td>\n",
              "      <td>colon_aca</td>\n",
              "    </tr>\n",
              "    <tr>\n",
              "      <th>24998</th>\n",
              "      <td>24998</td>\n",
              "      <td>drive/My Drive/Cancer/Lung and Colon Cancer Hi...</td>\n",
              "      <td>colon_aca</td>\n",
              "    </tr>\n",
              "    <tr>\n",
              "      <th>24999</th>\n",
              "      <td>24999</td>\n",
              "      <td>drive/My Drive/Cancer/Lung and Colon Cancer Hi...</td>\n",
              "      <td>colon_aca</td>\n",
              "    </tr>\n",
              "  </tbody>\n",
              "</table>\n",
              "</div>"
            ],
            "text/plain": [
              "       Unnamed: 0                                               path      label\n",
              "24995       24995  drive/My Drive/Cancer/Lung and Colon Cancer Hi...  colon_aca\n",
              "24996       24996  drive/My Drive/Cancer/Lung and Colon Cancer Hi...  colon_aca\n",
              "24997       24997  drive/My Drive/Cancer/Lung and Colon Cancer Hi...  colon_aca\n",
              "24998       24998  drive/My Drive/Cancer/Lung and Colon Cancer Hi...  colon_aca\n",
              "24999       24999  drive/My Drive/Cancer/Lung and Colon Cancer Hi...  colon_aca"
            ]
          },
          "metadata": {
            "tags": []
          },
          "execution_count": 9
        }
      ]
    },
    {
      "cell_type": "code",
      "metadata": {
        "id": "hAbfT89H1tDs"
      },
      "source": [
        "df_full_path['label'] = df_full_path['label'].astype(str)"
      ],
      "execution_count": 10,
      "outputs": []
    },
    {
      "cell_type": "code",
      "metadata": {
        "id": "bhdg838lqvbP"
      },
      "source": [
        ""
      ],
      "execution_count": 10,
      "outputs": []
    },
    {
      "cell_type": "code",
      "metadata": {
        "colab": {
          "base_uri": "https://localhost:8080/"
        },
        "id": "5_QrLCpZJ8zT",
        "outputId": "a6e58af2-4b80-4164-9fc9-a1f5e80f3ab1"
      },
      "source": [
        "list_classes = np.unique(df_full_path.label.values)\n",
        "list_classes"
      ],
      "execution_count": 11,
      "outputs": [
        {
          "output_type": "execute_result",
          "data": {
            "text/plain": [
              "array(['colon_aca', 'colon_n', 'lung_aca', 'lung_n', 'lung_scc'],\n",
              "      dtype=object)"
            ]
          },
          "metadata": {
            "tags": []
          },
          "execution_count": 11
        }
      ]
    },
    {
      "cell_type": "code",
      "metadata": {
        "colab": {
          "base_uri": "https://localhost:8080/"
        },
        "id": "nErKA455KoAN",
        "outputId": "e0ec86b0-5b11-4edc-f35c-b865ff24d046"
      },
      "source": [
        "list_train_indices = []\n",
        "list_val_indices = []\n",
        "\n",
        "for category in list_classes:\n",
        "    df_category = df_full_path[df_full_path['label'] == category]\n",
        "    print(f\"category -> {category}: {df_category.shape[0]}:\")\n",
        "\n",
        "    #'''\n",
        "    list_indices = list(df_category[['Unnamed: 0']].values)\n",
        "    #print(f\"list_indices[0][0] = {list_indices[0][0]}\")\n",
        "    #print(f\"list_indices[-1][0] = {list_indices[-1][0]}\")\n",
        "\n",
        "    split_indices = int(df_category.shape[0]/num_folds)\n",
        "    \n",
        "    train_indices = list_indices[:k*split_indices-split_indices]\n",
        "    train_indices += list_indices[k*split_indices:]\n",
        "    val_indices = list_indices[k*split_indices-split_indices:k*split_indices]\n",
        "    print(f\"len(train_indices): {len(train_indices)}\")\n",
        "    print(f\"len(val_indices): {len(val_indices)}\\n\")\n",
        "\n",
        "    for index in train_indices:\n",
        "        list_train_indices.append(index[0])\n",
        "    \n",
        "    for index in val_indices:\n",
        "        list_val_indices.append(index[0])\n",
        "    #'''\n",
        "\n",
        "print(f\"len(list_train_indices): {len(list_train_indices)}\")\n",
        "print(f\"len(list_val_indices): {len(list_val_indices)}\")"
      ],
      "execution_count": 12,
      "outputs": [
        {
          "output_type": "stream",
          "text": [
            "category -> colon_aca: 5000:\n",
            "len(train_indices): 4000\n",
            "len(val_indices): 1000\n",
            "\n",
            "category -> colon_n: 5000:\n",
            "len(train_indices): 4000\n",
            "len(val_indices): 1000\n",
            "\n",
            "category -> lung_aca: 5000:\n",
            "len(train_indices): 4000\n",
            "len(val_indices): 1000\n",
            "\n",
            "category -> lung_n: 5000:\n",
            "len(train_indices): 4000\n",
            "len(val_indices): 1000\n",
            "\n",
            "category -> lung_scc: 5000:\n",
            "len(train_indices): 4000\n",
            "len(val_indices): 1000\n",
            "\n",
            "len(list_train_indices): 20000\n",
            "len(list_val_indices): 5000\n"
          ],
          "name": "stdout"
        }
      ]
    },
    {
      "cell_type": "code",
      "metadata": {
        "id": "rrNCs8GhJ819"
      },
      "source": [
        ""
      ],
      "execution_count": 12,
      "outputs": []
    },
    {
      "cell_type": "code",
      "metadata": {
        "colab": {
          "base_uri": "https://localhost:8080/",
          "height": 225
        },
        "id": "gNAmMVnMhBaG",
        "outputId": "69699e74-ac90-4b47-a3d5-4a8a497d33a3"
      },
      "source": [
        "train_df = df_full_path[pd.DataFrame(df_full_path['Unnamed: 0'].tolist()).isin(list_train_indices).any(1).values]\n",
        "print(f\"train_df.shape = {train_df.shape}\")\n",
        "train_df.head() "
      ],
      "execution_count": 13,
      "outputs": [
        {
          "output_type": "stream",
          "text": [
            "train_df.shape = (20000, 3)\n"
          ],
          "name": "stdout"
        },
        {
          "output_type": "execute_result",
          "data": {
            "text/html": [
              "<div>\n",
              "<style scoped>\n",
              "    .dataframe tbody tr th:only-of-type {\n",
              "        vertical-align: middle;\n",
              "    }\n",
              "\n",
              "    .dataframe tbody tr th {\n",
              "        vertical-align: top;\n",
              "    }\n",
              "\n",
              "    .dataframe thead th {\n",
              "        text-align: right;\n",
              "    }\n",
              "</style>\n",
              "<table border=\"1\" class=\"dataframe\">\n",
              "  <thead>\n",
              "    <tr style=\"text-align: right;\">\n",
              "      <th></th>\n",
              "      <th>Unnamed: 0</th>\n",
              "      <th>path</th>\n",
              "      <th>label</th>\n",
              "    </tr>\n",
              "  </thead>\n",
              "  <tbody>\n",
              "    <tr>\n",
              "      <th>1000</th>\n",
              "      <td>1000</td>\n",
              "      <td>drive/My Drive/Cancer/Lung and Colon Cancer Hi...</td>\n",
              "      <td>colon_n</td>\n",
              "    </tr>\n",
              "    <tr>\n",
              "      <th>1001</th>\n",
              "      <td>1001</td>\n",
              "      <td>drive/My Drive/Cancer/Lung and Colon Cancer Hi...</td>\n",
              "      <td>colon_n</td>\n",
              "    </tr>\n",
              "    <tr>\n",
              "      <th>1002</th>\n",
              "      <td>1002</td>\n",
              "      <td>drive/My Drive/Cancer/Lung and Colon Cancer Hi...</td>\n",
              "      <td>colon_n</td>\n",
              "    </tr>\n",
              "    <tr>\n",
              "      <th>1003</th>\n",
              "      <td>1003</td>\n",
              "      <td>drive/My Drive/Cancer/Lung and Colon Cancer Hi...</td>\n",
              "      <td>colon_n</td>\n",
              "    </tr>\n",
              "    <tr>\n",
              "      <th>1004</th>\n",
              "      <td>1004</td>\n",
              "      <td>drive/My Drive/Cancer/Lung and Colon Cancer Hi...</td>\n",
              "      <td>colon_n</td>\n",
              "    </tr>\n",
              "  </tbody>\n",
              "</table>\n",
              "</div>"
            ],
            "text/plain": [
              "      Unnamed: 0                                               path    label\n",
              "1000        1000  drive/My Drive/Cancer/Lung and Colon Cancer Hi...  colon_n\n",
              "1001        1001  drive/My Drive/Cancer/Lung and Colon Cancer Hi...  colon_n\n",
              "1002        1002  drive/My Drive/Cancer/Lung and Colon Cancer Hi...  colon_n\n",
              "1003        1003  drive/My Drive/Cancer/Lung and Colon Cancer Hi...  colon_n\n",
              "1004        1004  drive/My Drive/Cancer/Lung and Colon Cancer Hi...  colon_n"
            ]
          },
          "metadata": {
            "tags": []
          },
          "execution_count": 13
        }
      ]
    },
    {
      "cell_type": "code",
      "metadata": {
        "id": "pW7AmyJSpsE1"
      },
      "source": [
        ""
      ],
      "execution_count": 13,
      "outputs": []
    },
    {
      "cell_type": "code",
      "metadata": {
        "colab": {
          "base_uri": "https://localhost:8080/",
          "height": 225
        },
        "id": "H5PPbd3bnbn7",
        "outputId": "781bdeda-0185-43ef-f950-7bcd1a74b8fe"
      },
      "source": [
        "test_df = df_full_path[pd.DataFrame(df_full_path['Unnamed: 0'].tolist()).isin(list_val_indices).any(1).values]\n",
        "print(f\"test_df.shape = {test_df.shape}\")\n",
        "test_df.tail()"
      ],
      "execution_count": 14,
      "outputs": [
        {
          "output_type": "stream",
          "text": [
            "test_df.shape = (5000, 3)\n"
          ],
          "name": "stdout"
        },
        {
          "output_type": "execute_result",
          "data": {
            "text/html": [
              "<div>\n",
              "<style scoped>\n",
              "    .dataframe tbody tr th:only-of-type {\n",
              "        vertical-align: middle;\n",
              "    }\n",
              "\n",
              "    .dataframe tbody tr th {\n",
              "        vertical-align: top;\n",
              "    }\n",
              "\n",
              "    .dataframe thead th {\n",
              "        text-align: right;\n",
              "    }\n",
              "</style>\n",
              "<table border=\"1\" class=\"dataframe\">\n",
              "  <thead>\n",
              "    <tr style=\"text-align: right;\">\n",
              "      <th></th>\n",
              "      <th>Unnamed: 0</th>\n",
              "      <th>path</th>\n",
              "      <th>label</th>\n",
              "    </tr>\n",
              "  </thead>\n",
              "  <tbody>\n",
              "    <tr>\n",
              "      <th>20995</th>\n",
              "      <td>20995</td>\n",
              "      <td>drive/My Drive/Cancer/Lung and Colon Cancer Hi...</td>\n",
              "      <td>colon_aca</td>\n",
              "    </tr>\n",
              "    <tr>\n",
              "      <th>20996</th>\n",
              "      <td>20996</td>\n",
              "      <td>drive/My Drive/Cancer/Lung and Colon Cancer Hi...</td>\n",
              "      <td>colon_aca</td>\n",
              "    </tr>\n",
              "    <tr>\n",
              "      <th>20997</th>\n",
              "      <td>20997</td>\n",
              "      <td>drive/My Drive/Cancer/Lung and Colon Cancer Hi...</td>\n",
              "      <td>colon_aca</td>\n",
              "    </tr>\n",
              "    <tr>\n",
              "      <th>20998</th>\n",
              "      <td>20998</td>\n",
              "      <td>drive/My Drive/Cancer/Lung and Colon Cancer Hi...</td>\n",
              "      <td>colon_aca</td>\n",
              "    </tr>\n",
              "    <tr>\n",
              "      <th>20999</th>\n",
              "      <td>20999</td>\n",
              "      <td>drive/My Drive/Cancer/Lung and Colon Cancer Hi...</td>\n",
              "      <td>colon_aca</td>\n",
              "    </tr>\n",
              "  </tbody>\n",
              "</table>\n",
              "</div>"
            ],
            "text/plain": [
              "       Unnamed: 0                                               path      label\n",
              "20995       20995  drive/My Drive/Cancer/Lung and Colon Cancer Hi...  colon_aca\n",
              "20996       20996  drive/My Drive/Cancer/Lung and Colon Cancer Hi...  colon_aca\n",
              "20997       20997  drive/My Drive/Cancer/Lung and Colon Cancer Hi...  colon_aca\n",
              "20998       20998  drive/My Drive/Cancer/Lung and Colon Cancer Hi...  colon_aca\n",
              "20999       20999  drive/My Drive/Cancer/Lung and Colon Cancer Hi...  colon_aca"
            ]
          },
          "metadata": {
            "tags": []
          },
          "execution_count": 14
        }
      ]
    },
    {
      "cell_type": "code",
      "metadata": {
        "id": "pzbMbDTgKNYL"
      },
      "source": [
        ""
      ],
      "execution_count": 14,
      "outputs": []
    },
    {
      "cell_type": "code",
      "metadata": {
        "id": "fWGa77p2eWAd",
        "colab": {
          "base_uri": "https://localhost:8080/",
          "height": 36
        },
        "outputId": "b3b61b0b-9ca7-48c2-a0b4-88fb9e69ef00"
      },
      "source": [
        "img_path = test_df['path'][20995]\n",
        "img_path"
      ],
      "execution_count": 15,
      "outputs": [
        {
          "output_type": "execute_result",
          "data": {
            "application/vnd.google.colaboratory.intrinsic+json": {
              "type": "string"
            },
            "text/plain": [
              "'drive/My Drive/Cancer/Lung and Colon Cancer Histopathological Images/lung_colon_image_set_all/colon_aca/colonca1775.jpeg'"
            ]
          },
          "metadata": {
            "tags": []
          },
          "execution_count": 15
        }
      ]
    },
    {
      "cell_type": "code",
      "metadata": {
        "colab": {
          "base_uri": "https://localhost:8080/"
        },
        "id": "NonlZTviI7dc",
        "outputId": "2d9b815b-0af7-4592-e38c-3e2f9c9e3210"
      },
      "source": [
        "img = cv2.imread(img_path, cv2.IMREAD_UNCHANGED)\n",
        "img.shape"
      ],
      "execution_count": 16,
      "outputs": [
        {
          "output_type": "execute_result",
          "data": {
            "text/plain": [
              "(768, 768, 3)"
            ]
          },
          "metadata": {
            "tags": []
          },
          "execution_count": 16
        }
      ]
    },
    {
      "cell_type": "code",
      "metadata": {
        "id": "yXJPjlRhhBg8",
        "colab": {
          "base_uri": "https://localhost:8080/",
          "height": 287
        },
        "outputId": "cdc1d706-723d-4d32-a1f6-31beff61b382"
      },
      "source": [
        "plt.imshow(img)"
      ],
      "execution_count": 17,
      "outputs": [
        {
          "output_type": "execute_result",
          "data": {
            "text/plain": [
              "<matplotlib.image.AxesImage at 0x7f47c0428f50>"
            ]
          },
          "metadata": {
            "tags": []
          },
          "execution_count": 17
        },
        {
          "output_type": "display_data",
          "data": {
            "image/png": "[encoded data removed]",
            "text/plain": [
              "<Figure size 432x288 with 1 Axes>"
            ]
          },
          "metadata": {
            "tags": [],
            "needs_background": "light"
          }
        }
      ]
    },
    {
      "cell_type": "code",
      "metadata": {
        "id": "53eBXZM2KHra"
      },
      "source": [
        ""
      ],
      "execution_count": 17,
      "outputs": []
    },
    {
      "cell_type": "markdown",
      "metadata": {
        "id": "TqAkPCojLNki"
      },
      "source": [
        "Bilinear is the standard resizing algorithm — good for most uses. Lanczos better preserves small details when upscaling and downscaling. And Nearest Neighbor is great for pixel art!"
      ]
    },
    {
      "cell_type": "code",
      "metadata": {
        "id": "LnYytOrbKGMH"
      },
      "source": [
        "'''\n",
        "width_shift_range=0.2,\n",
        "height_shift_range=0.2,\n",
        "zoom_range=0.2,\n",
        "horizontal_flip=True, \n",
        "vertical_flip=True,\n",
        "#rotation_range=20,\n",
        "'''\n",
        "\n",
        "train_datagen = ImageDataGenerator(rescale=1./255,\n",
        "                                   #fill_mode=\"lanczos\",\n",
        "                                   )\n",
        "test_datagen = ImageDataGenerator(rescale=1./255,\n",
        "                                  #fill_mode=\"lanczos\",\n",
        "                                  )"
      ],
      "execution_count": 18,
      "outputs": []
    },
    {
      "cell_type": "code",
      "metadata": {
        "id": "qG4nma2UP_F0"
      },
      "source": [
        ""
      ],
      "execution_count": 18,
      "outputs": []
    },
    {
      "cell_type": "code",
      "metadata": {
        "colab": {
          "base_uri": "https://localhost:8080/"
        },
        "id": "rga2byZPKPQt",
        "outputId": "6f363225-4b68-4ed3-8864-c0f7a0bb01af"
      },
      "source": [
        "train_generator = train_datagen.flow_from_dataframe(\n",
        "        train_df,\n",
        "        directory=None,\n",
        "        x_col='path', \n",
        "        y_col='label',\n",
        "        target_size=(768, 768),  # target images are automatically resized to (256, 256)\n",
        "        batch_size=BATCH_SIZE,\n",
        "        shuffle = True,\n",
        "        color_mode=color_type, # grayscale, rgb\n",
        "        class_mode='categorical' # categorical, raw\n",
        "        )"
      ],
      "execution_count": 19,
      "outputs": [
        {
          "output_type": "stream",
          "text": [
            "Found 20000 validated image filenames belonging to 5 classes.\n"
          ],
          "name": "stdout"
        }
      ]
    },
    {
      "cell_type": "code",
      "metadata": {
        "colab": {
          "base_uri": "https://localhost:8080/"
        },
        "id": "uwy6M8sgK1KT",
        "outputId": "72077acf-f486-497e-935a-2371c4e8fca6"
      },
      "source": [
        "num_classes = len(train_generator.class_indices)\n",
        "total_train_data = train_generator.samples\n",
        "\n",
        "print(f\"total_train_data = {total_train_data}\")\n",
        "print(f\"train_generator.image_shape = {train_generator.image_shape}\")\n",
        "print(f\"num_classes = {num_classes}\")"
      ],
      "execution_count": 20,
      "outputs": [
        {
          "output_type": "stream",
          "text": [
            "total_train_data = 20000\n",
            "train_generator.image_shape = (768, 768, 3)\n",
            "num_classes = 5\n"
          ],
          "name": "stdout"
        }
      ]
    },
    {
      "cell_type": "code",
      "metadata": {
        "colab": {
          "base_uri": "https://localhost:8080/"
        },
        "id": "YsvrZgrALXMl",
        "outputId": "063a3a84-70aa-4ccf-a662-618e334ca455"
      },
      "source": [
        "test_generator = test_datagen.flow_from_dataframe(\n",
        "        test_df,\n",
        "        directory=None,\n",
        "        x_col='path', \n",
        "        y_col='label',\n",
        "        target_size=(768, 768),  # target images are automatically resized to (256, 256)\n",
        "        batch_size=BATCH_SIZE,\n",
        "        shuffle = False,\n",
        "        color_mode=color_type, # grayscale, rgb\n",
        "        class_mode='categorical')"
      ],
      "execution_count": 21,
      "outputs": [
        {
          "output_type": "stream",
          "text": [
            "Found 5000 validated image filenames belonging to 5 classes.\n"
          ],
          "name": "stdout"
        }
      ]
    },
    {
      "cell_type": "code",
      "metadata": {
        "colab": {
          "base_uri": "https://localhost:8080/"
        },
        "id": "HxU0D6TuOOOL",
        "outputId": "9ccd3310-5552-4633-ffa5-44069b8d0df0"
      },
      "source": [
        "total_test_data = test_generator.samples\n",
        "print(f\"total_test_data = {total_test_data}\")"
      ],
      "execution_count": 22,
      "outputs": [
        {
          "output_type": "stream",
          "text": [
            "total_test_data = 5000\n"
          ],
          "name": "stdout"
        }
      ]
    },
    {
      "cell_type": "code",
      "metadata": {
        "id": "roidu5RmFRJq"
      },
      "source": [
        ""
      ],
      "execution_count": 22,
      "outputs": []
    },
    {
      "cell_type": "code",
      "metadata": {
        "colab": {
          "base_uri": "https://localhost:8080/",
          "height": 36
        },
        "id": "XRwynF9xPBWy",
        "outputId": "d28cd2d4-4106-41e3-9424-be940a619404"
      },
      "source": [
        "# DenseNet121 ResNet101 ResNet50 DenseNet201 InceptionV3 Xception NASNetLarge ResNet152V2 InceptionResNetV2 EfficientNetB7\n",
        "impl_type = \"noTL.Custom1\" # TransferLearning3D \n",
        "dataset = f\"{Dataset_Name}.{color_type}.{train_generator.image_shape[1]}p.DataFlow\" # +str(img_size)+\"p\"\n",
        "dataset"
      ],
      "execution_count": 23,
      "outputs": [
        {
          "output_type": "execute_result",
          "data": {
            "application/vnd.google.colaboratory.intrinsic+json": {
              "type": "string"
            },
            "text/plain": [
              "'Lung.Colon.Cancer.Hist.5k1.rgb.768p.DataFlow'"
            ]
          },
          "metadata": {
            "tags": []
          },
          "execution_count": 23
        }
      ]
    },
    {
      "cell_type": "code",
      "metadata": {
        "id": "rLVsewD-O3gl",
        "colab": {
          "base_uri": "https://localhost:8080/",
          "height": 36
        },
        "outputId": "2836d7da-8521-4507-9cde-93b96f164b97"
      },
      "source": [
        "'''\n",
        "count_no_improvement = 0\n",
        "epoch_initial = True\n",
        "#'''"
      ],
      "execution_count": 24,
      "outputs": [
        {
          "output_type": "execute_result",
          "data": {
            "application/vnd.google.colaboratory.intrinsic+json": {
              "type": "string"
            },
            "text/plain": [
              "'\\ncount_no_improvement = 0\\nepoch_initial = True\\n#'"
            ]
          },
          "metadata": {
            "tags": []
          },
          "execution_count": 24
        }
      ]
    },
    {
      "cell_type": "code",
      "metadata": {
        "colab": {
          "base_uri": "https://localhost:8080/"
        },
        "id": "OxppPm7hO3l8",
        "outputId": "3f8d5478-7740-4fba-875b-532168e0d7f8"
      },
      "source": [
        "#NUM_NEURONS = 16\n",
        "#NUM_LAYERS = 3\n",
        "#BATCH_SIZE = 16 # 10\n",
        "NUM_EPOCHS = 300 # 300, 5\n",
        "epochs_completed = 0\n",
        "LEARNING_RATE = 0.00001\n",
        "EPSILON = 1e-4\n",
        "early_stop_after_epochs = 5\n",
        "DROPOUT = 0.5 # 0.5 0.0\n",
        "pad = 0\n",
        "\n",
        "LOSS = 'categorical_crossentropy'\n",
        "ACTIVATION_FUNCTION = 'elu' # relu sigmoid elu\n",
        "FINAL_ACTIVATION_FUNCTION = 'softmax'\n",
        "validation_split = 0.1\n",
        "kernel_size=(1,1)\n",
        "pointTrainableAfter = \"allDefault\" # \"allDefault\" 160 170\n",
        "OPTIMIZER = \"Adam\" # Adam SGD RMSProp\n",
        "init_weights = \"None\" # \"imagenet\" None\n",
        "modelExt = \"\" # .Dense.128.256.512, .512.512.512 .Dense.512.512.512.512.Res\n",
        "l2_val = 0.001\n",
        "\n",
        "# +\"_kernel\"+str(kernel_size)+\"_lr\"+str(LEARNING_RATE)+\"_batch\"+str(BATCH_SIZE)+\"_epochs\"+str(NUM_EPOCHS)\n",
        "#checkpointer_name  = \"weights_\"+dataset+\"_\"+impl_type+\"_nLayers\"+str(NUM_LAYERS)+\"_nNeurons\"+str(NUM_NEURONS)+\".hdf5\"\n",
        "ext = f\".run_1\" # run_1 run_2 .DropAfter .momentum0.9\n",
        "#'''\n",
        "checkpointer_name  = \"weights.\"+dataset+\".pad\"+str(pad)+\".\"+impl_type+\".wInit.\"+str(init_weights)+\".TrainableAfter.\"+str(pointTrainableAfter)+\\\n",
        "                     modelExt+\".actF.\"+ACTIVATION_FUNCTION+\".opt.\"+OPTIMIZER+\".drop.\"+str(DROPOUT)+\".batch\"+str(BATCH_SIZE)+ext+\".hdf5\"\n",
        "log_name = \"log.\"+checkpointer_name[8:-5]+\".log\"\n",
        "\n",
        "print('checkpointer_name =', checkpointer_name)\n",
        "print('log_name =', log_name)\n",
        "#'''"
      ],
      "execution_count": 25,
      "outputs": [
        {
          "output_type": "stream",
          "text": [
            "checkpointer_name = weights.Lung.Colon.Cancer.Hist.5k1.rgb.768p.DataFlow.pad0.noTL.Custom1.wInit.None.TrainableAfter.allDefault.actF.elu.opt.Adam.drop.0.5.batch16.run_1.hdf5\n",
            "log_name = log.Lung.Colon.Cancer.Hist.5k1.rgb.768p.DataFlow.pad0.noTL.Custom1.wInit.None.TrainableAfter.allDefault.actF.elu.opt.Adam.drop.0.5.batch16.run_1.log\n"
          ],
          "name": "stdout"
        }
      ]
    },
    {
      "cell_type": "code",
      "metadata": {
        "colab": {
          "base_uri": "https://localhost:8080/"
        },
        "id": "hcB3WVaWO6BV",
        "outputId": "57a5d30a-ed4c-41ca-d45f-3b48e83e433c"
      },
      "source": [
        "train_generator.image_shape"
      ],
      "execution_count": 26,
      "outputs": [
        {
          "output_type": "execute_result",
          "data": {
            "text/plain": [
              "(768, 768, 3)"
            ]
          },
          "metadata": {
            "tags": []
          },
          "execution_count": 26
        }
      ]
    },
    {
      "cell_type": "code",
      "metadata": {
        "colab": {
          "base_uri": "https://localhost:8080/",
          "height": 128
        },
        "id": "XyK6ZbJOOsjV",
        "outputId": "84258791-c4db-4a69-c7ee-1c800119ee81"
      },
      "source": [
        "\"\"\"\n",
        "#base_model=DenseNet121(weights=None, include_top=False, input_shape=np_train_dataset2.shape[1:]) # `None` (random initialization)\n",
        "#base_model=ResNet152V2(weights=None, include_top=False, input_shape=np_train_dataset2.shape[1:])\n",
        "# ResNet152V2 ResNet50 ResNet101 ResNet152 DenseNet201 InceptionV3 Xception NASNetLarge 'imagenet' ResNet152V2 DenseNet121\n",
        "#inputs = Input(final_train_imageset.shape[1:])\n",
        "#x = ZeroPadding2D(padding=(pad,pad))(inputs)\n",
        "#base_model=tf.keras.applications.ResNet50(weights=init_weights, include_top=False, input_tensor=x)\n",
        "base_model=tf.keras.applications.DenseNet201(weights=init_weights, include_top=False, input_shape=train_generator.image_shape)\n",
        "x=base_model.output\n",
        "\n",
        "x = Flatten()(x)\n",
        "\n",
        "#'''\n",
        "x = Dense(1024, kernel_regularizer=tf.keras.regularizers.l2(l2_val), activation=ACTIVATION_FUNCTION)(x)\n",
        "#x_copy = x\n",
        "x = Dropout(DROPOUT)(x)\n",
        "x = Dense(1024, kernel_regularizer=tf.keras.regularizers.l2(l2_val), activation=ACTIVATION_FUNCTION)(x)\n",
        "x = Dropout(DROPOUT)(x)\n",
        "x = Dense(2048, kernel_regularizer=tf.keras.regularizers.l2(l2_val), activation=ACTIVATION_FUNCTION)(x)\n",
        "x = Dropout(DROPOUT)(x)\n",
        "#x = Add()([x,x_copy])\n",
        "#'''\n",
        "outputs=Dense(num_classes,activation='softmax')(x)\n",
        "\n",
        "model=Model(inputs=base_model.input,outputs=outputs)\n",
        "model.summary()\n",
        "#\"\"\""
      ],
      "execution_count": 27,
      "outputs": [
        {
          "output_type": "execute_result",
          "data": {
            "application/vnd.google.colaboratory.intrinsic+json": {
              "type": "string"
            },
            "text/plain": [
              "\"\\n#base_model=DenseNet121(weights=None, include_top=False, input_shape=np_train_dataset2.shape[1:]) # `None` (random initialization)\\n#base_model=ResNet152V2(weights=None, include_top=False, input_shape=np_train_dataset2.shape[1:])\\n# ResNet152V2 ResNet50 ResNet101 ResNet152 DenseNet201 InceptionV3 Xception NASNetLarge 'imagenet' ResNet152V2 DenseNet121\\n#inputs = Input(final_train_imageset.shape[1:])\\n#x = ZeroPadding2D(padding=(pad,pad))(inputs)\\n#base_model=tf.keras.applications.ResNet50(weights=init_weights, include_top=False, input_tensor=x)\\nbase_model=tf.keras.applications.DenseNet201(weights=init_weights, include_top=False, input_shape=train_generator.image_shape)\\nx=base_model.output\\n\\nx = Flatten()(x)\\n\\n#'''\\nx = Dense(1024, kernel_regularizer=tf.keras.regularizers.l2(l2_val), activation=ACTIVATION_FUNCTION)(x)\\n#x_copy = x\\nx = Dropout(DROPOUT)(x)\\nx = Dense(1024, kernel_regularizer=tf.keras.regularizers.l2(l2_val), activation=ACTIVATION_FUNCTION)(x)\\nx = Dropout(DROPOUT)(x)\\nx = Dense(2048, kernel_regularizer=tf.keras.regularizers.l2(l2_val), activation=ACTIVATION_FUNCTION)(x)\\nx = Dropout(DROPOUT)(x)\\n#x = Add()([x,x_copy])\\n#'''\\noutputs=Dense(num_classes,activation='softmax')(x)\\n\\nmodel=Model(inputs=base_model.input,outputs=outputs)\\nmodel.summary()\\n#\""
            ]
          },
          "metadata": {
            "tags": []
          },
          "execution_count": 27
        }
      ]
    },
    {
      "cell_type": "code",
      "metadata": {
        "colab": {
          "base_uri": "https://localhost:8080/"
        },
        "id": "qQ6l4-yROFbT",
        "outputId": "b4d74e6e-b624-4a4e-ef9f-c521d3716e8c"
      },
      "source": [
        "inputs = Input(train_generator.image_shape)\n",
        "x = inputs\n",
        "\n",
        "x = Conv2D(16, kernel_size=(3,3), strides=(1,1), padding='valid')(x)\n",
        "x = Activation('elu')(x)\n",
        "x = MaxPooling2D(pool_size=(2,2), padding='valid')(x)\n",
        "x = Conv2D(16, kernel_size=(3,3), strides=(1,1), padding='same')(x)\n",
        "x = Activation('elu')(x)\n",
        "x = MaxPooling2D(pool_size=(2,2), padding='valid')(x)\n",
        "x = Conv2D(32, kernel_size=(3,3), strides=(1,1), padding='same')(x)\n",
        "x = Activation('elu')(x)\n",
        "x = MaxPooling2D(pool_size=(2,2), padding='valid')(x)\n",
        "x = Conv2D(32, kernel_size=(3,3), strides=(1,1), padding='same')(x)\n",
        "x = Activation('elu')(x)\n",
        "x = MaxPooling2D(pool_size=(2,2), padding='valid')(x)\n",
        "x = Conv2D(64, kernel_size=(3,3), strides=(1,1), padding='same')(x)\n",
        "x = Activation('elu')(x)\n",
        "x = MaxPooling2D(pool_size=(2,2), padding='valid')(x)\n",
        "x = Conv2D(64, kernel_size=(3,3), strides=(1,1), padding='same')(x)\n",
        "x = Activation('elu')(x)\n",
        "x = MaxPooling2D(pool_size=(2,2), padding='valid')(x)\n",
        "x = Conv2D(128, kernel_size=(3,3), strides=(1,1), padding='same')(x)\n",
        "x = Activation('elu')(x)\n",
        "x = MaxPooling2D(pool_size=(2,2), padding='valid')(x)\n",
        "x = Conv2D(128, kernel_size=(3,3), strides=(1,1), padding='same')(x)\n",
        "x = Activation('elu')(x)\n",
        "\n",
        "x = Flatten()(x)\n",
        "x = Dense(512, kernel_regularizer=tf.keras.regularizers.l2(l2_val))(x)\n",
        "x = Activation('elu')(x)\n",
        "x = Dense(512, kernel_regularizer=tf.keras.regularizers.l2(l2_val))(x)\n",
        "x = Activation('elu')(x)\n",
        "x = Dense(1024, kernel_regularizer=tf.keras.regularizers.l2(l2_val))(x)\n",
        "x = Activation('elu')(x)\n",
        "x = Dense(1024, kernel_regularizer=tf.keras.regularizers.l2(l2_val))(x)\n",
        "x = Activation('elu')(x)\n",
        "x = Dense(2048, kernel_regularizer=tf.keras.regularizers.l2(l2_val))(x)\n",
        "x = Activation('elu')(x)\n",
        "\n",
        "outputs = Dense(num_classes, activation='softmax')(x)\n",
        "model=Model(inputs=inputs,outputs=outputs)\n",
        "model.summary()"
      ],
      "execution_count": 28,
      "outputs": [
        {
          "output_type": "stream",
          "text": [
            "Model: \"model\"\n",
            "_________________________________________________________________\n",
            "Layer (type)                 Output Shape              Param #   \n",
            "=================================================================\n",
            "input_1 (InputLayer)         [(None, 768, 768, 3)]     0         \n",
            "_________________________________________________________________\n",
            "conv2d (Conv2D)              (None, 766, 766, 16)      448       \n",
            "_________________________________________________________________\n",
            "activation (Activation)      (None, 766, 766, 16)      0         \n",
            "_________________________________________________________________\n",
            "max_pooling2d (MaxPooling2D) (None, 383, 383, 16)      0         \n",
            "_________________________________________________________________\n",
            "conv2d_1 (Conv2D)            (None, 383, 383, 16)      2320      \n",
            "_________________________________________________________________\n",
            "activation_1 (Activation)    (None, 383, 383, 16)      0         \n",
            "_________________________________________________________________\n",
            "max_pooling2d_1 (MaxPooling2 (None, 191, 191, 16)      0         \n",
            "_________________________________________________________________\n",
            "conv2d_2 (Conv2D)            (None, 191, 191, 32)      4640      \n",
            "_________________________________________________________________\n",
            "activation_2 (Activation)    (None, 191, 191, 32)      0         \n",
            "_________________________________________________________________\n",
            "max_pooling2d_2 (MaxPooling2 (None, 95, 95, 32)        0         \n",
            "_________________________________________________________________\n",
            "conv2d_3 (Conv2D)            (None, 95, 95, 32)        9248      \n",
            "_________________________________________________________________\n",
            "activation_3 (Activation)    (None, 95, 95, 32)        0         \n",
            "_________________________________________________________________\n",
            "max_pooling2d_3 (MaxPooling2 (None, 47, 47, 32)        0         \n",
            "_________________________________________________________________\n",
            "conv2d_4 (Conv2D)            (None, 47, 47, 64)        18496     \n",
            "_________________________________________________________________\n",
            "activation_4 (Activation)    (None, 47, 47, 64)        0         \n",
            "_________________________________________________________________\n",
            "max_pooling2d_4 (MaxPooling2 (None, 23, 23, 64)        0         \n",
            "_________________________________________________________________\n",
            "conv2d_5 (Conv2D)            (None, 23, 23, 64)        36928     \n",
            "_________________________________________________________________\n",
            "activation_5 (Activation)    (None, 23, 23, 64)        0         \n",
            "_________________________________________________________________\n",
            "max_pooling2d_5 (MaxPooling2 (None, 11, 11, 64)        0         \n",
            "_________________________________________________________________\n",
            "conv2d_6 (Conv2D)            (None, 11, 11, 128)       73856     \n",
            "_________________________________________________________________\n",
            "activation_6 (Activation)    (None, 11, 11, 128)       0         \n",
            "_________________________________________________________________\n",
            "max_pooling2d_6 (MaxPooling2 (None, 5, 5, 128)         0         \n",
            "_________________________________________________________________\n",
            "conv2d_7 (Conv2D)            (None, 5, 5, 128)         147584    \n",
            "_________________________________________________________________\n",
            "activation_7 (Activation)    (None, 5, 5, 128)         0         \n",
            "_________________________________________________________________\n",
            "flatten (Flatten)            (None, 3200)              0         \n",
            "_________________________________________________________________\n",
            "dense (Dense)                (None, 512)               1638912   \n",
            "_________________________________________________________________\n",
            "activation_8 (Activation)    (None, 512)               0         \n",
            "_________________________________________________________________\n",
            "dense_1 (Dense)              (None, 512)               262656    \n",
            "_________________________________________________________________\n",
            "activation_9 (Activation)    (None, 512)               0         \n",
            "_________________________________________________________________\n",
            "dense_2 (Dense)              (None, 1024)              525312    \n",
            "_________________________________________________________________\n",
            "activation_10 (Activation)   (None, 1024)              0         \n",
            "_________________________________________________________________\n",
            "dense_3 (Dense)              (None, 1024)              1049600   \n",
            "_________________________________________________________________\n",
            "activation_11 (Activation)   (None, 1024)              0         \n",
            "_________________________________________________________________\n",
            "dense_4 (Dense)              (None, 2048)              2099200   \n",
            "_________________________________________________________________\n",
            "activation_12 (Activation)   (None, 2048)              0         \n",
            "_________________________________________________________________\n",
            "dense_5 (Dense)              (None, 5)                 10245     \n",
            "=================================================================\n",
            "Total params: 5,879,445\n",
            "Trainable params: 5,879,445\n",
            "Non-trainable params: 0\n",
            "_________________________________________________________________\n"
          ],
          "name": "stdout"
        }
      ]
    },
    {
      "cell_type": "code",
      "metadata": {
        "colab": {
          "base_uri": "https://localhost:8080/",
          "height": 36
        },
        "id": "WgomlDGDqn6-",
        "outputId": "b83ee278-a03a-4abf-fc56-5ef5cd38d61b"
      },
      "source": [
        "'''\n",
        "tf.keras.utils.plot_model(\n",
        "    model, to_file='model.png', show_shapes=True, show_dtype=False,\n",
        "    show_layer_names=True, rankdir='TB', expand_nested=True, dpi=64\n",
        ")\n",
        "#'''"
      ],
      "execution_count": 29,
      "outputs": [
        {
          "output_type": "execute_result",
          "data": {
            "application/vnd.google.colaboratory.intrinsic+json": {
              "type": "string"
            },
            "text/plain": [
              "\"\\ntf.keras.utils.plot_model(\\n    model, to_file='model.png', show_shapes=True, show_dtype=False,\\n    show_layer_names=True, rankdir='TB', expand_nested=True, dpi=64\\n)\\n#\""
            ]
          },
          "metadata": {
            "tags": []
          },
          "execution_count": 29
        }
      ]
    },
    {
      "cell_type": "code",
      "metadata": {
        "colab": {
          "base_uri": "https://localhost:8080/"
        },
        "id": "ozx7Z-ZiUE-2",
        "outputId": "b8548c66-8175-4388-a8cb-92aed4ca9253"
      },
      "source": [
        "count_trainable = 0\n",
        "count_non_trainable = 0\n",
        "\n",
        "#'''\n",
        "if pointTrainableAfter == \"allDefault\":\n",
        "    for layer in model.layers:\n",
        "        layer.trainable=True\n",
        "        count_trainable += 1\n",
        "elif pointTrainableAfter > 0:\n",
        "    for layer in model.layers[:pointTrainableAfter]: # [:-pointTrainableAfter]\n",
        "        layer.trainable=False\n",
        "        count_non_trainable += 1\n",
        "    for layer in model.layers[pointTrainableAfter:]: # [-pointTrainableAfter:]\n",
        "        layer.trainable=True\n",
        "        count_trainable += 1\n",
        "#'''\n",
        "\n",
        "'''\n",
        "for layer in model.layers:\n",
        "    layer.trainable=True\n",
        "    count_trainable += 1\n",
        "#'''\n",
        "\n",
        "print(\"count_non_trainable =\", count_non_trainable)\n",
        "print(\"count_trainable =\", count_trainable)\n",
        "print(\"Total number of layers =\", count_non_trainable+count_trainable)"
      ],
      "execution_count": 30,
      "outputs": [
        {
          "output_type": "stream",
          "text": [
            "count_non_trainable = 0\n",
            "count_trainable = 36\n",
            "Total number of layers = 36\n"
          ],
          "name": "stdout"
        }
      ]
    },
    {
      "cell_type": "code",
      "metadata": {
        "colab": {
          "base_uri": "https://localhost:8080/",
          "height": 72
        },
        "id": "aqwYD5TGPxyV",
        "outputId": "da75bf89-1d34-48db-f762-d44f8ab5a33f"
      },
      "source": [
        "'''\n",
        "checkpointer_name  = \"weights.\"+dataset+\".pad\"+str(pad)+\".\"+impl_type+\".wInit.\"+str(init_weights)+\".TrainableAfter.\"+str(pointTrainableAfter)+\\\n",
        "                     modelExt+\".opt.\"+OPTIMIZER+\".drop.\"+str(DROPOUT)+\".batch\"+str(BATCH_SIZE)+ext+\".hdf5\"\n",
        "log_name = \"log.\"+checkpointer_name[8:-5]+\".log\"\n",
        "\n",
        "print('checkpointer_name =', checkpointer_name)\n",
        "print('log_name =', log_name)\n",
        "#'''"
      ],
      "execution_count": 31,
      "outputs": [
        {
          "output_type": "execute_result",
          "data": {
            "application/vnd.google.colaboratory.intrinsic+json": {
              "type": "string"
            },
            "text/plain": [
              "'\\ncheckpointer_name  = \"weights.\"+dataset+\".pad\"+str(pad)+\".\"+impl_type+\".wInit.\"+str(init_weights)+\".TrainableAfter.\"+str(pointTrainableAfter)+                     modelExt+\".opt.\"+OPTIMIZER+\".drop.\"+str(DROPOUT)+\".batch\"+str(BATCH_SIZE)+ext+\".hdf5\"\\nlog_name = \"log.\"+checkpointer_name[8:-5]+\".log\"\\n\\nprint(\\'checkpointer_name =\\', checkpointer_name)\\nprint(\\'log_name =\\', log_name)\\n#'"
            ]
          },
          "metadata": {
            "tags": []
          },
          "execution_count": 31
        }
      ]
    },
    {
      "cell_type": "code",
      "metadata": {
        "id": "V7TtWSDfE_Te"
      },
      "source": [
        ""
      ],
      "execution_count": 31,
      "outputs": []
    },
    {
      "cell_type": "code",
      "metadata": {
        "colab": {
          "base_uri": "https://localhost:8080/"
        },
        "id": "3T7w_lC1QCPh",
        "outputId": "ba521ea4-05f9-4b24-ce99-70dae5521d77"
      },
      "source": [
        "# \"RMSProp\" \"SGD\" \"Adam\" \"Adamax\" \"Adadelta\" \"Adagrad\" \"SGD\"\n",
        "#optimizer = tf.keras.optimizers.RMSprop(lr = LEARNING_RATE, epsilon=EPSILON)\n",
        "\n",
        "if OPTIMIZER == \"RMSProp\":\n",
        "    optimizer = tf.keras.optimizers.RMSprop(learning_rate = LEARNING_RATE, epsilon=EPSILON)\n",
        "elif OPTIMIZER == \"Adam\":\n",
        "    optimizer = tf.keras.optimizers.Adam(learning_rate = LEARNING_RATE, epsilon=EPSILON, beta_1=0.9, beta_2=0.999)\n",
        "elif OPTIMIZER == \"Adamax\":\n",
        "    optimizer = tf.keras.optimizers.Adamax(learning_rate = LEARNING_RATE, epsilon=EPSILON, beta_1=0.9, beta_2=0.999)\n",
        "elif OPTIMIZER == \"Adadelta\":\n",
        "    optimizer = tf.keras.optimizers.Adadelta(learning_rate = LEARNING_RATE, epsilon=EPSILON, rho=0.95)\n",
        "elif OPTIMIZER == \"Adagrad\":\n",
        "    optimizer = tf.keras.optimizers.Adagrad(learning_rate = LEARNING_RATE, epsilon=EPSILON, initial_accumulator_value=0.1)\n",
        "elif OPTIMIZER == \"SGD\":\n",
        "    optimizer = tf.keras.optimizers.SGD(learning_rate = LEARNING_RATE, momentum=0.9)\n",
        "\n",
        "model.compile(\n",
        "    #optimizer=OPTIMIZER,\n",
        "    optimizer=optimizer,\n",
        "    loss=LOSS,\n",
        "    metrics=['accuracy', 'Precision', 'Recall', 'AUC', 'TruePositives', 'TrueNegatives', 'FalsePositives', 'FalseNegatives']\n",
        ")\n",
        "\n",
        "print(\"OPTIMIZER =\", OPTIMIZER)"
      ],
      "execution_count": 32,
      "outputs": [
        {
          "output_type": "stream",
          "text": [
            "OPTIMIZER = Adam\n"
          ],
          "name": "stdout"
        }
      ]
    },
    {
      "cell_type": "code",
      "metadata": {
        "id": "OdySVEG3QCpv"
      },
      "source": [
        "# save the best model with least validation loss\n",
        "checkpointer = ModelCheckpoint(filepath = work_dir+checkpointer_name, \n",
        "                               #monitor='val_accuracy',\n",
        "                               monitor='val_loss',\n",
        "                               save_weights_only=False,  \n",
        "                               mode='auto', \n",
        "                               verbose = 1, # 0 = silent, 1 = progress bar, 2 = one line per epoch\n",
        "                               save_best_only =False\n",
        "                               )\n",
        "checkpointer_best = ModelCheckpoint(filepath = work_dir+\"best_\"+checkpointer_name, \n",
        "                                    monitor='val_loss', \n",
        "                                    save_weights_only=False,\n",
        "                                    mode='auto',  \n",
        "                                    verbose = 1, \n",
        "                                    save_best_only = True\n",
        "                                    )\n",
        "early_stopping = EarlyStopping(monitor='loss', patience=early_stop_after_epochs)"
      ],
      "execution_count": 33,
      "outputs": []
    },
    {
      "cell_type": "code",
      "metadata": {
        "colab": {
          "base_uri": "https://localhost:8080/"
        },
        "id": "Fq3iXmYXQHNL",
        "outputId": "e79d8896-a2c5-494e-b865-b70fda60959a"
      },
      "source": [
        "'''\n",
        "if 'count_no_improvement' not in globals():\n",
        "    count_no_improvement = 0\n",
        "    print(\"count_no_improvement =\", count_no_improvement)\n",
        "#'''\n",
        "#'''\n",
        "count_no_improvement = 1 # 0\n",
        "epoch_initial = False\n",
        "#'''\n",
        "min_delta = 0.0009\n",
        "print(\"count_no_improvement =\", count_no_improvement)\n",
        "\n",
        "def checkBestPerformance(epoch, logs):\n",
        "    save_filepath = work_dir+\"best_\"+checkpointer_name\n",
        "\n",
        "    global epoch_initial\n",
        "    if epoch_initial == True:\n",
        "        epoch_initial = False\n",
        "        model.save(filepath = save_filepath)\n",
        "        print(\". Model saved!\")\n",
        "\n",
        "    elif epoch_initial == False:\n",
        "        global count_no_improvement\n",
        "\n",
        "        log_data = pd.read_csv(work_dir+log_name, sep=',', usecols=['val_loss', 'val_accuracy'], engine='python')\n",
        "        min_val_loss = float(str(min(log_data.val_loss.values))[:6])\n",
        "        max_val_acc = float(str(max(log_data.val_accuracy.values))[:6])\n",
        "\n",
        "        current_val_acc = float(str(logs['val_accuracy'])[:6])\n",
        "        current_val_loss = float(str(logs['val_loss'])[:6])\n",
        "\n",
        "        if (current_val_loss < min_val_loss) and (abs(current_val_loss-min_val_loss) >= min_delta):\n",
        "            count_no_improvement = 0\n",
        "            model.save(filepath = save_filepath)\n",
        "            print(\"\\nval_loss decreased from\",min_val_loss,\" to\",current_val_loss,\"( val_accuracy =\",current_val_acc,\").\")\n",
        "\n",
        "        elif (current_val_loss==min_val_loss) and (current_val_acc>max_val_acc):\n",
        "            count_no_improvement = 0\n",
        "            model.save(filepath = save_filepath)\n",
        "            print(\"\\nval_accuracy increased to\", current_val_acc, \".\")\n",
        "\n",
        "        else:\n",
        "            count_no_improvement += 1\n",
        "            print(\". count_no_improvement =\", count_no_improvement)\n",
        "\n",
        "        if count_no_improvement >= early_stop_after_epochs:\n",
        "            global list_callbacks\n",
        "            del list_callbacks, count_no_improvement\n",
        "            #print(\"count_no_improvement =\", count_no_improvement, \"... list_callbacks =\", list_callbacks)"
      ],
      "execution_count": 34,
      "outputs": [
        {
          "output_type": "stream",
          "text": [
            "count_no_improvement = 1\n"
          ],
          "name": "stdout"
        }
      ]
    },
    {
      "cell_type": "code",
      "metadata": {
        "colab": {
          "base_uri": "https://localhost:8080/"
        },
        "id": "YYewyuDiREFZ",
        "outputId": "b72cb1a5-5533-45a2-c3db-9b3f2b797442"
      },
      "source": [
        "epochs_completed = 0\n",
        "list_callbacks = []\n",
        "csv_logger = CSVLogger(work_dir+log_name, separator=',', append=True)\n",
        "\n",
        "#if 'list_callbacks' in globals():\n",
        "#    del list_callbacks\n",
        "\n",
        "try:\n",
        "    log_data = pd.read_csv(work_dir+log_name, sep=',', usecols=['epoch'], engine='python')\n",
        "    epochs_completed = log_data.shape[0]\n",
        "\n",
        "    #if epochs_completed > 0:\n",
        "    model = load_model(work_dir+checkpointer_name)\n",
        "    list_callbacks = [checkpointer, LambdaCallback(on_epoch_end=checkBestPerformance), csv_logger]\n",
        "    print(\"epochs_completed =\", epochs_completed)\n",
        "\n",
        "except Exception as error:\n",
        "    if epochs_completed == 0:\n",
        "        # list_callbacks = [checkpointer, checkpointer_best, csv_logger, early_stopping] \n",
        "        list_callbacks = [checkpointer, LambdaCallback(on_epoch_end=checkBestPerformance), csv_logger]\n",
        "        print(\"epochs_completed =\", epochs_completed)\n",
        "    elif epochs_completed > 0:\n",
        "        print(error)\n",
        "\n",
        "print('checkpointer_name =', checkpointer_name)"
      ],
      "execution_count": 35,
      "outputs": [
        {
          "output_type": "stream",
          "text": [
            "epochs_completed = 46\n",
            "checkpointer_name = weights.Lung.Colon.Cancer.Hist.5k1.rgb.768p.DataFlow.pad0.noTL.Custom1.wInit.None.TrainableAfter.allDefault.actF.elu.opt.Adam.drop.0.5.batch16.run_1.hdf5\n"
          ],
          "name": "stdout"
        }
      ]
    },
    {
      "cell_type": "code",
      "metadata": {
        "colab": {
          "base_uri": "https://localhost:8080/",
          "height": 1000
        },
        "id": "6JKqrHnwRGGz",
        "outputId": "00492129-6e63-4bbe-d1d7-e804a71239af"
      },
      "source": [
        "print('checkpointer_name =', checkpointer_name)\n",
        "print(\"Previously completed epochs =\", epochs_completed)\n",
        "print(\"count_no_improvement =\", count_no_improvement, \"\\n\")\n",
        "\n",
        "#'''\n",
        "try:\n",
        "    start_time = time.time()\n",
        "    history = model.fit(train_generator, \n",
        "                        steps_per_epoch=total_train_data // BATCH_SIZE,\n",
        "                        shuffle=True, \n",
        "                        epochs = NUM_EPOCHS - epochs_completed, \n",
        "                        validation_data=test_generator,\n",
        "                        validation_steps=total_test_data // BATCH_SIZE,\n",
        "                        verbose = 1,\n",
        "                        callbacks=list_callbacks\n",
        "                        )\n",
        "    elapsed_time = time.time() - start_time \n",
        "    print(\"\\nTime elapsed: \", elapsed_time)\n",
        "\n",
        "except Exception as error:\n",
        "    print(\"\\nError:\", error)\n",
        "#'''"
      ],
      "execution_count": 36,
      "outputs": [
        {
          "output_type": "stream",
          "text": [
            "checkpointer_name = weights.Lung.Colon.Cancer.Hist.5k1.rgb.768p.DataFlow.pad0.noTL.Custom1.wInit.None.TrainableAfter.allDefault.actF.elu.opt.Adam.drop.0.5.batch16.run_1.hdf5\n",
            "Previously completed epochs = 46\n",
            "count_no_improvement = 1 \n",
            "\n",
            "Epoch 1/254\n",
            "1250/1250 [==============================] - 11846s 9s/step - loss: 0.3046 - accuracy: 0.9938 - precision: 0.9938 - recall: 0.9937 - auc: 0.9999 - true_positives: 19875.0000 - true_negatives: 79877.0000 - false_positives: 123.0000 - false_negatives: 125.0000 - val_loss: 0.3428 - val_accuracy: 0.9786 - val_precision: 0.9793 - val_recall: 0.9780 - val_auc: 0.9989 - val_true_positives: 4882.0000 - val_true_negatives: 19865.0000 - val_false_positives: 103.0000 - val_false_negatives: 110.0000\n",
            "\n",
            "Epoch 00001: saving model to drive/My Drive/Cancer/Lung and Colon Cancer Histopathological Images/Records/weights.Lung.Colon.Cancer.Hist.5k1.rgb.768p.DataFlow.pad0.noTL.Custom1.wInit.None.TrainableAfter.allDefault.actF.elu.opt.Adam.drop.0.5.batch16.run_1.hdf5\n",
            "\n",
            "val_loss decreased from 0.3696  to 0.3427 ( val_accuracy = 0.9785 ).\n",
            "Epoch 2/254\n",
            "1250/1250 [==============================] - 552s 442ms/step - loss: 0.2867 - accuracy: 0.9962 - precision: 0.9963 - recall: 0.9961 - auc: 1.0000 - true_positives: 19922.0000 - true_negatives: 79927.0000 - false_positives: 73.0000 - false_negatives: 78.0000 - val_loss: 0.3451 - val_accuracy: 0.9748 - val_precision: 0.9748 - val_recall: 0.9746 - val_auc: 0.9981 - val_true_positives: 4865.0000 - val_true_negatives: 19842.0000 - val_false_positives: 126.0000 - val_false_negatives: 127.0000\n",
            "\n",
            "Epoch 00002: saving model to drive/My Drive/Cancer/Lung and Colon Cancer Histopathological Images/Records/weights.Lung.Colon.Cancer.Hist.5k1.rgb.768p.DataFlow.pad0.noTL.Custom1.wInit.None.TrainableAfter.allDefault.actF.elu.opt.Adam.drop.0.5.batch16.run_1.hdf5\n",
            ". count_no_improvement = 1\n",
            "Epoch 3/254\n",
            "1250/1250 [==============================] - 548s 438ms/step - loss: 0.2764 - accuracy: 0.9951 - precision: 0.9951 - recall: 0.9951 - auc: 1.0000 - true_positives: 19901.0000 - true_negatives: 79902.0000 - false_positives: 98.0000 - false_negatives: 99.0000 - val_loss: 0.3258 - val_accuracy: 0.9768 - val_precision: 0.9771 - val_recall: 0.9764 - val_auc: 0.9980 - val_true_positives: 4874.0000 - val_true_negatives: 19854.0000 - val_false_positives: 114.0000 - val_false_negatives: 118.0000\n",
            "\n",
            "Epoch 00003: saving model to drive/My Drive/Cancer/Lung and Colon Cancer Histopathological Images/Records/weights.Lung.Colon.Cancer.Hist.5k1.rgb.768p.DataFlow.pad0.noTL.Custom1.wInit.None.TrainableAfter.allDefault.actF.elu.opt.Adam.drop.0.5.batch16.run_1.hdf5\n",
            "\n",
            "val_loss decreased from 0.3427  to 0.3258 ( val_accuracy = 0.9767 ).\n",
            "Epoch 4/254\n",
            "1250/1250 [==============================] - 596s 476ms/step - loss: 0.2603 - accuracy: 0.9975 - precision: 0.9975 - recall: 0.9974 - auc: 1.0000 - true_positives: 19949.0000 - true_negatives: 79950.0000 - false_positives: 50.0000 - false_negatives: 51.0000 - val_loss: 0.3157 - val_accuracy: 0.9768 - val_precision: 0.9768 - val_recall: 0.9768 - val_auc: 0.9981 - val_true_positives: 4876.0000 - val_true_negatives: 19852.0000 - val_false_positives: 116.0000 - val_false_negatives: 116.0000\n",
            "\n",
            "Epoch 00004: saving model to drive/My Drive/Cancer/Lung and Colon Cancer Histopathological Images/Records/weights.Lung.Colon.Cancer.Hist.5k1.rgb.768p.DataFlow.pad0.noTL.Custom1.wInit.None.TrainableAfter.allDefault.actF.elu.opt.Adam.drop.0.5.batch16.run_1.hdf5\n",
            "\n",
            "val_loss decreased from 0.3258  to 0.3156 ( val_accuracy = 0.9767 ).\n",
            "Epoch 5/254\n",
            "1250/1250 [==============================] - 541s 432ms/step - loss: 0.2512 - accuracy: 0.9965 - precision: 0.9966 - recall: 0.9964 - auc: 0.9999 - true_positives: 19928.0000 - true_negatives: 79932.0000 - false_positives: 68.0000 - false_negatives: 72.0000 - val_loss: 0.4262 - val_accuracy: 0.9425 - val_precision: 0.9441 - val_recall: 0.9409 - val_auc: 0.9921 - val_true_positives: 4697.0000 - val_true_negatives: 19690.0000 - val_false_positives: 278.0000 - val_false_negatives: 295.0000\n",
            "\n",
            "Epoch 00005: saving model to drive/My Drive/Cancer/Lung and Colon Cancer Histopathological Images/Records/weights.Lung.Colon.Cancer.Hist.5k1.rgb.768p.DataFlow.pad0.noTL.Custom1.wInit.None.TrainableAfter.allDefault.actF.elu.opt.Adam.drop.0.5.batch16.run_1.hdf5\n",
            ". count_no_improvement = 1\n",
            "Epoch 6/254\n",
            " 159/1250 [==>...........................] - ETA: 6:31 - loss: 0.2720 - accuracy: 0.9843 - precision: 0.9843 - recall: 0.9839 - auc: 0.9995 - true_positives: 2503.0000 - true_negatives: 10136.0000 - false_positives: 40.0000 - false_negatives: 41.0000"
          ],
          "name": "stdout"
        },
        {
          "output_type": "error",
          "ename": "KeyboardInterrupt",
          "evalue": "ignored",
          "traceback": [
            "\u001b[0;31m---------------------------------------------------------------------------\u001b[0m",
            "\u001b[0;31mKeyboardInterrupt\u001b[0m                         Traceback (most recent call last)",
            "\u001b[0;32m<ipython-input-36-efe2b0fc8037>\u001b[0m in \u001b[0;36m<module>\u001b[0;34m()\u001b[0m\n\u001b[1;32m     13\u001b[0m                         \u001b[0mvalidation_steps\u001b[0m\u001b[0;34m=\u001b[0m\u001b[0mtotal_test_data\u001b[0m \u001b[0;34m//\u001b[0m \u001b[0mBATCH_SIZE\u001b[0m\u001b[0;34m,\u001b[0m\u001b[0;34m\u001b[0m\u001b[0;34m\u001b[0m\u001b[0m\n\u001b[1;32m     14\u001b[0m                         \u001b[0mverbose\u001b[0m \u001b[0;34m=\u001b[0m \u001b[0;36m1\u001b[0m\u001b[0;34m,\u001b[0m\u001b[0;34m\u001b[0m\u001b[0;34m\u001b[0m\u001b[0m\n\u001b[0;32m---> 15\u001b[0;31m                         \u001b[0mcallbacks\u001b[0m\u001b[0;34m=\u001b[0m\u001b[0mlist_callbacks\u001b[0m\u001b[0;34m\u001b[0m\u001b[0;34m\u001b[0m\u001b[0m\n\u001b[0m\u001b[1;32m     16\u001b[0m                         )\n\u001b[1;32m     17\u001b[0m     \u001b[0melapsed_time\u001b[0m \u001b[0;34m=\u001b[0m \u001b[0mtime\u001b[0m\u001b[0;34m.\u001b[0m\u001b[0mtime\u001b[0m\u001b[0;34m(\u001b[0m\u001b[0;34m)\u001b[0m \u001b[0;34m-\u001b[0m \u001b[0mstart_time\u001b[0m\u001b[0;34m\u001b[0m\u001b[0;34m\u001b[0m\u001b[0m\n",
            "\u001b[0;32m/usr/local/lib/python3.7/dist-packages/tensorflow/python/keras/engine/training.py\u001b[0m in \u001b[0;36mfit\u001b[0;34m(self, x, y, batch_size, epochs, verbose, callbacks, validation_split, validation_data, shuffle, class_weight, sample_weight, initial_epoch, steps_per_epoch, validation_steps, validation_batch_size, validation_freq, max_queue_size, workers, use_multiprocessing)\u001b[0m\n\u001b[1;32m   1181\u001b[0m                 _r=1):\n\u001b[1;32m   1182\u001b[0m               \u001b[0mcallbacks\u001b[0m\u001b[0;34m.\u001b[0m\u001b[0mon_train_batch_begin\u001b[0m\u001b[0;34m(\u001b[0m\u001b[0mstep\u001b[0m\u001b[0;34m)\u001b[0m\u001b[0;34m\u001b[0m\u001b[0;34m\u001b[0m\u001b[0m\n\u001b[0;32m-> 1183\u001b[0;31m               \u001b[0mtmp_logs\u001b[0m \u001b[0;34m=\u001b[0m \u001b[0mself\u001b[0m\u001b[0;34m.\u001b[0m\u001b[0mtrain_function\u001b[0m\u001b[0;34m(\u001b[0m\u001b[0miterator\u001b[0m\u001b[0;34m)\u001b[0m\u001b[0;34m\u001b[0m\u001b[0;34m\u001b[0m\u001b[0m\n\u001b[0m\u001b[1;32m   1184\u001b[0m               \u001b[0;32mif\u001b[0m \u001b[0mdata_handler\u001b[0m\u001b[0;34m.\u001b[0m\u001b[0mshould_sync\u001b[0m\u001b[0;34m:\u001b[0m\u001b[0;34m\u001b[0m\u001b[0;34m\u001b[0m\u001b[0m\n\u001b[1;32m   1185\u001b[0m                 \u001b[0mcontext\u001b[0m\u001b[0;34m.\u001b[0m\u001b[0masync_wait\u001b[0m\u001b[0;34m(\u001b[0m\u001b[0;34m)\u001b[0m\u001b[0;34m\u001b[0m\u001b[0;34m\u001b[0m\u001b[0m\n",
            "\u001b[0;32m/usr/local/lib/python3.7/dist-packages/tensorflow/python/eager/def_function.py\u001b[0m in \u001b[0;36m__call__\u001b[0;34m(self, *args, **kwds)\u001b[0m\n\u001b[1;32m    887\u001b[0m \u001b[0;34m\u001b[0m\u001b[0m\n\u001b[1;32m    888\u001b[0m       \u001b[0;32mwith\u001b[0m \u001b[0mOptionalXlaContext\u001b[0m\u001b[0;34m(\u001b[0m\u001b[0mself\u001b[0m\u001b[0;34m.\u001b[0m\u001b[0m_jit_compile\u001b[0m\u001b[0;34m)\u001b[0m\u001b[0;34m:\u001b[0m\u001b[0;34m\u001b[0m\u001b[0;34m\u001b[0m\u001b[0m\n\u001b[0;32m--> 889\u001b[0;31m         \u001b[0mresult\u001b[0m \u001b[0;34m=\u001b[0m \u001b[0mself\u001b[0m\u001b[0;34m.\u001b[0m\u001b[0m_call\u001b[0m\u001b[0;34m(\u001b[0m\u001b[0;34m*\u001b[0m\u001b[0margs\u001b[0m\u001b[0;34m,\u001b[0m \u001b[0;34m**\u001b[0m\u001b[0mkwds\u001b[0m\u001b[0;34m)\u001b[0m\u001b[0;34m\u001b[0m\u001b[0;34m\u001b[0m\u001b[0m\n\u001b[0m\u001b[1;32m    890\u001b[0m \u001b[0;34m\u001b[0m\u001b[0m\n\u001b[1;32m    891\u001b[0m       \u001b[0mnew_tracing_count\u001b[0m \u001b[0;34m=\u001b[0m \u001b[0mself\u001b[0m\u001b[0;34m.\u001b[0m\u001b[0mexperimental_get_tracing_count\u001b[0m\u001b[0;34m(\u001b[0m\u001b[0;34m)\u001b[0m\u001b[0;34m\u001b[0m\u001b[0;34m\u001b[0m\u001b[0m\n",
            "\u001b[0;32m/usr/local/lib/python3.7/dist-packages/tensorflow/python/eager/def_function.py\u001b[0m in \u001b[0;36m_call\u001b[0;34m(self, *args, **kwds)\u001b[0m\n\u001b[1;32m    922\u001b[0m       \u001b[0;31m# In this case we have not created variables on the first call. So we can\u001b[0m\u001b[0;34m\u001b[0m\u001b[0;34m\u001b[0m\u001b[0;34m\u001b[0m\u001b[0m\n\u001b[1;32m    923\u001b[0m       \u001b[0;31m# run the first trace but we should fail if variables are created.\u001b[0m\u001b[0;34m\u001b[0m\u001b[0;34m\u001b[0m\u001b[0;34m\u001b[0m\u001b[0m\n\u001b[0;32m--> 924\u001b[0;31m       \u001b[0mresults\u001b[0m \u001b[0;34m=\u001b[0m \u001b[0mself\u001b[0m\u001b[0;34m.\u001b[0m\u001b[0m_stateful_fn\u001b[0m\u001b[0;34m(\u001b[0m\u001b[0;34m*\u001b[0m\u001b[0margs\u001b[0m\u001b[0;34m,\u001b[0m \u001b[0;34m**\u001b[0m\u001b[0mkwds\u001b[0m\u001b[0;34m)\u001b[0m\u001b[0;34m\u001b[0m\u001b[0;34m\u001b[0m\u001b[0m\n\u001b[0m\u001b[1;32m    925\u001b[0m       \u001b[0;32mif\u001b[0m \u001b[0mself\u001b[0m\u001b[0;34m.\u001b[0m\u001b[0m_created_variables\u001b[0m\u001b[0;34m:\u001b[0m\u001b[0;34m\u001b[0m\u001b[0;34m\u001b[0m\u001b[0m\n\u001b[1;32m    926\u001b[0m         raise ValueError(\"Creating variables on a non-first call to a function\"\n",
            "\u001b[0;32m/usr/local/lib/python3.7/dist-packages/tensorflow/python/eager/function.py\u001b[0m in \u001b[0;36m__call__\u001b[0;34m(self, *args, **kwargs)\u001b[0m\n\u001b[1;32m   3022\u001b[0m        filtered_flat_args) = self._maybe_define_function(args, kwargs)\n\u001b[1;32m   3023\u001b[0m     return graph_function._call_flat(\n\u001b[0;32m-> 3024\u001b[0;31m         filtered_flat_args, captured_inputs=graph_function.captured_inputs)  # pylint: disable=protected-access\n\u001b[0m\u001b[1;32m   3025\u001b[0m \u001b[0;34m\u001b[0m\u001b[0m\n\u001b[1;32m   3026\u001b[0m   \u001b[0;34m@\u001b[0m\u001b[0mproperty\u001b[0m\u001b[0;34m\u001b[0m\u001b[0;34m\u001b[0m\u001b[0m\n",
            "\u001b[0;32m/usr/local/lib/python3.7/dist-packages/tensorflow/python/eager/function.py\u001b[0m in \u001b[0;36m_call_flat\u001b[0;34m(self, args, captured_inputs, cancellation_manager)\u001b[0m\n\u001b[1;32m   1959\u001b[0m       \u001b[0;31m# No tape is watching; skip to running the function.\u001b[0m\u001b[0;34m\u001b[0m\u001b[0;34m\u001b[0m\u001b[0;34m\u001b[0m\u001b[0m\n\u001b[1;32m   1960\u001b[0m       return self._build_call_outputs(self._inference_function.call(\n\u001b[0;32m-> 1961\u001b[0;31m           ctx, args, cancellation_manager=cancellation_manager))\n\u001b[0m\u001b[1;32m   1962\u001b[0m     forward_backward = self._select_forward_and_backward_functions(\n\u001b[1;32m   1963\u001b[0m         \u001b[0margs\u001b[0m\u001b[0;34m,\u001b[0m\u001b[0;34m\u001b[0m\u001b[0;34m\u001b[0m\u001b[0m\n",
            "\u001b[0;32m/usr/local/lib/python3.7/dist-packages/tensorflow/python/eager/function.py\u001b[0m in \u001b[0;36mcall\u001b[0;34m(self, ctx, args, cancellation_manager)\u001b[0m\n\u001b[1;32m    594\u001b[0m               \u001b[0minputs\u001b[0m\u001b[0;34m=\u001b[0m\u001b[0margs\u001b[0m\u001b[0;34m,\u001b[0m\u001b[0;34m\u001b[0m\u001b[0;34m\u001b[0m\u001b[0m\n\u001b[1;32m    595\u001b[0m               \u001b[0mattrs\u001b[0m\u001b[0;34m=\u001b[0m\u001b[0mattrs\u001b[0m\u001b[0;34m,\u001b[0m\u001b[0;34m\u001b[0m\u001b[0;34m\u001b[0m\u001b[0m\n\u001b[0;32m--> 596\u001b[0;31m               ctx=ctx)\n\u001b[0m\u001b[1;32m    597\u001b[0m         \u001b[0;32melse\u001b[0m\u001b[0;34m:\u001b[0m\u001b[0;34m\u001b[0m\u001b[0;34m\u001b[0m\u001b[0m\n\u001b[1;32m    598\u001b[0m           outputs = execute.execute_with_cancellation(\n",
            "\u001b[0;32m/usr/local/lib/python3.7/dist-packages/tensorflow/python/eager/execute.py\u001b[0m in \u001b[0;36mquick_execute\u001b[0;34m(op_name, num_outputs, inputs, attrs, ctx, name)\u001b[0m\n\u001b[1;32m     58\u001b[0m     \u001b[0mctx\u001b[0m\u001b[0;34m.\u001b[0m\u001b[0mensure_initialized\u001b[0m\u001b[0;34m(\u001b[0m\u001b[0;34m)\u001b[0m\u001b[0;34m\u001b[0m\u001b[0;34m\u001b[0m\u001b[0m\n\u001b[1;32m     59\u001b[0m     tensors = pywrap_tfe.TFE_Py_Execute(ctx._handle, device_name, op_name,\n\u001b[0;32m---> 60\u001b[0;31m                                         inputs, attrs, num_outputs)\n\u001b[0m\u001b[1;32m     61\u001b[0m   \u001b[0;32mexcept\u001b[0m \u001b[0mcore\u001b[0m\u001b[0;34m.\u001b[0m\u001b[0m_NotOkStatusException\u001b[0m \u001b[0;32mas\u001b[0m \u001b[0me\u001b[0m\u001b[0;34m:\u001b[0m\u001b[0;34m\u001b[0m\u001b[0;34m\u001b[0m\u001b[0m\n\u001b[1;32m     62\u001b[0m     \u001b[0;32mif\u001b[0m \u001b[0mname\u001b[0m \u001b[0;32mis\u001b[0m \u001b[0;32mnot\u001b[0m \u001b[0;32mNone\u001b[0m\u001b[0;34m:\u001b[0m\u001b[0;34m\u001b[0m\u001b[0;34m\u001b[0m\u001b[0m\n",
            "\u001b[0;31mKeyboardInterrupt\u001b[0m: "
          ]
        }
      ]
    },
    {
      "cell_type": "code",
      "metadata": {
        "id": "UJsgsZFzQCs2"
      },
      "source": [
        "# weights.Lung.Colon.Cancer.Hist.5k1.rgb.768p.DataFlow.pad0.noTL.Custom1.wInit.None.TrainableAfter.allDefault.actF.elu.opt.Adam.drop.0.5.batch16.run_1.hdf5\n"
      ],
      "execution_count": 37,
      "outputs": []
    },
    {
      "cell_type": "code",
      "metadata": {
        "id": "l_xKnoFvFQ4F",
        "colab": {
          "base_uri": "https://localhost:8080/",
          "height": 72
        },
        "outputId": "5ba412a0-3045-42ff-ff64-25c3ce8b79f8"
      },
      "source": [
        "'''\n",
        "Record: Lung_Colon_Cancer_Hist_5_folds_k1_impl_1_768p_RGB_Custom_noTL_DataFrame: \n",
        "(Accuracy: 96.33%, Precision: 96.39%, Recall: 96.37%, F-Measure: 96.38%):\n",
        "---\n",
        "\n",
        "#'''\n",
        "'''\n",
        "csv_logger = CSVLogger(work_dir+log_name, separator=',', append=True)\n",
        "log_data = pd.read_csv(work_dir+log_name, sep=',', usecols=['epoch'], engine='python')\n",
        "epochs_completed = log_data.shape[0]\n",
        "\n",
        "result = model.evaluate(test_generator, steps=total_test_data // BATCH_SIZE)\n",
        "print(\"Test Acc: {}, Precision: {}, Recall: {}, Test Loss: {}: ep{}, {}\\n\".format(round(result[1],4), round(result[2],4), round(result[3],4), round(result[0],4), epochs_completed, checkpointer_name))\n",
        "#'''"
      ],
      "execution_count": 38,
      "outputs": [
        {
          "output_type": "execute_result",
          "data": {
            "application/vnd.google.colaboratory.intrinsic+json": {
              "type": "string"
            },
            "text/plain": [
              "'\\ncsv_logger = CSVLogger(work_dir+log_name, separator=\\',\\', append=True)\\nlog_data = pd.read_csv(work_dir+log_name, sep=\\',\\', usecols=[\\'epoch\\'], engine=\\'python\\')\\nepochs_completed = log_data.shape[0]\\n\\nresult = model.evaluate(test_generator, steps=total_test_data // BATCH_SIZE)\\nprint(\"Test Acc: {}, Precision: {}, Recall: {}, Test Loss: {}: ep{}, {}\\n\".format(round(result[1],4), round(result[2],4), round(result[3],4), round(result[0],4), epochs_completed, checkpointer_name))\\n#'"
            ]
          },
          "metadata": {
            "tags": []
          },
          "execution_count": 38
        }
      ]
    },
    {
      "cell_type": "code",
      "metadata": {
        "id": "IQM7JieEFQ1G",
        "colab": {
          "base_uri": "https://localhost:8080/"
        },
        "outputId": "c765a303-7f88-49a3-8ffa-29cf6271dc80"
      },
      "source": [
        "#checkpointer_name = \"weights.Fashion.DenseNet121.wInit.None.TrainableAfterallDefault.opt.SGD.drop.0.0.batch32.Flatten.run_1.hdf5\"\n",
        "model_loaded = load_model(work_dir+\"best_\"+checkpointer_name)\n",
        "print(\"Loaded \"+work_dir+\"best_\"+checkpointer_name+\".\")"
      ],
      "execution_count": 39,
      "outputs": [
        {
          "output_type": "stream",
          "text": [
            "Loaded drive/My Drive/Cancer/Lung and Colon Cancer Histopathological Images/Records/best_weights.Lung.Colon.Cancer.Hist.5k1.rgb.768p.DataFlow.pad0.noTL.Custom1.wInit.None.TrainableAfter.allDefault.actF.elu.opt.Adam.drop.0.5.batch16.run_1.hdf5.\n"
          ],
          "name": "stdout"
        }
      ]
    },
    {
      "cell_type": "code",
      "metadata": {
        "id": "chvVsOEgRfsO",
        "colab": {
          "base_uri": "https://localhost:8080/"
        },
        "outputId": "063951a6-dd28-4bd2-b5d5-0d7e488f6075"
      },
      "source": [
        "'''\n",
        "Record: Lung_Colon_Cancer_Hist_5_folds_k1_impl_1_768p_RGB_Custom_noTL_DataFrame: \n",
        "(Accuracy: 96.33%, Precision: 96.39%, Recall: 96.37%, F-Measure: 96.38%):\n",
        "---\n",
        "\n",
        "#'''\n",
        "'''\n",
        "csv_logger = CSVLogger(work_dir+log_name, separator=',', append=True)\n",
        "log_data = pd.read_csv(work_dir+log_name, sep=',', usecols=['epoch'], engine='python')\n",
        "epochs_completed = log_data.shape[0]\n",
        "#'''\n",
        "\n",
        "result2 = model_loaded.evaluate(test_generator, steps=total_test_data // BATCH_SIZE)\n",
        "#print(\"nLayers: {}, nNeurons: {}, DROPOUT: {}, Test Acc: {}, Test Loss: {}\".format(NUM_LAYERS, NUM_NEURONS, DROPOUT, round(result2[1], 4), round(result2[0], 4)))\n",
        "print(\"Test Acc: {}, Precision: {}, Recall: {}, Test Loss: {}: ep{}, {}\\n\".format(round(result2[1],4), round(result2[2],4), round(result2[3],4), round(result2[0],4), epochs_completed, checkpointer_name))\n"
      ],
      "execution_count": 41,
      "outputs": [
        {
          "output_type": "stream",
          "text": [
            "312/312 [==============================] - 97s 310ms/step - loss: 0.3157 - accuracy: 0.9768 - precision: 0.9768 - recall: 0.9768 - auc: 0.9981 - true_positives: 4876.0000 - true_negatives: 19852.0000 - false_positives: 116.0000 - false_negatives: 116.0000\n",
            "Test Acc: 0.9768, Precision: 0.9768, Recall: 0.9768, Test Loss: 0.3157: ep46, weights.Lung.Colon.Cancer.Hist.5k1.rgb.768p.DataFlow.pad0.noTL.Custom1.wInit.None.TrainableAfter.allDefault.actF.elu.opt.Adam.drop.0.5.batch16.run_1.hdf5\n",
            "\n"
          ],
          "name": "stdout"
        }
      ]
    },
    {
      "cell_type": "code",
      "metadata": {
        "id": "vbKfFMo9gDPZ"
      },
      "source": [
        ""
      ],
      "execution_count": 41,
      "outputs": []
    },
    {
      "cell_type": "code",
      "metadata": {
        "id": "hn9Yd4vHgDvH",
        "colab": {
          "base_uri": "https://localhost:8080/"
        },
        "outputId": "1715acbc-332e-432a-a692-4e725f22ca89"
      },
      "source": [
        "# metrics=['accuracy', 'Precision', 'Recall', 'AUC', 'TruePositives', 'TrueNegatives', 'FalsePositives', 'FalseNegatives']\n",
        "result2"
      ],
      "execution_count": 42,
      "outputs": [
        {
          "output_type": "execute_result",
          "data": {
            "text/plain": [
              "[0.3156625032424927,\n",
              " 0.9767628312110901,\n",
              " 0.9767628312110901,\n",
              " 0.9767628312110901,\n",
              " 0.9980944395065308,\n",
              " 4876.0,\n",
              " 19852.0,\n",
              " 116.0,\n",
              " 116.0]"
            ]
          },
          "metadata": {
            "tags": []
          },
          "execution_count": 42
        }
      ]
    },
    {
      "cell_type": "code",
      "metadata": {
        "id": "pdej_0gOghKl",
        "colab": {
          "base_uri": "https://localhost:8080/"
        },
        "outputId": "dddd43d7-2c66-4dc4-f037-75b90a42bc87"
      },
      "source": [
        "TP = result2[5]\n",
        "TN = result2[6]\n",
        "FP = result2[7]\n",
        "FN = result2[8]\n",
        "print(f\"TP={TP}, TN={TN}, FP={FP}, FN={FN}\")"
      ],
      "execution_count": 69,
      "outputs": [
        {
          "output_type": "stream",
          "text": [
            "TP=4876.0, TN=19852.0, FP=116.0, FN=116.0\n"
          ],
          "name": "stdout"
        }
      ]
    },
    {
      "cell_type": "code",
      "metadata": {
        "id": "VoGYlDuJnoYd",
        "colab": {
          "base_uri": "https://localhost:8080/",
          "height": 36
        },
        "outputId": "fe8bac57-c90c-40c6-dc95-ccf24dddc51e"
      },
      "source": [
        "'''\n",
        "run_1: accuracy=0.9768, sensitivity=recall=0.9768, specificity=0.9942, precision=0.9768, f1_score=0.9768, auc=0.9768\n",
        "\n",
        "'''"
      ],
      "execution_count": 70,
      "outputs": [
        {
          "output_type": "execute_result",
          "data": {
            "application/vnd.google.colaboratory.intrinsic+json": {
              "type": "string"
            },
            "text/plain": [
              "'\\nrun_1: \\n\\n'"
            ]
          },
          "metadata": {
            "tags": []
          },
          "execution_count": 70
        }
      ]
    },
    {
      "cell_type": "code",
      "metadata": {
        "id": "NlzLzPAThX6A",
        "colab": {
          "base_uri": "https://localhost:8080/"
        },
        "outputId": "66b7790e-0223-42e8-d52e-a3054176579f"
      },
      "source": [
        "accuracy = round(result2[1], 4)\n",
        "sensitivity = round((TP / (TP+FN)), 4)\n",
        "specificity = round((TN / (FP+TN)), 4)\n",
        "precision = round((TP / (TP+FP)), 4)\n",
        "recall = sensitivity # sensitivity and recall are same.\n",
        "f1_score = round((2*precision*recall) / (precision+recall), 4)\n",
        "auc = round(result2[2], 4)\n",
        "\n",
        "print(f\"accuracy={accuracy}, sensitivity=recall={sensitivity}, specificity={specificity}, precision={precision}, f1_score={f1_score}, auc={auc}\")"
      ],
      "execution_count": 71,
      "outputs": [
        {
          "output_type": "stream",
          "text": [
            "accuracy=0.9768, sensitivity=recall=0.9768, specificity=0.9942, precision=0.9768, f1_score=0.9768, auc=0.9768\n"
          ],
          "name": "stdout"
        }
      ]
    },
    {
      "cell_type": "code",
      "metadata": {
        "id": "SIIc9qKegDyk"
      },
      "source": [
        ""
      ],
      "execution_count": 71,
      "outputs": []
    },
    {
      "cell_type": "code",
      "metadata": {
        "id": "z1GzwpODRlRf",
        "colab": {
          "base_uri": "https://localhost:8080/"
        },
        "outputId": "d58df86a-42ae-4ef2-a0d2-cc76f1d26393"
      },
      "source": [
        "import csv\n",
        "\n",
        "with open(work_dir+'Records.csv', \"a\") as fp:\n",
        "    wr = csv.writer(fp, dialect='excel')\n",
        "    try:\n",
        "        wr.writerow([checkpointer_name[8:-5], round(result2[1], 4), round(result2[0], 4), elapsed_time])\n",
        "    except:\n",
        "        wr.writerow([checkpointer_name[8:-5], round(result2[1], 4), round(result2[0], 4)])\n",
        "print(\"Saved results.\")"
      ],
      "execution_count": 72,
      "outputs": [
        {
          "output_type": "stream",
          "text": [
            "Saved results.\n"
          ],
          "name": "stdout"
        }
      ]
    },
    {
      "cell_type": "code",
      "metadata": {
        "id": "Dv35-hm1Rfv5"
      },
      "source": [
        ""
      ],
      "execution_count": 72,
      "outputs": []
    },
    {
      "cell_type": "code",
      "metadata": {
        "id": "r41Tx24EuA8A",
        "colab": {
          "base_uri": "https://localhost:8080/"
        },
        "outputId": "6fdd54ad-70e8-45e0-f7d9-fdb350cc1016"
      },
      "source": [
        "#Confution Matrix and Classification Report\n",
        "#'''\n",
        "Y_pred = model_loaded.predict_generator(test_generator, verbose=1)\n",
        "#'''\n",
        "#'''\n",
        "save_predictions_filename = f\"Y_pred.{checkpointer_name[8:-5]}\"\n",
        "np.save(f\"{work_dir}{save_predictions_filename}\", Y_pred, allow_pickle=True)\n",
        "print(f\"Saved: {work_dir}{save_predictions_filename}\")\n",
        "#'''"
      ],
      "execution_count": 73,
      "outputs": [
        {
          "output_type": "stream",
          "text": [
            "/usr/local/lib/python3.7/dist-packages/tensorflow/python/keras/engine/training.py:2001: UserWarning: `Model.predict_generator` is deprecated and will be removed in a future version. Please use `Model.predict`, which supports generators.\n",
            "  warnings.warn('`Model.predict_generator` is deprecated and '\n"
          ],
          "name": "stderr"
        },
        {
          "output_type": "stream",
          "text": [
            "313/313 [==============================] - 88s 280ms/step\n",
            "Saved: drive/My Drive/Cancer/Lung and Colon Cancer Histopathological Images/Records/Y_pred.Lung.Colon.Cancer.Hist.5k1.rgb.768p.DataFlow.pad0.noTL.Custom1.wInit.None.TrainableAfter.allDefault.actF.elu.opt.Adam.drop.0.5.batch16.run_1\n"
          ],
          "name": "stdout"
        }
      ]
    },
    {
      "cell_type": "code",
      "metadata": {
        "id": "RCOqGtOtSVG5",
        "colab": {
          "base_uri": "https://localhost:8080/",
          "height": 54
        },
        "outputId": "cd02e695-1b19-4d85-b5fb-3c7d34440001"
      },
      "source": [
        "'''\n",
        "save_predictions_filename = f\"Y_pred.{checkpointer_name[8:-5]}\"\n",
        "np.save(f\"{work_dir}{save_predictions_filename}\", Y_pred, allow_pickle=True)\n",
        "print(f\"Saved: {work_dir}{save_predictions_filename}\")\n",
        "#'''"
      ],
      "execution_count": 74,
      "outputs": [
        {
          "output_type": "execute_result",
          "data": {
            "application/vnd.google.colaboratory.intrinsic+json": {
              "type": "string"
            },
            "text/plain": [
              "'\\nsave_predictions_filename = f\"Y_pred.{checkpointer_name[8:-5]}\"\\nnp.save(f\"{work_dir}{save_predictions_filename}\", Y_pred, allow_pickle=True)\\nprint(f\"Saved: {work_dir}{save_predictions_filename}\")\\n#'"
            ]
          },
          "metadata": {
            "tags": []
          },
          "execution_count": 74
        }
      ]
    },
    {
      "cell_type": "code",
      "metadata": {
        "id": "f5DLKM2YTGiR",
        "colab": {
          "base_uri": "https://localhost:8080/"
        },
        "outputId": "8d6a77dc-1a35-4f7a-de10-258504c4f126"
      },
      "source": [
        "#Y_pred_loaded = np.load(f\"{work_dir}{save_predictions_filename_2}.npy\", allow_pickle=True)\n",
        "Y_pred_loaded = np.load(f\"{work_dir}{save_predictions_filename}.npy\", allow_pickle=True)\n",
        "print(f\"Y_pred_loaded.shape = {Y_pred_loaded.shape}\")"
      ],
      "execution_count": 75,
      "outputs": [
        {
          "output_type": "stream",
          "text": [
            "Y_pred_loaded.shape = (5000, 5)\n"
          ],
          "name": "stdout"
        }
      ]
    },
    {
      "cell_type": "code",
      "metadata": {
        "id": "sKVblYYLTR8O"
      },
      "source": [
        ""
      ],
      "execution_count": 75,
      "outputs": []
    },
    {
      "cell_type": "code",
      "metadata": {
        "id": "vPVcI8W8uVxT"
      },
      "source": [
        "y_pred = np.argmax(Y_pred_loaded, axis=1)"
      ],
      "execution_count": 76,
      "outputs": []
    },
    {
      "cell_type": "code",
      "metadata": {
        "id": "EWjMUxOC_idw"
      },
      "source": [
        "y_true = test_generator.classes"
      ],
      "execution_count": 77,
      "outputs": []
    },
    {
      "cell_type": "code",
      "metadata": {
        "id": "9AnENPzD_XCi",
        "colab": {
          "base_uri": "https://localhost:8080/"
        },
        "outputId": "b8df7c9b-ef5c-4e6b-b10f-4e33062a21a8"
      },
      "source": [
        "list_class_names_in_generator = list(test_generator.class_indices.values())\n",
        "list_class_names_in_generator[:5]"
      ],
      "execution_count": 78,
      "outputs": [
        {
          "output_type": "execute_result",
          "data": {
            "text/plain": [
              "[0, 1, 2, 3, 4]"
            ]
          },
          "metadata": {
            "tags": []
          },
          "execution_count": 78
        }
      ]
    },
    {
      "cell_type": "code",
      "metadata": {
        "id": "g9ECGTlXdLEY",
        "colab": {
          "base_uri": "https://localhost:8080/"
        },
        "outputId": "36393fc0-1df2-4aae-c434-cb014f8eab3c"
      },
      "source": [
        "len(list_class_names_in_generator)"
      ],
      "execution_count": 79,
      "outputs": [
        {
          "output_type": "execute_result",
          "data": {
            "text/plain": [
              "5"
            ]
          },
          "metadata": {
            "tags": []
          },
          "execution_count": 79
        }
      ]
    },
    {
      "cell_type": "code",
      "metadata": {
        "id": "7c1QqkvSB4rw"
      },
      "source": [
        "list_y_true_rearranged = []\n",
        "list_y_pred_rearranged = []\n",
        "\n",
        "for true_class,pred_class in zip(y_true,y_pred):\n",
        "    #print(f\"true_class = {true_class}; pred_class = {pred_class}\")\n",
        "    #y_true_rearranged = int(list_class_names_in_generator[true_class][5:])\n",
        "    #y_pred_rearranged = int(list_class_names_in_generator[pred_class][5:])\n",
        "\n",
        "    y_true_rearranged = int(list_class_names_in_generator[true_class])\n",
        "    y_pred_rearranged = int(list_class_names_in_generator[pred_class])\n",
        "\n",
        "    list_y_true_rearranged.append(y_true_rearranged)\n",
        "    list_y_pred_rearranged.append(y_pred_rearranged)"
      ],
      "execution_count": 80,
      "outputs": []
    },
    {
      "cell_type": "code",
      "metadata": {
        "id": "twUaOkzO_lYu",
        "colab": {
          "base_uri": "https://localhost:8080/"
        },
        "outputId": "b0a1bf56-a222-4f8c-83dc-94637d31a372"
      },
      "source": [
        "np_y_true_rearranged = np.array(list_y_true_rearranged)\n",
        "np_y_pred_rearranged = np.array(list_y_pred_rearranged)\n",
        "\n",
        "print(f\"np_y_true_rearranged.shape = {np_y_true_rearranged.shape}\")\n",
        "print(f\"np_y_pred_rearranged.shape = {np_y_pred_rearranged.shape}\")\n",
        "print(f\"np_y_true_rearranged: {np_y_true_rearranged}\")\n",
        "print(f\"np_y_pred_rearranged: {np_y_pred_rearranged}\")"
      ],
      "execution_count": 81,
      "outputs": [
        {
          "output_type": "stream",
          "text": [
            "np_y_true_rearranged.shape = (5000,)\n",
            "np_y_pred_rearranged.shape = (5000,)\n",
            "np_y_true_rearranged: [1 1 1 ... 0 0 0]\n",
            "np_y_pred_rearranged: [1 1 1 ... 0 0 0]\n"
          ],
          "name": "stdout"
        }
      ]
    },
    {
      "cell_type": "code",
      "metadata": {
        "id": "LxgBOkM5Es08",
        "colab": {
          "base_uri": "https://localhost:8080/"
        },
        "outputId": "4b9f90c9-2fa5-4598-9a2d-76b5ca291ded"
      },
      "source": [
        "print(f\"np_y_true_rearranged.shape = {np_y_true_rearranged.shape}\\n\")\n",
        "\n",
        "index = -5\n",
        "print(f\"y_true[{index}:] = {y_true[index:]}\")\n",
        "print(f\"y_pred[{index}:] = {y_pred[index:]}\\n\")\n",
        "print(f\"np_y_true_rearranged[{index}:] = {np_y_true_rearranged[index:]}\")\n",
        "print(f\"np_y_pred_rearranged[{index}:] = {np_y_pred_rearranged[index:]}\\n\")\n",
        "print(f\"np.unique(np_y_true_rearranged) = {np.unique(np_y_true_rearranged)}\")\n",
        "print(f\"np.unique(np_y_pred_rearranged) = {np.unique(np_y_pred_rearranged)}\")"
      ],
      "execution_count": 82,
      "outputs": [
        {
          "output_type": "stream",
          "text": [
            "np_y_true_rearranged.shape = (5000,)\n",
            "\n",
            "y_true[-5:] = [0, 0, 0, 0, 0]\n",
            "y_pred[-5:] = [0 0 0 0 0]\n",
            "\n",
            "np_y_true_rearranged[-5:] = [0 0 0 0 0]\n",
            "np_y_pred_rearranged[-5:] = [0 0 0 0 0]\n",
            "\n",
            "np.unique(np_y_true_rearranged) = [0 1 2 3 4]\n",
            "np.unique(np_y_pred_rearranged) = [0 1 2 3 4]\n"
          ],
          "name": "stdout"
        }
      ]
    },
    {
      "cell_type": "code",
      "metadata": {
        "id": "yo2maYGREHa1"
      },
      "source": [
        ""
      ],
      "execution_count": 82,
      "outputs": []
    },
    {
      "cell_type": "code",
      "metadata": {
        "id": "ATQ8O5enuJcA",
        "colab": {
          "base_uri": "https://localhost:8080/"
        },
        "outputId": "48540b0f-a69c-47f6-aa5a-ea5c2f6559cd"
      },
      "source": [
        "conf_matrix = sklearn.metrics.confusion_matrix(np_y_true_rearranged, np_y_pred_rearranged)\n",
        "print(f\"Confusion Matrix:\\n{conf_matrix}\")"
      ],
      "execution_count": 83,
      "outputs": [
        {
          "output_type": "stream",
          "text": [
            "Confusion Matrix:\n",
            "[[990   8   0   1   1]\n",
            " [ 11 989   0   0   0]\n",
            " [  0   0 939   4  57]\n",
            " [  0   0   2 998   0]\n",
            " [  0   0  32   0 968]]\n"
          ],
          "name": "stdout"
        }
      ]
    },
    {
      "cell_type": "code",
      "metadata": {
        "id": "iWt92DPh8BIG",
        "colab": {
          "base_uri": "https://localhost:8080/",
          "height": 293
        },
        "outputId": "5721e138-8294-4bc9-8183-afa0a9637163"
      },
      "source": [
        "#plt.figure(figsize = (30,30))\n",
        "plt.matshow(conf_matrix)"
      ],
      "execution_count": 84,
      "outputs": [
        {
          "output_type": "execute_result",
          "data": {
            "text/plain": [
              "<matplotlib.image.AxesImage at 0x7f470c5e0450>"
            ]
          },
          "metadata": {
            "tags": []
          },
          "execution_count": 84
        },
        {
          "output_type": "display_data",
          "data": {
            "image/png": "[encoded data removed]",
            "text/plain": [
              "<Figure size 288x288 with 1 Axes>"
            ]
          },
          "metadata": {
            "tags": [],
            "needs_background": "light"
          }
        }
      ]
    },
    {
      "cell_type": "code",
      "metadata": {
        "id": "qYbVekfx9Qk-"
      },
      "source": [
        "df_conf_matrix = pd.DataFrame(conf_matrix, index = [f\"Class {i+1}\" for i in range(num_classes)],\n",
        "                  columns = [f\"Class {i+1}\" for i in range(num_classes)])"
      ],
      "execution_count": 85,
      "outputs": []
    },
    {
      "cell_type": "code",
      "metadata": {
        "id": "bhhb_ykf7mGr",
        "colab": {
          "base_uri": "https://localhost:8080/",
          "height": 280
        },
        "outputId": "5e737b77-8317-43d1-d4ca-33f255155d77"
      },
      "source": [
        "title = \"Confusion matrix for \"+dataset+\" \"+impl_type+\"\\n\"\n",
        "plt.figure(figsize = (5,3))\n",
        "plt.title(title)\n",
        "sn.heatmap(df_conf_matrix, annot=True)\n",
        "\n",
        "img_path = work_dir+'Images/conf_matrix_'+checkpointer_name[8:-5]+'.png'\n",
        "plt.savefig(img_path, dpi=600)\n",
        "print(f\"img_path = {img_path}\")"
      ],
      "execution_count": 86,
      "outputs": [
        {
          "output_type": "stream",
          "text": [
            "img_path = drive/My Drive/Cancer/Lung and Colon Cancer Histopathological Images/Records/Images/conf_matrix_Lung.Colon.Cancer.Hist.5k1.rgb.768p.DataFlow.pad0.noTL.Custom1.wInit.None.TrainableAfter.allDefault.actF.elu.opt.Adam.drop.0.5.batch16.run_1.png\n"
          ],
          "name": "stdout"
        },
        {
          "output_type": "display_data",
          "data": {
            "image/png": "[encoded data removed]",
            "text/plain": [
              "<Figure size 360x216 with 2 Axes>"
            ]
          },
          "metadata": {
            "tags": [],
            "needs_background": "light"
          }
        }
      ]
    },
    {
      "cell_type": "code",
      "metadata": {
        "id": "OyvlKAMW-q4-"
      },
      "source": [
        ""
      ],
      "execution_count": 86,
      "outputs": []
    },
    {
      "cell_type": "code",
      "metadata": {
        "id": "hgY4v21DyQwL",
        "colab": {
          "base_uri": "https://localhost:8080/",
          "height": 54
        },
        "outputId": "b492df1a-33b2-4083-dbe3-5201af9554df"
      },
      "source": [
        "#Confution Matrix and Classification Report\n",
        "'''\n",
        "Y_pred = model_loaded.predict_generator(final_test_imageset, len(final_test_imageset))\n",
        "y_pred = np.argmax(Y_pred, axis=1)\n",
        "print('Confusion Matrix')\n",
        "print(sklearn.metrics.confusion_matrix(np_test_label, y_pred))\n",
        "#'''"
      ],
      "execution_count": 87,
      "outputs": [
        {
          "output_type": "execute_result",
          "data": {
            "application/vnd.google.colaboratory.intrinsic+json": {
              "type": "string"
            },
            "text/plain": [
              "\"\\nY_pred = model_loaded.predict_generator(final_test_imageset, len(final_test_imageset))\\ny_pred = np.argmax(Y_pred, axis=1)\\nprint('Confusion Matrix')\\nprint(sklearn.metrics.confusion_matrix(np_test_label, y_pred))\\n#\""
            ]
          },
          "metadata": {
            "tags": []
          },
          "execution_count": 87
        }
      ]
    },
    {
      "cell_type": "code",
      "metadata": {
        "id": "U5j7b3KcRvwj",
        "colab": {
          "base_uri": "https://localhost:8080/",
          "height": 36
        },
        "outputId": "d0bb78f7-e517-4cb5-e424-ddd2a0dc1a7b"
      },
      "source": [
        "# Precision [TP/TP+FP] = The ratio of correctly predicted positive observations to the total predicted positive observations.\n",
        "# Recall (Sensitivity) [TP/TP+FN] = The ratio of correctly predicted positive observations to the all observations in actual class - 'yes'.\n",
        "# F1 score [F1 Score = 2*(Recall * Precision) / (Recall + Precision)] = The weighted average of Precision and Recall.\n",
        "# Support = The number of samples of the true response that lie in that class.\n",
        "'''\n",
        "print('Classification Report:')\n",
        "print(sklearn.metrics.classification_report(test_generator.classes, y_pred))\n",
        "#'''"
      ],
      "execution_count": 88,
      "outputs": [
        {
          "output_type": "execute_result",
          "data": {
            "application/vnd.google.colaboratory.intrinsic+json": {
              "type": "string"
            },
            "text/plain": [
              "\"\\nprint('Classification Report:')\\nprint(sklearn.metrics.classification_report(test_generator.classes, y_pred))\\n#\""
            ]
          },
          "metadata": {
            "tags": []
          },
          "execution_count": 88
        }
      ]
    },
    {
      "cell_type": "code",
      "metadata": {
        "id": "jTwSA-kRYavk"
      },
      "source": [
        ""
      ],
      "execution_count": 88,
      "outputs": []
    },
    {
      "cell_type": "code",
      "metadata": {
        "id": "AaZZkLXW6Vb8",
        "colab": {
          "base_uri": "https://localhost:8080/"
        },
        "outputId": "fec0e31d-97f2-4e26-f102-fad5c2db1608"
      },
      "source": [
        "test_generator.class_indices.keys()"
      ],
      "execution_count": 89,
      "outputs": [
        {
          "output_type": "execute_result",
          "data": {
            "text/plain": [
              "dict_keys(['colon_aca', 'colon_n', 'lung_aca', 'lung_n', 'lung_scc'])"
            ]
          },
          "metadata": {
            "tags": []
          },
          "execution_count": 89
        }
      ]
    },
    {
      "cell_type": "code",
      "metadata": {
        "id": "ceGRitu9RvzV",
        "colab": {
          "base_uri": "https://localhost:8080/"
        },
        "outputId": "f9404fac-fb58-411f-b9ce-089cde49b5ce"
      },
      "source": [
        "#'''\n",
        "print('Classification Report')\n",
        "print(sklearn.metrics.classification_report(np_y_true_rearranged, np_y_pred_rearranged, target_names=test_generator.class_indices.keys()))\n",
        "#'''"
      ],
      "execution_count": 90,
      "outputs": [
        {
          "output_type": "stream",
          "text": [
            "Classification Report\n",
            "              precision    recall  f1-score   support\n",
            "\n",
            "   colon_aca       0.99      0.99      0.99      1000\n",
            "     colon_n       0.99      0.99      0.99      1000\n",
            "    lung_aca       0.97      0.94      0.95      1000\n",
            "      lung_n       1.00      1.00      1.00      1000\n",
            "    lung_scc       0.94      0.97      0.96      1000\n",
            "\n",
            "    accuracy                           0.98      5000\n",
            "   macro avg       0.98      0.98      0.98      5000\n",
            "weighted avg       0.98      0.98      0.98      5000\n",
            "\n"
          ],
          "name": "stdout"
        }
      ]
    },
    {
      "cell_type": "code",
      "metadata": {
        "id": "ujLQjTf2Rv11"
      },
      "source": [
        "log_data = pd.read_csv(work_dir+log_name, sep=',', engine='python') "
      ],
      "execution_count": 91,
      "outputs": []
    },
    {
      "cell_type": "code",
      "metadata": {
        "id": "To55jgGSRv4a",
        "colab": {
          "base_uri": "https://localhost:8080/",
          "height": 226
        },
        "outputId": "4a4f2122-e119-4bb0-c669-f5663b78b276"
      },
      "source": [
        "# Getting the model history keys \n",
        "#history.history.keys()\n",
        "log_data.head()"
      ],
      "execution_count": 92,
      "outputs": [
        {
          "output_type": "execute_result",
          "data": {
            "text/html": [
              "<div>\n",
              "<style scoped>\n",
              "    .dataframe tbody tr th:only-of-type {\n",
              "        vertical-align: middle;\n",
              "    }\n",
              "\n",
              "    .dataframe tbody tr th {\n",
              "        vertical-align: top;\n",
              "    }\n",
              "\n",
              "    .dataframe thead th {\n",
              "        text-align: right;\n",
              "    }\n",
              "</style>\n",
              "<table border=\"1\" class=\"dataframe\">\n",
              "  <thead>\n",
              "    <tr style=\"text-align: right;\">\n",
              "      <th></th>\n",
              "      <th>epoch</th>\n",
              "      <th>accuracy</th>\n",
              "      <th>auc</th>\n",
              "      <th>false_negatives</th>\n",
              "      <th>false_positives</th>\n",
              "      <th>loss</th>\n",
              "      <th>precision</th>\n",
              "      <th>recall</th>\n",
              "      <th>true_negatives</th>\n",
              "      <th>true_positives</th>\n",
              "      <th>val_accuracy</th>\n",
              "      <th>val_auc</th>\n",
              "      <th>val_false_negatives</th>\n",
              "      <th>val_false_positives</th>\n",
              "      <th>val_loss</th>\n",
              "      <th>val_precision</th>\n",
              "      <th>val_recall</th>\n",
              "      <th>val_true_negatives</th>\n",
              "      <th>val_true_positives</th>\n",
              "    </tr>\n",
              "  </thead>\n",
              "  <tbody>\n",
              "    <tr>\n",
              "      <th>0</th>\n",
              "      <td>0</td>\n",
              "      <td>0.71830</td>\n",
              "      <td>0.943623</td>\n",
              "      <td>7414.0</td>\n",
              "      <td>3279.0</td>\n",
              "      <td>4.994125</td>\n",
              "      <td>0.793319</td>\n",
              "      <td>0.62930</td>\n",
              "      <td>76721.0</td>\n",
              "      <td>12586.0</td>\n",
              "      <td>0.870793</td>\n",
              "      <td>0.984382</td>\n",
              "      <td>664.0</td>\n",
              "      <td>627.0</td>\n",
              "      <td>4.499894</td>\n",
              "      <td>0.873461</td>\n",
              "      <td>0.866987</td>\n",
              "      <td>19341.0</td>\n",
              "      <td>4328.0</td>\n",
              "    </tr>\n",
              "    <tr>\n",
              "      <th>1</th>\n",
              "      <td>1</td>\n",
              "      <td>0.86965</td>\n",
              "      <td>0.985153</td>\n",
              "      <td>2674.0</td>\n",
              "      <td>2543.0</td>\n",
              "      <td>4.327326</td>\n",
              "      <td>0.872012</td>\n",
              "      <td>0.86630</td>\n",
              "      <td>77457.0</td>\n",
              "      <td>17326.0</td>\n",
              "      <td>0.870793</td>\n",
              "      <td>0.987281</td>\n",
              "      <td>652.0</td>\n",
              "      <td>629.0</td>\n",
              "      <td>4.146971</td>\n",
              "      <td>0.873415</td>\n",
              "      <td>0.869391</td>\n",
              "      <td>19339.0</td>\n",
              "      <td>4340.0</td>\n",
              "    </tr>\n",
              "    <tr>\n",
              "      <th>2</th>\n",
              "      <td>2</td>\n",
              "      <td>0.88725</td>\n",
              "      <td>0.988203</td>\n",
              "      <td>2303.0</td>\n",
              "      <td>2199.0</td>\n",
              "      <td>3.990505</td>\n",
              "      <td>0.889475</td>\n",
              "      <td>0.88485</td>\n",
              "      <td>77801.0</td>\n",
              "      <td>17697.0</td>\n",
              "      <td>0.911659</td>\n",
              "      <td>0.991388</td>\n",
              "      <td>453.0</td>\n",
              "      <td>431.0</td>\n",
              "      <td>3.809420</td>\n",
              "      <td>0.913280</td>\n",
              "      <td>0.909255</td>\n",
              "      <td>19537.0</td>\n",
              "      <td>4539.0</td>\n",
              "    </tr>\n",
              "    <tr>\n",
              "      <th>3</th>\n",
              "      <td>3</td>\n",
              "      <td>0.90035</td>\n",
              "      <td>0.990169</td>\n",
              "      <td>2034.0</td>\n",
              "      <td>1953.0</td>\n",
              "      <td>3.690166</td>\n",
              "      <td>0.901953</td>\n",
              "      <td>0.89830</td>\n",
              "      <td>78047.0</td>\n",
              "      <td>17966.0</td>\n",
              "      <td>0.894030</td>\n",
              "      <td>0.991123</td>\n",
              "      <td>536.0</td>\n",
              "      <td>518.0</td>\n",
              "      <td>3.550980</td>\n",
              "      <td>0.895858</td>\n",
              "      <td>0.892628</td>\n",
              "      <td>19450.0</td>\n",
              "      <td>4456.0</td>\n",
              "    </tr>\n",
              "    <tr>\n",
              "      <th>4</th>\n",
              "      <td>4</td>\n",
              "      <td>0.90660</td>\n",
              "      <td>0.991661</td>\n",
              "      <td>1896.0</td>\n",
              "      <td>1827.0</td>\n",
              "      <td>3.419344</td>\n",
              "      <td>0.908334</td>\n",
              "      <td>0.90520</td>\n",
              "      <td>78173.0</td>\n",
              "      <td>18104.0</td>\n",
              "      <td>0.923277</td>\n",
              "      <td>0.994027</td>\n",
              "      <td>387.0</td>\n",
              "      <td>375.0</td>\n",
              "      <td>3.269017</td>\n",
              "      <td>0.924699</td>\n",
              "      <td>0.922476</td>\n",
              "      <td>19593.0</td>\n",
              "      <td>4605.0</td>\n",
              "    </tr>\n",
              "  </tbody>\n",
              "</table>\n",
              "</div>"
            ],
            "text/plain": [
              "   epoch  accuracy  ...  val_true_negatives  val_true_positives\n",
              "0      0   0.71830  ...             19341.0              4328.0\n",
              "1      1   0.86965  ...             19339.0              4340.0\n",
              "2      2   0.88725  ...             19537.0              4539.0\n",
              "3      3   0.90035  ...             19450.0              4456.0\n",
              "4      4   0.90660  ...             19593.0              4605.0\n",
              "\n",
              "[5 rows x 19 columns]"
            ]
          },
          "metadata": {
            "tags": []
          },
          "execution_count": 92
        }
      ]
    },
    {
      "cell_type": "code",
      "metadata": {
        "id": "aytAYSJ4Rv7T",
        "colab": {
          "base_uri": "https://localhost:8080/",
          "height": 348
        },
        "outputId": "4c63045d-0c25-427d-e6eb-022ae579d0c2"
      },
      "source": [
        "# plot the training artifacts\n",
        "title = \"Val loss for \"+dataset+\" \"+impl_type+\"\\n\"\n",
        "\n",
        "plt.plot(log_data['loss'])\n",
        "plt.plot(log_data['val_loss'])\n",
        "plt.title(title)\n",
        "plt.ylabel('loss')\n",
        "plt.xlabel('epoch')\n",
        "plt.legend(['train_loss','val_loss'], loc = 'best')\n",
        "plt.grid(b=True, which='major', axis='both')\n",
        "\n",
        "img_path = work_dir+'Images/vLoss_'+checkpointer_name[8:-5]+'.png'\n",
        "plt.savefig(img_path, dpi=600)\n",
        "plt.show()\n",
        "print('img_path =', img_path)"
      ],
      "execution_count": 93,
      "outputs": [
        {
          "output_type": "display_data",
          "data": {
            "image/png": "[encoded data removed]",
            "text/plain": [
              "<Figure size 432x288 with 1 Axes>"
            ]
          },
          "metadata": {
            "tags": [],
            "needs_background": "light"
          }
        },
        {
          "output_type": "stream",
          "text": [
            "img_path = drive/My Drive/Cancer/Lung and Colon Cancer Histopathological Images/Records/Images/vLoss_Lung.Colon.Cancer.Hist.5k1.rgb.768p.DataFlow.pad0.noTL.Custom1.wInit.None.TrainableAfter.allDefault.actF.elu.opt.Adam.drop.0.5.batch16.run_1.png\n"
          ],
          "name": "stdout"
        }
      ]
    },
    {
      "cell_type": "code",
      "metadata": {
        "id": "yUq1WaElRv-M",
        "colab": {
          "base_uri": "https://localhost:8080/",
          "height": 348
        },
        "outputId": "03a63540-896e-46f0-c51f-b8b39bf9beb1"
      },
      "source": [
        "title = \"Val acc for \"+dataset+\" \"+impl_type+\"\\n\"\n",
        "\n",
        "plt.plot(log_data['accuracy'])\n",
        "plt.plot(log_data['val_accuracy'])\n",
        "plt.title(title)\n",
        "plt.ylabel('accuracy')\n",
        "plt.xlabel('epoch')\n",
        "plt.legend(['train_accuracy','val_accuracy'], loc = 'best')\n",
        "plt.grid(b=True, which='major', axis='both')\n",
        "\n",
        "img_path = work_dir+'Images/vAcc_'+checkpointer_name[8:-5]+'.png'\n",
        "plt.savefig(img_path, dpi=600)\n",
        "plt.show()\n",
        "print('img_path =', img_path)"
      ],
      "execution_count": 94,
      "outputs": [
        {
          "output_type": "display_data",
          "data": {
            "image/png": "[encoded data removed]",
            "text/plain": [
              "<Figure size 432x288 with 1 Axes>"
            ]
          },
          "metadata": {
            "tags": [],
            "needs_background": "light"
          }
        },
        {
          "output_type": "stream",
          "text": [
            "img_path = drive/My Drive/Cancer/Lung and Colon Cancer Histopathological Images/Records/Images/vAcc_Lung.Colon.Cancer.Hist.5k1.rgb.768p.DataFlow.pad0.noTL.Custom1.wInit.None.TrainableAfter.allDefault.actF.elu.opt.Adam.drop.0.5.batch16.run_1.png\n"
          ],
          "name": "stdout"
        }
      ]
    },
    {
      "cell_type": "code",
      "metadata": {
        "id": "w4msuVKMSk8E"
      },
      "source": [
        ""
      ],
      "execution_count": 94,
      "outputs": []
    }
  ]
}